{
 "cells": [
  {
   "cell_type": "code",
   "execution_count": 1,
   "metadata": {},
   "outputs": [],
   "source": [
    "import pandas as pd\n",
    "import matplotlib.pyplot as plt\n",
    "import numpy as np\n",
    "import pandas as pd\n",
    "import pyarrow as pa\n",
    "import pyarrow.parquet as pq\n",
    "import os"
   ]
  },
  {
   "cell_type": "code",
   "execution_count": 2,
   "metadata": {},
   "outputs": [],
   "source": [
    "parquet_file = \"all_fhvhv_tripdata.parquet\"\n",
    "parquet_reader = pq.ParquetFile(parquet_file)"
   ]
  },
  {
   "cell_type": "code",
   "execution_count": 3,
   "metadata": {},
   "outputs": [
    {
     "name": "stdout",
     "output_type": "stream",
     "text": [
      "679806621\n",
      "669\n"
     ]
    }
   ],
   "source": [
    "num_rows = parquet_reader.metadata.num_rows\n",
    "num_row_groups = parquet_reader.num_row_groups\n",
    "# df.shape[0]\n",
    "print(num_rows)\n",
    "print(num_row_groups)"
   ]
  },
  {
   "cell_type": "code",
   "execution_count": 4,
   "metadata": {},
   "outputs": [
    {
     "name": "stdout",
     "output_type": "stream",
     "text": [
      "Row group start 0 end 167\n",
      "Num rows: 167979341\n",
      "Data types:\n",
      "pickup_datetime     datetime64[us]\n",
      "dropoff_datetime    datetime64[us]\n",
      "PULocationID                 int64\n",
      "DOLocationID                 int64\n",
      "dtype: object\n",
      "After dropping duplicates (167978460, 4)\n",
      "After dropping pickup after dropoff (167970902, 4)\n",
      "After dropping early pickup (167970902, 4)\n",
      "After dropping early pickup (167970902, 4)\n",
      "Create passenger count (167970902, 5)\n",
      "Remove long trips (167969299, 5)\n",
      "Drop NaN pickup and dropoff (167969299, 5)\n",
      "df 0 written to file\n",
      "Row group start 167 end 334\n",
      "Num rows: 170364169\n",
      "Data types:\n",
      "pickup_datetime     datetime64[us]\n",
      "dropoff_datetime    datetime64[us]\n",
      "PULocationID                 int64\n",
      "DOLocationID                 int64\n",
      "dtype: object\n",
      "After dropping duplicates (170361806, 4)\n",
      "After dropping pickup after dropoff (170361806, 4)\n",
      "After dropping early pickup (170361806, 4)\n",
      "After dropping early pickup (170361806, 4)\n",
      "Create passenger count (170361806, 5)\n",
      "Remove long trips (170358206, 5)\n",
      "Drop NaN pickup and dropoff (170358206, 5)\n",
      "df 1 written to file\n",
      "Row group start 334 end 501\n",
      "Num rows: 170173420\n",
      "Data types:\n",
      "pickup_datetime     datetime64[us]\n",
      "dropoff_datetime    datetime64[us]\n",
      "PULocationID                 int64\n",
      "DOLocationID                 int64\n",
      "dtype: object\n",
      "After dropping duplicates (170173140, 4)\n",
      "After dropping pickup after dropoff (170164571, 4)\n",
      "After dropping early pickup (170164571, 4)\n",
      "After dropping early pickup (170164571, 4)\n",
      "Create passenger count (170164571, 5)\n",
      "Remove long trips (170163178, 5)\n",
      "Drop NaN pickup and dropoff (170163178, 5)\n",
      "df 2 written to file\n",
      "Row group start 501 end 669\n",
      "Num rows: 171289691\n",
      "Data types:\n",
      "pickup_datetime     datetime64[us]\n",
      "dropoff_datetime    datetime64[us]\n",
      "PULocationID                 int64\n",
      "DOLocationID                 int64\n",
      "dtype: object\n",
      "After dropping duplicates (171284797, 4)\n",
      "After dropping pickup after dropoff (171276318, 4)\n",
      "After dropping early pickup (171276318, 4)\n",
      "After dropping early pickup (171270118, 4)\n",
      "Create passenger count (171270118, 5)\n",
      "Remove long trips (171268498, 5)\n",
      "Drop NaN pickup and dropoff (171268498, 5)\n",
      "df 3 written to file\n"
     ]
    }
   ],
   "source": [
    "# Because FHVHV data is so big it'll have to be split into 100 row group \n",
    "row_groups = np.linspace(0, num_row_groups, 5)\n",
    "row_groups = [int(num) for num in row_groups]\n",
    "\n",
    "first_row = 0\n",
    "idx = 0\n",
    "for last_row in row_groups[1:]:\n",
    "    table = parquet_reader.read_row_groups([i for i in range(first_row, last_row)])\n",
    "    df = table.to_pandas()\n",
    "\n",
    "    print(f\"Row group start {first_row} end {last_row}\")\n",
    "    print(\"Num rows:\", df.shape[0])\n",
    "    print(\"Data types:\")\n",
    "    print(df.dtypes)\n",
    "\n",
    "    category_columns = ['PULocationID', 'DOLocationID']\n",
    "\n",
    "    for column in category_columns:\n",
    "        df[column] = df[column].astype('category')\n",
    "\n",
    "    numeric_columns = df.select_dtypes(['int64', 'float64', 'datetime64']).columns\n",
    "\n",
    "    # Drop duplicates\n",
    "    df.drop_duplicates(inplace=True)\n",
    "    print(\"After dropping duplicates\", df.shape)\n",
    "\n",
    "    # dropoff time before pickup time\n",
    "    df.drop(df[df['dropoff_datetime']<df['pickup_datetime']].index, inplace=True)\n",
    "    print(\"After dropping pickup after dropoff\", df.shape)\n",
    "    \t\n",
    "    # Pickup before 2021\n",
    "    df.drop(df[df['pickup_datetime']<pd.to_datetime('2021-01-01')].index, inplace=True)\n",
    "    print(\"After dropping early pickup\", df.shape)\n",
    "\n",
    "    # Dropoff after Mar 2024\n",
    "    df.drop(df[df['dropoff_datetime']>pd.to_datetime('2024-04-01')].index, inplace=True)\n",
    "    print(\"After dropping early pickup\", df.shape)\n",
    "\n",
    "    # Passenger count col\n",
    "    df[\"passenger_count\"] = 1\n",
    "    print(\"Create passenger count\", df.shape)\n",
    "\n",
    "    # Trips too long\n",
    "    time_diff = pd.Timedelta(hours=5)\n",
    "    df.drop(df[df['dropoff_datetime']-df['pickup_datetime'] > time_diff].index, inplace=True)\n",
    "    print(\"Remove long trips\", df.shape)\n",
    "\n",
    "    # Pickup and DO both NAN\n",
    "    df.drop(df[df['DOLocationID'].isna() &df['PULocationID'].isna()].index, inplace=True)\n",
    "    print(\"Drop NaN pickup and dropoff\", df.shape)\n",
    "    \n",
    "    df.to_parquet(f\"all_fhvhv_tripdata_cleaned_{idx}.parquet\", engine='pyarrow', index=False)\n",
    "\n",
    "    print(f\"df {idx} written to file\")\n",
    "    first_row = last_row\n",
    "    idx += 1\n",
    "\n"
   ]
  },
  {
   "cell_type": "markdown",
   "metadata": {},
   "source": [
    "Drop rows where trip duration is > 5hrs"
   ]
  },
  {
   "cell_type": "markdown",
   "metadata": {},
   "source": [
    "Drop all columns where both PU and DO location is NaN"
   ]
  },
  {
   "cell_type": "markdown",
   "metadata": {},
   "source": [
    "### Logical integrity tests\n",
    "1. dropoff not before pickup\n",
    "2. Pickup date before 2021\n",
    "3. Dropoff date > 31st Mar 2024\n",
    "4. Duration of taxi ride > 5hrs\n",
    "5. PU location ID not an allowed value\n",
    "6. DO location ID not an allowed value\n",
    "\n"
   ]
  },
  {
   "cell_type": "code",
   "execution_count": 7,
   "metadata": {},
   "outputs": [
    {
     "data": {
      "text/html": [
       "<div>\n",
       "<style scoped>\n",
       "    .dataframe tbody tr th:only-of-type {\n",
       "        vertical-align: middle;\n",
       "    }\n",
       "\n",
       "    .dataframe tbody tr th {\n",
       "        vertical-align: top;\n",
       "    }\n",
       "\n",
       "    .dataframe thead th {\n",
       "        text-align: right;\n",
       "    }\n",
       "</style>\n",
       "<table border=\"1\" class=\"dataframe\">\n",
       "  <thead>\n",
       "    <tr style=\"text-align: right;\">\n",
       "      <th></th>\n",
       "      <th>pickup_datetime</th>\n",
       "      <th>dropoff_datetime</th>\n",
       "      <th>PULocationID</th>\n",
       "      <th>DOLocationID</th>\n",
       "      <th>passenger_count</th>\n",
       "    </tr>\n",
       "  </thead>\n",
       "  <tbody>\n",
       "  </tbody>\n",
       "</table>\n",
       "</div>"
      ],
      "text/plain": [
       "Empty DataFrame\n",
       "Columns: [pickup_datetime, dropoff_datetime, PULocationID, DOLocationID, passenger_count]\n",
       "Index: []"
      ]
     },
     "execution_count": 7,
     "metadata": {},
     "output_type": "execute_result"
    }
   ],
   "source": [
    "# Test 1: \n",
    "df[df['dropoff_datetime']<df['pickup_datetime']]"
   ]
  },
  {
   "cell_type": "code",
   "execution_count": 8,
   "metadata": {},
   "outputs": [
    {
     "data": {
      "text/html": [
       "<div>\n",
       "<style scoped>\n",
       "    .dataframe tbody tr th:only-of-type {\n",
       "        vertical-align: middle;\n",
       "    }\n",
       "\n",
       "    .dataframe tbody tr th {\n",
       "        vertical-align: top;\n",
       "    }\n",
       "\n",
       "    .dataframe thead th {\n",
       "        text-align: right;\n",
       "    }\n",
       "</style>\n",
       "<table border=\"1\" class=\"dataframe\">\n",
       "  <thead>\n",
       "    <tr style=\"text-align: right;\">\n",
       "      <th></th>\n",
       "      <th>pickup_datetime</th>\n",
       "      <th>dropoff_datetime</th>\n",
       "      <th>PULocationID</th>\n",
       "      <th>DOLocationID</th>\n",
       "      <th>passenger_count</th>\n",
       "    </tr>\n",
       "  </thead>\n",
       "  <tbody>\n",
       "  </tbody>\n",
       "</table>\n",
       "</div>"
      ],
      "text/plain": [
       "Empty DataFrame\n",
       "Columns: [pickup_datetime, dropoff_datetime, PULocationID, DOLocationID, passenger_count]\n",
       "Index: []"
      ]
     },
     "execution_count": 8,
     "metadata": {},
     "output_type": "execute_result"
    }
   ],
   "source": [
    "# Test 2: \n",
    "df[df['pickup_datetime']<pd.to_datetime('2021-01-01')]"
   ]
  },
  {
   "cell_type": "code",
   "execution_count": 9,
   "metadata": {},
   "outputs": [
    {
     "data": {
      "text/plain": [
       "pickup_datetime     0\n",
       "dropoff_datetime    0\n",
       "PULocationID        0\n",
       "DOLocationID        0\n",
       "passenger_count     0\n",
       "dtype: int64"
      ]
     },
     "execution_count": 9,
     "metadata": {},
     "output_type": "execute_result"
    }
   ],
   "source": [
    "df[df['pickup_datetime']<pd.to_datetime('2021-01-01')].count()"
   ]
  },
  {
   "cell_type": "code",
   "execution_count": 10,
   "metadata": {},
   "outputs": [
    {
     "data": {
      "text/html": [
       "<div>\n",
       "<style scoped>\n",
       "    .dataframe tbody tr th:only-of-type {\n",
       "        vertical-align: middle;\n",
       "    }\n",
       "\n",
       "    .dataframe tbody tr th {\n",
       "        vertical-align: top;\n",
       "    }\n",
       "\n",
       "    .dataframe thead th {\n",
       "        text-align: right;\n",
       "    }\n",
       "</style>\n",
       "<table border=\"1\" class=\"dataframe\">\n",
       "  <thead>\n",
       "    <tr style=\"text-align: right;\">\n",
       "      <th></th>\n",
       "      <th>pickup_datetime</th>\n",
       "      <th>dropoff_datetime</th>\n",
       "      <th>PULocationID</th>\n",
       "      <th>DOLocationID</th>\n",
       "      <th>passenger_count</th>\n",
       "    </tr>\n",
       "  </thead>\n",
       "  <tbody>\n",
       "  </tbody>\n",
       "</table>\n",
       "</div>"
      ],
      "text/plain": [
       "Empty DataFrame\n",
       "Columns: [pickup_datetime, dropoff_datetime, PULocationID, DOLocationID, passenger_count]\n",
       "Index: []"
      ]
     },
     "execution_count": 10,
     "metadata": {},
     "output_type": "execute_result"
    }
   ],
   "source": [
    "# Test 3: \n",
    "df[df['dropoff_datetime']>pd.to_datetime('2024-04-01')]"
   ]
  },
  {
   "cell_type": "code",
   "execution_count": 11,
   "metadata": {},
   "outputs": [
    {
     "data": {
      "text/html": [
       "<div>\n",
       "<style scoped>\n",
       "    .dataframe tbody tr th:only-of-type {\n",
       "        vertical-align: middle;\n",
       "    }\n",
       "\n",
       "    .dataframe tbody tr th {\n",
       "        vertical-align: top;\n",
       "    }\n",
       "\n",
       "    .dataframe thead th {\n",
       "        text-align: right;\n",
       "    }\n",
       "</style>\n",
       "<table border=\"1\" class=\"dataframe\">\n",
       "  <thead>\n",
       "    <tr style=\"text-align: right;\">\n",
       "      <th></th>\n",
       "      <th>count</th>\n",
       "      <th>mean</th>\n",
       "      <th>min</th>\n",
       "      <th>25%</th>\n",
       "      <th>50%</th>\n",
       "      <th>75%</th>\n",
       "      <th>max</th>\n",
       "      <th>std</th>\n",
       "    </tr>\n",
       "  </thead>\n",
       "  <tbody>\n",
       "    <tr>\n",
       "      <th>pickup_datetime</th>\n",
       "      <td>0</td>\n",
       "      <td>NaT</td>\n",
       "      <td>NaT</td>\n",
       "      <td>NaT</td>\n",
       "      <td>NaT</td>\n",
       "      <td>NaT</td>\n",
       "      <td>NaT</td>\n",
       "      <td>NaN</td>\n",
       "    </tr>\n",
       "    <tr>\n",
       "      <th>dropoff_datetime</th>\n",
       "      <td>0</td>\n",
       "      <td>NaT</td>\n",
       "      <td>NaT</td>\n",
       "      <td>NaT</td>\n",
       "      <td>NaT</td>\n",
       "      <td>NaT</td>\n",
       "      <td>NaT</td>\n",
       "      <td>NaN</td>\n",
       "    </tr>\n",
       "    <tr>\n",
       "      <th>passenger_count</th>\n",
       "      <td>0.0</td>\n",
       "      <td>NaN</td>\n",
       "      <td>NaN</td>\n",
       "      <td>NaN</td>\n",
       "      <td>NaN</td>\n",
       "      <td>NaN</td>\n",
       "      <td>NaN</td>\n",
       "      <td>NaN</td>\n",
       "    </tr>\n",
       "  </tbody>\n",
       "</table>\n",
       "</div>"
      ],
      "text/plain": [
       "                 count mean  min  25%  50%  75%  max  std\n",
       "pickup_datetime      0  NaT  NaT  NaT  NaT  NaT  NaT  NaN\n",
       "dropoff_datetime     0  NaT  NaT  NaT  NaT  NaT  NaT  NaN\n",
       "passenger_count    0.0  NaN  NaN  NaN  NaN  NaN  NaN  NaN"
      ]
     },
     "execution_count": 11,
     "metadata": {},
     "output_type": "execute_result"
    }
   ],
   "source": [
    "late_dropoff = df[df['dropoff_datetime']>pd.to_datetime('2024-04-01')]\n",
    "late_dropoff.describe().T"
   ]
  },
  {
   "cell_type": "code",
   "execution_count": 12,
   "metadata": {},
   "outputs": [
    {
     "data": {
      "text/html": [
       "<div>\n",
       "<style scoped>\n",
       "    .dataframe tbody tr th:only-of-type {\n",
       "        vertical-align: middle;\n",
       "    }\n",
       "\n",
       "    .dataframe tbody tr th {\n",
       "        vertical-align: top;\n",
       "    }\n",
       "\n",
       "    .dataframe thead th {\n",
       "        text-align: right;\n",
       "    }\n",
       "</style>\n",
       "<table border=\"1\" class=\"dataframe\">\n",
       "  <thead>\n",
       "    <tr style=\"text-align: right;\">\n",
       "      <th></th>\n",
       "      <th>pickup_datetime</th>\n",
       "      <th>dropoff_datetime</th>\n",
       "      <th>PULocationID</th>\n",
       "      <th>DOLocationID</th>\n",
       "      <th>passenger_count</th>\n",
       "    </tr>\n",
       "  </thead>\n",
       "  <tbody>\n",
       "  </tbody>\n",
       "</table>\n",
       "</div>"
      ],
      "text/plain": [
       "Empty DataFrame\n",
       "Columns: [pickup_datetime, dropoff_datetime, PULocationID, DOLocationID, passenger_count]\n",
       "Index: []"
      ]
     },
     "execution_count": 12,
     "metadata": {},
     "output_type": "execute_result"
    }
   ],
   "source": [
    "# Test 5:\n",
    "time_diff = pd.Timedelta(hours=5)\n",
    "df[df['dropoff_datetime']-df['pickup_datetime'] > time_diff]"
   ]
  },
  {
   "cell_type": "code",
   "execution_count": 13,
   "metadata": {},
   "outputs": [
    {
     "data": {
      "text/html": [
       "<div>\n",
       "<style scoped>\n",
       "    .dataframe tbody tr th:only-of-type {\n",
       "        vertical-align: middle;\n",
       "    }\n",
       "\n",
       "    .dataframe tbody tr th {\n",
       "        vertical-align: top;\n",
       "    }\n",
       "\n",
       "    .dataframe thead th {\n",
       "        text-align: right;\n",
       "    }\n",
       "</style>\n",
       "<table border=\"1\" class=\"dataframe\">\n",
       "  <thead>\n",
       "    <tr style=\"text-align: right;\">\n",
       "      <th></th>\n",
       "      <th>count</th>\n",
       "      <th>mean</th>\n",
       "      <th>min</th>\n",
       "      <th>25%</th>\n",
       "      <th>50%</th>\n",
       "      <th>75%</th>\n",
       "      <th>max</th>\n",
       "      <th>std</th>\n",
       "    </tr>\n",
       "  </thead>\n",
       "  <tbody>\n",
       "    <tr>\n",
       "      <th>pickup_datetime</th>\n",
       "      <td>0</td>\n",
       "      <td>NaT</td>\n",
       "      <td>NaT</td>\n",
       "      <td>NaT</td>\n",
       "      <td>NaT</td>\n",
       "      <td>NaT</td>\n",
       "      <td>NaT</td>\n",
       "      <td>NaN</td>\n",
       "    </tr>\n",
       "    <tr>\n",
       "      <th>dropoff_datetime</th>\n",
       "      <td>0</td>\n",
       "      <td>NaT</td>\n",
       "      <td>NaT</td>\n",
       "      <td>NaT</td>\n",
       "      <td>NaT</td>\n",
       "      <td>NaT</td>\n",
       "      <td>NaT</td>\n",
       "      <td>NaN</td>\n",
       "    </tr>\n",
       "    <tr>\n",
       "      <th>passenger_count</th>\n",
       "      <td>0.0</td>\n",
       "      <td>NaN</td>\n",
       "      <td>NaN</td>\n",
       "      <td>NaN</td>\n",
       "      <td>NaN</td>\n",
       "      <td>NaN</td>\n",
       "      <td>NaN</td>\n",
       "      <td>NaN</td>\n",
       "    </tr>\n",
       "    <tr>\n",
       "      <th>time_diff</th>\n",
       "      <td>0</td>\n",
       "      <td>NaT</td>\n",
       "      <td>NaT</td>\n",
       "      <td>NaT</td>\n",
       "      <td>NaT</td>\n",
       "      <td>NaT</td>\n",
       "      <td>NaT</td>\n",
       "      <td>NaT</td>\n",
       "    </tr>\n",
       "  </tbody>\n",
       "</table>\n",
       "</div>"
      ],
      "text/plain": [
       "                 count mean  min  25%  50%  75%  max  std\n",
       "pickup_datetime      0  NaT  NaT  NaT  NaT  NaT  NaT  NaN\n",
       "dropoff_datetime     0  NaT  NaT  NaT  NaT  NaT  NaT  NaN\n",
       "passenger_count    0.0  NaN  NaN  NaN  NaN  NaN  NaN  NaN\n",
       "time_diff            0  NaT  NaT  NaT  NaT  NaT  NaT  NaT"
      ]
     },
     "execution_count": 13,
     "metadata": {},
     "output_type": "execute_result"
    }
   ],
   "source": [
    "long_rides = df[df['dropoff_datetime']-df['pickup_datetime'] > time_diff]\n",
    "long_rides['time_diff'] = long_rides['dropoff_datetime']-long_rides['pickup_datetime']\n",
    "long_rides.describe().T"
   ]
  },
  {
   "cell_type": "code",
   "execution_count": 14,
   "metadata": {},
   "outputs": [
    {
     "data": {
      "text/html": [
       "<div>\n",
       "<style scoped>\n",
       "    .dataframe tbody tr th:only-of-type {\n",
       "        vertical-align: middle;\n",
       "    }\n",
       "\n",
       "    .dataframe tbody tr th {\n",
       "        vertical-align: top;\n",
       "    }\n",
       "\n",
       "    .dataframe thead th {\n",
       "        text-align: right;\n",
       "    }\n",
       "</style>\n",
       "<table border=\"1\" class=\"dataframe\">\n",
       "  <thead>\n",
       "    <tr style=\"text-align: right;\">\n",
       "      <th></th>\n",
       "      <th>pickup_datetime</th>\n",
       "      <th>dropoff_datetime</th>\n",
       "      <th>PULocationID</th>\n",
       "      <th>DOLocationID</th>\n",
       "      <th>passenger_count</th>\n",
       "    </tr>\n",
       "  </thead>\n",
       "  <tbody>\n",
       "  </tbody>\n",
       "</table>\n",
       "</div>"
      ],
      "text/plain": [
       "Empty DataFrame\n",
       "Columns: [pickup_datetime, dropoff_datetime, PULocationID, DOLocationID, passenger_count]\n",
       "Index: []"
      ]
     },
     "execution_count": 14,
     "metadata": {},
     "output_type": "execute_result"
    }
   ],
   "source": [
    "# Test 6:\n",
    "taxi_lookup = pd.read_csv('taxi_zone_lookup.csv')\n",
    "taxi_zones = set(taxi_lookup['LocationID'])\n",
    "df[~(df['PULocationID'].isin(taxi_zones) | df['PULocationID'].isna())]"
   ]
  },
  {
   "cell_type": "code",
   "execution_count": 15,
   "metadata": {},
   "outputs": [
    {
     "data": {
      "text/html": [
       "<div>\n",
       "<style scoped>\n",
       "    .dataframe tbody tr th:only-of-type {\n",
       "        vertical-align: middle;\n",
       "    }\n",
       "\n",
       "    .dataframe tbody tr th {\n",
       "        vertical-align: top;\n",
       "    }\n",
       "\n",
       "    .dataframe thead th {\n",
       "        text-align: right;\n",
       "    }\n",
       "</style>\n",
       "<table border=\"1\" class=\"dataframe\">\n",
       "  <thead>\n",
       "    <tr style=\"text-align: right;\">\n",
       "      <th></th>\n",
       "      <th>pickup_datetime</th>\n",
       "      <th>dropoff_datetime</th>\n",
       "      <th>PULocationID</th>\n",
       "      <th>DOLocationID</th>\n",
       "      <th>passenger_count</th>\n",
       "    </tr>\n",
       "  </thead>\n",
       "  <tbody>\n",
       "  </tbody>\n",
       "</table>\n",
       "</div>"
      ],
      "text/plain": [
       "Empty DataFrame\n",
       "Columns: [pickup_datetime, dropoff_datetime, PULocationID, DOLocationID, passenger_count]\n",
       "Index: []"
      ]
     },
     "execution_count": 15,
     "metadata": {},
     "output_type": "execute_result"
    }
   ],
   "source": [
    "# Test 7:\n",
    "df[~(df['DOLocationID'].isin(taxi_zones) | df['DOLocationID'].isna()) ]"
   ]
  }
 ],
 "metadata": {
  "kernelspec": {
   "display_name": "COMP47360",
   "language": "python",
   "name": "python3"
  },
  "language_info": {
   "codemirror_mode": {
    "name": "ipython",
    "version": 3
   },
   "file_extension": ".py",
   "mimetype": "text/x-python",
   "name": "python",
   "nbconvert_exporter": "python",
   "pygments_lexer": "ipython3",
   "version": "3.12.3"
  }
 },
 "nbformat": 4,
 "nbformat_minor": 2
}
