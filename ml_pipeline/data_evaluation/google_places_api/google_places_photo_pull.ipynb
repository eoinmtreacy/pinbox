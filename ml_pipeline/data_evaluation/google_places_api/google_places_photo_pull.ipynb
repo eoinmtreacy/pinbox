{
 "cells": [
  {
   "cell_type": "code",
   "execution_count": null,
   "metadata": {},
   "outputs": [],
   "source": [
    "from dotenv import load_dotenv\n",
    "import requests\n",
    "import os\n",
    "import pandas as pd\n",
    "import math"
   ]
  },
  {
   "cell_type": "code",
   "execution_count": null,
   "metadata": {},
   "outputs": [],
   "source": [
    "load_dotenv()\n",
    "API_KEY = os.getenv(\"GOOGLE_API_KEY\")\n",
    "API_URL = \"https://places.googleapis.com/v1/places:searchNearby\"\n",
    "PHOTO_API_URL = \"https://places.googleapis.com/v1\""
   ]
  },
  {
   "cell_type": "code",
   "execution_count": null,
   "metadata": {},
   "outputs": [],
   "source": [
    "link = \"places/ChIJ_b6qJvpYwokR7TFSUhdqGUc/photos/AUGGfZlitZFGDw0kRnNduUHJssmot2Z0-fGFmIDze3208NxYb_7NBYiFvVenqGEUV4Fia9el1wvXUSl-5-Mb4ZLqVayLIFposBLnKQULOsmhBLLX2oTg9-ExUD2OKt9YkcbseWb7pivaFstBKoKUciFocNKSZbd8aU0DFi7d\"\n",
    "req = {\n",
    "    \"maxHeightPx\": 600,\n",
    "    \"maxWidthPx\": 600,\n",
    "    \"key\": API_KEY\n",
    "}\n",
    "try: \n",
    "    response = requests.get(PHOTO_API_URL + \"/\" + link + \"/media\", params=req)\n",
    "    response.raise_for_status()\n",
    "except requests.exceptions.HTTPError as errh:\n",
    "    print(\"HTTP Error\")\n",
    "    print(errh.args[0])\n",
    "except requests.exceptions.RequestException as e:\n",
    "    print(\"Request Exception:\", e)\n",
    "\n",
    "# Check if the request was successful\n",
    "if response.status_code == 200:\n",
    "    # Parse the JSON data from the response\n",
    "    with open(\"photo.png\", \"wb\") as file:\n",
    "        file.write(response.content)\n",
    "    # Print or process the data as needed\n",
    "else:\n",
    "    # Print the status code if the request failed\n",
    "    print(f'Failed to retrieve data: {response.status_code}')\n",
    "    print(response)"
   ]
  }
 ],
 "metadata": {
  "language_info": {
   "name": "python"
  }
 },
 "nbformat": 4,
 "nbformat_minor": 2
}
