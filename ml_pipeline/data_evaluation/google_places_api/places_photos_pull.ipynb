{
 "cells": [
  {
   "cell_type": "markdown",
   "metadata": {},
   "source": [
    "This notebook is to evaluate pulling photos for places using the google places API."
   ]
  },
  {
   "cell_type": "code",
   "execution_count": 38,
   "metadata": {},
   "outputs": [],
   "source": [
    "from dotenv import load_dotenv\n",
    "import requests\n",
    "import os\n",
    "import pandas as pd\n",
    "import math"
   ]
  },
  {
   "cell_type": "code",
   "execution_count": 16,
   "metadata": {},
   "outputs": [],
   "source": [
    "load_dotenv()\n",
    "API_KEY = os.getenv(\"GOOGLE_API_KEY\")\n",
    "API_URL = \"https://places.googleapis.com/v1/places:searchNearby\""
   ]
  },
  {
   "cell_type": "code",
   "execution_count": 40,
   "metadata": {},
   "outputs": [
    {
     "name": "stdout",
     "output_type": "stream",
     "text": [
      "{'places': [{'location': {'latitude': 40.762546, 'longitude': -73.976704}, 'displayName': {'text': 'Five Guys', 'languageCode': 'en'}, 'photos': [{'name': 'places/ChIJ_b6qJvpYwokR7TFSUhdqGUc/photos/AUGGfZksQy5MHnYww_PYv_h11MKaoYVBtVEKxgJZT90HYVbtlEl_E1Et0ZriIF5TNsW5mKLtILfldgPd57rTc0XnY0KN269Hx75Kxxy-33IXHL5XianPRmjFzZXiuNOBf9XODYlN9lQWW8MVdBdm-B9KkGZxOFD-sNBfEBSn', 'widthPx': 6000, 'heightPx': 4000, 'authorAttributions': [{'displayName': 'Stefan Tärnell', 'uri': '//maps.google.com/maps/contrib/106358276336827172273', 'photoUri': '//lh3.googleusercontent.com/a-/ALV-UjVRIEa3aI2A7zrnIdCQH2PrLsxWvZg4SP1rKihemeebjPTtYt1o=s100-p-k-no-mo'}]}, {'name': 'places/ChIJ_b6qJvpYwokR7TFSUhdqGUc/photos/AUGGfZkwvce9Z56roRgh1N1IauiXW1TfrnQ9cpN__X--M5bUoXDtvX-DFPbZnVFvI1LjPpQN9h619K4xp-koomufC6ZqtbE_vvfe0sUV7HiQpOHPNzu2H_EXS0RxOzVRGKT9Pn9k1O59RmoxmEqti8qgxQAi5kWNCJx8YlX8', 'widthPx': 4032, 'heightPx': 3024, 'authorAttributions': [{'displayName': 'Tomáš Pikous', 'uri': '//maps.google.com/maps/contrib/104781649543481510827', 'photoUri': '//lh3.googleusercontent.com/a-/ALV-UjXZpb3YYfxm-_hYnBV-_Tq1WibDc4bpVoqdAUPOLnEzTzupUr6W4Q=s100-p-k-no-mo'}]}, {'name': 'places/ChIJ_b6qJvpYwokR7TFSUhdqGUc/photos/AUGGfZl8d3mRXkNoGbOiqe1_BS7RjOnidJ3-PSJTQB5yl9xlVHudHruIuNP0ulHxUl707zwaND6tf6MZ2uQDAdidlDF8N9U9t4d2aXRlmu4uyDSU4nrQ9WEuFXKD9s0kqItN0S8_JMC_yZ37iC0jh2cv0AhsGQuDXoPG4KpO', 'widthPx': 3024, 'heightPx': 4032, 'authorAttributions': [{'displayName': 'jorge balderas', 'uri': '//maps.google.com/maps/contrib/100522334979014537180', 'photoUri': '//lh3.googleusercontent.com/a-/ALV-UjVLRYrI6BeNkgPOoUmP-9BwotVD99n8OPFugpOR0tWIalr1MBU8Iw=s100-p-k-no-mo'}]}, {'name': 'places/ChIJ_b6qJvpYwokR7TFSUhdqGUc/photos/AUGGfZkD78xAo0dqUa8jDScryxZjI1FAIXmZKBLXHq1U7HPNHyl6iq3b4flmlTAV_-YaZmo3bGp0Hh7KW2GxWtQGNDWRVIps6SrGJdo3YOUJ7CS7r0NCvFGbjD5adXucq7-3YDjGLx7oHKLz2ussXqTw_9YMPsDpNQ8f2qFM', 'widthPx': 880, 'heightPx': 500, 'authorAttributions': [{'displayName': 'Five Guys', 'uri': '//maps.google.com/maps/contrib/111614885702343605220', 'photoUri': '//lh3.googleusercontent.com/a-/ALV-UjW1jfmZhfuCJN-48vYAZJ-hxp10kwq9b14ZSyvLs-AkEovyIwp0=s100-p-k-no-mo'}]}, {'name': 'places/ChIJ_b6qJvpYwokR7TFSUhdqGUc/photos/AUGGfZkiWHXx2O1ingQRzp80b6WC_KsiuTsXzXcfhiG772jhje0X5xKQwsdnvpPS0E3yvTqHjO3CdgjFpoBbYSBwYweqawecK9NN262hs2j3s9CNoInxahmSMGGUpTfzYBi6bgR7P7yRjbv_00JbRTwkoGhP1VxuQqk1TlH2', 'widthPx': 3024, 'heightPx': 4032, 'authorAttributions': [{'displayName': 'Bruno Garcia', 'uri': '//maps.google.com/maps/contrib/108673277001007587763', 'photoUri': '//lh3.googleusercontent.com/a-/ALV-UjWEUMIjDNON1AJedVt5DIGSPhiN59GQWRXd_B2le957tEcBOGWizQ=s100-p-k-no-mo'}]}, {'name': 'places/ChIJ_b6qJvpYwokR7TFSUhdqGUc/photos/AUGGfZmltFT1Z5wIMQbx_mp8MC-5nczN3sSOxciE4u0dnxNCp20WVAcd9jx00E7DvHy3hTbfJQZks29CO3P_uejkaTQYNr1IUk3UkY8H5ThgMEPfF8epycr7Pk3E61xpNwgTyEgxbL8KuwRZflO2CoGt4UlN1qzDtLLEv-0d', 'widthPx': 3024, 'heightPx': 3186, 'authorAttributions': [{'displayName': 'Shira B', 'uri': '//maps.google.com/maps/contrib/116002745274464695721', 'photoUri': '//lh3.googleusercontent.com/a/ACg8ocJ2iTo7XJRGbsR79gT8NZqTxn-Sf6_o65qjsgQVeHgZVyj5bA=s100-p-k-no-mo'}]}, {'name': 'places/ChIJ_b6qJvpYwokR7TFSUhdqGUc/photos/AUGGfZl5nIfaDEQ5Z8SwxTdz3bralcmZPpgHL18KpDfjuUQYpStKNimCagEyUsuWJdR2Q72MKcJ_FVRqYtJZ1IrzSP3-vCn64UXmKIWNJ2OZL9o4SGVR5R3gauvJIXxjv-04I_trwIq1SNrZlfi8LuoiJ2hXySVE2nDgpNgH', 'widthPx': 6048, 'heightPx': 8064, 'authorAttributions': [{'displayName': 'Apichart Meredith', 'uri': '//maps.google.com/maps/contrib/114183992298457673817', 'photoUri': '//lh3.googleusercontent.com/a-/ALV-UjV6TuMPLtbDEbfxKRjLMgFvVoQfgSiFK6fFcJWLH0xrSlbbxU3-cA=s100-p-k-no-mo'}]}, {'name': 'places/ChIJ_b6qJvpYwokR7TFSUhdqGUc/photos/AUGGfZkGkkDnZ1cuLB7p2r88Z55qorE4xAW9otdNruSjMBYne5ptlPcLsjC6p9lffNm_LszAdGsPyJelVKXSCdrFQROjvh9P4j3LoN2LP70OdQ-YVLMFNC-4tBBqChF-F25UnqMbi01g00Atmiy5KrF3049dysBk7da2tG-V', 'widthPx': 3024, 'heightPx': 4032, 'authorAttributions': [{'displayName': 'Shira B', 'uri': '//maps.google.com/maps/contrib/116002745274464695721', 'photoUri': '//lh3.googleusercontent.com/a/ACg8ocJ2iTo7XJRGbsR79gT8NZqTxn-Sf6_o65qjsgQVeHgZVyj5bA=s100-p-k-no-mo'}]}, {'name': 'places/ChIJ_b6qJvpYwokR7TFSUhdqGUc/photos/AUGGfZlGEWicZZCV-uVEDflzcFwmzeNu4tSuD4hBYlDD-ahgbuuKlkKdM-VoEnna1wcW4YPqa-OTsA-TTRWp3FssqT_c9lN8zyT9jk9bkECJntKjPbI45Tz9m-84Vfe909mtHu0_IOukfiWGxPkCmTtPwRCFBv8F9IUl85GO', 'widthPx': 3264, 'heightPx': 2448, 'authorAttributions': [{'displayName': 'Michael Krs', 'uri': '//maps.google.com/maps/contrib/103083667130130232729', 'photoUri': '//lh3.googleusercontent.com/a-/ALV-UjVZuSmhD6Mt97LApdY-sTEYsNM71i9Z_qk9gjjLWW5SWJxSXEV1=s100-p-k-no-mo'}]}, {'name': 'places/ChIJ_b6qJvpYwokR7TFSUhdqGUc/photos/AUGGfZmfdKF4M0crgPdMwTqVZWjntJemjTXig6Dk_mual9y4pZn5KBcGwQg1Ia2c6U27RR_pfnwe8oG_kymLSWwwfh_TdSUJlbUaJVMZTUAVVquwIbwMW4Km2JZDrFlx5c9_zcH1CbQ92ltK1QcBn7tW4cxd5nmPoPQdSdJO', 'widthPx': 3024, 'heightPx': 4032, 'authorAttributions': [{'displayName': 'Arjen W', 'uri': '//maps.google.com/maps/contrib/113584286949473123003', 'photoUri': '//lh3.googleusercontent.com/a/ACg8ocLug1pl60h71Z-gX-xUg76W5jHv7Hx14xCgQYZQEFjN7gpWfQ=s100-p-k-no-mo'}]}]}]}\n"
     ]
    }
   ],
   "source": [
    "header = {\n",
    "    \"Content-Type\": \"application/json\",\n",
    "    \"X-Goog-Api-Key\": API_KEY,\n",
    "    \"X-Goog-FieldMask\": \"places.displayName,places.location,places.photos\"\n",
    "}\n",
    "\n",
    "req = {\n",
    "    # \"includedTypes\": [\"restaurant\"],\n",
    "    \"maxResultCount\": 1,\n",
    "    \"rankPreference\": \"DISTANCE\",\n",
    "    \"locationRestriction\": {\n",
    "        \"circle\": {\n",
    "            \"center\": {\n",
    "                \"latitude\": 40.7625151, \n",
    "                \"longitude\": -73.9766897\n",
    "            },\n",
    "            \"radius\": 30.0\n",
    "        }\n",
    "    }\n",
    "}\n",
    "# \"latitude\": 40.7625056, \"longitude\": -73.9764143\n",
    "\n",
    "try:\n",
    "    response = requests.post(API_URL, json=req, headers=header)\n",
    "    response.raise_for_status()\n",
    "except requests.exceptions.HTTPError as errh:\n",
    "    print(\"HTTP Error\")\n",
    "    print(errh.args[0])\n",
    "except requests.exceptions.RequestException as e:\n",
    "    print(\"Request Exception:\", e)\n",
    "\n",
    "# Check if the request was successful\n",
    "if response.status_code == 200:\n",
    "    # Parse the JSON data from the response\n",
    "    data = response.json()\n",
    "    # Print or process the data as needed\n",
    "    print(data)\n",
    "else:\n",
    "    # Print the status code if the request failed\n",
    "    print(f'Failed to retrieve data: {response.status_code}')\n",
    "    print(response)"
   ]
  },
  {
   "cell_type": "code",
   "execution_count": 33,
   "metadata": {},
   "outputs": [
    {
     "data": {
      "text/plain": [
       "3.0899999998723615e-05"
      ]
     },
     "execution_count": 33,
     "metadata": {},
     "output_type": "execute_result"
    }
   ],
   "source": [
    "40.762546 - 40.7625151"
   ]
  },
  {
   "cell_type": "code",
   "execution_count": 39,
   "metadata": {},
   "outputs": [
    {
     "data": {
      "text/plain": [
       "3.4048494827621223e-05"
      ]
     },
     "execution_count": 39,
     "metadata": {},
     "output_type": "execute_result"
    }
   ],
   "source": [
    "math.sqrt((40.762546 - 40.7625151) ** 2 + (-73.9766897 + 73.976704) ** 2)"
   ]
  },
  {
   "cell_type": "code",
   "execution_count": 35,
   "metadata": {},
   "outputs": [
    {
     "data": {
      "text/plain": [
       "3.411359999859087"
      ]
     },
     "execution_count": 35,
     "metadata": {},
     "output_type": "execute_result"
    }
   ],
   "source": [
    "3.4048494827621223e-05 * 69 * 1.6 * 1000"
   ]
  },
  {
   "cell_type": "code",
   "execution_count": null,
   "metadata": {},
   "outputs": [],
   "source": [
    "df = pd.DataFrame(data['results'])"
   ]
  },
  {
   "cell_type": "code",
   "execution_count": null,
   "metadata": {},
   "outputs": [],
   "source": [
    "df.head()"
   ]
  }
 ],
 "metadata": {
  "kernelspec": {
   "display_name": "COMP47360",
   "language": "python",
   "name": "python3"
  },
  "language_info": {
   "codemirror_mode": {
    "name": "ipython",
    "version": 3
   },
   "file_extension": ".py",
   "mimetype": "text/x-python",
   "name": "python",
   "nbconvert_exporter": "python",
   "pygments_lexer": "ipython3",
   "version": "3.12.3"
  }
 },
 "nbformat": 4,
 "nbformat_minor": 2
}
