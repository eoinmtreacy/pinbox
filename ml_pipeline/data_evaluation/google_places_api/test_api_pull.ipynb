{
 "cells": [
  {
   "cell_type": "code",
   "execution_count": 1,
   "metadata": {},
   "outputs": [],
   "source": [
    "from dotenv import load_dotenv\n",
    "import requests\n",
    "import os\n",
    "import pandas as pd"
   ]
  },
  {
   "cell_type": "code",
   "execution_count": 2,
   "metadata": {},
   "outputs": [],
   "source": [
    "load_dotenv()\n",
    "API_KEY = os.getenv(\"GOOGLE_API_KEY\")\n",
    "API_URL = \"https://maps.googleapis.com/maps/api/place/nearbysearch/json\""
   ]
  },
  {
   "cell_type": "code",
   "execution_count": 16,
   "metadata": {},
   "outputs": [
    {
     "name": "stdout",
     "output_type": "stream",
     "text": [
      "{'html_attributions': [], 'next_page_token': 'AUGGfZkIw9pA6ofR-NMQ2qBLQtxx9zV1l0x2wt7JyRZ1LgpAguLfBUrT61xdZR5Y1UGaOumMVMlrT_OfBoqq_bpwwAoWZyqnyvDAHuHpj8Tnl9uJxBL3ea5IURgexpTxs_EHyvuld0ZzQQgrXk5W85_3FN-DHhSABN9zNUmPIG2b0gOpYGyHdsd0VJX71PT7A6ulOhnbC7Gz9K-WCZFCDd8D62zyYhxVHBbJxD60hxveCyG7wr9QeT_utnZW7TiQQTx8t2sJW23g6a3EVjV3zvrrt5UC8yePOLgaRHz9s_bM2XHg6wYgD9W0T0uHrclzRtwsYaXRLJTIl2RVs7Ay2xKhRGZ4MX96TL-4gAT0TxSAufLdpHaKPX2UY5o2DPSVEDwDj9suI6lpmzKSBvolfbpTueu8Zal-8kcwmkSewfXaQQRY', 'results': [{'geometry': {'location': {'lat': 40.7127753, 'lng': -74.0059728}, 'viewport': {'northeast': {'lat': 40.91757705070789, 'lng': -73.70027206817629}, 'southwest': {'lat': 40.47739906045452, 'lng': -74.25908991427882}}}, 'icon': 'https://maps.gstatic.com/mapfiles/place_api/icons/v1/png_71/geocode-71.png', 'icon_background_color': '#7B9EB0', 'icon_mask_base_uri': 'https://maps.gstatic.com/mapfiles/place_api/icons/v2/generic_pinlet', 'name': 'New York', 'photos': [{'height': 1349, 'html_attributions': ['<a href=\"https://maps.google.com/maps/contrib/110349025836868915119\">Taylor Mazhendo</a>'], 'photo_reference': 'AUGGfZmoVpel_hApWUQtCHvyjUx_ip4v1eMQgLt4g7Hh-WbcuhU4Ts9K6BKY5qAN-0piivLr_--vbZ_nfk6HTFjpQbFT91me_GH3OOYItg9P_s01pM6uBo3ya-rJxbiT6oRSsLv-jHaXSyD7GbzWXxGwlNo4v97EIWUz4QlMDqMcSglkL_En', 'width': 1080}], 'place_id': 'ChIJOwg_06VPwokRYv534QaPC8g', 'reference': 'ChIJOwg_06VPwokRYv534QaPC8g', 'scope': 'GOOGLE', 'types': ['locality', 'political'], 'vicinity': 'New York'}, {'business_status': 'OPERATIONAL', 'geometry': {'location': {'lat': 40.7752711, 'lng': -73.9633994}, 'viewport': {'northeast': {'lat': 40.77656848029149, 'lng': -73.9620792697085}, 'southwest': {'lat': 40.7738705197085, 'lng': -73.96477723029152}}}, 'icon': 'https://maps.gstatic.com/mapfiles/place_api/icons/v1/png_71/lodging-71.png', 'icon_background_color': '#909CE1', 'icon_mask_base_uri': 'https://maps.gstatic.com/mapfiles/place_api/icons/v2/hotel_pinlet', 'name': 'The Mark Hotel', 'opening_hours': {'open_now': True}, 'photos': [{'height': 5250, 'html_attributions': ['<a href=\"https://maps.google.com/maps/contrib/113932043824166121037\">The Mark Hotel</a>'], 'photo_reference': 'AUGGfZlw8s06WV_71fHLJfdwY47Ndh-PCfx81dfO3lv-iKd6wyE7TdYJKFgFjzkmjxDSPk2nrSme6-lhL-So2rBt-HrTN8BBf93pe5_NLHMBQGLscJ1klkCjzXJe79NLBzKvL0Rf_dOsdo6ViTjIjFRPeko-JWRcKI9bfjjl2k_HCJkPvp55', 'width': 3500}], 'place_id': 'ChIJXYOiRJRYwokRm1i3c9R6WDA', 'plus_code': {'compound_code': 'Q2GP+4J New York, NY, USA', 'global_code': '87G8Q2GP+4J'}, 'rating': 4.5, 'reference': 'ChIJXYOiRJRYwokRm1i3c9R6WDA', 'scope': 'GOOGLE', 'types': ['lodging', 'restaurant', 'point_of_interest', 'food', 'establishment'], 'user_ratings_total': 840, 'vicinity': '25 East 77th Street, New York'}, {'business_status': 'OPERATIONAL', 'geometry': {'location': {'lat': 40.7744149, 'lng': -73.96388929999999}, 'viewport': {'northeast': {'lat': 40.7758218302915, 'lng': -73.9625632197085}, 'southwest': {'lat': 40.7731238697085, 'lng': -73.9652611802915}}}, 'icon': 'https://maps.gstatic.com/mapfiles/place_api/icons/v1/png_71/lodging-71.png', 'icon_background_color': '#909CE1', 'icon_mask_base_uri': 'https://maps.gstatic.com/mapfiles/place_api/icons/v2/hotel_pinlet', 'name': 'The Surrey', 'opening_hours': {'open_now': True}, 'photos': [{'height': 2560, 'html_attributions': ['<a href=\"https://maps.google.com/maps/contrib/101783176860139422272\">The Surrey</a>'], 'photo_reference': 'AUGGfZks41a7GLLwV-hmxTn1MnCEQcYJgdXYaGCSTAxeGhu8ynXFeR0tOhFAI8FjKKYK3H7rSnutu0-R1s0WVVqZo075eyqzu5VdnqkaSVm4uYzqQMcTZjMoxtUsTbH7b9TgZ2NOdFC7eXsKJR8h9Pse6GW2fvgCEZhIv_40cO7SDIJ3hUtb', 'width': 3840}], 'place_id': 'ChIJCcAxi5RYwokRUyhXQvDUJsY', 'plus_code': {'compound_code': 'Q2FP+QC New York, NY, USA', 'global_code': '87G8Q2FP+QC'}, 'rating': 4.3, 'reference': 'ChIJCcAxi5RYwokRUyhXQvDUJsY', 'scope': 'GOOGLE', 'types': ['lodging', 'point_of_interest', 'establishment'], 'user_ratings_total': 304, 'vicinity': '20 East 76th Street, New York'}, {'business_status': 'OPERATIONAL', 'geometry': {'location': {'lat': 40.774416, 'lng': -73.96315589999999}, 'viewport': {'northeast': {'lat': 40.7757530302915, 'lng': -73.9619090697085}, 'southwest': {'lat': 40.7730550697085, 'lng': -73.9646070302915}}}, 'icon': 'https://maps.gstatic.com/mapfiles/place_api/icons/v1/png_71/lodging-71.png', 'icon_background_color': '#909CE1', 'icon_mask_base_uri': 'https://maps.gstatic.com/mapfiles/place_api/icons/v2/hotel_pinlet', 'name': 'The Carlyle, A Rosewood Hotel', 'opening_hours': {'open_now': True}, 'photos': [{'height': 1283, 'html_attributions': ['<a href=\"https://maps.google.com/maps/contrib/110868416881454869966\">The Carlyle, A Rosewood Hotel</a>'], 'photo_reference': 'AUGGfZmqQqqkYzwwEhtbJrhMWN38NtjfvLZp7IJAB8Wl5UwQfJxc3wwVDIGcpuxdSncdENktmqgtZ2bDRehBn5Vl0Iq3UUjJEv1pFYhVcB0cbXhhtGUkcfa2HhhE_w371niMaieBM1RlOqjGX9ul0J4BwpTPefjG1yJAuyzSNkeqpQ8UxfYy', 'width': 1858}], 'place_id': 'ChIJEQ6D9pRYwokR5TXzH7ACo7I', 'plus_code': {'compound_code': 'Q2FP+QP New York, NY, USA', 'global_code': '87G8Q2FP+QP'}, 'rating': 4.5, 'reference': 'ChIJEQ6D9pRYwokR5TXzH7ACo7I', 'scope': 'GOOGLE', 'types': ['lodging', 'point_of_interest', 'establishment'], 'user_ratings_total': 1024, 'vicinity': '35 East 76th Street, New York'}, {'business_status': 'OPERATIONAL', 'geometry': {'location': {'lat': 40.77617100000001, 'lng': -73.9776917}, 'viewport': {'northeast': {'lat': 40.77747513029151, 'lng': -73.97637781970849}, 'southwest': {'lat': 40.77477716970851, 'lng': -73.9790757802915}}}, 'icon': 'https://maps.gstatic.com/mapfiles/place_api/icons/v1/png_71/lodging-71.png', 'icon_background_color': '#909CE1', 'icon_mask_base_uri': 'https://maps.gstatic.com/mapfiles/place_api/icons/v2/hotel_pinlet', 'name': 'La Quinta Inn & Suites by Wyndham New York City Central Park', 'opening_hours': {'open_now': True}, 'photos': [{'height': 1920, 'html_attributions': ['<a href=\"https://maps.google.com/maps/contrib/111280800583236519137\">La Quinta Inn &amp; Suites by Wyndham New York City Central Park</a>'], 'photo_reference': 'AUGGfZkpZGKwdyC6q3ESP-T5PVfYd9-d3epppqygiToGw8j0LHjSCDt6YzfF0535VVJfCRYEYXaEM_Jh4fULhMC3Wm_H4FIsNzgHzsCcNYQF2_p73f_KnjgmWehlhcydCwSJ-SAbfDhhRAyu6NDQuGXSIr4DUfJZl6iEaf2Zup5oHMTIDQiB', 'width': 2880}], 'place_id': 'ChIJE88lcYtYwokROrHaZcVRPCY', 'plus_code': {'compound_code': 'Q2GC+FW New York, NY, USA', 'global_code': '87G8Q2GC+FW'}, 'rating': 3.4, 'reference': 'ChIJE88lcYtYwokROrHaZcVRPCY', 'scope': 'GOOGLE', 'types': ['lodging', 'point_of_interest', 'establishment'], 'user_ratings_total': 1301, 'vicinity': '31 West 71st Street, New York'}, {'business_status': 'OPERATIONAL', 'geometry': {'location': {'lat': 40.783438, 'lng': -73.97849149999999}, 'viewport': {'northeast': {'lat': 40.7847128302915, 'lng': -73.9772262197085}, 'southwest': {'lat': 40.7820148697085, 'lng': -73.9799241802915}}}, 'icon': 'https://maps.gstatic.com/mapfiles/place_api/icons/v1/png_71/lodging-71.png', 'icon_background_color': '#909CE1', 'icon_mask_base_uri': 'https://maps.gstatic.com/mapfiles/place_api/icons/v2/hotel_pinlet', 'name': 'The Lucerne Hotel', 'opening_hours': {'open_now': True}, 'photos': [{'height': 899, 'html_attributions': ['<a href=\"https://maps.google.com/maps/contrib/103575132510372123021\">The Lucerne Hotel</a>'], 'photo_reference': 'AUGGfZmvx27EfWYtfP-W4eq70gS-ikBtvNGPmJrWK8xxMmh2ALZkFl7sVXCF1J71YPGLyBlnFCiLl2rgIfvWdQT50YKEPYIJDvtv9RBiqP5pqYtZqdpkaTatHsfipyLyUYvDABM4yKTemgmyrUCGvZfWP64iTfRtEvik7PB-P-0ojJ9INZiu', 'width': 1439}], 'place_id': 'ChIJ19oTTvRYwokRVikZzFtQBuY', 'plus_code': {'compound_code': 'Q2MC+9J New York, NY, USA', 'global_code': '87G8Q2MC+9J'}, 'rating': 4.3, 'reference': 'ChIJ19oTTvRYwokRVikZzFtQBuY', 'scope': 'GOOGLE', 'types': ['lodging', 'point_of_interest', 'establishment'], 'user_ratings_total': 964, 'vicinity': '201 West 79th Street, New York'}, {'business_status': 'OPERATIONAL', 'geometry': {'location': {'lat': 40.7821598, 'lng': -73.98033509999999}, 'viewport': {'northeast': {'lat': 40.7835643302915, 'lng': -73.9789711697085}, 'southwest': {'lat': 40.7808663697085, 'lng': -73.98166913029151}}}, 'icon': 'https://maps.gstatic.com/mapfiles/place_api/icons/v1/png_71/lodging-71.png', 'icon_background_color': '#909CE1', 'icon_mask_base_uri': 'https://maps.gstatic.com/mapfiles/place_api/icons/v2/hotel_pinlet', 'name': 'Arthouse Hotel New York City', 'opening_hours': {'open_now': True}, 'photos': [{'height': 608, 'html_attributions': ['<a href=\"https://maps.google.com/maps/contrib/112823039599138080912\">Arthouse Hotel New York City</a>'], 'photo_reference': 'AUGGfZkz5g4GkT1hK1yuUF7h9M9-Zx94suSgi1CR6PypVy-pdRqFLLCCO8VvV7K7KGg1HY8X11Ss7ap0YNPzSRKeWbZzC3aeuXCATc7_hOUFSmOp7wtx7vcdE_B9NV38lRhI8-T2TvRHIj_-Crtg3ZXomd0UMICzfu9KiSCxJVOSg9VOWbwI', 'width': 1000}], 'place_id': 'ChIJAQAAAIVYwokRgjSEms1j39E', 'plus_code': {'compound_code': 'Q2J9+VV New York, NY, USA', 'global_code': '87G8Q2J9+VV'}, 'rating': 4.1, 'reference': 'ChIJAQAAAIVYwokRgjSEms1j39E', 'scope': 'GOOGLE', 'types': ['lodging', 'point_of_interest', 'establishment'], 'user_ratings_total': 1977, 'vicinity': '222 West 77th Street, New York'}, {'business_status': 'OPERATIONAL', 'geometry': {'location': {'lat': 40.782425, 'lng': -73.9811603}, 'viewport': {'northeast': {'lat': 40.78385538029149, 'lng': -73.9797626197085}, 'southwest': {'lat': 40.78115741970849, 'lng': -73.9824605802915}}}, 'icon': 'https://maps.gstatic.com/mapfiles/place_api/icons/v1/png_71/lodging-71.png', 'icon_background_color': '#909CE1', 'icon_mask_base_uri': 'https://maps.gstatic.com/mapfiles/place_api/icons/v2/hotel_pinlet', 'name': 'Hotel Belleclaire', 'opening_hours': {'open_now': True}, 'photos': [{'height': 4672, 'html_attributions': ['<a href=\"https://maps.google.com/maps/contrib/101508465781046658430\">Hotel Belleclaire</a>'], 'photo_reference': 'AUGGfZlj1XP2BlGooilNTcyNyWxY-u9ecrJRAUO3AjPIGgPtVmS5HfQhFX5QJPwcGTZSIm7O5Fg2CW8F82jCMIDb-S9H_3Tx2X3zljoa3xqP3lc77VfuNjY6ZmYTIYsGBTCzoqgOn9QQtVGKSARQbTeVKEQzfA75Gu5WQ4zh2ab9MgK1_6G1', 'width': 7008}], 'place_id': 'ChIJZ-wCRohYwokRvnOFofo8F7A', 'plus_code': {'compound_code': 'Q2J9+XG New York, NY, USA', 'global_code': '87G8Q2J9+XG'}, 'rating': 4, 'reference': 'ChIJZ-wCRohYwokRvnOFofo8F7A', 'scope': 'GOOGLE', 'types': ['lodging', 'restaurant', 'point_of_interest', 'food', 'establishment'], 'user_ratings_total': 1439, 'vicinity': '2175 Broadway, New York'}, {'business_status': 'OPERATIONAL', 'geometry': {'location': {'lat': 40.78132409999999, 'lng': -73.9739882}, 'viewport': {'northeast': {'lat': 40.78294769999999, 'lng': -73.97157354999997}, 'southwest': {'lat': 40.7799797, 'lng': -73.97596895}}}, 'icon': 'https://maps.gstatic.com/mapfiles/place_api/icons/v1/png_71/museum-71.png', 'icon_background_color': '#13B5C7', 'icon_mask_base_uri': 'https://maps.gstatic.com/mapfiles/place_api/icons/v2/museum_pinlet', 'name': 'American Museum of Natural History', 'opening_hours': {'open_now': True}, 'photos': [{'height': 3024, 'html_attributions': ['<a href=\"https://maps.google.com/maps/contrib/116604357729816626027\">Ameer AlSayyed</a>'], 'photo_reference': 'AUGGfZnb0wUdcCYLcs7EL-QGrxgdHCw9mA6Vkn-oXGFyWIEBQi1fJuCcTk6NlwzbSOiYcJP5HkNX4ALpsnAnwj7B9R0sGunrAfZeUCNDbDLSWmqolhoEytCcvIl6gU9_CHqzvJremd7q_5Sbpg7clOR98MByMw3tlB-bzV72zX7_gLOyjWN0', 'width': 4032}], 'place_id': 'ChIJCXoPsPRYwokRsV1MYnKBfaI', 'plus_code': {'compound_code': 'Q2JG+GC New York, NY, USA', 'global_code': '87G8Q2JG+GC'}, 'rating': 4.5, 'reference': 'ChIJCXoPsPRYwokRsV1MYnKBfaI', 'scope': 'GOOGLE', 'types': ['tourist_attraction', 'museum', 'point_of_interest', 'establishment'], 'user_ratings_total': 20224, 'vicinity': '200 Central Park West, New York'}, {'business_status': 'CLOSED_TEMPORARILY', 'geometry': {'location': {'lat': 40.7710857, 'lng': -73.9673861}, 'viewport': {'northeast': {'lat': 40.7723304302915, 'lng': -73.96598596970848}, 'southwest': {'lat': 40.7696324697085, 'lng': -73.96868393029149}}}, 'icon': 'https://maps.gstatic.com/mapfiles/place_api/icons/v1/png_71/museum-71.png', 'icon_background_color': '#13B5C7', 'icon_mask_base_uri': 'https://maps.gstatic.com/mapfiles/place_api/icons/v2/museum_pinlet', 'name': 'The Frick Collection', 'permanently_closed': True, 'photos': [{'height': 1333, 'html_attributions': ['<a href=\"https://maps.google.com/maps/contrib/104593885400895650162\">The Frick Collection</a>'], 'photo_reference': 'AUGGfZkUMWb9sGkztHYQ8i3gsVMOpmGVMQGAWNBWlPp8mv81Xtk-1-PpxEiLs3VkLTEidN2ul4K7a7IPiFmC6uZdMTrborw61b-zHJ0PA33PjDdAVdYT5K23Zd9aDCRV7cfWFSySkRXScihQwm_pC-N-0naQsHr9gJE0YT3AfA0tMUN6_68u', 'width': 2000}], 'place_id': 'ChIJHRH97uxYwokR6CBeDyn1jtg', 'plus_code': {'compound_code': 'Q2CM+C2 New York, NY, USA', 'global_code': '87G8Q2CM+C2'}, 'price_level': 2, 'rating': 4.6, 'reference': 'ChIJHRH97uxYwokR6CBeDyn1jtg', 'scope': 'GOOGLE', 'types': ['museum', 'point_of_interest', 'establishment'], 'user_ratings_total': 3198, 'vicinity': '1 East 70th Street, New York'}, {'business_status': 'OPERATIONAL', 'geometry': {'location': {'lat': 40.7829796, 'lng': -73.9589706}, 'viewport': {'northeast': {'lat': 40.78443508029151, 'lng': -73.95776296970848}, 'southwest': {'lat': 40.78173711970851, 'lng': -73.9604609302915}}}, 'icon': 'https://maps.gstatic.com/mapfiles/place_api/icons/v1/png_71/museum-71.png', 'icon_background_color': '#13B5C7', 'icon_mask_base_uri': 'https://maps.gstatic.com/mapfiles/place_api/icons/v2/museum_pinlet', 'name': 'Solomon R. Guggenheim Museum', 'opening_hours': {'open_now': True}, 'photos': [{'height': 686, 'html_attributions': ['<a href=\"https://maps.google.com/maps/contrib/105023952927326307566\">Imanol Gallego</a>'], 'photo_reference': 'AUGGfZmcnUYFxXdSbjZ4efN2j4kZkr8RbmmS2zJLbIqtfCWtAyrHrxs6jg6GtBuPPu09CXKpTXKUDrqPJHlpJArDQK7Zhuj9lszCgXKDZ3PE32Zrm-WPgRBA4GAYPSf-a2NdTgYqgiRhjC4Fh5cPjtdWjzzQcYPWJIg0eij9-gJGD4ioaIjv', 'width': 1024}], 'place_id': 'ChIJmZ5emqJYwokRuDz79o0coAQ', 'plus_code': {'compound_code': 'Q2MR+5C New York, NY, USA', 'global_code': '87G8Q2MR+5C'}, 'rating': 4.3, 'reference': 'ChIJmZ5emqJYwokRuDz79o0coAQ', 'scope': 'GOOGLE', 'types': ['tourist_attraction', 'museum', 'point_of_interest', 'establishment'], 'user_ratings_total': 22573, 'vicinity': '1071 5th Avenue, New York'}, {'business_status': 'OPERATIONAL', 'geometry': {'location': {'lat': 40.7825547, 'lng': -73.9655834}, 'viewport': {'northeast': {'lat': 40.81829345, 'lng': -73.93336509999999}, 'southwest': {'lat': 40.74649685000001, 'lng': -73.9988111}}}, 'icon': 'https://maps.gstatic.com/mapfiles/place_api/icons/v1/png_71/park-71.png', 'icon_background_color': '#4DB546', 'icon_mask_base_uri': 'https://maps.gstatic.com/mapfiles/place_api/icons/v2/tree_pinlet', 'name': 'Central Park', 'opening_hours': {'open_now': True}, 'photos': [{'height': 764, 'html_attributions': ['<a href=\"https://maps.google.com/maps/contrib/103829844627175481707\">Saeed Ullah</a>'], 'photo_reference': 'AUGGfZlqPnkaIv8o3_DL4MtFhiDvIiLeW3UYfuONpOtT70f91R9sHZkDAbmOQu6brd_w05XoofyR9DuVkPFqHgxz6pDp5YP9Qik-mRhxG_FkZfpG_S5rimaowUZM8KIBKokmu32nLq1An1Yb5lk-PC9BRb1D47wmebWm3atYZa3HgDjKpQyH', 'width': 1077}], 'place_id': 'ChIJ4zGFAZpYwokRGUGph3Mf37k', 'plus_code': {'compound_code': 'Q2MM+2Q New York, NY, USA', 'global_code': '87G8Q2MM+2Q'}, 'rating': 4.8, 'reference': 'ChIJ4zGFAZpYwokRGUGph3Mf37k', 'scope': 'GOOGLE', 'types': ['park', 'tourist_attraction', 'point_of_interest', 'establishment'], 'user_ratings_total': 271947, 'vicinity': 'New York'}, {'business_status': 'OPERATIONAL', 'geometry': {'location': {'lat': 40.7805136, 'lng': -73.9810847}, 'viewport': {'northeast': {'lat': 40.7818811302915, 'lng': -73.97987016970849}, 'southwest': {'lat': 40.7791831697085, 'lng': -73.9825681302915}}}, 'icon': 'https://maps.gstatic.com/mapfiles/place_api/icons/v1/png_71/generic_business-71.png', 'icon_background_color': '#13B5C7', 'icon_mask_base_uri': 'https://maps.gstatic.com/mapfiles/place_api/icons/v2/generic_pinlet', 'name': 'Beacon Theatre', 'opening_hours': {'open_now': True}, 'photos': [{'height': 3024, 'html_attributions': ['<a href=\"https://maps.google.com/maps/contrib/104381584763318908284\">Richard Blakeley</a>'], 'photo_reference': 'AUGGfZkZ0_nCYycezK62jZYBEaXwlDfLzqaK1vi6pgpA0lmCssl7rdqmJnITS_J1NCFJ8bWVCqfJjDcW0S7GgJPBbLX7ZfDlvFphgYX2jLWIlOzUO8uWsi3b6hn5SUmJcEr5DJC84HQ2WBwtD33H3WSxwKfQL7x21HbO9bKmAgv4Vm-dgQGD', 'width': 4032}], 'place_id': 'ChIJEdN5k4lYwokRuNPGGOZUwOQ', 'plus_code': {'compound_code': 'Q2J9+6H New York, NY, USA', 'global_code': '87G8Q2J9+6H'}, 'price_level': 3, 'rating': 4.7, 'reference': 'ChIJEdN5k4lYwokRuNPGGOZUwOQ', 'scope': 'GOOGLE', 'types': ['tourist_attraction', 'point_of_interest', 'establishment'], 'user_ratings_total': 6015, 'vicinity': '2124 Broadway, New York'}, {'business_status': 'OPERATIONAL', 'geometry': {'location': {'lat': 40.7752246, 'lng': -73.9687604}, 'viewport': {'northeast': {'lat': 40.77708690000001, 'lng': -73.96611395000001}, 'southwest': {'lat': 40.7710061, 'lng': -73.96964254999997}}}, 'icon': 'https://maps.gstatic.com/mapfiles/place_api/icons/v1/png_71/restaurant-71.png', 'icon_background_color': '#FF9E67', 'icon_mask_base_uri': 'https://maps.gstatic.com/mapfiles/place_api/icons/v2/restaurant_pinlet', 'name': 'Central Park Boathouse', 'opening_hours': {'open_now': True}, 'photos': [{'height': 3000, 'html_attributions': ['<a href=\"https://maps.google.com/maps/contrib/115027717365689768302\">Adrienne de Beer</a>'], 'photo_reference': 'AUGGfZn-UUUVhVDDtsyISpWwA__O6j2opOwge7qQl_rG6N9atfmPVTH4D3oLeLzo8_jqSYV82gNtmCzZEOgzjqeEy9S_1NI4AtvbszHLqKvHpYbEqDOugngNSfWDmvbA-qbOQRBEJ32BfQGUX_dB5Upk-hgJrKxVNjuKxoLRIUtH4RbV8Kio', 'width': 4000}], 'place_id': 'ChIJm17AB5pYwokRWLJ6lEtXKOA', 'plus_code': {'compound_code': 'Q2GJ+3F New York, NY, USA', 'global_code': '87G8Q2GJ+3F'}, 'price_level': 3, 'rating': 4.3, 'reference': 'ChIJm17AB5pYwokRWLJ6lEtXKOA', 'scope': 'GOOGLE', 'types': ['tourist_attraction', 'bar', 'restaurant', 'point_of_interest', 'food', 'establishment'], 'user_ratings_total': 3950, 'vicinity': 'EAST 72ND ST +, Center Drive, New York'}, {'business_status': 'OPERATIONAL', 'geometry': {'location': {'lat': 40.77934870000001, 'lng': -73.9739079}, 'viewport': {'northeast': {'lat': 40.78058978029151, 'lng': -73.97257421970849}, 'southwest': {'lat': 40.77789181970851, 'lng': -73.97527218029151}}}, 'icon': 'https://maps.gstatic.com/mapfiles/place_api/icons/v1/png_71/museum-71.png', 'icon_background_color': '#13B5C7', 'icon_mask_base_uri': 'https://maps.gstatic.com/mapfiles/place_api/icons/v2/museum_pinlet', 'name': 'New-York Historical Society', 'opening_hours': {'open_now': False}, 'photos': [{'height': 3024, 'html_attributions': ['<a href=\"https://maps.google.com/maps/contrib/110371788462060280274\">Victor Wang</a>'], 'photo_reference': 'AUGGfZkziqUXegWVw0yGn1zEBQA0MCFuqS6PQT9GewVGPOvmxDzI9CBr3yaVk9uHjj_by84zlvgJomXvzNF3fk1OzPAloFn7FP--AkZng_5jtvPgoq0jWvDWTdr18ioiWX8b5E98jalVMSizUi2Ha3e5yxhxQunjCUmTDozjZ3GoHYQP2RKD', 'width': 4032}], 'place_id': 'ChIJIVEyfY5YwokRXqcWLrl5XVA', 'plus_code': {'compound_code': 'Q2HG+PC New York, NY, USA', 'global_code': '87G8Q2HG+PC'}, 'rating': 4.5, 'reference': 'ChIJIVEyfY5YwokRXqcWLrl5XVA', 'scope': 'GOOGLE', 'types': ['museum', 'tourist_attraction', 'library', 'point_of_interest', 'establishment'], 'user_ratings_total': 594, 'vicinity': '170 Central Park West, New York'}, {'business_status': 'OPERATIONAL', 'geometry': {'location': {'lat': 40.7794366, 'lng': -73.963244}, 'viewport': {'northeast': {'lat': 40.7802527302915, 'lng': -73.9613772197085}, 'southwest': {'lat': 40.7775547697085, 'lng': -73.9640751802915}}}, 'icon': 'https://maps.gstatic.com/mapfiles/place_api/icons/v1/png_71/museum-71.png', 'icon_background_color': '#13B5C7', 'icon_mask_base_uri': 'https://maps.gstatic.com/mapfiles/place_api/icons/v2/museum_pinlet', 'name': 'The Metropolitan Museum of Art', 'opening_hours': {'open_now': False}, 'photos': [{'height': 3024, 'html_attributions': ['<a href=\"https://maps.google.com/maps/contrib/111935674087935889239\">Caleb</a>'], 'photo_reference': 'AUGGfZluUxRehEbRj7oRFV2ZA-Ql-fdBWgBCN0p9F4wMMb05_2UUV9PWIDQcN51IYhhIEnqdvKBXnLjzSTdZNqB4TATlgysGdSmF8aHXzI8f4PBzO6W_I3fRQylkyhz6s83sweZQ1h7IVRYOVI03ifSm-uwxb-suua4A7RTsSAoxHc0FWgAs', 'width': 4032}], 'place_id': 'ChIJb8Jg9pZYwokR-qHGtvSkLzs', 'plus_code': {'compound_code': 'Q2HP+QP New York, NY, USA', 'global_code': '87G8Q2HP+QP'}, 'price_level': 3, 'rating': 4.8, 'reference': 'ChIJb8Jg9pZYwokR-qHGtvSkLzs', 'scope': 'GOOGLE', 'types': ['tourist_attraction', 'museum', 'point_of_interest', 'establishment'], 'user_ratings_total': 82350, 'vicinity': '1000 5th Avenue, New York'}, {'business_status': 'OPERATIONAL', 'geometry': {'location': {'lat': 40.78069639999999, 'lng': -73.9810172}, 'viewport': {'northeast': {'lat': 40.78205473029149, 'lng': -73.97981316970849}, 'southwest': {'lat': 40.77935676970849, 'lng': -73.98251113029151}}}, 'icon': 'https://maps.gstatic.com/mapfiles/place_api/icons/v1/png_71/lodging-71.png', 'icon_background_color': '#909CE1', 'icon_mask_base_uri': 'https://maps.gstatic.com/mapfiles/place_api/icons/v2/hotel_pinlet', 'name': 'Hotel Beacon', 'opening_hours': {'open_now': True}, 'photos': [{'height': 1362, 'html_attributions': ['<a href=\"https://maps.google.com/maps/contrib/112968695297841894512\">Hotel Beacon</a>'], 'photo_reference': 'AUGGfZnJyQEwu4SIn7EOIAWrPMNMKVzAvcdSTjlQIIaJwu8iRf_sJfceT5jnCPuc4z8gZI_ddnIzNlYDrbFHVkcXn9_08SYCgBvdc0kAoqvzfpgHRVliX4_ZRDWqSG98IZ3CyPFB_p2HqX0oxe7bA2kxkyz7kPKDezOUls_KSJTnMyMabTYW', 'width': 2048}], 'place_id': 'ChIJk_trlYlYwokR_-YnHRnfqYk', 'plus_code': {'compound_code': 'Q2J9+7H New York, NY, USA', 'global_code': '87G8Q2J9+7H'}, 'rating': 4.4, 'reference': 'ChIJk_trlYlYwokR_-YnHRnfqYk', 'scope': 'GOOGLE', 'types': ['lodging', 'point_of_interest', 'establishment'], 'user_ratings_total': 1137, 'vicinity': '2130 Broadway, New York'}, {'business_status': 'OPERATIONAL', 'geometry': {'location': {'lat': 40.7708283, 'lng': -73.9663593}, 'viewport': {'northeast': {'lat': 40.77213813029151, 'lng': -73.9649234197085}, 'southwest': {'lat': 40.76944016970851, 'lng': -73.9676213802915}}}, 'icon': 'https://maps.gstatic.com/mapfiles/place_api/icons/v1/png_71/restaurant-71.png', 'icon_background_color': '#FF9E67', 'icon_mask_base_uri': 'https://maps.gstatic.com/mapfiles/place_api/icons/v2/restaurant_pinlet', 'name': 'Ladurée', 'opening_hours': {'open_now': True}, 'photos': [{'height': 1632, 'html_attributions': ['<a href=\"https://maps.google.com/maps/contrib/111236379878863783633\">Ladurée</a>'], 'photo_reference': 'AUGGfZmlNBNigKUFW0UgYtCsVbnQ6dy-Y5vE9lSdCRfvOTxLQa9x0NRRfVUkUIEDHrMp3BIxBhIWl_JdcYdZg4AUzplbuA39zzsoPPuzvZqul0xtvtEYZuk_9P5r3wpsJkK17IDA_afjheqEwUjcgH0eqdPv4n5tNatREjKj3LTe3sZBLo5E', 'width': 2753}], 'place_id': 'ChIJSZqmkOxYwokRZGIhd_HRkKM', 'plus_code': {'compound_code': 'Q2CM+8F New York, NY, USA', 'global_code': '87G8Q2CM+8F'}, 'price_level': 3, 'rating': 4.4, 'reference': 'ChIJSZqmkOxYwokRZGIhd_HRkKM', 'scope': 'GOOGLE', 'types': ['bakery', 'store', 'point_of_interest', 'food', 'establishment'], 'user_ratings_total': 1405, 'vicinity': '864 Madison Avenue, New York'}, {'business_status': 'OPERATIONAL', 'geometry': {'location': {'lat': 40.7814802, 'lng': -73.9732193}, 'viewport': {'northeast': {'lat': 40.78303848029149, 'lng': -73.97173306970849}, 'southwest': {'lat': 40.7803405197085, 'lng': -73.97443103029151}}}, 'icon': 'https://maps.gstatic.com/mapfiles/place_api/icons/v1/png_71/school-71.png', 'icon_background_color': '#7B9EB0', 'icon_mask_base_uri': 'https://maps.gstatic.com/mapfiles/place_api/icons/v2/school_pinlet', 'name': 'Hayden Planetarium', 'opening_hours': {'open_now': True}, 'photos': [{'height': 3024, 'html_attributions': ['<a href=\"https://maps.google.com/maps/contrib/113819763514335349140\">Elvin J. Ramirez</a>'], 'photo_reference': 'AUGGfZkuOcTvLJlq6L3CgyJ9Ozi0rcFz3IG16gZMzDKkmJJytFXFptingFJ0YRSA6S4wIwo7kme1QOo9OlMHRMxRS3sJpYJiNX-4tJaDKbzBXv3a3WonUTIXS4NwIkAZYY6GlowzGHNKw3TpFwNWc794xPVhrriz0P50vBr5WzL51bQt9kLi', 'width': 4032}], 'place_id': 'ChIJ88ubVY5YwokR49M3a3PUQd8', 'plus_code': {'compound_code': 'Q2JG+HP New York, NY, USA', 'global_code': '87G8Q2JG+HP'}, 'rating': 4.6, 'reference': 'ChIJ88ubVY5YwokR49M3a3PUQd8', 'scope': 'GOOGLE', 'types': ['tourist_attraction', 'museum', 'point_of_interest', 'establishment'], 'user_ratings_total': 564, 'vicinity': '200 Central Park West, New York'}, {'geometry': {'location': {'lat': 40.7830603, 'lng': -73.9712488}, 'viewport': {'northeast': {'lat': 40.820045, 'lng': -73.90331300000001}, 'southwest': {'lat': 40.698078, 'lng': -74.03514899999999}}}, 'icon': 'https://maps.gstatic.com/mapfiles/place_api/icons/v1/png_71/geocode-71.png', 'icon_background_color': '#7B9EB0', 'icon_mask_base_uri': 'https://maps.gstatic.com/mapfiles/place_api/icons/v2/generic_pinlet', 'name': 'Manhattan', 'photos': [{'height': 927, 'html_attributions': ['<a href=\"https://maps.google.com/maps/contrib/101445904584406914545\">Hector Gomez Dovigo</a>'], 'photo_reference': 'AUGGfZmcr7tGTLl55O6JMrEzW2YpyFw4r8WERBsIrpnd6uv94v54cFpw5PYSt2kr40m1IdIVdSSEZlRTd276eWU03xN4kra3vzTpLGFNmjUrZiIb4MTZqxi-TqK5BXHERuGiEFxKbq8UQGQz1RYgUAeO5_ihN-W8r3kJMF9IAnVbJh9-TAaW', 'width': 928}], 'place_id': 'ChIJYeZuBI9YwokRjMDs_IEyCwo', 'reference': 'ChIJYeZuBI9YwokRjMDs_IEyCwo', 'scope': 'GOOGLE', 'types': ['sublocality_level_1', 'sublocality', 'political'], 'vicinity': 'Manhattan'}], 'status': 'OK'}\n"
     ]
    }
   ],
   "source": [
    "query_params = {\"location\": \"40.7789,-73.9692\",\n",
    "                \"radius\": \"15000\", \"key\": API_KEY}\n",
    "\n",
    "response = requests.get(API_URL, params=query_params)\n",
    "\n",
    "# Check if the request was successful\n",
    "if response.status_code == 200:\n",
    "    # Parse the JSON data from the response\n",
    "    data = response.json()\n",
    "    # Print or process the data as needed\n",
    "    print(data)\n",
    "else:\n",
    "    # Print the status code if the request failed\n",
    "    print(f'Failed to retrieve data: {response.status_code}')"
   ]
  },
  {
   "cell_type": "code",
   "execution_count": 17,
   "metadata": {},
   "outputs": [],
   "source": [
    "df = pd.DataFrame(data['results'])"
   ]
  },
  {
   "cell_type": "code",
   "execution_count": 18,
   "metadata": {},
   "outputs": [
    {
     "data": {
      "text/html": [
       "<div>\n",
       "<style scoped>\n",
       "    .dataframe tbody tr th:only-of-type {\n",
       "        vertical-align: middle;\n",
       "    }\n",
       "\n",
       "    .dataframe tbody tr th {\n",
       "        vertical-align: top;\n",
       "    }\n",
       "\n",
       "    .dataframe thead th {\n",
       "        text-align: right;\n",
       "    }\n",
       "</style>\n",
       "<table border=\"1\" class=\"dataframe\">\n",
       "  <thead>\n",
       "    <tr style=\"text-align: right;\">\n",
       "      <th></th>\n",
       "      <th>geometry</th>\n",
       "      <th>icon</th>\n",
       "      <th>icon_background_color</th>\n",
       "      <th>icon_mask_base_uri</th>\n",
       "      <th>name</th>\n",
       "      <th>photos</th>\n",
       "      <th>place_id</th>\n",
       "      <th>reference</th>\n",
       "      <th>scope</th>\n",
       "      <th>types</th>\n",
       "      <th>vicinity</th>\n",
       "      <th>business_status</th>\n",
       "      <th>opening_hours</th>\n",
       "      <th>plus_code</th>\n",
       "      <th>rating</th>\n",
       "      <th>user_ratings_total</th>\n",
       "      <th>permanently_closed</th>\n",
       "      <th>price_level</th>\n",
       "    </tr>\n",
       "  </thead>\n",
       "  <tbody>\n",
       "    <tr>\n",
       "      <th>0</th>\n",
       "      <td>{'location': {'lat': 40.7127753, 'lng': -74.00...</td>\n",
       "      <td>https://maps.gstatic.com/mapfiles/place_api/ic...</td>\n",
       "      <td>#7B9EB0</td>\n",
       "      <td>https://maps.gstatic.com/mapfiles/place_api/ic...</td>\n",
       "      <td>New York</td>\n",
       "      <td>[{'height': 1349, 'html_attributions': ['&lt;a hr...</td>\n",
       "      <td>ChIJOwg_06VPwokRYv534QaPC8g</td>\n",
       "      <td>ChIJOwg_06VPwokRYv534QaPC8g</td>\n",
       "      <td>GOOGLE</td>\n",
       "      <td>[locality, political]</td>\n",
       "      <td>New York</td>\n",
       "      <td>NaN</td>\n",
       "      <td>NaN</td>\n",
       "      <td>NaN</td>\n",
       "      <td>NaN</td>\n",
       "      <td>NaN</td>\n",
       "      <td>NaN</td>\n",
       "      <td>NaN</td>\n",
       "    </tr>\n",
       "    <tr>\n",
       "      <th>1</th>\n",
       "      <td>{'location': {'lat': 40.7752711, 'lng': -73.96...</td>\n",
       "      <td>https://maps.gstatic.com/mapfiles/place_api/ic...</td>\n",
       "      <td>#909CE1</td>\n",
       "      <td>https://maps.gstatic.com/mapfiles/place_api/ic...</td>\n",
       "      <td>The Mark Hotel</td>\n",
       "      <td>[{'height': 5250, 'html_attributions': ['&lt;a hr...</td>\n",
       "      <td>ChIJXYOiRJRYwokRm1i3c9R6WDA</td>\n",
       "      <td>ChIJXYOiRJRYwokRm1i3c9R6WDA</td>\n",
       "      <td>GOOGLE</td>\n",
       "      <td>[lodging, restaurant, point_of_interest, food,...</td>\n",
       "      <td>25 East 77th Street, New York</td>\n",
       "      <td>OPERATIONAL</td>\n",
       "      <td>{'open_now': True}</td>\n",
       "      <td>{'compound_code': 'Q2GP+4J New York, NY, USA',...</td>\n",
       "      <td>4.5</td>\n",
       "      <td>840.0</td>\n",
       "      <td>NaN</td>\n",
       "      <td>NaN</td>\n",
       "    </tr>\n",
       "    <tr>\n",
       "      <th>2</th>\n",
       "      <td>{'location': {'lat': 40.7744149, 'lng': -73.96...</td>\n",
       "      <td>https://maps.gstatic.com/mapfiles/place_api/ic...</td>\n",
       "      <td>#909CE1</td>\n",
       "      <td>https://maps.gstatic.com/mapfiles/place_api/ic...</td>\n",
       "      <td>The Surrey</td>\n",
       "      <td>[{'height': 2560, 'html_attributions': ['&lt;a hr...</td>\n",
       "      <td>ChIJCcAxi5RYwokRUyhXQvDUJsY</td>\n",
       "      <td>ChIJCcAxi5RYwokRUyhXQvDUJsY</td>\n",
       "      <td>GOOGLE</td>\n",
       "      <td>[lodging, point_of_interest, establishment]</td>\n",
       "      <td>20 East 76th Street, New York</td>\n",
       "      <td>OPERATIONAL</td>\n",
       "      <td>{'open_now': True}</td>\n",
       "      <td>{'compound_code': 'Q2FP+QC New York, NY, USA',...</td>\n",
       "      <td>4.3</td>\n",
       "      <td>304.0</td>\n",
       "      <td>NaN</td>\n",
       "      <td>NaN</td>\n",
       "    </tr>\n",
       "    <tr>\n",
       "      <th>3</th>\n",
       "      <td>{'location': {'lat': 40.774416, 'lng': -73.963...</td>\n",
       "      <td>https://maps.gstatic.com/mapfiles/place_api/ic...</td>\n",
       "      <td>#909CE1</td>\n",
       "      <td>https://maps.gstatic.com/mapfiles/place_api/ic...</td>\n",
       "      <td>The Carlyle, A Rosewood Hotel</td>\n",
       "      <td>[{'height': 1283, 'html_attributions': ['&lt;a hr...</td>\n",
       "      <td>ChIJEQ6D9pRYwokR5TXzH7ACo7I</td>\n",
       "      <td>ChIJEQ6D9pRYwokR5TXzH7ACo7I</td>\n",
       "      <td>GOOGLE</td>\n",
       "      <td>[lodging, point_of_interest, establishment]</td>\n",
       "      <td>35 East 76th Street, New York</td>\n",
       "      <td>OPERATIONAL</td>\n",
       "      <td>{'open_now': True}</td>\n",
       "      <td>{'compound_code': 'Q2FP+QP New York, NY, USA',...</td>\n",
       "      <td>4.5</td>\n",
       "      <td>1024.0</td>\n",
       "      <td>NaN</td>\n",
       "      <td>NaN</td>\n",
       "    </tr>\n",
       "    <tr>\n",
       "      <th>4</th>\n",
       "      <td>{'location': {'lat': 40.77617100000001, 'lng':...</td>\n",
       "      <td>https://maps.gstatic.com/mapfiles/place_api/ic...</td>\n",
       "      <td>#909CE1</td>\n",
       "      <td>https://maps.gstatic.com/mapfiles/place_api/ic...</td>\n",
       "      <td>La Quinta Inn &amp; Suites by Wyndham New York Cit...</td>\n",
       "      <td>[{'height': 1920, 'html_attributions': ['&lt;a hr...</td>\n",
       "      <td>ChIJE88lcYtYwokROrHaZcVRPCY</td>\n",
       "      <td>ChIJE88lcYtYwokROrHaZcVRPCY</td>\n",
       "      <td>GOOGLE</td>\n",
       "      <td>[lodging, point_of_interest, establishment]</td>\n",
       "      <td>31 West 71st Street, New York</td>\n",
       "      <td>OPERATIONAL</td>\n",
       "      <td>{'open_now': True}</td>\n",
       "      <td>{'compound_code': 'Q2GC+FW New York, NY, USA',...</td>\n",
       "      <td>3.4</td>\n",
       "      <td>1301.0</td>\n",
       "      <td>NaN</td>\n",
       "      <td>NaN</td>\n",
       "    </tr>\n",
       "  </tbody>\n",
       "</table>\n",
       "</div>"
      ],
      "text/plain": [
       "                                            geometry  \\\n",
       "0  {'location': {'lat': 40.7127753, 'lng': -74.00...   \n",
       "1  {'location': {'lat': 40.7752711, 'lng': -73.96...   \n",
       "2  {'location': {'lat': 40.7744149, 'lng': -73.96...   \n",
       "3  {'location': {'lat': 40.774416, 'lng': -73.963...   \n",
       "4  {'location': {'lat': 40.77617100000001, 'lng':...   \n",
       "\n",
       "                                                icon icon_background_color  \\\n",
       "0  https://maps.gstatic.com/mapfiles/place_api/ic...               #7B9EB0   \n",
       "1  https://maps.gstatic.com/mapfiles/place_api/ic...               #909CE1   \n",
       "2  https://maps.gstatic.com/mapfiles/place_api/ic...               #909CE1   \n",
       "3  https://maps.gstatic.com/mapfiles/place_api/ic...               #909CE1   \n",
       "4  https://maps.gstatic.com/mapfiles/place_api/ic...               #909CE1   \n",
       "\n",
       "                                  icon_mask_base_uri  \\\n",
       "0  https://maps.gstatic.com/mapfiles/place_api/ic...   \n",
       "1  https://maps.gstatic.com/mapfiles/place_api/ic...   \n",
       "2  https://maps.gstatic.com/mapfiles/place_api/ic...   \n",
       "3  https://maps.gstatic.com/mapfiles/place_api/ic...   \n",
       "4  https://maps.gstatic.com/mapfiles/place_api/ic...   \n",
       "\n",
       "                                                name  \\\n",
       "0                                           New York   \n",
       "1                                     The Mark Hotel   \n",
       "2                                         The Surrey   \n",
       "3                      The Carlyle, A Rosewood Hotel   \n",
       "4  La Quinta Inn & Suites by Wyndham New York Cit...   \n",
       "\n",
       "                                              photos  \\\n",
       "0  [{'height': 1349, 'html_attributions': ['<a hr...   \n",
       "1  [{'height': 5250, 'html_attributions': ['<a hr...   \n",
       "2  [{'height': 2560, 'html_attributions': ['<a hr...   \n",
       "3  [{'height': 1283, 'html_attributions': ['<a hr...   \n",
       "4  [{'height': 1920, 'html_attributions': ['<a hr...   \n",
       "\n",
       "                      place_id                    reference   scope  \\\n",
       "0  ChIJOwg_06VPwokRYv534QaPC8g  ChIJOwg_06VPwokRYv534QaPC8g  GOOGLE   \n",
       "1  ChIJXYOiRJRYwokRm1i3c9R6WDA  ChIJXYOiRJRYwokRm1i3c9R6WDA  GOOGLE   \n",
       "2  ChIJCcAxi5RYwokRUyhXQvDUJsY  ChIJCcAxi5RYwokRUyhXQvDUJsY  GOOGLE   \n",
       "3  ChIJEQ6D9pRYwokR5TXzH7ACo7I  ChIJEQ6D9pRYwokR5TXzH7ACo7I  GOOGLE   \n",
       "4  ChIJE88lcYtYwokROrHaZcVRPCY  ChIJE88lcYtYwokROrHaZcVRPCY  GOOGLE   \n",
       "\n",
       "                                               types  \\\n",
       "0                              [locality, political]   \n",
       "1  [lodging, restaurant, point_of_interest, food,...   \n",
       "2        [lodging, point_of_interest, establishment]   \n",
       "3        [lodging, point_of_interest, establishment]   \n",
       "4        [lodging, point_of_interest, establishment]   \n",
       "\n",
       "                        vicinity business_status       opening_hours  \\\n",
       "0                       New York             NaN                 NaN   \n",
       "1  25 East 77th Street, New York     OPERATIONAL  {'open_now': True}   \n",
       "2  20 East 76th Street, New York     OPERATIONAL  {'open_now': True}   \n",
       "3  35 East 76th Street, New York     OPERATIONAL  {'open_now': True}   \n",
       "4  31 West 71st Street, New York     OPERATIONAL  {'open_now': True}   \n",
       "\n",
       "                                           plus_code  rating  \\\n",
       "0                                                NaN     NaN   \n",
       "1  {'compound_code': 'Q2GP+4J New York, NY, USA',...     4.5   \n",
       "2  {'compound_code': 'Q2FP+QC New York, NY, USA',...     4.3   \n",
       "3  {'compound_code': 'Q2FP+QP New York, NY, USA',...     4.5   \n",
       "4  {'compound_code': 'Q2GC+FW New York, NY, USA',...     3.4   \n",
       "\n",
       "   user_ratings_total permanently_closed  price_level  \n",
       "0                 NaN                NaN          NaN  \n",
       "1               840.0                NaN          NaN  \n",
       "2               304.0                NaN          NaN  \n",
       "3              1024.0                NaN          NaN  \n",
       "4              1301.0                NaN          NaN  "
      ]
     },
     "execution_count": 18,
     "metadata": {},
     "output_type": "execute_result"
    }
   ],
   "source": [
    "df.head()"
   ]
  },
  {
   "cell_type": "code",
   "execution_count": 19,
   "metadata": {},
   "outputs": [
    {
     "name": "stdout",
     "output_type": "stream",
     "text": [
      "[[{'height': 1349, 'html_attributions': ['<a href=\"https://maps.google.com/maps/contrib/110349025836868915119\">Taylor Mazhendo</a>'], 'photo_reference': 'AUGGfZmoVpel_hApWUQtCHvyjUx_ip4v1eMQgLt4g7Hh-WbcuhU4Ts9K6BKY5qAN-0piivLr_--vbZ_nfk6HTFjpQbFT91me_GH3OOYItg9P_s01pM6uBo3ya-rJxbiT6oRSsLv-jHaXSyD7GbzWXxGwlNo4v97EIWUz4QlMDqMcSglkL_En', 'width': 1080}]]\n"
     ]
    }
   ],
   "source": [
    "print([df['photos'][0]])"
   ]
  },
  {
   "cell_type": "code",
   "execution_count": 20,
   "metadata": {},
   "outputs": [
    {
     "name": "stdout",
     "output_type": "stream",
     "text": [
      "https://maps.gstatic.com/mapfiles/place_api/icons/v2/hotel_pinlet\n"
     ]
    }
   ],
   "source": [
    "print(df['icon_mask_base_uri'][1])"
   ]
  },
  {
   "cell_type": "code",
   "execution_count": 21,
   "metadata": {},
   "outputs": [
    {
     "data": {
      "text/plain": [
       "opening_hours\n",
       "{'open_now': True}     0.75\n",
       "NaN                    0.15\n",
       "{'open_now': False}    0.10\n",
       "Name: proportion, dtype: float64"
      ]
     },
     "execution_count": 21,
     "metadata": {},
     "output_type": "execute_result"
    }
   ],
   "source": [
    "df['opening_hours'].value_counts(normalize=True, dropna=False)"
   ]
  },
  {
   "cell_type": "code",
   "execution_count": 22,
   "metadata": {},
   "outputs": [
    {
     "data": {
      "text/plain": [
       "(20, 18)"
      ]
     },
     "execution_count": 22,
     "metadata": {},
     "output_type": "execute_result"
    }
   ],
   "source": [
    "df.shape"
   ]
  }
 ],
 "metadata": {
  "kernelspec": {
   "display_name": "comp47360",
   "language": "python",
   "name": "python3"
  },
  "language_info": {
   "codemirror_mode": {
    "name": "ipython",
    "version": 3
   },
   "file_extension": ".py",
   "mimetype": "text/x-python",
   "name": "python",
   "nbconvert_exporter": "python",
   "pygments_lexer": "ipython3",
   "version": "3.11.9"
  }
 },
 "nbformat": 4,
 "nbformat_minor": 2
}
