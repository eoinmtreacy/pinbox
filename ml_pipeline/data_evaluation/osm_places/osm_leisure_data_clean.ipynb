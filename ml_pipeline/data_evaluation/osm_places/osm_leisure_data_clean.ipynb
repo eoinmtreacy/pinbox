{
 "cells": [
  {
   "cell_type": "code",
   "execution_count": 1,
   "metadata": {},
   "outputs": [],
   "source": [
    "import pandas as pd\n",
    "import matplotlib.pyplot as plt\n",
    "import os\n",
    "import sys\n",
    "import numpy as np"
   ]
  },
  {
   "cell_type": "code",
   "execution_count": 2,
   "metadata": {},
   "outputs": [],
   "source": [
    "df = pd.read_csv('osm_places_leisure.csv')\n",
    "\n",
    "threshold = int(0.03* df.shape[0])\n",
    "df = df.dropna(axis=1, thresh=threshold)"
   ]
  },
  {
   "cell_type": "code",
   "execution_count": 3,
   "metadata": {},
   "outputs": [
    {
     "data": {
      "text/plain": [
       "Index(['id', 'lat', 'lon', 'ele', 'gnis:feature_id', 'leisure', 'name',\n",
       "       'wikidata', 'addr:city', 'addr:postcode', 'addr:state', 'operator',\n",
       "       'opening_hours', 'website', 'addr:street', 'addr:housenumber',\n",
       "       'dance:teaching', 'amenity', 'drink:beer', 'phone', 'toilets',\n",
       "       'wheelchair', 'tourism', 'cuisine', 'email', 'access', 'garden:type'],\n",
       "      dtype='object')"
      ]
     },
     "execution_count": 3,
     "metadata": {},
     "output_type": "execute_result"
    }
   ],
   "source": [
    "df.columns"
   ]
  },
  {
   "cell_type": "code",
   "execution_count": 4,
   "metadata": {},
   "outputs": [],
   "source": [
    "pd.set_option('display.max_columns', None)\n",
    "pd.set_option('display.max_rows', None)"
   ]
  },
  {
   "cell_type": "code",
   "execution_count": 8,
   "metadata": {},
   "outputs": [],
   "source": [
    "df = df[['id', 'lat', 'lon', 'leisure', 'name',\n",
    "       'addr:city', 'addr:postcode', 'addr:state',\n",
    "       'opening_hours', 'website', 'addr:street', 'addr:housenumber',\n",
    "       'phone', \n",
    "       'wheelchair', 'email', 'access']]"
   ]
  },
  {
   "cell_type": "code",
   "execution_count": 11,
   "metadata": {},
   "outputs": [],
   "source": [
    "# Drop rows with missing name\n",
    "df.drop(df[df['name'].isna()].index, inplace=True)"
   ]
  },
  {
   "cell_type": "code",
   "execution_count": 14,
   "metadata": {},
   "outputs": [],
   "source": [
    "# Drop private access places and drop feature\n",
    "df.drop(df[df['access']=='private'].index, inplace=True)\n",
    "df.drop('access', axis=1, inplace=True)"
   ]
  },
  {
   "cell_type": "code",
   "execution_count": 17,
   "metadata": {},
   "outputs": [],
   "source": [
    "# Change NaN values in wheelchair feature to no\n",
    "df.fillna({'wheelchair':'no'}, inplace=True)"
   ]
  },
  {
   "cell_type": "code",
   "execution_count": 15,
   "metadata": {},
   "outputs": [
    {
     "data": {
      "text/plain": [
       "Index(['id', 'lat', 'lon', 'leisure', 'name', 'addr:city', 'addr:postcode',\n",
       "       'addr:state', 'opening_hours', 'website', 'addr:street',\n",
       "       'addr:housenumber', 'phone', 'wheelchair', 'email'],\n",
       "      dtype='object')"
      ]
     },
     "execution_count": 15,
     "metadata": {},
     "output_type": "execute_result"
    }
   ],
   "source": [
    "df.columns"
   ]
  },
  {
   "cell_type": "code",
   "execution_count": 18,
   "metadata": {},
   "outputs": [
    {
     "data": {
      "text/html": [
       "<div>\n",
       "<style scoped>\n",
       "    .dataframe tbody tr th:only-of-type {\n",
       "        vertical-align: middle;\n",
       "    }\n",
       "\n",
       "    .dataframe tbody tr th {\n",
       "        vertical-align: top;\n",
       "    }\n",
       "\n",
       "    .dataframe thead th {\n",
       "        text-align: right;\n",
       "    }\n",
       "</style>\n",
       "<table border=\"1\" class=\"dataframe\">\n",
       "  <thead>\n",
       "    <tr style=\"text-align: right;\">\n",
       "      <th></th>\n",
       "      <th>id</th>\n",
       "      <th>lat</th>\n",
       "      <th>lon</th>\n",
       "      <th>leisure</th>\n",
       "      <th>name</th>\n",
       "      <th>addr:city</th>\n",
       "      <th>addr:postcode</th>\n",
       "      <th>addr:state</th>\n",
       "      <th>opening_hours</th>\n",
       "      <th>website</th>\n",
       "      <th>addr:street</th>\n",
       "      <th>addr:housenumber</th>\n",
       "      <th>phone</th>\n",
       "      <th>wheelchair</th>\n",
       "      <th>email</th>\n",
       "    </tr>\n",
       "  </thead>\n",
       "  <tbody>\n",
       "    <tr>\n",
       "      <th>0</th>\n",
       "      <td>357545993</td>\n",
       "      <td>40.873155</td>\n",
       "      <td>-73.914025</td>\n",
       "      <td>park</td>\n",
       "      <td>Baker Field</td>\n",
       "      <td>NaN</td>\n",
       "      <td>NaN</td>\n",
       "      <td>NaN</td>\n",
       "      <td>NaN</td>\n",
       "      <td>NaN</td>\n",
       "      <td>NaN</td>\n",
       "      <td>NaN</td>\n",
       "      <td>NaN</td>\n",
       "      <td>no</td>\n",
       "      <td>NaN</td>\n",
       "    </tr>\n",
       "    <tr>\n",
       "      <th>1</th>\n",
       "      <td>357562455</td>\n",
       "      <td>40.548161</td>\n",
       "      <td>-74.126253</td>\n",
       "      <td>park</td>\n",
       "      <td>Great Kills Park</td>\n",
       "      <td>NaN</td>\n",
       "      <td>NaN</td>\n",
       "      <td>NaN</td>\n",
       "      <td>NaN</td>\n",
       "      <td>NaN</td>\n",
       "      <td>NaN</td>\n",
       "      <td>NaN</td>\n",
       "      <td>NaN</td>\n",
       "      <td>no</td>\n",
       "      <td>NaN</td>\n",
       "    </tr>\n",
       "    <tr>\n",
       "      <th>2</th>\n",
       "      <td>357570943</td>\n",
       "      <td>40.705658</td>\n",
       "      <td>-73.936249</td>\n",
       "      <td>park</td>\n",
       "      <td>Ramirez Playground</td>\n",
       "      <td>NaN</td>\n",
       "      <td>NaN</td>\n",
       "      <td>NaN</td>\n",
       "      <td>NaN</td>\n",
       "      <td>NaN</td>\n",
       "      <td>NaN</td>\n",
       "      <td>NaN</td>\n",
       "      <td>NaN</td>\n",
       "      <td>no</td>\n",
       "      <td>NaN</td>\n",
       "    </tr>\n",
       "    <tr>\n",
       "      <th>3</th>\n",
       "      <td>357573219</td>\n",
       "      <td>40.596493</td>\n",
       "      <td>-74.171532</td>\n",
       "      <td>park</td>\n",
       "      <td>New Springville Park</td>\n",
       "      <td>NaN</td>\n",
       "      <td>NaN</td>\n",
       "      <td>NaN</td>\n",
       "      <td>NaN</td>\n",
       "      <td>NaN</td>\n",
       "      <td>NaN</td>\n",
       "      <td>NaN</td>\n",
       "      <td>NaN</td>\n",
       "      <td>no</td>\n",
       "      <td>NaN</td>\n",
       "    </tr>\n",
       "    <tr>\n",
       "      <th>4</th>\n",
       "      <td>357594521</td>\n",
       "      <td>40.701492</td>\n",
       "      <td>-73.852913</td>\n",
       "      <td>park</td>\n",
       "      <td>Victory Field</td>\n",
       "      <td>NaN</td>\n",
       "      <td>NaN</td>\n",
       "      <td>NaN</td>\n",
       "      <td>NaN</td>\n",
       "      <td>NaN</td>\n",
       "      <td>NaN</td>\n",
       "      <td>NaN</td>\n",
       "      <td>NaN</td>\n",
       "      <td>no</td>\n",
       "      <td>NaN</td>\n",
       "    </tr>\n",
       "  </tbody>\n",
       "</table>\n",
       "</div>"
      ],
      "text/plain": [
       "          id        lat        lon leisure                  name addr:city  \\\n",
       "0  357545993  40.873155 -73.914025    park           Baker Field       NaN   \n",
       "1  357562455  40.548161 -74.126253    park      Great Kills Park       NaN   \n",
       "2  357570943  40.705658 -73.936249    park    Ramirez Playground       NaN   \n",
       "3  357573219  40.596493 -74.171532    park  New Springville Park       NaN   \n",
       "4  357594521  40.701492 -73.852913    park         Victory Field       NaN   \n",
       "\n",
       "   addr:postcode addr:state opening_hours website addr:street  \\\n",
       "0            NaN        NaN           NaN     NaN         NaN   \n",
       "1            NaN        NaN           NaN     NaN         NaN   \n",
       "2            NaN        NaN           NaN     NaN         NaN   \n",
       "3            NaN        NaN           NaN     NaN         NaN   \n",
       "4            NaN        NaN           NaN     NaN         NaN   \n",
       "\n",
       "  addr:housenumber phone wheelchair email  \n",
       "0              NaN   NaN         no   NaN  \n",
       "1              NaN   NaN         no   NaN  \n",
       "2              NaN   NaN         no   NaN  \n",
       "3              NaN   NaN         no   NaN  \n",
       "4              NaN   NaN         no   NaN  "
      ]
     },
     "execution_count": 18,
     "metadata": {},
     "output_type": "execute_result"
    }
   ],
   "source": [
    "df.head()"
   ]
  },
  {
   "cell_type": "code",
   "execution_count": 19,
   "metadata": {},
   "outputs": [],
   "source": [
    "df.to_csv(\"osm_places_leisure_cleaned.csv\", index=False)"
   ]
  }
 ],
 "metadata": {
  "kernelspec": {
   "display_name": "COMP47360",
   "language": "python",
   "name": "python3"
  },
  "language_info": {
   "codemirror_mode": {
    "name": "ipython",
    "version": 3
   },
   "file_extension": ".py",
   "mimetype": "text/x-python",
   "name": "python",
   "nbconvert_exporter": "python",
   "pygments_lexer": "ipython3",
   "version": "3.12.3"
  }
 },
 "nbformat": 4,
 "nbformat_minor": 2
}
