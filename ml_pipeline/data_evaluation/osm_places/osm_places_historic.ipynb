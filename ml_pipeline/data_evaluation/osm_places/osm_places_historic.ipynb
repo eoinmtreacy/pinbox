{
 "cells": [
  {
   "cell_type": "markdown",
   "metadata": {},
   "source": [
    "This notebook pulls all historic sites from NYC on openstreetmaps"
   ]
  },
  {
   "cell_type": "code",
   "execution_count": 1,
   "metadata": {},
   "outputs": [],
   "source": [
    "from dotenv import load_dotenv\n",
    "import requests\n",
    "import os\n",
    "import pandas as pd\n",
    "import overpy"
   ]
  },
  {
   "cell_type": "code",
   "execution_count": 2,
   "metadata": {},
   "outputs": [],
   "source": [
    "api = overpy.Overpass()"
   ]
  },
  {
   "cell_type": "code",
   "execution_count": 11,
   "metadata": {},
   "outputs": [],
   "source": [
    "query = \"\"\"\n",
    "[out:json];\n",
    "area[name=\"New York\"]->.searchArea;\n",
    "(\n",
    "  node[historic](area.searchArea);\n",
    "\n",
    ");\n",
    "out center;\n",
    "\"\"\""
   ]
  },
  {
   "cell_type": "code",
   "execution_count": 12,
   "metadata": {},
   "outputs": [],
   "source": [
    "result = api.query(query)"
   ]
  },
  {
   "cell_type": "code",
   "execution_count": 13,
   "metadata": {},
   "outputs": [
    {
     "name": "stdout",
     "output_type": "stream",
     "text": [
      "__annotations__\n",
      "__class__\n",
      "__delattr__\n",
      "__dict__\n",
      "__dir__\n",
      "__doc__\n",
      "__eq__\n",
      "__format__\n",
      "__ge__\n",
      "__getattribute__\n",
      "__getstate__\n",
      "__gt__\n",
      "__hash__\n",
      "__init__\n",
      "__init_subclass__\n",
      "__le__\n",
      "__lt__\n",
      "__module__\n",
      "__ne__\n",
      "__new__\n",
      "__reduce__\n",
      "__reduce_ex__\n",
      "__repr__\n",
      "__setattr__\n",
      "__sizeof__\n",
      "__str__\n",
      "__subclasshook__\n",
      "__weakref__\n",
      "_result\n",
      "_type_value\n",
      "attributes\n",
      "from_json\n",
      "from_xml\n",
      "get_center_from_json\n",
      "get_center_from_xml_dom\n",
      "id\n",
      "lat\n",
      "lon\n",
      "tags\n"
     ]
    }
   ],
   "source": [
    "for p in dir(result.nodes[0]):\n",
    "    print(p)"
   ]
  },
  {
   "cell_type": "code",
   "execution_count": 14,
   "metadata": {},
   "outputs": [],
   "source": [
    "fnode = result.nodes[0]"
   ]
  },
  {
   "cell_type": "code",
   "execution_count": 15,
   "metadata": {},
   "outputs": [
    {
     "name": "stdout",
     "output_type": "stream",
     "text": [
      "{'highway', 'historic'}\n"
     ]
    }
   ],
   "source": [
    "print(set(result.nodes[0].tags.keys()))"
   ]
  },
  {
   "cell_type": "code",
   "execution_count": 16,
   "metadata": {},
   "outputs": [
    {
     "name": "stdout",
     "output_type": "stream",
     "text": [
      "2629\n"
     ]
    }
   ],
   "source": [
    "print(len(result.nodes))"
   ]
  },
  {
   "cell_type": "code",
   "execution_count": 18,
   "metadata": {},
   "outputs": [],
   "source": [
    "rows = []\n",
    "for node in result.nodes:\n",
    "    row = {\"id\": node.id,\n",
    "           \"lat\": node.lat.to_eng_string(),\n",
    "           \"lon\": node.lon.to_eng_string()} | node.tags\n",
    "    rows.append(row)\n"
   ]
  },
  {
   "cell_type": "code",
   "execution_count": 19,
   "metadata": {},
   "outputs": [],
   "source": [
    "df = pd.DataFrame(rows)"
   ]
  },
  {
   "cell_type": "code",
   "execution_count": 20,
   "metadata": {},
   "outputs": [
    {
     "data": {
      "text/html": [
       "<div>\n",
       "<style scoped>\n",
       "    .dataframe tbody tr th:only-of-type {\n",
       "        vertical-align: middle;\n",
       "    }\n",
       "\n",
       "    .dataframe tbody tr th {\n",
       "        vertical-align: top;\n",
       "    }\n",
       "\n",
       "    .dataframe thead th {\n",
       "        text-align: right;\n",
       "    }\n",
       "</style>\n",
       "<table border=\"1\" class=\"dataframe\">\n",
       "  <thead>\n",
       "    <tr style=\"text-align: right;\">\n",
       "      <th></th>\n",
       "      <th>id</th>\n",
       "      <th>lat</th>\n",
       "      <th>lon</th>\n",
       "      <th>highway</th>\n",
       "      <th>historic</th>\n",
       "      <th>ref</th>\n",
       "      <th>ele</th>\n",
       "      <th>name</th>\n",
       "      <th>tourism</th>\n",
       "      <th>abandoned</th>\n",
       "      <th>...</th>\n",
       "      <th>operator:type</th>\n",
       "      <th>inscription_1</th>\n",
       "      <th>museum</th>\n",
       "      <th>seats</th>\n",
       "      <th>resource</th>\n",
       "      <th>image:0</th>\n",
       "      <th>noname</th>\n",
       "      <th>source:url</th>\n",
       "      <th>covered</th>\n",
       "      <th>flickr</th>\n",
       "    </tr>\n",
       "  </thead>\n",
       "  <tbody>\n",
       "    <tr>\n",
       "      <th>0</th>\n",
       "      <td>42435844</td>\n",
       "      <td>40.8165065</td>\n",
       "      <td>-73.9465427</td>\n",
       "      <td>traffic_signals</td>\n",
       "      <td>yes</td>\n",
       "      <td>NaN</td>\n",
       "      <td>NaN</td>\n",
       "      <td>NaN</td>\n",
       "      <td>NaN</td>\n",
       "      <td>NaN</td>\n",
       "      <td>...</td>\n",
       "      <td>NaN</td>\n",
       "      <td>NaN</td>\n",
       "      <td>NaN</td>\n",
       "      <td>NaN</td>\n",
       "      <td>NaN</td>\n",
       "      <td>NaN</td>\n",
       "      <td>NaN</td>\n",
       "      <td>NaN</td>\n",
       "      <td>NaN</td>\n",
       "      <td>NaN</td>\n",
       "    </tr>\n",
       "    <tr>\n",
       "      <th>1</th>\n",
       "      <td>60645024</td>\n",
       "      <td>41.3909515</td>\n",
       "      <td>-73.5976769</td>\n",
       "      <td>motorway_junction</td>\n",
       "      <td>motorway_junction</td>\n",
       "      <td>9W</td>\n",
       "      <td>NaN</td>\n",
       "      <td>NaN</td>\n",
       "      <td>NaN</td>\n",
       "      <td>NaN</td>\n",
       "      <td>...</td>\n",
       "      <td>NaN</td>\n",
       "      <td>NaN</td>\n",
       "      <td>NaN</td>\n",
       "      <td>NaN</td>\n",
       "      <td>NaN</td>\n",
       "      <td>NaN</td>\n",
       "      <td>NaN</td>\n",
       "      <td>NaN</td>\n",
       "      <td>NaN</td>\n",
       "      <td>NaN</td>\n",
       "    </tr>\n",
       "    <tr>\n",
       "      <th>2</th>\n",
       "      <td>75387391</td>\n",
       "      <td>41.9983419</td>\n",
       "      <td>-79.5109256</td>\n",
       "      <td>NaN</td>\n",
       "      <td>boundary_stone</td>\n",
       "      <td>212</td>\n",
       "      <td>NaN</td>\n",
       "      <td>NaN</td>\n",
       "      <td>NaN</td>\n",
       "      <td>NaN</td>\n",
       "      <td>...</td>\n",
       "      <td>NaN</td>\n",
       "      <td>NaN</td>\n",
       "      <td>NaN</td>\n",
       "      <td>NaN</td>\n",
       "      <td>NaN</td>\n",
       "      <td>NaN</td>\n",
       "      <td>NaN</td>\n",
       "      <td>NaN</td>\n",
       "      <td>NaN</td>\n",
       "      <td>NaN</td>\n",
       "    </tr>\n",
       "    <tr>\n",
       "      <th>3</th>\n",
       "      <td>75387393</td>\n",
       "      <td>41.9984091</td>\n",
       "      <td>-79.4913463</td>\n",
       "      <td>NaN</td>\n",
       "      <td>boundary_stone</td>\n",
       "      <td>211</td>\n",
       "      <td>NaN</td>\n",
       "      <td>NaN</td>\n",
       "      <td>NaN</td>\n",
       "      <td>NaN</td>\n",
       "      <td>...</td>\n",
       "      <td>NaN</td>\n",
       "      <td>NaN</td>\n",
       "      <td>NaN</td>\n",
       "      <td>NaN</td>\n",
       "      <td>NaN</td>\n",
       "      <td>NaN</td>\n",
       "      <td>NaN</td>\n",
       "      <td>NaN</td>\n",
       "      <td>NaN</td>\n",
       "      <td>NaN</td>\n",
       "    </tr>\n",
       "    <tr>\n",
       "      <th>4</th>\n",
       "      <td>75387399</td>\n",
       "      <td>41.9985819</td>\n",
       "      <td>-79.3940195</td>\n",
       "      <td>NaN</td>\n",
       "      <td>boundary_stone</td>\n",
       "      <td>206</td>\n",
       "      <td>NaN</td>\n",
       "      <td>NaN</td>\n",
       "      <td>NaN</td>\n",
       "      <td>NaN</td>\n",
       "      <td>...</td>\n",
       "      <td>NaN</td>\n",
       "      <td>NaN</td>\n",
       "      <td>NaN</td>\n",
       "      <td>NaN</td>\n",
       "      <td>NaN</td>\n",
       "      <td>NaN</td>\n",
       "      <td>NaN</td>\n",
       "      <td>NaN</td>\n",
       "      <td>NaN</td>\n",
       "      <td>NaN</td>\n",
       "    </tr>\n",
       "  </tbody>\n",
       "</table>\n",
       "<p>5 rows × 218 columns</p>\n",
       "</div>"
      ],
      "text/plain": [
       "         id         lat          lon            highway           historic  \\\n",
       "0  42435844  40.8165065  -73.9465427    traffic_signals                yes   \n",
       "1  60645024  41.3909515  -73.5976769  motorway_junction  motorway_junction   \n",
       "2  75387391  41.9983419  -79.5109256                NaN     boundary_stone   \n",
       "3  75387393  41.9984091  -79.4913463                NaN     boundary_stone   \n",
       "4  75387399  41.9985819  -79.3940195                NaN     boundary_stone   \n",
       "\n",
       "   ref  ele name tourism abandoned  ... operator:type inscription_1 museum  \\\n",
       "0  NaN  NaN  NaN     NaN       NaN  ...           NaN           NaN    NaN   \n",
       "1   9W  NaN  NaN     NaN       NaN  ...           NaN           NaN    NaN   \n",
       "2  212  NaN  NaN     NaN       NaN  ...           NaN           NaN    NaN   \n",
       "3  211  NaN  NaN     NaN       NaN  ...           NaN           NaN    NaN   \n",
       "4  206  NaN  NaN     NaN       NaN  ...           NaN           NaN    NaN   \n",
       "\n",
       "  seats resource image:0 noname source:url covered flickr  \n",
       "0   NaN      NaN     NaN    NaN        NaN     NaN    NaN  \n",
       "1   NaN      NaN     NaN    NaN        NaN     NaN    NaN  \n",
       "2   NaN      NaN     NaN    NaN        NaN     NaN    NaN  \n",
       "3   NaN      NaN     NaN    NaN        NaN     NaN    NaN  \n",
       "4   NaN      NaN     NaN    NaN        NaN     NaN    NaN  \n",
       "\n",
       "[5 rows x 218 columns]"
      ]
     },
     "execution_count": 20,
     "metadata": {},
     "output_type": "execute_result"
    }
   ],
   "source": [
    "df.head()"
   ]
  },
  {
   "cell_type": "code",
   "execution_count": 21,
   "metadata": {},
   "outputs": [
    {
     "name": "stdout",
     "output_type": "stream",
     "text": [
      "['id' 'lat' 'lon' 'highway' 'historic' 'ref' 'ele' 'name' 'tourism'\n",
      " 'abandoned' 'abandoned:place' 'gnis:feature_id' 'place' 'wikidata'\n",
      " 'wikipedia' 'ref:nrhp' 'start_date' 'artist_name' 'material' 'memorial'\n",
      " 'source' 'addr:city' 'addr:state' 'website' 'leisure' 'addr:housenumber'\n",
      " 'addr:street' 'note' 'amenity' 'cemetery' 'tomb' 'building' 'old_name'\n",
      " 'heritage' 'heritage:operator' 'heritage:website' 'nrhp:criteria'\n",
      " 'nrhp:inscription_date' 'source_ref' 'addr:postcode' 'end_date'\n",
      " 'religion' 'official_name' 'description' 'inscription' 'architect'\n",
      " 'artwork_type' 'website:alternate' 'opening_hours' 'air_conditioning'\n",
      " 'image' 'level' 'operator' 'phone' 'maintainer' 'man_made'\n",
      " 'seamark:light:character' 'seamark:light:colour' 'seamark:light:height'\n",
      " 'seamark:light:period' 'seamark:type' 'landuse' 'aeroway' 'alt_name'\n",
      " 'artist:wikidata' 'artist:wikipedia' 'name:en' 'name:ja' 'name:ru'\n",
      " 'subject:wikidata' 'subject:wikipedia' 'height' 'railway:historic'\n",
      " 'wheelchair' 'wikimedia_commons' 'closed' 'disused' 'network' 'sport'\n",
      " 'verified' 'historic:civilization' 'url' 'natural' 'access' 'tower:type'\n",
      " 'addr:flats' 'nysgissam:nysaddresspointid'\n",
      " 'nysgissam:nysaddresspointid:1' 'nysgissam:nysaddresspointid:2'\n",
      " 'nysgissam:nysaddresspointid:3' 'waterway' 'format' 'name:fr'\n",
      " 'designation' 'memorial:type' 'fixme' 'loc_name' 'barrier'\n",
      " 'artwork_subject' 'addr:housename' 'abandoned:railway' 'addr:country'\n",
      " 'place_name' 'buried:wikidata' 'buried:wikipedia' 'addr:unit' 'cmt'\n",
      " 'hdop' 'sat' 'time' 'sculptor' 'subject' 'abandoned:amenity'\n",
      " 'disused:railway' 'openplaques:id' 'old_railway_operator' 'route_ref'\n",
      " 'statue' 'ref:nhrp' 'disused:amenity' 'direction'\n",
      " 'seamark:wreck:category' 'attribution' 'architect:wikidata' 'width'\n",
      " 'seamark:beacon_lateral:category' 'seamark:beacon_lateral:colour'\n",
      " 'seamark:beacon_lateral:shape' 'seamark:daymark:colour'\n",
      " 'seamark:daymark:colour_pattern' 'seamark:daymark:shape'\n",
      " 'seamark:light:exhibition' 'seamark:light:range' 'seamark:name'\n",
      " 'seamark:reference' 'seamark:status' 'colour' 'min_height'\n",
      " 'description:de' 'grave' 'name:hr' 'year' 'mineral' 'format:top'\n",
      " 'aircraft:type' 'support' 'comment' 'date' 'name:zh' 'attraction'\n",
      " 'check_date' 'display' 'alt_name1' 'alt_name2' 'tree:ref'\n",
      " 'disused:man_made' 'demolished:building' 'archaeological_site'\n",
      " 'building:condition' 'contact:facebook' 'contact:instagram'\n",
      " 'contact:twitter' 'email' 'building:levels' 'ruins:building'\n",
      " 'year_of_construction' 'abandoned:building' 'type' 'power' 'historic_1'\n",
      " 'alt_name3' 'information' 'capacity:disabled' 'fee' 'parking' 'location'\n",
      " 'monument' 'facebook' 'protection_title' 'tower:construction' 'name:es'\n",
      " 'inscription:url' 'ref:start_date' 'denomination' 'layer' 'model' 'lit'\n",
      " 'ruins' 'building:material' 'castle_type' 'ref:hmdb' 'war_memorial'\n",
      " 'artist' 'inscription1' 'wreck:visible_at_high_tide'\n",
      " 'wreck:visible_at_low_tide' 'old_name:1916-1942' 'country' 'flag:name'\n",
      " 'flag:type' 'flag:wikidata' 'defensive_works' 'ohm:name' 'name:etymology'\n",
      " 'name:etymology:wikidata' 'backrest' 'nrhp:nhl' 'garden:type'\n",
      " 'operator:type' 'inscription_1' 'museum' 'seats' 'resource' 'image:0'\n",
      " 'noname' 'source:url' 'covered' 'flickr']\n"
     ]
    }
   ],
   "source": [
    "print(df.columns.values)"
   ]
  },
  {
   "cell_type": "code",
   "execution_count": 22,
   "metadata": {},
   "outputs": [],
   "source": [
    "object_columns = df.select_dtypes(['object']).columns"
   ]
  },
  {
   "cell_type": "code",
   "execution_count": 24,
   "metadata": {},
   "outputs": [
    {
     "name": "stdout",
     "output_type": "stream",
     "text": [
      "Number of duplicate rows: 0\n"
     ]
    }
   ],
   "source": [
    "# Find duplicate rows\n",
    "print(\"Number of duplicate rows:\", df[df.duplicated()==True].shape[0])"
   ]
  },
  {
   "cell_type": "code",
   "execution_count": 25,
   "metadata": {},
   "outputs": [
    {
     "name": "stdout",
     "output_type": "stream",
     "text": [
      "(2629, 218)\n"
     ]
    }
   ],
   "source": [
    "print(df.shape)"
   ]
  },
  {
   "cell_type": "code",
   "execution_count": 26,
   "metadata": {},
   "outputs": [],
   "source": [
    "threshold = int(len(df)*0.01)\n",
    "df_cleaned = df.dropna(axis=1, thresh=threshold)"
   ]
  },
  {
   "cell_type": "code",
   "execution_count": 27,
   "metadata": {},
   "outputs": [
    {
     "data": {
      "text/plain": [
       "(2629, 36)"
      ]
     },
     "execution_count": 27,
     "metadata": {},
     "output_type": "execute_result"
    }
   ],
   "source": [
    "df_cleaned.shape"
   ]
  },
  {
   "cell_type": "code",
   "execution_count": 29,
   "metadata": {},
   "outputs": [],
   "source": [
    "df_cleaned.to_csv(\"osm_places_historic.csv\")"
   ]
  },
  {
   "cell_type": "code",
   "execution_count": 30,
   "metadata": {},
   "outputs": [],
   "source": [
    "nullrows = df.isna().sum()"
   ]
  },
  {
   "cell_type": "code",
   "execution_count": 32,
   "metadata": {},
   "outputs": [
    {
     "data": {
      "text/html": [
       "<div>\n",
       "<style scoped>\n",
       "    .dataframe tbody tr th:only-of-type {\n",
       "        vertical-align: middle;\n",
       "    }\n",
       "\n",
       "    .dataframe tbody tr th {\n",
       "        vertical-align: top;\n",
       "    }\n",
       "\n",
       "    .dataframe thead th {\n",
       "        text-align: right;\n",
       "    }\n",
       "</style>\n",
       "<table border=\"1\" class=\"dataframe\">\n",
       "  <thead>\n",
       "    <tr style=\"text-align: right;\">\n",
       "      <th></th>\n",
       "      <th>count</th>\n",
       "      <th>mean</th>\n",
       "      <th>std</th>\n",
       "      <th>min</th>\n",
       "      <th>25%</th>\n",
       "      <th>50%</th>\n",
       "      <th>75%</th>\n",
       "      <th>max</th>\n",
       "    </tr>\n",
       "  </thead>\n",
       "  <tbody>\n",
       "    <tr>\n",
       "      <th>id</th>\n",
       "      <td>2629.0</td>\n",
       "      <td>6.158944e+09</td>\n",
       "      <td>3.545231e+09</td>\n",
       "      <td>42435844.0</td>\n",
       "      <td>3.348896e+09</td>\n",
       "      <td>5.897337e+09</td>\n",
       "      <td>9.509392e+09</td>\n",
       "      <td>1.192895e+10</td>\n",
       "    </tr>\n",
       "  </tbody>\n",
       "</table>\n",
       "</div>"
      ],
      "text/plain": [
       "     count          mean           std         min           25%  \\\n",
       "id  2629.0  6.158944e+09  3.545231e+09  42435844.0  3.348896e+09   \n",
       "\n",
       "             50%           75%           max  \n",
       "id  5.897337e+09  9.509392e+09  1.192895e+10  "
      ]
     },
     "execution_count": 32,
     "metadata": {},
     "output_type": "execute_result"
    }
   ],
   "source": [
    "df.describe().T"
   ]
  },
  {
   "cell_type": "code",
   "execution_count": 33,
   "metadata": {},
   "outputs": [
    {
     "data": {
      "text/plain": [
       "'-73.9465427'"
      ]
     },
     "execution_count": 33,
     "metadata": {},
     "output_type": "execute_result"
    }
   ],
   "source": [
    "decimal = fnode.lon\n",
    "decimal.to_eng_string()"
   ]
  },
  {
   "cell_type": "code",
   "execution_count": null,
   "metadata": {},
   "outputs": [],
   "source": []
  }
 ],
 "metadata": {
  "kernelspec": {
   "display_name": "COMP47360",
   "language": "python",
   "name": "python3"
  },
  "language_info": {
   "codemirror_mode": {
    "name": "ipython",
    "version": 3
   },
   "file_extension": ".py",
   "mimetype": "text/x-python",
   "name": "python",
   "nbconvert_exporter": "python",
   "pygments_lexer": "ipython3",
   "version": "3.12.3"
  }
 },
 "nbformat": 4,
 "nbformat_minor": 2
}
