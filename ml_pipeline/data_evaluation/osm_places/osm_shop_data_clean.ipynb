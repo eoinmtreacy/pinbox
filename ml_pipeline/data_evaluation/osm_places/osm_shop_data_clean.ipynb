{
 "cells": [
  {
   "cell_type": "code",
   "execution_count": 1,
   "metadata": {},
   "outputs": [],
   "source": [
    "import pandas as pd\n",
    "import matplotlib.pyplot as plt\n",
    "import os\n",
    "import sys\n",
    "import numpy as np"
   ]
  },
  {
   "cell_type": "code",
   "execution_count": 2,
   "metadata": {},
   "outputs": [],
   "source": [
    "df = pd.read_csv('osm_places_shop.csv')\n",
    "\n",
    "threshold = int(0.03* df.shape[0])\n",
    "df = df.dropna(axis=1, thresh=threshold)"
   ]
  },
  {
   "cell_type": "code",
   "execution_count": 3,
   "metadata": {},
   "outputs": [
    {
     "data": {
      "text/plain": [
       "Index(['id', 'lat', 'lon', 'name', 'opening_hours', 'shop', 'website',\n",
       "       'addr:city', 'addr:housenumber', 'addr:postcode', 'addr:state',\n",
       "       'addr:street', 'branch', 'brand', 'brand:wikidata', 'phone', 'amenity',\n",
       "       'outdoor_seating', 'wheelchair', 'email', 'takeaway', 'drink:espresso',\n",
       "       'cuisine', 'delivery', 'drink:coffee', 'payment:cash', 'check_date',\n",
       "       'payment:credit_cards', 'level'],\n",
       "      dtype='object')"
      ]
     },
     "execution_count": 3,
     "metadata": {},
     "output_type": "execute_result"
    }
   ],
   "source": [
    "df.columns"
   ]
  },
  {
   "cell_type": "code",
   "execution_count": 4,
   "metadata": {},
   "outputs": [
    {
     "data": {
      "text/plain": [
       "id                        int64\n",
       "lat                     float64\n",
       "lon                     float64\n",
       "name                     object\n",
       "opening_hours            object\n",
       "shop                     object\n",
       "website                  object\n",
       "addr:city                object\n",
       "addr:housenumber         object\n",
       "addr:postcode           float64\n",
       "addr:state               object\n",
       "addr:street              object\n",
       "branch                   object\n",
       "brand                    object\n",
       "brand:wikidata           object\n",
       "phone                    object\n",
       "amenity                  object\n",
       "outdoor_seating          object\n",
       "wheelchair               object\n",
       "email                    object\n",
       "takeaway                 object\n",
       "drink:espresso           object\n",
       "cuisine                  object\n",
       "delivery                 object\n",
       "drink:coffee             object\n",
       "payment:cash             object\n",
       "check_date               object\n",
       "payment:credit_cards     object\n",
       "level                    object\n",
       "dtype: object"
      ]
     },
     "execution_count": 4,
     "metadata": {},
     "output_type": "execute_result"
    }
   ],
   "source": [
    "df.dtypes"
   ]
  },
  {
   "cell_type": "code",
   "execution_count": 5,
   "metadata": {},
   "outputs": [],
   "source": [
    "pd.set_option('display.max_columns', None)\n",
    "pd.set_option('display.max_rows', None)"
   ]
  },
  {
   "cell_type": "code",
   "execution_count": 6,
   "metadata": {},
   "outputs": [
    {
     "data": {
      "text/plain": [
       "['branch',\n",
       " 'brand',\n",
       " 'brand:wikidata',\n",
       " 'amenity',\n",
       " 'takeaway',\n",
       " 'drink:espresso',\n",
       " 'cuisine',\n",
       " 'delivery',\n",
       " 'payment:cash',\n",
       " 'check_date',\n",
       " 'payment:credit_cards',\n",
       " 'level']"
      ]
     },
     "execution_count": 6,
     "metadata": {},
     "output_type": "execute_result"
    }
   ],
   "source": [
    "['branch', 'brand', 'brand:wikidata', 'amenity',\n",
    "        'takeaway', 'drink:espresso',\n",
    "       'cuisine', 'delivery','payment:cash', 'check_date',\n",
    "       'payment:credit_cards', 'level']"
   ]
  },
  {
   "cell_type": "code",
   "execution_count": 7,
   "metadata": {},
   "outputs": [],
   "source": [
    "df = df[['id', 'lat', 'lon', 'name', 'opening_hours', 'shop', 'website',\n",
    "       'addr:city', 'addr:housenumber', 'addr:postcode', 'addr:state',\n",
    "       'addr:street', 'phone', 'outdoor_seating', 'wheelchair', 'email',\n",
    "       'drink:coffee']]"
   ]
  },
  {
   "cell_type": "code",
   "execution_count": 8,
   "metadata": {},
   "outputs": [],
   "source": [
    "# Drop rows with missing name\n",
    "df.drop(df[df['name'].isna()].index, inplace=True)"
   ]
  },
  {
   "cell_type": "code",
   "execution_count": 9,
   "metadata": {},
   "outputs": [],
   "source": [
    "# Change postcode from float to int\n",
    "df['addr:postcode'] = df['addr:postcode'].astype('Int64')"
   ]
  },
  {
   "cell_type": "code",
   "execution_count": 10,
   "metadata": {},
   "outputs": [],
   "source": [
    "# Change NaN values in wheelchair feature to unknown\n",
    "df.fillna({'wheelchair':'unknown'}, inplace=True)"
   ]
  },
  {
   "cell_type": "code",
   "execution_count": 11,
   "metadata": {},
   "outputs": [],
   "source": [
    "# Change outdoor seating NaN values to unknown\n",
    "df.fillna({'outdoor_seating':'unknown', 'drink:coffee':'unknown'}, inplace=True)"
   ]
  },
  {
   "cell_type": "code",
   "execution_count": 12,
   "metadata": {},
   "outputs": [],
   "source": [
    "# Change all non 'no' and 'unknown' values to 'yes'\"OSM Amenities Data Quality Plan.docx\"\n",
    "df.loc[(df['outdoor_seating'] != 'no') & (df['outdoor_seating'] != 'unknown'), 'outdoor_seating' ] = 'yes'"
   ]
  },
  {
   "cell_type": "code",
   "execution_count": 13,
   "metadata": {},
   "outputs": [
    {
     "data": {
      "text/plain": [
       "Index(['id', 'lat', 'lon', 'name', 'opening_hours', 'shop', 'website',\n",
       "       'addr:city', 'addr:housenumber', 'addr:postcode', 'addr:state',\n",
       "       'addr:street', 'phone', 'outdoor_seating', 'wheelchair', 'email',\n",
       "       'drink:coffee'],\n",
       "      dtype='object')"
      ]
     },
     "execution_count": 13,
     "metadata": {},
     "output_type": "execute_result"
    }
   ],
   "source": [
    "df.columns"
   ]
  },
  {
   "cell_type": "code",
   "execution_count": 14,
   "metadata": {},
   "outputs": [
    {
     "data": {
      "text/html": [
       "<div>\n",
       "<style scoped>\n",
       "    .dataframe tbody tr th:only-of-type {\n",
       "        vertical-align: middle;\n",
       "    }\n",
       "\n",
       "    .dataframe tbody tr th {\n",
       "        vertical-align: top;\n",
       "    }\n",
       "\n",
       "    .dataframe thead th {\n",
       "        text-align: right;\n",
       "    }\n",
       "</style>\n",
       "<table border=\"1\" class=\"dataframe\">\n",
       "  <thead>\n",
       "    <tr style=\"text-align: right;\">\n",
       "      <th></th>\n",
       "      <th>id</th>\n",
       "      <th>lat</th>\n",
       "      <th>lon</th>\n",
       "      <th>name</th>\n",
       "      <th>opening_hours</th>\n",
       "      <th>shop</th>\n",
       "      <th>website</th>\n",
       "      <th>addr:city</th>\n",
       "      <th>addr:housenumber</th>\n",
       "      <th>addr:postcode</th>\n",
       "      <th>addr:state</th>\n",
       "      <th>addr:street</th>\n",
       "      <th>phone</th>\n",
       "      <th>outdoor_seating</th>\n",
       "      <th>wheelchair</th>\n",
       "      <th>email</th>\n",
       "      <th>drink:coffee</th>\n",
       "    </tr>\n",
       "  </thead>\n",
       "  <tbody>\n",
       "    <tr>\n",
       "      <th>0</th>\n",
       "      <td>357623896</td>\n",
       "      <td>40.661101</td>\n",
       "      <td>-73.953359</td>\n",
       "      <td>Hee-Space Thrift Shop</td>\n",
       "      <td>Th-Su 12:00-18:00</td>\n",
       "      <td>charity</td>\n",
       "      <td>https://www.hee-space.com</td>\n",
       "      <td>NaN</td>\n",
       "      <td>NaN</td>\n",
       "      <td>&lt;NA&gt;</td>\n",
       "      <td>NaN</td>\n",
       "      <td>NaN</td>\n",
       "      <td>NaN</td>\n",
       "      <td>unknown</td>\n",
       "      <td>unknown</td>\n",
       "      <td>NaN</td>\n",
       "      <td>unknown</td>\n",
       "    </tr>\n",
       "    <tr>\n",
       "      <th>1</th>\n",
       "      <td>368053310</td>\n",
       "      <td>40.736926</td>\n",
       "      <td>-73.989601</td>\n",
       "      <td>Barnes &amp; Noble</td>\n",
       "      <td>Su 10:00-21:00; Mo-Th 09:00-21:00; Fr, Sa 09:0...</td>\n",
       "      <td>books</td>\n",
       "      <td>https://stores.barnesandnoble.com/store/2675</td>\n",
       "      <td>New York</td>\n",
       "      <td>33</td>\n",
       "      <td>10003</td>\n",
       "      <td>NY</td>\n",
       "      <td>East 17th Street</td>\n",
       "      <td>+1 212-253-0810</td>\n",
       "      <td>unknown</td>\n",
       "      <td>unknown</td>\n",
       "      <td>NaN</td>\n",
       "      <td>unknown</td>\n",
       "    </tr>\n",
       "    <tr>\n",
       "      <th>2</th>\n",
       "      <td>368061395</td>\n",
       "      <td>40.878611</td>\n",
       "      <td>-73.917222</td>\n",
       "      <td>Knolls Shopping Center</td>\n",
       "      <td>NaN</td>\n",
       "      <td>mall</td>\n",
       "      <td>NaN</td>\n",
       "      <td>NaN</td>\n",
       "      <td>NaN</td>\n",
       "      <td>&lt;NA&gt;</td>\n",
       "      <td>NY</td>\n",
       "      <td>NaN</td>\n",
       "      <td>NaN</td>\n",
       "      <td>unknown</td>\n",
       "      <td>unknown</td>\n",
       "      <td>NaN</td>\n",
       "      <td>unknown</td>\n",
       "    </tr>\n",
       "    <tr>\n",
       "      <th>3</th>\n",
       "      <td>418520887</td>\n",
       "      <td>40.636934</td>\n",
       "      <td>-74.076656</td>\n",
       "      <td>Everything Goes Book Cafe</td>\n",
       "      <td>NaN</td>\n",
       "      <td>books</td>\n",
       "      <td>NaN</td>\n",
       "      <td>Staten Island</td>\n",
       "      <td>208</td>\n",
       "      <td>&lt;NA&gt;</td>\n",
       "      <td>NY</td>\n",
       "      <td>Bay Street</td>\n",
       "      <td>NaN</td>\n",
       "      <td>yes</td>\n",
       "      <td>limited</td>\n",
       "      <td>NaN</td>\n",
       "      <td>unknown</td>\n",
       "    </tr>\n",
       "    <tr>\n",
       "      <th>4</th>\n",
       "      <td>419362653</td>\n",
       "      <td>40.727268</td>\n",
       "      <td>-73.990374</td>\n",
       "      <td>The Hidden Rose</td>\n",
       "      <td>Tu-Sa 11:30-20:00</td>\n",
       "      <td>tattoo</td>\n",
       "      <td>NaN</td>\n",
       "      <td>NaN</td>\n",
       "      <td>NaN</td>\n",
       "      <td>&lt;NA&gt;</td>\n",
       "      <td>NaN</td>\n",
       "      <td>NaN</td>\n",
       "      <td>NaN</td>\n",
       "      <td>unknown</td>\n",
       "      <td>unknown</td>\n",
       "      <td>NaN</td>\n",
       "      <td>unknown</td>\n",
       "    </tr>\n",
       "  </tbody>\n",
       "</table>\n",
       "</div>"
      ],
      "text/plain": [
       "          id        lat        lon                       name  \\\n",
       "0  357623896  40.661101 -73.953359      Hee-Space Thrift Shop   \n",
       "1  368053310  40.736926 -73.989601             Barnes & Noble   \n",
       "2  368061395  40.878611 -73.917222     Knolls Shopping Center   \n",
       "3  418520887  40.636934 -74.076656  Everything Goes Book Cafe   \n",
       "4  419362653  40.727268 -73.990374            The Hidden Rose   \n",
       "\n",
       "                                       opening_hours     shop  \\\n",
       "0                                  Th-Su 12:00-18:00  charity   \n",
       "1  Su 10:00-21:00; Mo-Th 09:00-21:00; Fr, Sa 09:0...    books   \n",
       "2                                                NaN     mall   \n",
       "3                                                NaN    books   \n",
       "4                                  Tu-Sa 11:30-20:00   tattoo   \n",
       "\n",
       "                                        website      addr:city  \\\n",
       "0                     https://www.hee-space.com            NaN   \n",
       "1  https://stores.barnesandnoble.com/store/2675       New York   \n",
       "2                                           NaN            NaN   \n",
       "3                                           NaN  Staten Island   \n",
       "4                                           NaN            NaN   \n",
       "\n",
       "  addr:housenumber  addr:postcode addr:state       addr:street  \\\n",
       "0              NaN           <NA>        NaN               NaN   \n",
       "1               33          10003         NY  East 17th Street   \n",
       "2              NaN           <NA>         NY               NaN   \n",
       "3              208           <NA>         NY        Bay Street   \n",
       "4              NaN           <NA>        NaN               NaN   \n",
       "\n",
       "             phone outdoor_seating wheelchair email drink:coffee  \n",
       "0              NaN         unknown    unknown   NaN      unknown  \n",
       "1  +1 212-253-0810         unknown    unknown   NaN      unknown  \n",
       "2              NaN         unknown    unknown   NaN      unknown  \n",
       "3              NaN             yes    limited   NaN      unknown  \n",
       "4              NaN         unknown    unknown   NaN      unknown  "
      ]
     },
     "execution_count": 14,
     "metadata": {},
     "output_type": "execute_result"
    }
   ],
   "source": [
    "df.head()"
   ]
  },
  {
   "cell_type": "code",
   "execution_count": 15,
   "metadata": {},
   "outputs": [],
   "source": [
    "df.to_csv(\"osm_places_shop_cleaned.csv\", index=False)"
   ]
  }
 ],
 "metadata": {
  "kernelspec": {
   "display_name": "COMP47360",
   "language": "python",
   "name": "python3"
  },
  "language_info": {
   "codemirror_mode": {
    "name": "ipython",
    "version": 3
   },
   "file_extension": ".py",
   "mimetype": "text/x-python",
   "name": "python",
   "nbconvert_exporter": "python",
   "pygments_lexer": "ipython3",
   "version": "3.12.3"
  }
 },
 "nbformat": 4,
 "nbformat_minor": 2
}
