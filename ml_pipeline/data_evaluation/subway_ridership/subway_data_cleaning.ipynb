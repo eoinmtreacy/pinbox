{
 "cells": [
  {
   "cell_type": "code",
   "execution_count": 1,
   "metadata": {},
   "outputs": [],
   "source": [
    "import pandas as pd\n",
    "import matplotlib.pyplot as plt\n",
    "import pyarrow as pa\n",
    "import pyarrow.parquet as pq"
   ]
  },
  {
   "cell_type": "code",
   "execution_count": 2,
   "metadata": {},
   "outputs": [
    {
     "name": "stderr",
     "output_type": "stream",
     "text": [
      "C:\\Users\\Daniel\\AppData\\Local\\Temp\\ipykernel_12400\\1196061115.py:1: DtypeWarning: Columns (2) have mixed types. Specify dtype option on import or set low_memory=False.\n",
      "  df = pd.read_csv('MTA_Subway_Hourly_Ridership__Beginning_February_2022_20240522.csv')\n"
     ]
    }
   ],
   "source": [
    "df = pd.read_csv('MTA_Subway_Hourly_Ridership__Beginning_February_2022_20240522.csv')"
   ]
  },
  {
   "cell_type": "code",
   "execution_count": 3,
   "metadata": {},
   "outputs": [
    {
     "data": {
      "text/html": [
       "<div>\n",
       "<style scoped>\n",
       "    .dataframe tbody tr th:only-of-type {\n",
       "        vertical-align: middle;\n",
       "    }\n",
       "\n",
       "    .dataframe tbody tr th {\n",
       "        vertical-align: top;\n",
       "    }\n",
       "\n",
       "    .dataframe thead th {\n",
       "        text-align: right;\n",
       "    }\n",
       "</style>\n",
       "<table border=\"1\" class=\"dataframe\">\n",
       "  <thead>\n",
       "    <tr style=\"text-align: right;\">\n",
       "      <th></th>\n",
       "      <th>transit_timestamp</th>\n",
       "      <th>transit_mode</th>\n",
       "      <th>station_complex_id</th>\n",
       "      <th>station_complex</th>\n",
       "      <th>borough</th>\n",
       "      <th>payment_method</th>\n",
       "      <th>fare_class_category</th>\n",
       "      <th>ridership</th>\n",
       "      <th>transfers</th>\n",
       "      <th>latitude</th>\n",
       "      <th>longitude</th>\n",
       "      <th>Georeference</th>\n",
       "    </tr>\n",
       "  </thead>\n",
       "  <tbody>\n",
       "    <tr>\n",
       "      <th>0</th>\n",
       "      <td>05/24/2023 06:00:00 AM</td>\n",
       "      <td>subway</td>\n",
       "      <td>61</td>\n",
       "      <td>50 St (D)</td>\n",
       "      <td>Brooklyn</td>\n",
       "      <td>omny</td>\n",
       "      <td>OMNY - Full Fare</td>\n",
       "      <td>35</td>\n",
       "      <td>2</td>\n",
       "      <td>40.636261</td>\n",
       "      <td>-73.994789</td>\n",
       "      <td>POINT (-73.99478912353516 40.636260986328125)</td>\n",
       "    </tr>\n",
       "    <tr>\n",
       "      <th>1</th>\n",
       "      <td>03/20/2023 01:00:00 PM</td>\n",
       "      <td>subway</td>\n",
       "      <td>61</td>\n",
       "      <td>50 St (D)</td>\n",
       "      <td>Brooklyn</td>\n",
       "      <td>omny</td>\n",
       "      <td>OMNY - Full Fare</td>\n",
       "      <td>29</td>\n",
       "      <td>2</td>\n",
       "      <td>40.636261</td>\n",
       "      <td>-73.994789</td>\n",
       "      <td>POINT (-73.99478912353516 40.636260986328125)</td>\n",
       "    </tr>\n",
       "    <tr>\n",
       "      <th>2</th>\n",
       "      <td>01/21/2023 01:00:00 PM</td>\n",
       "      <td>subway</td>\n",
       "      <td>610</td>\n",
       "      <td>Grand Central-42 St (S,4,5,6,7)</td>\n",
       "      <td>Manhattan</td>\n",
       "      <td>metrocard</td>\n",
       "      <td>Metrocard - Full Fare</td>\n",
       "      <td>636</td>\n",
       "      <td>9</td>\n",
       "      <td>40.751778</td>\n",
       "      <td>-73.976845</td>\n",
       "      <td>POINT (-73.97684478759766 40.75177764892578)</td>\n",
       "    </tr>\n",
       "    <tr>\n",
       "      <th>3</th>\n",
       "      <td>05/24/2023 06:00:00 PM</td>\n",
       "      <td>subway</td>\n",
       "      <td>610</td>\n",
       "      <td>Grand Central-42 St (S,4,5,6,7)</td>\n",
       "      <td>Manhattan</td>\n",
       "      <td>metrocard</td>\n",
       "      <td>Metrocard - Fair Fare</td>\n",
       "      <td>149</td>\n",
       "      <td>0</td>\n",
       "      <td>40.751778</td>\n",
       "      <td>-73.976845</td>\n",
       "      <td>POINT (-73.97684478759766 40.75177764892578)</td>\n",
       "    </tr>\n",
       "    <tr>\n",
       "      <th>4</th>\n",
       "      <td>06/29/2023 02:00:00 AM</td>\n",
       "      <td>subway</td>\n",
       "      <td>610</td>\n",
       "      <td>Grand Central-42 St (S,4,5,6,7)</td>\n",
       "      <td>Manhattan</td>\n",
       "      <td>metrocard</td>\n",
       "      <td>Metrocard - Fair Fare</td>\n",
       "      <td>3</td>\n",
       "      <td>0</td>\n",
       "      <td>40.751778</td>\n",
       "      <td>-73.976845</td>\n",
       "      <td>POINT (-73.97684478759766 40.75177764892578)</td>\n",
       "    </tr>\n",
       "  </tbody>\n",
       "</table>\n",
       "</div>"
      ],
      "text/plain": [
       "        transit_timestamp transit_mode station_complex_id  \\\n",
       "0  05/24/2023 06:00:00 AM       subway                 61   \n",
       "1  03/20/2023 01:00:00 PM       subway                 61   \n",
       "2  01/21/2023 01:00:00 PM       subway                610   \n",
       "3  05/24/2023 06:00:00 PM       subway                610   \n",
       "4  06/29/2023 02:00:00 AM       subway                610   \n",
       "\n",
       "                   station_complex    borough payment_method  \\\n",
       "0                        50 St (D)   Brooklyn           omny   \n",
       "1                        50 St (D)   Brooklyn           omny   \n",
       "2  Grand Central-42 St (S,4,5,6,7)  Manhattan      metrocard   \n",
       "3  Grand Central-42 St (S,4,5,6,7)  Manhattan      metrocard   \n",
       "4  Grand Central-42 St (S,4,5,6,7)  Manhattan      metrocard   \n",
       "\n",
       "     fare_class_category  ridership  transfers   latitude  longitude  \\\n",
       "0       OMNY - Full Fare         35          2  40.636261 -73.994789   \n",
       "1       OMNY - Full Fare         29          2  40.636261 -73.994789   \n",
       "2  Metrocard - Full Fare        636          9  40.751778 -73.976845   \n",
       "3  Metrocard - Fair Fare        149          0  40.751778 -73.976845   \n",
       "4  Metrocard - Fair Fare          3          0  40.751778 -73.976845   \n",
       "\n",
       "                                    Georeference  \n",
       "0  POINT (-73.99478912353516 40.636260986328125)  \n",
       "1  POINT (-73.99478912353516 40.636260986328125)  \n",
       "2   POINT (-73.97684478759766 40.75177764892578)  \n",
       "3   POINT (-73.97684478759766 40.75177764892578)  \n",
       "4   POINT (-73.97684478759766 40.75177764892578)  "
      ]
     },
     "execution_count": 3,
     "metadata": {},
     "output_type": "execute_result"
    }
   ],
   "source": [
    "df.head()"
   ]
  },
  {
   "cell_type": "markdown",
   "metadata": {},
   "source": [
    "Get a csv file of longitudes and latitudes for each station complex"
   ]
  },
  {
   "cell_type": "code",
   "execution_count": 9,
   "metadata": {},
   "outputs": [],
   "source": [
    "mode_values = df.groupby(['station_complex_id']).agg(lambda x: pd.Series.mode(x)[0]).reset_index()"
   ]
  },
  {
   "cell_type": "code",
   "execution_count": 10,
   "metadata": {},
   "outputs": [
    {
     "data": {
      "text/html": [
       "<div>\n",
       "<style scoped>\n",
       "    .dataframe tbody tr th:only-of-type {\n",
       "        vertical-align: middle;\n",
       "    }\n",
       "\n",
       "    .dataframe tbody tr th {\n",
       "        vertical-align: top;\n",
       "    }\n",
       "\n",
       "    .dataframe thead th {\n",
       "        text-align: right;\n",
       "    }\n",
       "</style>\n",
       "<table border=\"1\" class=\"dataframe\">\n",
       "  <thead>\n",
       "    <tr style=\"text-align: right;\">\n",
       "      <th></th>\n",
       "      <th>station_complex_id</th>\n",
       "      <th>transit_timestamp</th>\n",
       "      <th>transit_mode</th>\n",
       "      <th>station_complex</th>\n",
       "      <th>borough</th>\n",
       "      <th>payment_method</th>\n",
       "      <th>fare_class_category</th>\n",
       "      <th>ridership</th>\n",
       "      <th>transfers</th>\n",
       "      <th>latitude</th>\n",
       "      <th>longitude</th>\n",
       "      <th>Georeference</th>\n",
       "    </tr>\n",
       "  </thead>\n",
       "  <tbody>\n",
       "    <tr>\n",
       "      <th>0</th>\n",
       "      <td>1</td>\n",
       "      <td>09/28/2022 03:00:00 PM</td>\n",
       "      <td>subway</td>\n",
       "      <td>Astoria-Ditmars Blvd (N,W)</td>\n",
       "      <td>Queens</td>\n",
       "      <td>metrocard</td>\n",
       "      <td>Metrocard - Unlimited 7-Day</td>\n",
       "      <td>1</td>\n",
       "      <td>0</td>\n",
       "      <td>40.775036</td>\n",
       "      <td>-73.912033</td>\n",
       "      <td>POINT (-73.91203308105469 40.7750358581543)</td>\n",
       "    </tr>\n",
       "    <tr>\n",
       "      <th>1</th>\n",
       "      <td>2</td>\n",
       "      <td>07/25/2022 10:00:00 AM</td>\n",
       "      <td>subway</td>\n",
       "      <td>Astoria Blvd (N,W)</td>\n",
       "      <td>Queens</td>\n",
       "      <td>metrocard</td>\n",
       "      <td>Metrocard - Full Fare</td>\n",
       "      <td>1</td>\n",
       "      <td>0</td>\n",
       "      <td>40.770260</td>\n",
       "      <td>-73.917847</td>\n",
       "      <td>POINT (-73.9178466796875 40.770259857177734)</td>\n",
       "    </tr>\n",
       "    <tr>\n",
       "      <th>2</th>\n",
       "      <td>3</td>\n",
       "      <td>02/14/2022 12:00:00 PM</td>\n",
       "      <td>subway</td>\n",
       "      <td>30 Av (N,W)</td>\n",
       "      <td>Queens</td>\n",
       "      <td>metrocard</td>\n",
       "      <td>Metrocard - Full Fare</td>\n",
       "      <td>1</td>\n",
       "      <td>0</td>\n",
       "      <td>40.766781</td>\n",
       "      <td>-73.921478</td>\n",
       "      <td>POINT (-73.92147827148438 40.766780853271484)</td>\n",
       "    </tr>\n",
       "    <tr>\n",
       "      <th>3</th>\n",
       "      <td>4</td>\n",
       "      <td>02/23/2022 06:00:00 PM</td>\n",
       "      <td>subway</td>\n",
       "      <td>Broadway (N,W)</td>\n",
       "      <td>Queens</td>\n",
       "      <td>metrocard</td>\n",
       "      <td>Metrocard - Full Fare</td>\n",
       "      <td>1</td>\n",
       "      <td>0</td>\n",
       "      <td>40.761822</td>\n",
       "      <td>-73.925507</td>\n",
       "      <td>POINT (-73.92550659179688 40.76182174682617)</td>\n",
       "    </tr>\n",
       "    <tr>\n",
       "      <th>4</th>\n",
       "      <td>5</td>\n",
       "      <td>02/21/2022 03:00:00 PM</td>\n",
       "      <td>subway</td>\n",
       "      <td>36 Av (N,W)</td>\n",
       "      <td>Queens</td>\n",
       "      <td>metrocard</td>\n",
       "      <td>Metrocard - Full Fare</td>\n",
       "      <td>1</td>\n",
       "      <td>0</td>\n",
       "      <td>40.756805</td>\n",
       "      <td>-73.929573</td>\n",
       "      <td>POINT (-73.92957305908203 40.756805419921875)</td>\n",
       "    </tr>\n",
       "    <tr>\n",
       "      <th>...</th>\n",
       "      <td>...</td>\n",
       "      <td>...</td>\n",
       "      <td>...</td>\n",
       "      <td>...</td>\n",
       "      <td>...</td>\n",
       "      <td>...</td>\n",
       "      <td>...</td>\n",
       "      <td>...</td>\n",
       "      <td>...</td>\n",
       "      <td>...</td>\n",
       "      <td>...</td>\n",
       "      <td>...</td>\n",
       "    </tr>\n",
       "    <tr>\n",
       "      <th>849</th>\n",
       "      <td>97</td>\n",
       "      <td>01/30/2024 03:00:00 PM</td>\n",
       "      <td>subway</td>\n",
       "      <td>Myrtle Av (M,J,Z)</td>\n",
       "      <td>Brooklyn</td>\n",
       "      <td>metrocard</td>\n",
       "      <td>Metrocard - Unlimited 7-Day</td>\n",
       "      <td>1</td>\n",
       "      <td>0</td>\n",
       "      <td>40.697208</td>\n",
       "      <td>-73.935654</td>\n",
       "      <td>POINT (-73.93565368652344 40.697208404541016)</td>\n",
       "    </tr>\n",
       "    <tr>\n",
       "      <th>850</th>\n",
       "      <td>98</td>\n",
       "      <td>01/03/2024 03:00:00 PM</td>\n",
       "      <td>subway</td>\n",
       "      <td>Flushing Av (M,J)</td>\n",
       "      <td>Brooklyn</td>\n",
       "      <td>metrocard</td>\n",
       "      <td>OMNY - Full Fare</td>\n",
       "      <td>1</td>\n",
       "      <td>0</td>\n",
       "      <td>40.700260</td>\n",
       "      <td>-73.941124</td>\n",
       "      <td>POINT (-73.94112396240234 40.700260162353516)</td>\n",
       "    </tr>\n",
       "    <tr>\n",
       "      <th>851</th>\n",
       "      <td>99</td>\n",
       "      <td>01/30/2024 02:00:00 PM</td>\n",
       "      <td>subway</td>\n",
       "      <td>Lorimer St (M,J)</td>\n",
       "      <td>Brooklyn</td>\n",
       "      <td>metrocard</td>\n",
       "      <td>OMNY - Full Fare</td>\n",
       "      <td>1</td>\n",
       "      <td>0</td>\n",
       "      <td>40.703869</td>\n",
       "      <td>-73.947411</td>\n",
       "      <td>POINT (-73.9474105834961 40.7038688659668)</td>\n",
       "    </tr>\n",
       "    <tr>\n",
       "      <th>852</th>\n",
       "      <td>TRAM1</td>\n",
       "      <td>02/28/2024 09:00:00 AM</td>\n",
       "      <td>tram</td>\n",
       "      <td>RI Tramway (Manhattan)</td>\n",
       "      <td>Manhattan</td>\n",
       "      <td>metrocard</td>\n",
       "      <td>Metrocard - Full Fare</td>\n",
       "      <td>1</td>\n",
       "      <td>0</td>\n",
       "      <td>40.761338</td>\n",
       "      <td>-73.964155</td>\n",
       "      <td>POINT (-73.964155 40.761338)</td>\n",
       "    </tr>\n",
       "    <tr>\n",
       "      <th>853</th>\n",
       "      <td>TRAM2</td>\n",
       "      <td>01/29/2024 02:00:00 PM</td>\n",
       "      <td>tram</td>\n",
       "      <td>RI Tramway (Roosevelt)</td>\n",
       "      <td>Manhattan</td>\n",
       "      <td>metrocard</td>\n",
       "      <td>Metrocard - Full Fare</td>\n",
       "      <td>1</td>\n",
       "      <td>0</td>\n",
       "      <td>40.757340</td>\n",
       "      <td>-73.954114</td>\n",
       "      <td>POINT (-73.954114 40.75734)</td>\n",
       "    </tr>\n",
       "  </tbody>\n",
       "</table>\n",
       "<p>854 rows × 12 columns</p>\n",
       "</div>"
      ],
      "text/plain": [
       "    station_complex_id       transit_timestamp transit_mode  \\\n",
       "0                    1  09/28/2022 03:00:00 PM       subway   \n",
       "1                    2  07/25/2022 10:00:00 AM       subway   \n",
       "2                    3  02/14/2022 12:00:00 PM       subway   \n",
       "3                    4  02/23/2022 06:00:00 PM       subway   \n",
       "4                    5  02/21/2022 03:00:00 PM       subway   \n",
       "..                 ...                     ...          ...   \n",
       "849                 97  01/30/2024 03:00:00 PM       subway   \n",
       "850                 98  01/03/2024 03:00:00 PM       subway   \n",
       "851                 99  01/30/2024 02:00:00 PM       subway   \n",
       "852              TRAM1  02/28/2024 09:00:00 AM         tram   \n",
       "853              TRAM2  01/29/2024 02:00:00 PM         tram   \n",
       "\n",
       "                station_complex    borough payment_method  \\\n",
       "0    Astoria-Ditmars Blvd (N,W)     Queens      metrocard   \n",
       "1            Astoria Blvd (N,W)     Queens      metrocard   \n",
       "2                   30 Av (N,W)     Queens      metrocard   \n",
       "3                Broadway (N,W)     Queens      metrocard   \n",
       "4                   36 Av (N,W)     Queens      metrocard   \n",
       "..                          ...        ...            ...   \n",
       "849           Myrtle Av (M,J,Z)   Brooklyn      metrocard   \n",
       "850           Flushing Av (M,J)   Brooklyn      metrocard   \n",
       "851            Lorimer St (M,J)   Brooklyn      metrocard   \n",
       "852      RI Tramway (Manhattan)  Manhattan      metrocard   \n",
       "853      RI Tramway (Roosevelt)  Manhattan      metrocard   \n",
       "\n",
       "             fare_class_category  ridership  transfers   latitude  longitude  \\\n",
       "0    Metrocard - Unlimited 7-Day          1          0  40.775036 -73.912033   \n",
       "1          Metrocard - Full Fare          1          0  40.770260 -73.917847   \n",
       "2          Metrocard - Full Fare          1          0  40.766781 -73.921478   \n",
       "3          Metrocard - Full Fare          1          0  40.761822 -73.925507   \n",
       "4          Metrocard - Full Fare          1          0  40.756805 -73.929573   \n",
       "..                           ...        ...        ...        ...        ...   \n",
       "849  Metrocard - Unlimited 7-Day          1          0  40.697208 -73.935654   \n",
       "850             OMNY - Full Fare          1          0  40.700260 -73.941124   \n",
       "851             OMNY - Full Fare          1          0  40.703869 -73.947411   \n",
       "852        Metrocard - Full Fare          1          0  40.761338 -73.964155   \n",
       "853        Metrocard - Full Fare          1          0  40.757340 -73.954114   \n",
       "\n",
       "                                      Georeference  \n",
       "0      POINT (-73.91203308105469 40.7750358581543)  \n",
       "1     POINT (-73.9178466796875 40.770259857177734)  \n",
       "2    POINT (-73.92147827148438 40.766780853271484)  \n",
       "3     POINT (-73.92550659179688 40.76182174682617)  \n",
       "4    POINT (-73.92957305908203 40.756805419921875)  \n",
       "..                                             ...  \n",
       "849  POINT (-73.93565368652344 40.697208404541016)  \n",
       "850  POINT (-73.94112396240234 40.700260162353516)  \n",
       "851     POINT (-73.9474105834961 40.7038688659668)  \n",
       "852                   POINT (-73.964155 40.761338)  \n",
       "853                    POINT (-73.954114 40.75734)  \n",
       "\n",
       "[854 rows x 12 columns]"
      ]
     },
     "execution_count": 10,
     "metadata": {},
     "output_type": "execute_result"
    }
   ],
   "source": [
    "mode_values"
   ]
  },
  {
   "cell_type": "code",
   "execution_count": 11,
   "metadata": {},
   "outputs": [],
   "source": [
    "mode_values = mode_values[['station_complex_id', 'station_complex', 'borough', 'payment_method', 'latitude', 'longitude']]"
   ]
  },
  {
   "cell_type": "code",
   "execution_count": 12,
   "metadata": {},
   "outputs": [],
   "source": [
    "mode_values.to_csv(\"station_complex_information.csv\", index=False)"
   ]
  },
  {
   "cell_type": "markdown",
   "metadata": {},
   "source": [
    "Drop unneeded columns"
   ]
  },
  {
   "cell_type": "code",
   "execution_count": 14,
   "metadata": {},
   "outputs": [],
   "source": [
    "df.drop(['transit_mode', 'station_complex', 'payment_method', 'fare_class_category', 'transfers', 'Georeference'],axis=1, inplace=True)"
   ]
  },
  {
   "cell_type": "markdown",
   "metadata": {},
   "source": [
    "Group by hour"
   ]
  },
  {
   "cell_type": "code",
   "execution_count": 20,
   "metadata": {},
   "outputs": [],
   "source": [
    "grouped_df = df.groupby(['transit_timestamp', 'station_complex_id'])['ridership'].sum().reset_index()"
   ]
  },
  {
   "cell_type": "code",
   "execution_count": 23,
   "metadata": {},
   "outputs": [
    {
     "data": {
      "text/plain": [
       "(8371645, 3)"
      ]
     },
     "execution_count": 23,
     "metadata": {},
     "output_type": "execute_result"
    }
   ],
   "source": [
    "grouped_df.shape"
   ]
  },
  {
   "cell_type": "code",
   "execution_count": 24,
   "metadata": {},
   "outputs": [
    {
     "data": {
      "text/plain": [
       "(57291332, 6)"
      ]
     },
     "execution_count": 24,
     "metadata": {},
     "output_type": "execute_result"
    }
   ],
   "source": [
    "df.shape"
   ]
  },
  {
   "cell_type": "code",
   "execution_count": 25,
   "metadata": {},
   "outputs": [
    {
     "data": {
      "text/plain": [
       "19891"
      ]
     },
     "execution_count": 25,
     "metadata": {},
     "output_type": "execute_result"
    }
   ],
   "source": [
    "df['transit_timestamp'].nunique()"
   ]
  },
  {
   "cell_type": "code",
   "execution_count": 30,
   "metadata": {},
   "outputs": [],
   "source": [
    "grouped_df['station_complex_id'] = grouped_df['station_complex_id'].astype(str)"
   ]
  },
  {
   "cell_type": "code",
   "execution_count": 31,
   "metadata": {},
   "outputs": [],
   "source": [
    "grouped_df.to_parquet(\"mta_subway_cleaned.parquet\", engine=\"pyarrow\", index=False)"
   ]
  }
 ],
 "metadata": {
  "kernelspec": {
   "display_name": "COMP47360",
   "language": "python",
   "name": "python3"
  },
  "language_info": {
   "codemirror_mode": {
    "name": "ipython",
    "version": 3
   },
   "file_extension": ".py",
   "mimetype": "text/x-python",
   "name": "python",
   "nbconvert_exporter": "python",
   "pygments_lexer": "ipython3",
   "version": "3.12.3"
  }
 },
 "nbformat": 4,
 "nbformat_minor": 2
}
