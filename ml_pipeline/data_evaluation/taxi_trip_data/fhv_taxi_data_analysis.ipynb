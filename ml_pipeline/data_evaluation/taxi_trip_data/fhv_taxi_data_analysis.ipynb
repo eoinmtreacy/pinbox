{
 "cells": [
  {
   "cell_type": "markdown",
   "metadata": {},
   "source": [
    "This notebook is for evaluating FHV taxi data for use in busyness data"
   ]
  },
  {
   "cell_type": "code",
   "execution_count": 1,
   "metadata": {},
   "outputs": [],
   "source": [
    "import pandas as pd\n",
    "import matplotlib.pyplot as plt\n",
    "import numpy as np\n",
    "import pandas as pd\n",
    "import pyarrow as pa\n",
    "import pyarrow.parquet as pq\n",
    "import os"
   ]
  },
  {
   "cell_type": "code",
   "execution_count": 2,
   "metadata": {},
   "outputs": [],
   "source": [
    "# TODO: Iterate over the whole file\n",
    "# Options:\n",
    "# Do it with pyarrow slice by slice\n",
    "parquet_file = \"all_fhv_tripdata.parquet\"\n",
    "parquet_reader = pq.ParquetFile(parquet_file)\n"
   ]
  },
  {
   "cell_type": "code",
   "execution_count": 3,
   "metadata": {},
   "outputs": [
    {
     "name": "stdout",
     "output_type": "stream",
     "text": [
      "['dispatching_base_num', 'pickup_datetime', 'dropOff_datetime', 'PUlocationID', 'DOlocationID', 'SR_Flag', 'Affiliated_base_number']\n"
     ]
    }
   ],
   "source": [
    "print(parquet_reader.schema.names)"
   ]
  },
  {
   "cell_type": "code",
   "execution_count": 4,
   "metadata": {},
   "outputs": [],
   "source": [
    "# Remove unwanted columns\n",
    "table = pq.read_table(parquet_file)\n",
    "filtered_table = table.drop(['dispatching_base_num', 'SR_Flag', 'Affiliated_base_number'])\n",
    "pq.write_table(filtered_table, \"all_fhv_tripdata_filtered.parquet\")"
   ]
  },
  {
   "cell_type": "code",
   "execution_count": 5,
   "metadata": {},
   "outputs": [],
   "source": [
    "parquet_file = \"all_fhv_tripdata_filtered.parquet\"\n",
    "parquet_reader = pq.ParquetFile(parquet_file)"
   ]
  },
  {
   "cell_type": "code",
   "execution_count": null,
   "metadata": {},
   "outputs": [],
   "source": [
    "table = pq.read_table(parquet_file)\n",
    "df = table.to_pandas()\n"
   ]
  },
  {
   "cell_type": "code",
   "execution_count": null,
   "metadata": {},
   "outputs": [
    {
     "data": {
      "text/plain": [
       "Index(['pickup_datetime', 'dropOff_datetime', 'PUlocationID', 'DOlocationID'], dtype='object')"
      ]
     },
     "execution_count": 50,
     "metadata": {},
     "output_type": "execute_result"
    }
   ],
   "source": [
    "df.columns"
   ]
  },
  {
   "cell_type": "code",
   "execution_count": null,
   "metadata": {},
   "outputs": [
    {
     "name": "stdout",
     "output_type": "stream",
     "text": [
      "49111129\n"
     ]
    }
   ],
   "source": [
    "num_rows = parquet_reader.metadata.num_rows\n",
    "num_row_groups = parquet_reader.num_row_groups\n",
    "# df.shape[0]\n",
    "print(num_rows)"
   ]
  },
  {
   "cell_type": "code",
   "execution_count": null,
   "metadata": {},
   "outputs": [
    {
     "name": "stdout",
     "output_type": "stream",
     "text": [
      "Number of rows: 49111129\n",
      "Number of cols: 4\n",
      "Data types:\n",
      "pickup_datetime     datetime64[us]\n",
      "dropOff_datetime    datetime64[us]\n",
      "PUlocationID               float64\n",
      "DOlocationID               float64\n",
      "dtype: object\n"
     ]
    }
   ],
   "source": [
    "print(\"Number of rows:\", num_rows)\n",
    "print(\"Number of cols:\", df.shape[1])\n",
    "print(\"Data types:\") \n",
    "print(df.dtypes)"
   ]
  },
  {
   "cell_type": "code",
   "execution_count": null,
   "metadata": {},
   "outputs": [
    {
     "data": {
      "text/html": [
       "<div>\n",
       "<style scoped>\n",
       "    .dataframe tbody tr th:only-of-type {\n",
       "        vertical-align: middle;\n",
       "    }\n",
       "\n",
       "    .dataframe tbody tr th {\n",
       "        vertical-align: top;\n",
       "    }\n",
       "\n",
       "    .dataframe thead th {\n",
       "        text-align: right;\n",
       "    }\n",
       "</style>\n",
       "<table border=\"1\" class=\"dataframe\">\n",
       "  <thead>\n",
       "    <tr style=\"text-align: right;\">\n",
       "      <th></th>\n",
       "      <th>pickup_datetime</th>\n",
       "      <th>dropOff_datetime</th>\n",
       "      <th>PUlocationID</th>\n",
       "      <th>DOlocationID</th>\n",
       "    </tr>\n",
       "  </thead>\n",
       "  <tbody>\n",
       "    <tr>\n",
       "      <th>0</th>\n",
       "      <td>2021-01-01 00:27:00</td>\n",
       "      <td>2021-01-01 00:44:00</td>\n",
       "      <td>NaN</td>\n",
       "      <td>NaN</td>\n",
       "    </tr>\n",
       "    <tr>\n",
       "      <th>1</th>\n",
       "      <td>2021-01-01 00:50:00</td>\n",
       "      <td>2021-01-01 01:07:00</td>\n",
       "      <td>NaN</td>\n",
       "      <td>NaN</td>\n",
       "    </tr>\n",
       "    <tr>\n",
       "      <th>2</th>\n",
       "      <td>2021-01-01 00:01:00</td>\n",
       "      <td>2021-01-01 01:51:00</td>\n",
       "      <td>NaN</td>\n",
       "      <td>NaN</td>\n",
       "    </tr>\n",
       "    <tr>\n",
       "      <th>3</th>\n",
       "      <td>2021-01-01 00:13:09</td>\n",
       "      <td>2021-01-01 00:21:26</td>\n",
       "      <td>NaN</td>\n",
       "      <td>72.0</td>\n",
       "    </tr>\n",
       "    <tr>\n",
       "      <th>4</th>\n",
       "      <td>2021-01-01 00:38:31</td>\n",
       "      <td>2021-01-01 00:53:44</td>\n",
       "      <td>NaN</td>\n",
       "      <td>61.0</td>\n",
       "    </tr>\n",
       "  </tbody>\n",
       "</table>\n",
       "</div>"
      ],
      "text/plain": [
       "      pickup_datetime    dropOff_datetime  PUlocationID  DOlocationID\n",
       "0 2021-01-01 00:27:00 2021-01-01 00:44:00           NaN           NaN\n",
       "1 2021-01-01 00:50:00 2021-01-01 01:07:00           NaN           NaN\n",
       "2 2021-01-01 00:01:00 2021-01-01 01:51:00           NaN           NaN\n",
       "3 2021-01-01 00:13:09 2021-01-01 00:21:26           NaN          72.0\n",
       "4 2021-01-01 00:38:31 2021-01-01 00:53:44           NaN          61.0"
      ]
     },
     "execution_count": 53,
     "metadata": {},
     "output_type": "execute_result"
    }
   ],
   "source": [
    "df.head()"
   ]
  },
  {
   "cell_type": "code",
   "execution_count": null,
   "metadata": {},
   "outputs": [
    {
     "data": {
      "text/html": [
       "<div>\n",
       "<style scoped>\n",
       "    .dataframe tbody tr th:only-of-type {\n",
       "        vertical-align: middle;\n",
       "    }\n",
       "\n",
       "    .dataframe tbody tr th {\n",
       "        vertical-align: top;\n",
       "    }\n",
       "\n",
       "    .dataframe thead th {\n",
       "        text-align: right;\n",
       "    }\n",
       "</style>\n",
       "<table border=\"1\" class=\"dataframe\">\n",
       "  <thead>\n",
       "    <tr style=\"text-align: right;\">\n",
       "      <th></th>\n",
       "      <th>count</th>\n",
       "      <th>mean</th>\n",
       "      <th>min</th>\n",
       "      <th>25%</th>\n",
       "      <th>50%</th>\n",
       "      <th>75%</th>\n",
       "      <th>max</th>\n",
       "      <th>std</th>\n",
       "    </tr>\n",
       "  </thead>\n",
       "  <tbody>\n",
       "    <tr>\n",
       "      <th>pickup_datetime</th>\n",
       "      <td>49111129</td>\n",
       "      <td>2022-08-28 20:49:03.576095</td>\n",
       "      <td>2021-01-01 00:00:00</td>\n",
       "      <td>2021-11-01 20:46:33</td>\n",
       "      <td>2022-08-31 07:58:00</td>\n",
       "      <td>2023-07-03 19:13:17</td>\n",
       "      <td>2024-03-31 23:59:57</td>\n",
       "      <td>NaN</td>\n",
       "    </tr>\n",
       "    <tr>\n",
       "      <th>dropOff_datetime</th>\n",
       "      <td>49111129</td>\n",
       "      <td>2022-08-28 21:24:30.542736</td>\n",
       "      <td>1917-09-10 21:28:24.290449</td>\n",
       "      <td>2021-11-01 21:12:24</td>\n",
       "      <td>2022-08-31 08:27:00</td>\n",
       "      <td>2023-07-03 20:10:17</td>\n",
       "      <td>2031-05-01 16:00:04</td>\n",
       "      <td>NaN</td>\n",
       "    </tr>\n",
       "    <tr>\n",
       "      <th>PUlocationID</th>\n",
       "      <td>10480257.0</td>\n",
       "      <td>136.63821</td>\n",
       "      <td>1.0</td>\n",
       "      <td>74.0</td>\n",
       "      <td>137.0</td>\n",
       "      <td>206.0</td>\n",
       "      <td>265.0</td>\n",
       "      <td>75.378251</td>\n",
       "    </tr>\n",
       "    <tr>\n",
       "      <th>DOlocationID</th>\n",
       "      <td>41267339.0</td>\n",
       "      <td>135.887925</td>\n",
       "      <td>1.0</td>\n",
       "      <td>69.0</td>\n",
       "      <td>132.0</td>\n",
       "      <td>213.0</td>\n",
       "      <td>265.0</td>\n",
       "      <td>79.919371</td>\n",
       "    </tr>\n",
       "  </tbody>\n",
       "</table>\n",
       "</div>"
      ],
      "text/plain": [
       "                       count                        mean  \\\n",
       "pickup_datetime     49111129  2022-08-28 20:49:03.576095   \n",
       "dropOff_datetime    49111129  2022-08-28 21:24:30.542736   \n",
       "PUlocationID      10480257.0                   136.63821   \n",
       "DOlocationID      41267339.0                  135.887925   \n",
       "\n",
       "                                         min                  25%  \\\n",
       "pickup_datetime          2021-01-01 00:00:00  2021-11-01 20:46:33   \n",
       "dropOff_datetime  1917-09-10 21:28:24.290449  2021-11-01 21:12:24   \n",
       "PUlocationID                             1.0                 74.0   \n",
       "DOlocationID                             1.0                 69.0   \n",
       "\n",
       "                                  50%                  75%  \\\n",
       "pickup_datetime   2022-08-31 07:58:00  2023-07-03 19:13:17   \n",
       "dropOff_datetime  2022-08-31 08:27:00  2023-07-03 20:10:17   \n",
       "PUlocationID                    137.0                206.0   \n",
       "DOlocationID                    132.0                213.0   \n",
       "\n",
       "                                  max        std  \n",
       "pickup_datetime   2024-03-31 23:59:57        NaN  \n",
       "dropOff_datetime  2031-05-01 16:00:04        NaN  \n",
       "PUlocationID                    265.0  75.378251  \n",
       "DOlocationID                    265.0  79.919371  "
      ]
     },
     "execution_count": 54,
     "metadata": {},
     "output_type": "execute_result"
    }
   ],
   "source": [
    "df.describe().T"
   ]
  },
  {
   "cell_type": "markdown",
   "metadata": {},
   "source": [
    "To save space, drop unneeded columns before analysis"
   ]
  },
  {
   "cell_type": "code",
   "execution_count": null,
   "metadata": {},
   "outputs": [
    {
     "data": {
      "text/plain": [
       "Index(['pickup_datetime', 'dropOff_datetime', 'PUlocationID', 'DOlocationID'], dtype='object')"
      ]
     },
     "execution_count": 55,
     "metadata": {},
     "output_type": "execute_result"
    }
   ],
   "source": [
    "df.columns"
   ]
  },
  {
   "cell_type": "code",
   "execution_count": null,
   "metadata": {},
   "outputs": [
    {
     "name": "stdout",
     "output_type": "stream",
     "text": [
      "Number of duplicate rows: 1833610\n"
     ]
    }
   ],
   "source": [
    "print(\"Number of duplicate rows:\", df[df.duplicated()==True].shape[0])"
   ]
  },
  {
   "cell_type": "code",
   "execution_count": null,
   "metadata": {},
   "outputs": [],
   "source": [
    "category_columns = ['PUlocationID', 'DOlocationID']\n",
    "for column in category_columns:\n",
    "    df[column] = df[column].astype('category')"
   ]
  },
  {
   "cell_type": "code",
   "execution_count": null,
   "metadata": {},
   "outputs": [],
   "source": [
    "# Numeric\n",
    "numeric_columns = df.select_dtypes(['int64', 'float64', 'datetime64']).columns"
   ]
  },
  {
   "cell_type": "code",
   "execution_count": null,
   "metadata": {},
   "outputs": [
    {
     "data": {
      "text/html": [
       "<div>\n",
       "<style scoped>\n",
       "    .dataframe tbody tr th:only-of-type {\n",
       "        vertical-align: middle;\n",
       "    }\n",
       "\n",
       "    .dataframe tbody tr th {\n",
       "        vertical-align: top;\n",
       "    }\n",
       "\n",
       "    .dataframe thead th {\n",
       "        text-align: right;\n",
       "    }\n",
       "</style>\n",
       "<table border=\"1\" class=\"dataframe\">\n",
       "  <thead>\n",
       "    <tr style=\"text-align: right;\">\n",
       "      <th></th>\n",
       "      <th>card</th>\n",
       "    </tr>\n",
       "  </thead>\n",
       "  <tbody>\n",
       "    <tr>\n",
       "      <th>pickup_datetime</th>\n",
       "      <td>33227791</td>\n",
       "    </tr>\n",
       "    <tr>\n",
       "      <th>dropOff_datetime</th>\n",
       "      <td>33507864</td>\n",
       "    </tr>\n",
       "  </tbody>\n",
       "</table>\n",
       "</div>"
      ],
      "text/plain": [
       "                      card\n",
       "pickup_datetime   33227791\n",
       "dropOff_datetime  33507864"
      ]
     },
     "execution_count": 59,
     "metadata": {},
     "output_type": "execute_result"
    }
   ],
   "source": [
    "# Get cardinality of the numeric columns\n",
    "numeric_columns_card = df[numeric_columns].nunique()\n",
    "df_numeric_card = pd.DataFrame(numeric_columns_card, columns=['card'])\n",
    "df_numeric_card"
   ]
  },
  {
   "cell_type": "code",
   "execution_count": null,
   "metadata": {},
   "outputs": [
    {
     "data": {
      "text/html": [
       "<div>\n",
       "<style scoped>\n",
       "    .dataframe tbody tr th:only-of-type {\n",
       "        vertical-align: middle;\n",
       "    }\n",
       "\n",
       "    .dataframe tbody tr th {\n",
       "        vertical-align: top;\n",
       "    }\n",
       "\n",
       "    .dataframe thead th {\n",
       "        text-align: right;\n",
       "    }\n",
       "</style>\n",
       "<table border=\"1\" class=\"dataframe\">\n",
       "  <thead>\n",
       "    <tr style=\"text-align: right;\">\n",
       "      <th></th>\n",
       "      <th>count</th>\n",
       "      <th>mean</th>\n",
       "      <th>min</th>\n",
       "      <th>25%</th>\n",
       "      <th>50%</th>\n",
       "      <th>75%</th>\n",
       "      <th>max</th>\n",
       "    </tr>\n",
       "  </thead>\n",
       "  <tbody>\n",
       "    <tr>\n",
       "      <th>pickup_datetime</th>\n",
       "      <td>49111129</td>\n",
       "      <td>2022-08-28 20:49:03.576095</td>\n",
       "      <td>2021-01-01 00:00:00</td>\n",
       "      <td>2021-11-01 20:46:33</td>\n",
       "      <td>2022-08-31 07:58:00</td>\n",
       "      <td>2023-07-03 19:13:17</td>\n",
       "      <td>2024-03-31 23:59:57</td>\n",
       "    </tr>\n",
       "    <tr>\n",
       "      <th>dropOff_datetime</th>\n",
       "      <td>49111129</td>\n",
       "      <td>2022-08-28 21:24:30.542736</td>\n",
       "      <td>1917-09-10 21:28:24.290449</td>\n",
       "      <td>2021-11-01 21:12:24</td>\n",
       "      <td>2022-08-31 08:27:00</td>\n",
       "      <td>2023-07-03 20:10:17</td>\n",
       "      <td>2031-05-01 16:00:04</td>\n",
       "    </tr>\n",
       "  </tbody>\n",
       "</table>\n",
       "</div>"
      ],
      "text/plain": [
       "                     count                        mean  \\\n",
       "pickup_datetime   49111129  2022-08-28 20:49:03.576095   \n",
       "dropOff_datetime  49111129  2022-08-28 21:24:30.542736   \n",
       "\n",
       "                                         min                  25%  \\\n",
       "pickup_datetime          2021-01-01 00:00:00  2021-11-01 20:46:33   \n",
       "dropOff_datetime  1917-09-10 21:28:24.290449  2021-11-01 21:12:24   \n",
       "\n",
       "                                  50%                  75%  \\\n",
       "pickup_datetime   2022-08-31 07:58:00  2023-07-03 19:13:17   \n",
       "dropOff_datetime  2022-08-31 08:27:00  2023-07-03 20:10:17   \n",
       "\n",
       "                                  max  \n",
       "pickup_datetime   2024-03-31 23:59:57  \n",
       "dropOff_datetime  2031-05-01 16:00:04  "
      ]
     },
     "execution_count": 60,
     "metadata": {},
     "output_type": "execute_result"
    }
   ],
   "source": [
    "# First describe the numeric features\n",
    "df_table_numeric = df[numeric_columns].describe().T\n",
    "df_table_numeric"
   ]
  },
  {
   "cell_type": "code",
   "execution_count": null,
   "metadata": {},
   "outputs": [
    {
     "data": {
      "text/html": [
       "<div>\n",
       "<style scoped>\n",
       "    .dataframe tbody tr th:only-of-type {\n",
       "        vertical-align: middle;\n",
       "    }\n",
       "\n",
       "    .dataframe tbody tr th {\n",
       "        vertical-align: top;\n",
       "    }\n",
       "\n",
       "    .dataframe thead th {\n",
       "        text-align: right;\n",
       "    }\n",
       "</style>\n",
       "<table border=\"1\" class=\"dataframe\">\n",
       "  <thead>\n",
       "    <tr style=\"text-align: right;\">\n",
       "      <th></th>\n",
       "      <th>%missing</th>\n",
       "    </tr>\n",
       "  </thead>\n",
       "  <tbody>\n",
       "    <tr>\n",
       "      <th>pickup_datetime</th>\n",
       "      <td>0.0</td>\n",
       "    </tr>\n",
       "    <tr>\n",
       "      <th>dropOff_datetime</th>\n",
       "      <td>0.0</td>\n",
       "    </tr>\n",
       "  </tbody>\n",
       "</table>\n",
       "</div>"
      ],
      "text/plain": [
       "                  %missing\n",
       "pickup_datetime        0.0\n",
       "dropOff_datetime       0.0"
      ]
     },
     "execution_count": 61,
     "metadata": {},
     "output_type": "execute_result"
    }
   ],
   "source": [
    "# Add % missing\n",
    "numeric_columns_missing  = 100 * ((df[numeric_columns].isnull().sum() + df[numeric_columns].isna().sum())/df.shape[0])\n",
    "df_numeric_missing = pd.DataFrame(numeric_columns_missing, columns=['%missing'])\n",
    "df_numeric_missing"
   ]
  },
  {
   "cell_type": "code",
   "execution_count": null,
   "metadata": {},
   "outputs": [
    {
     "data": {
      "text/plain": [
       "PUlocationID    264\n",
       "DOlocationID    265\n",
       "dtype: int64"
      ]
     },
     "execution_count": 62,
     "metadata": {},
     "output_type": "execute_result"
    }
   ],
   "source": [
    "df[category_columns].nunique()"
   ]
  },
  {
   "cell_type": "code",
   "execution_count": null,
   "metadata": {},
   "outputs": [
    {
     "name": "stdout",
     "output_type": "stream",
     "text": [
      "PUlocationID\n",
      "NaN       7.866012e-01\n",
      " 206.0    5.377478e-03\n",
      " 221.0    4.825139e-03\n",
      " 92.0     4.359501e-03\n",
      " 129.0    3.642128e-03\n",
      "              ...     \n",
      " 2.0      2.260180e-06\n",
      " 110.0    8.959273e-07\n",
      " 105.0    6.312215e-07\n",
      " 199.0    8.144793e-08\n",
      " 104.0    4.072397e-08\n",
      "Name: proportion, Length: 265, dtype: float64\n",
      "DOlocationID\n",
      "NaN       1.597151e-01\n",
      " 265.0    2.396194e-02\n",
      " 76.0     2.185623e-02\n",
      " 26.0     1.616031e-02\n",
      " 61.0     1.276778e-02\n",
      "              ...     \n",
      " 105.0    3.217193e-06\n",
      " 110.0    2.056560e-06\n",
      " 199.0    7.737554e-07\n",
      " 103.0    8.144793e-08\n",
      " 104.0    4.072397e-08\n",
      "Name: proportion, Length: 266, dtype: float64\n"
     ]
    }
   ],
   "source": [
    "# Change category cols to remove \n",
    "# Look at the values taken by each categorical feature, as a proportion, including NaN\n",
    "for column in category_columns:\n",
    "    # print(\"\\n\" + column)\n",
    "    print(df[column].value_counts(normalize=True, dropna=False))"
   ]
  },
  {
   "cell_type": "code",
   "execution_count": null,
   "metadata": {},
   "outputs": [
    {
     "name": "stdout",
     "output_type": "stream",
     "text": [
      "{103.0, nan, nan}\n"
     ]
    }
   ],
   "source": [
    "# One value missing for DOLoc that's in PULoc\n",
    "do = set(df['DOlocationID'].unique())\n",
    "pu = set(df['PUlocationID'].unique())\n",
    "diff = do.symmetric_difference(pu)\n",
    "print(diff)"
   ]
  },
  {
   "cell_type": "code",
   "execution_count": null,
   "metadata": {},
   "outputs": [
    {
     "data": {
      "text/plain": [
       "pickup_datetime     38\n",
       "dropOff_datetime    38\n",
       "PUlocationID        31\n",
       "DOlocationID        38\n",
       "dtype: int64"
      ]
     },
     "execution_count": 65,
     "metadata": {},
     "output_type": "execute_result"
    }
   ],
   "source": [
    "df[df['DOlocationID']==199].count()"
   ]
  },
  {
   "cell_type": "code",
   "execution_count": null,
   "metadata": {},
   "outputs": [],
   "source": [
    "df_sample = df.sample(n=1000000)"
   ]
  },
  {
   "cell_type": "code",
   "execution_count": null,
   "metadata": {},
   "outputs": [
    {
     "data": {
      "text/plain": [
       "array([[<Axes: title={'center': 'pickup_datetime'}>,\n",
       "        <Axes: title={'center': 'dropOff_datetime'}>]], dtype=object)"
      ]
     },
     "execution_count": 98,
     "metadata": {},
     "output_type": "execute_result"
    },
    {
     "data": {
      "image/png": "[encoded data removed]",
      "text/plain": [
       "<Figure size 3000x1000 with 2 Axes>"
      ]
     },
     "metadata": {},
     "output_type": "display_data"
    }
   ],
   "source": [
    "df_sample.hist(figsize=(30, 10))"
   ]
  },
  {
   "cell_type": "code",
   "execution_count": null,
   "metadata": {},
   "outputs": [
    {
     "data": {
      "image/png": "[encoded data removed]",
      "text/plain": [
       "<Figure size 1500x1000 with 2 Axes>"
      ]
     },
     "metadata": {},
     "output_type": "display_data"
    }
   ],
   "source": [
    "# Plot categoric columns\n",
    "num_rows = 2\n",
    "\n",
    "# Create a single figure with subplots arranged in a 2-column grid\n",
    "fig, axes = plt.subplots(nrows=num_rows, ncols=1, figsize=(15, 5*num_rows))\n",
    "\n",
    "# Flatten the axes array to simplify indexing\n",
    "axes = axes.flatten()\n",
    "\n",
    "# Iterate over each column\n",
    "for i, column in enumerate(category_columns):\n",
    "    # Plot each bar plot on its corresponding subplot\n",
    "    df_sample[column].value_counts(dropna=False).plot(kind='bar', ax=axes[i])\n",
    "    axes[i].set_title(column)\n",
    "\n",
    "for j in range(len(category_columns), 2):\n",
    "    fig.delaxes(axes[j])\n",
    "\n",
    "plt.show()"
   ]
  },
  {
   "cell_type": "code",
   "execution_count": null,
   "metadata": {},
   "outputs": [],
   "source": [
    "# Look once again at the summary stats table for categorical features\n",
    "df_table_categoric = df[category_columns].describe().T\n",
    "category_columns_perc_missing  = 100 * (df[category_columns].isnull().sum()/df.shape[0])\n",
    "df_category_perc_missing = pd.DataFrame(category_columns_perc_missing, columns=['%missing'])\n",
    "# cardinality\n",
    "category_columns_card = df[category_columns].nunique()\n",
    "df_category_card = pd.DataFrame(category_columns_card, columns=['card'])"
   ]
  },
  {
   "cell_type": "code",
   "execution_count": null,
   "metadata": {},
   "outputs": [],
   "source": [
    "second_val = []\n",
    "second_freq = []\n",
    "for category in category_columns:\n",
    "    # print(df[category].value_counts().index.tolist())\n",
    "    second_val.append(df[category].value_counts().index.tolist()[1])\n",
    "    second_freq.append(df[category].value_counts().iloc[1])"
   ]
  },
  {
   "cell_type": "code",
   "execution_count": null,
   "metadata": {},
   "outputs": [
    {
     "data": {
      "text/html": [
       "<div>\n",
       "<style scoped>\n",
       "    .dataframe tbody tr th:only-of-type {\n",
       "        vertical-align: middle;\n",
       "    }\n",
       "\n",
       "    .dataframe tbody tr th {\n",
       "        vertical-align: top;\n",
       "    }\n",
       "\n",
       "    .dataframe thead th {\n",
       "        text-align: right;\n",
       "    }\n",
       "</style>\n",
       "<table border=\"1\" class=\"dataframe\">\n",
       "  <thead>\n",
       "    <tr style=\"text-align: right;\">\n",
       "      <th></th>\n",
       "      <th>count</th>\n",
       "      <th>unique</th>\n",
       "      <th>top</th>\n",
       "      <th>freq</th>\n",
       "      <th>second</th>\n",
       "      <th>second_freq</th>\n",
       "      <th>%missing</th>\n",
       "      <th>card</th>\n",
       "    </tr>\n",
       "  </thead>\n",
       "  <tbody>\n",
       "    <tr>\n",
       "      <th>PUlocationID</th>\n",
       "      <td>10480257.0</td>\n",
       "      <td>264.0</td>\n",
       "      <td>206.0</td>\n",
       "      <td>264094.0</td>\n",
       "      <td>221.0</td>\n",
       "      <td>236968</td>\n",
       "      <td>78.660118</td>\n",
       "      <td>264</td>\n",
       "    </tr>\n",
       "    <tr>\n",
       "      <th>DOlocationID</th>\n",
       "      <td>41267339.0</td>\n",
       "      <td>265.0</td>\n",
       "      <td>265.0</td>\n",
       "      <td>1176798.0</td>\n",
       "      <td>76.0</td>\n",
       "      <td>1073384</td>\n",
       "      <td>15.971512</td>\n",
       "      <td>265</td>\n",
       "    </tr>\n",
       "  </tbody>\n",
       "</table>\n",
       "</div>"
      ],
      "text/plain": [
       "                   count  unique    top       freq  second  second_freq  \\\n",
       "PUlocationID  10480257.0   264.0  206.0   264094.0   221.0       236968   \n",
       "DOlocationID  41267339.0   265.0  265.0  1176798.0    76.0      1073384   \n",
       "\n",
       "               %missing  card  \n",
       "PUlocationID  78.660118   264  \n",
       "DOlocationID  15.971512   265  "
      ]
     },
     "execution_count": 71,
     "metadata": {},
     "output_type": "execute_result"
    }
   ],
   "source": [
    "# Concatenate numeric, missing and cardinality cols\n",
    "df_categoric_columns_data_quality_report_table = pd.concat([df_table_categoric, df_category_perc_missing, df_category_card], axis=1)\n",
    "\n",
    "df_categoric_columns_data_quality_report_table['second'] = second_val\n",
    "df_categoric_columns_data_quality_report_table['second_freq'] = second_freq\n",
    "\n",
    "df_categoric_columns_data_quality_report_table = df_categoric_columns_data_quality_report_table[['count', 'unique', 'top', 'freq', 'second', 'second_freq', '%missing', 'card']]\n",
    "# Print data quality report table for numeric features to a file.\n",
    "df_categoric_columns_data_quality_report_table.to_csv(\"FHV-Taxi-DataQualityReport-CategoricFeatures-Table.csv\", \n",
    "                                         index_label='Feature')\n",
    "df_categoric_columns_data_quality_report_table"
   ]
  },
  {
   "cell_type": "code",
   "execution_count": null,
   "metadata": {},
   "outputs": [
    {
     "data": {
      "text/html": [
       "<div>\n",
       "<style scoped>\n",
       "    .dataframe tbody tr th:only-of-type {\n",
       "        vertical-align: middle;\n",
       "    }\n",
       "\n",
       "    .dataframe tbody tr th {\n",
       "        vertical-align: top;\n",
       "    }\n",
       "\n",
       "    .dataframe thead th {\n",
       "        text-align: right;\n",
       "    }\n",
       "</style>\n",
       "<table border=\"1\" class=\"dataframe\">\n",
       "  <thead>\n",
       "    <tr style=\"text-align: right;\">\n",
       "      <th></th>\n",
       "      <th>count</th>\n",
       "      <th>mean</th>\n",
       "      <th>min</th>\n",
       "      <th>25%</th>\n",
       "      <th>50%</th>\n",
       "      <th>75%</th>\n",
       "      <th>max</th>\n",
       "      <th>%missing</th>\n",
       "      <th>card</th>\n",
       "    </tr>\n",
       "  </thead>\n",
       "  <tbody>\n",
       "    <tr>\n",
       "      <th>pickup_datetime</th>\n",
       "      <td>49111129</td>\n",
       "      <td>2022-08-28 20:49:03.576095</td>\n",
       "      <td>2021-01-01 00:00:00</td>\n",
       "      <td>2021-11-01 20:46:33</td>\n",
       "      <td>2022-08-31 07:58:00</td>\n",
       "      <td>2023-07-03 19:13:17</td>\n",
       "      <td>2024-03-31 23:59:57</td>\n",
       "      <td>0.0</td>\n",
       "      <td>33227791</td>\n",
       "    </tr>\n",
       "    <tr>\n",
       "      <th>dropOff_datetime</th>\n",
       "      <td>49111129</td>\n",
       "      <td>2022-08-28 21:24:30.542736</td>\n",
       "      <td>1917-09-10 21:28:24.290449</td>\n",
       "      <td>2021-11-01 21:12:24</td>\n",
       "      <td>2022-08-31 08:27:00</td>\n",
       "      <td>2023-07-03 20:10:17</td>\n",
       "      <td>2031-05-01 16:00:04</td>\n",
       "      <td>0.0</td>\n",
       "      <td>33507864</td>\n",
       "    </tr>\n",
       "  </tbody>\n",
       "</table>\n",
       "</div>"
      ],
      "text/plain": [
       "                     count                        mean  \\\n",
       "pickup_datetime   49111129  2022-08-28 20:49:03.576095   \n",
       "dropOff_datetime  49111129  2022-08-28 21:24:30.542736   \n",
       "\n",
       "                                         min                  25%  \\\n",
       "pickup_datetime          2021-01-01 00:00:00  2021-11-01 20:46:33   \n",
       "dropOff_datetime  1917-09-10 21:28:24.290449  2021-11-01 21:12:24   \n",
       "\n",
       "                                  50%                  75%  \\\n",
       "pickup_datetime   2022-08-31 07:58:00  2023-07-03 19:13:17   \n",
       "dropOff_datetime  2022-08-31 08:27:00  2023-07-03 20:10:17   \n",
       "\n",
       "                                  max  %missing      card  \n",
       "pickup_datetime   2024-03-31 23:59:57       0.0  33227791  \n",
       "dropOff_datetime  2031-05-01 16:00:04       0.0  33507864  "
      ]
     },
     "execution_count": 72,
     "metadata": {},
     "output_type": "execute_result"
    }
   ],
   "source": [
    "# Concatenate numeric, missing and cardinality cols\n",
    "df_numeric_columns_data_quality_report_table = pd.concat([df_table_numeric, df_numeric_missing, df_numeric_card], axis=1)\n",
    "\n",
    "# Print data quality report table for numeric features to a file.\n",
    "df_numeric_columns_data_quality_report_table.to_csv(\"FHV-Taxi-DataQualityReport-NumericFeatures-Table.csv\", \n",
    "                                         index_label='Feature')\n",
    "df_numeric_columns_data_quality_report_table"
   ]
  },
  {
   "cell_type": "code",
   "execution_count": null,
   "metadata": {},
   "outputs": [],
   "source": []
  },
  {
   "cell_type": "markdown",
   "metadata": {},
   "source": [
    "### Logical integrity tests\n",
    "1. dropoff not before pickup\n",
    "2. Pickup date before 2021\n",
    "3. Dropoff date > 31st Mar 2024\n",
    "4. Duration of taxi ride > 5hrs\n",
    "5. PU location ID not an allowed value\n",
    "6. DO location ID not an allowed value\n",
    "\n"
   ]
  },
  {
   "cell_type": "code",
   "execution_count": null,
   "metadata": {},
   "outputs": [
    {
     "data": {
      "text/html": [
       "<div>\n",
       "<style scoped>\n",
       "    .dataframe tbody tr th:only-of-type {\n",
       "        vertical-align: middle;\n",
       "    }\n",
       "\n",
       "    .dataframe tbody tr th {\n",
       "        vertical-align: top;\n",
       "    }\n",
       "\n",
       "    .dataframe thead th {\n",
       "        text-align: right;\n",
       "    }\n",
       "</style>\n",
       "<table border=\"1\" class=\"dataframe\">\n",
       "  <thead>\n",
       "    <tr style=\"text-align: right;\">\n",
       "      <th></th>\n",
       "      <th>pickup_datetime</th>\n",
       "      <th>dropOff_datetime</th>\n",
       "      <th>PUlocationID</th>\n",
       "      <th>DOlocationID</th>\n",
       "    </tr>\n",
       "  </thead>\n",
       "  <tbody>\n",
       "    <tr>\n",
       "      <th>32865689</th>\n",
       "      <td>2023-03-31 20:45:33</td>\n",
       "      <td>1917-09-10 21:28:24.290449</td>\n",
       "      <td>NaN</td>\n",
       "      <td>235.0</td>\n",
       "    </tr>\n",
       "  </tbody>\n",
       "</table>\n",
       "</div>"
      ],
      "text/plain": [
       "             pickup_datetime           dropOff_datetime PUlocationID  \\\n",
       "32865689 2023-03-31 20:45:33 1917-09-10 21:28:24.290449          NaN   \n",
       "\n",
       "         DOlocationID  \n",
       "32865689        235.0  "
      ]
     },
     "execution_count": 74,
     "metadata": {},
     "output_type": "execute_result"
    }
   ],
   "source": [
    "# Test 1: \n",
    "df[df['dropOff_datetime']<df['pickup_datetime']]"
   ]
  },
  {
   "cell_type": "code",
   "execution_count": null,
   "metadata": {},
   "outputs": [
    {
     "data": {
      "text/html": [
       "<div>\n",
       "<style scoped>\n",
       "    .dataframe tbody tr th:only-of-type {\n",
       "        vertical-align: middle;\n",
       "    }\n",
       "\n",
       "    .dataframe tbody tr th {\n",
       "        vertical-align: top;\n",
       "    }\n",
       "\n",
       "    .dataframe thead th {\n",
       "        text-align: right;\n",
       "    }\n",
       "</style>\n",
       "<table border=\"1\" class=\"dataframe\">\n",
       "  <thead>\n",
       "    <tr style=\"text-align: right;\">\n",
       "      <th></th>\n",
       "      <th>pickup_datetime</th>\n",
       "      <th>dropOff_datetime</th>\n",
       "      <th>PUlocationID</th>\n",
       "      <th>DOlocationID</th>\n",
       "    </tr>\n",
       "  </thead>\n",
       "  <tbody>\n",
       "  </tbody>\n",
       "</table>\n",
       "</div>"
      ],
      "text/plain": [
       "Empty DataFrame\n",
       "Columns: [pickup_datetime, dropOff_datetime, PUlocationID, DOlocationID]\n",
       "Index: []"
      ]
     },
     "execution_count": 77,
     "metadata": {},
     "output_type": "execute_result"
    }
   ],
   "source": [
    "# Test 2: \n",
    "df[df['pickup_datetime']<pd.to_datetime('2021-01-01')]"
   ]
  },
  {
   "cell_type": "code",
   "execution_count": null,
   "metadata": {},
   "outputs": [
    {
     "data": {
      "text/plain": [
       "pickup_datetime     0\n",
       "dropOff_datetime    0\n",
       "PUlocationID        0\n",
       "DOlocationID        0\n",
       "dtype: int64"
      ]
     },
     "execution_count": 78,
     "metadata": {},
     "output_type": "execute_result"
    }
   ],
   "source": [
    "df[df['pickup_datetime']<pd.to_datetime('2021-01-01')].count()"
   ]
  },
  {
   "cell_type": "code",
   "execution_count": null,
   "metadata": {},
   "outputs": [
    {
     "data": {
      "text/html": [
       "<div>\n",
       "<style scoped>\n",
       "    .dataframe tbody tr th:only-of-type {\n",
       "        vertical-align: middle;\n",
       "    }\n",
       "\n",
       "    .dataframe tbody tr th {\n",
       "        vertical-align: top;\n",
       "    }\n",
       "\n",
       "    .dataframe thead th {\n",
       "        text-align: right;\n",
       "    }\n",
       "</style>\n",
       "<table border=\"1\" class=\"dataframe\">\n",
       "  <thead>\n",
       "    <tr style=\"text-align: right;\">\n",
       "      <th></th>\n",
       "      <th>pickup_datetime</th>\n",
       "      <th>dropOff_datetime</th>\n",
       "      <th>PUlocationID</th>\n",
       "      <th>DOlocationID</th>\n",
       "    </tr>\n",
       "  </thead>\n",
       "  <tbody>\n",
       "    <tr>\n",
       "      <th>4784665</th>\n",
       "      <td>2021-05-01 15:48:11</td>\n",
       "      <td>2031-05-01 16:00:04</td>\n",
       "      <td>NaN</td>\n",
       "      <td>241.0</td>\n",
       "    </tr>\n",
       "    <tr>\n",
       "      <th>6227673</th>\n",
       "      <td>2021-06-05 09:30:00</td>\n",
       "      <td>2024-06-05 10:30:00</td>\n",
       "      <td>NaN</td>\n",
       "      <td>NaN</td>\n",
       "    </tr>\n",
       "    <tr>\n",
       "      <th>7339949</th>\n",
       "      <td>2021-07-01 05:00:00</td>\n",
       "      <td>2027-07-01 06:00:00</td>\n",
       "      <td>NaN</td>\n",
       "      <td>NaN</td>\n",
       "    </tr>\n",
       "    <tr>\n",
       "      <th>14549633</th>\n",
       "      <td>2021-12-24 14:00:38</td>\n",
       "      <td>2024-12-01 14:30:18</td>\n",
       "      <td>NaN</td>\n",
       "      <td>151.0</td>\n",
       "    </tr>\n",
       "    <tr>\n",
       "      <th>25577801</th>\n",
       "      <td>2022-09-26 22:00:00</td>\n",
       "      <td>2027-09-26 23:24:00</td>\n",
       "      <td>NaN</td>\n",
       "      <td>NaN</td>\n",
       "    </tr>\n",
       "    <tr>\n",
       "      <th>...</th>\n",
       "      <td>...</td>\n",
       "      <td>...</td>\n",
       "      <td>...</td>\n",
       "      <td>...</td>\n",
       "    </tr>\n",
       "    <tr>\n",
       "      <th>49111118</th>\n",
       "      <td>2024-03-31 23:51:59</td>\n",
       "      <td>2024-04-01 00:12:48</td>\n",
       "      <td>NaN</td>\n",
       "      <td>85.0</td>\n",
       "    </tr>\n",
       "    <tr>\n",
       "      <th>49111119</th>\n",
       "      <td>2024-03-31 23:36:07</td>\n",
       "      <td>2024-04-01 00:08:02</td>\n",
       "      <td>NaN</td>\n",
       "      <td>37.0</td>\n",
       "    </tr>\n",
       "    <tr>\n",
       "      <th>49111120</th>\n",
       "      <td>2024-03-31 23:59:00</td>\n",
       "      <td>2024-04-01 00:47:00</td>\n",
       "      <td>NaN</td>\n",
       "      <td>NaN</td>\n",
       "    </tr>\n",
       "    <tr>\n",
       "      <th>49111121</th>\n",
       "      <td>2024-03-31 23:36:00</td>\n",
       "      <td>2024-04-01 00:12:00</td>\n",
       "      <td>132.0</td>\n",
       "      <td>231.0</td>\n",
       "    </tr>\n",
       "    <tr>\n",
       "      <th>49111126</th>\n",
       "      <td>2024-03-31 23:46:49</td>\n",
       "      <td>2024-04-01 00:05:43</td>\n",
       "      <td>NaN</td>\n",
       "      <td>85.0</td>\n",
       "    </tr>\n",
       "  </tbody>\n",
       "</table>\n",
       "<p>717 rows × 4 columns</p>\n",
       "</div>"
      ],
      "text/plain": [
       "             pickup_datetime    dropOff_datetime PUlocationID DOlocationID\n",
       "4784665  2021-05-01 15:48:11 2031-05-01 16:00:04          NaN        241.0\n",
       "6227673  2021-06-05 09:30:00 2024-06-05 10:30:00          NaN          NaN\n",
       "7339949  2021-07-01 05:00:00 2027-07-01 06:00:00          NaN          NaN\n",
       "14549633 2021-12-24 14:00:38 2024-12-01 14:30:18          NaN        151.0\n",
       "25577801 2022-09-26 22:00:00 2027-09-26 23:24:00          NaN          NaN\n",
       "...                      ...                 ...          ...          ...\n",
       "49111118 2024-03-31 23:51:59 2024-04-01 00:12:48          NaN         85.0\n",
       "49111119 2024-03-31 23:36:07 2024-04-01 00:08:02          NaN         37.0\n",
       "49111120 2024-03-31 23:59:00 2024-04-01 00:47:00          NaN          NaN\n",
       "49111121 2024-03-31 23:36:00 2024-04-01 00:12:00        132.0        231.0\n",
       "49111126 2024-03-31 23:46:49 2024-04-01 00:05:43          NaN         85.0\n",
       "\n",
       "[717 rows x 4 columns]"
      ]
     },
     "execution_count": 80,
     "metadata": {},
     "output_type": "execute_result"
    }
   ],
   "source": [
    "# Test 3: \n",
    "df[df['dropOff_datetime']>pd.to_datetime('2024-04-01')]"
   ]
  },
  {
   "cell_type": "code",
   "execution_count": null,
   "metadata": {},
   "outputs": [
    {
     "data": {
      "text/html": [
       "<div>\n",
       "<style scoped>\n",
       "    .dataframe tbody tr th:only-of-type {\n",
       "        vertical-align: middle;\n",
       "    }\n",
       "\n",
       "    .dataframe tbody tr th {\n",
       "        vertical-align: top;\n",
       "    }\n",
       "\n",
       "    .dataframe thead th {\n",
       "        text-align: right;\n",
       "    }\n",
       "</style>\n",
       "<table border=\"1\" class=\"dataframe\">\n",
       "  <thead>\n",
       "    <tr style=\"text-align: right;\">\n",
       "      <th></th>\n",
       "      <th>count</th>\n",
       "      <th>mean</th>\n",
       "      <th>min</th>\n",
       "      <th>25%</th>\n",
       "      <th>50%</th>\n",
       "      <th>75%</th>\n",
       "      <th>max</th>\n",
       "    </tr>\n",
       "  </thead>\n",
       "  <tbody>\n",
       "    <tr>\n",
       "      <th>pickup_datetime</th>\n",
       "      <td>717</td>\n",
       "      <td>2024-03-14 17:46:26.662482</td>\n",
       "      <td>2021-05-01 15:48:11</td>\n",
       "      <td>2024-03-13 16:45:00</td>\n",
       "      <td>2024-03-22 18:30:00</td>\n",
       "      <td>2024-03-31 23:42:26</td>\n",
       "      <td>2024-03-31 23:59:57</td>\n",
       "    </tr>\n",
       "    <tr>\n",
       "      <th>dropOff_datetime</th>\n",
       "      <td>717</td>\n",
       "      <td>2024-04-17 00:16:20.949791</td>\n",
       "      <td>2024-04-01 00:00:13</td>\n",
       "      <td>2024-04-01 00:19:00</td>\n",
       "      <td>2024-04-09 14:48:43</td>\n",
       "      <td>2024-04-09 18:42:35</td>\n",
       "      <td>2031-05-01 16:00:04</td>\n",
       "    </tr>\n",
       "  </tbody>\n",
       "</table>\n",
       "</div>"
      ],
      "text/plain": [
       "                 count                        mean                  min  \\\n",
       "pickup_datetime    717  2024-03-14 17:46:26.662482  2021-05-01 15:48:11   \n",
       "dropOff_datetime   717  2024-04-17 00:16:20.949791  2024-04-01 00:00:13   \n",
       "\n",
       "                                  25%                  50%  \\\n",
       "pickup_datetime   2024-03-13 16:45:00  2024-03-22 18:30:00   \n",
       "dropOff_datetime  2024-04-01 00:19:00  2024-04-09 14:48:43   \n",
       "\n",
       "                                  75%                  max  \n",
       "pickup_datetime   2024-03-31 23:42:26  2024-03-31 23:59:57  \n",
       "dropOff_datetime  2024-04-09 18:42:35  2031-05-01 16:00:04  "
      ]
     },
     "execution_count": 82,
     "metadata": {},
     "output_type": "execute_result"
    }
   ],
   "source": [
    "late_dropoff = df[df['dropOff_datetime']>pd.to_datetime('2024-04-01')]\n",
    "late_dropoff.describe().T"
   ]
  },
  {
   "cell_type": "code",
   "execution_count": null,
   "metadata": {},
   "outputs": [
    {
     "data": {
      "text/html": [
       "<div>\n",
       "<style scoped>\n",
       "    .dataframe tbody tr th:only-of-type {\n",
       "        vertical-align: middle;\n",
       "    }\n",
       "\n",
       "    .dataframe tbody tr th {\n",
       "        vertical-align: top;\n",
       "    }\n",
       "\n",
       "    .dataframe thead th {\n",
       "        text-align: right;\n",
       "    }\n",
       "</style>\n",
       "<table border=\"1\" class=\"dataframe\">\n",
       "  <thead>\n",
       "    <tr style=\"text-align: right;\">\n",
       "      <th></th>\n",
       "      <th>pickup_datetime</th>\n",
       "      <th>dropOff_datetime</th>\n",
       "      <th>PUlocationID</th>\n",
       "      <th>DOlocationID</th>\n",
       "    </tr>\n",
       "  </thead>\n",
       "  <tbody>\n",
       "    <tr>\n",
       "      <th>581</th>\n",
       "      <td>2021-01-01 00:17:19</td>\n",
       "      <td>2021-01-02 00:29:19</td>\n",
       "      <td>NaN</td>\n",
       "      <td>NaN</td>\n",
       "    </tr>\n",
       "    <tr>\n",
       "      <th>582</th>\n",
       "      <td>2021-01-01 00:03:31</td>\n",
       "      <td>2021-01-02 00:20:31</td>\n",
       "      <td>NaN</td>\n",
       "      <td>NaN</td>\n",
       "    </tr>\n",
       "    <tr>\n",
       "      <th>6350</th>\n",
       "      <td>2021-01-01 07:46:05</td>\n",
       "      <td>2021-01-01 23:37:04</td>\n",
       "      <td>NaN</td>\n",
       "      <td>NaN</td>\n",
       "    </tr>\n",
       "    <tr>\n",
       "      <th>6351</th>\n",
       "      <td>2021-01-01 07:08:00</td>\n",
       "      <td>2021-01-01 23:52:30</td>\n",
       "      <td>NaN</td>\n",
       "      <td>NaN</td>\n",
       "    </tr>\n",
       "    <tr>\n",
       "      <th>6892</th>\n",
       "      <td>2021-01-01 07:35:00</td>\n",
       "      <td>2021-01-02 07:55:00</td>\n",
       "      <td>NaN</td>\n",
       "      <td>NaN</td>\n",
       "    </tr>\n",
       "    <tr>\n",
       "      <th>...</th>\n",
       "      <td>...</td>\n",
       "      <td>...</td>\n",
       "      <td>...</td>\n",
       "      <td>...</td>\n",
       "    </tr>\n",
       "    <tr>\n",
       "      <th>49102688</th>\n",
       "      <td>2024-03-31 17:00:00</td>\n",
       "      <td>2024-04-01 01:07:00</td>\n",
       "      <td>NaN</td>\n",
       "      <td>NaN</td>\n",
       "    </tr>\n",
       "    <tr>\n",
       "      <th>49102699</th>\n",
       "      <td>2024-03-31 17:57:38</td>\n",
       "      <td>2024-03-31 23:02:14</td>\n",
       "      <td>NaN</td>\n",
       "      <td>NaN</td>\n",
       "    </tr>\n",
       "    <tr>\n",
       "      <th>49103422</th>\n",
       "      <td>2024-03-31 18:13:51</td>\n",
       "      <td>2024-03-31 23:30:20</td>\n",
       "      <td>NaN</td>\n",
       "      <td>NaN</td>\n",
       "    </tr>\n",
       "    <tr>\n",
       "      <th>49105810</th>\n",
       "      <td>2024-03-31 19:28:55</td>\n",
       "      <td>2024-04-01 01:55:05</td>\n",
       "      <td>NaN</td>\n",
       "      <td>NaN</td>\n",
       "    </tr>\n",
       "    <tr>\n",
       "      <th>49108417</th>\n",
       "      <td>2024-03-31 21:31:38</td>\n",
       "      <td>2024-04-05 23:29:51</td>\n",
       "      <td>173.0</td>\n",
       "      <td>173.0</td>\n",
       "    </tr>\n",
       "  </tbody>\n",
       "</table>\n",
       "<p>126831 rows × 4 columns</p>\n",
       "</div>"
      ],
      "text/plain": [
       "             pickup_datetime    dropOff_datetime PUlocationID DOlocationID\n",
       "581      2021-01-01 00:17:19 2021-01-02 00:29:19          NaN          NaN\n",
       "582      2021-01-01 00:03:31 2021-01-02 00:20:31          NaN          NaN\n",
       "6350     2021-01-01 07:46:05 2021-01-01 23:37:04          NaN          NaN\n",
       "6351     2021-01-01 07:08:00 2021-01-01 23:52:30          NaN          NaN\n",
       "6892     2021-01-01 07:35:00 2021-01-02 07:55:00          NaN          NaN\n",
       "...                      ...                 ...          ...          ...\n",
       "49102688 2024-03-31 17:00:00 2024-04-01 01:07:00          NaN          NaN\n",
       "49102699 2024-03-31 17:57:38 2024-03-31 23:02:14          NaN          NaN\n",
       "49103422 2024-03-31 18:13:51 2024-03-31 23:30:20          NaN          NaN\n",
       "49105810 2024-03-31 19:28:55 2024-04-01 01:55:05          NaN          NaN\n",
       "49108417 2024-03-31 21:31:38 2024-04-05 23:29:51        173.0        173.0\n",
       "\n",
       "[126831 rows x 4 columns]"
      ]
     },
     "execution_count": 84,
     "metadata": {},
     "output_type": "execute_result"
    }
   ],
   "source": [
    "# Test 4:\n",
    "time_diff = pd.Timedelta(hours=5)\n",
    "df[df['dropOff_datetime']-df['pickup_datetime'] > time_diff]"
   ]
  },
  {
   "cell_type": "code",
   "execution_count": null,
   "metadata": {},
   "outputs": [
    {
     "name": "stderr",
     "output_type": "stream",
     "text": [
      "C:\\Users\\Daniel\\AppData\\Local\\Temp\\ipykernel_5600\\2633472307.py:2: SettingWithCopyWarning: \n",
      "A value is trying to be set on a copy of a slice from a DataFrame.\n",
      "Try using .loc[row_indexer,col_indexer] = value instead\n",
      "\n",
      "See the caveats in the documentation: https://pandas.pydata.org/pandas-docs/stable/user_guide/indexing.html#returning-a-view-versus-a-copy\n",
      "  long_rides['time_diff'] = long_rides['dropOff_datetime']-long_rides['pickup_datetime']\n"
     ]
    },
    {
     "data": {
      "text/html": [
       "<div>\n",
       "<style scoped>\n",
       "    .dataframe tbody tr th:only-of-type {\n",
       "        vertical-align: middle;\n",
       "    }\n",
       "\n",
       "    .dataframe tbody tr th {\n",
       "        vertical-align: top;\n",
       "    }\n",
       "\n",
       "    .dataframe thead th {\n",
       "        text-align: right;\n",
       "    }\n",
       "</style>\n",
       "<table border=\"1\" class=\"dataframe\">\n",
       "  <thead>\n",
       "    <tr style=\"text-align: right;\">\n",
       "      <th></th>\n",
       "      <th>count</th>\n",
       "      <th>mean</th>\n",
       "      <th>min</th>\n",
       "      <th>25%</th>\n",
       "      <th>50%</th>\n",
       "      <th>75%</th>\n",
       "      <th>max</th>\n",
       "      <th>std</th>\n",
       "    </tr>\n",
       "  </thead>\n",
       "  <tbody>\n",
       "    <tr>\n",
       "      <th>pickup_datetime</th>\n",
       "      <td>126831</td>\n",
       "      <td>2022-07-28 20:03:25.134659</td>\n",
       "      <td>2021-01-01 00:03:31</td>\n",
       "      <td>2021-09-22 05:49:30.500000</td>\n",
       "      <td>2022-07-15 10:45:00</td>\n",
       "      <td>2023-05-16 15:55:00</td>\n",
       "      <td>2024-03-31 21:31:38</td>\n",
       "      <td>NaN</td>\n",
       "    </tr>\n",
       "    <tr>\n",
       "      <th>dropOff_datetime</th>\n",
       "      <td>126831</td>\n",
       "      <td>2022-08-01 09:16:42.453083</td>\n",
       "      <td>2021-01-01 16:12:00</td>\n",
       "      <td>2021-09-22 15:44:00</td>\n",
       "      <td>2022-07-18 18:43:09</td>\n",
       "      <td>2023-05-24 15:10:00</td>\n",
       "      <td>2031-05-01 16:00:04</td>\n",
       "      <td>NaN</td>\n",
       "    </tr>\n",
       "    <tr>\n",
       "      <th>time_diff</th>\n",
       "      <td>126831</td>\n",
       "      <td>3 days 13:13:17.318423</td>\n",
       "      <td>0 days 05:00:01</td>\n",
       "      <td>0 days 06:07:00</td>\n",
       "      <td>0 days 07:55:00</td>\n",
       "      <td>0 days 11:40:31</td>\n",
       "      <td>3652 days 00:11:53</td>\n",
       "      <td>29 days 06:10:42.348331</td>\n",
       "    </tr>\n",
       "  </tbody>\n",
       "</table>\n",
       "</div>"
      ],
      "text/plain": [
       "                   count                        mean                  min  \\\n",
       "pickup_datetime   126831  2022-07-28 20:03:25.134659  2021-01-01 00:03:31   \n",
       "dropOff_datetime  126831  2022-08-01 09:16:42.453083  2021-01-01 16:12:00   \n",
       "time_diff         126831      3 days 13:13:17.318423      0 days 05:00:01   \n",
       "\n",
       "                                         25%                  50%  \\\n",
       "pickup_datetime   2021-09-22 05:49:30.500000  2022-07-15 10:45:00   \n",
       "dropOff_datetime         2021-09-22 15:44:00  2022-07-18 18:43:09   \n",
       "time_diff                    0 days 06:07:00      0 days 07:55:00   \n",
       "\n",
       "                                  75%                  max  \\\n",
       "pickup_datetime   2023-05-16 15:55:00  2024-03-31 21:31:38   \n",
       "dropOff_datetime  2023-05-24 15:10:00  2031-05-01 16:00:04   \n",
       "time_diff             0 days 11:40:31   3652 days 00:11:53   \n",
       "\n",
       "                                      std  \n",
       "pickup_datetime                       NaN  \n",
       "dropOff_datetime                      NaN  \n",
       "time_diff         29 days 06:10:42.348331  "
      ]
     },
     "execution_count": 86,
     "metadata": {},
     "output_type": "execute_result"
    }
   ],
   "source": [
    "long_rides = df[df['dropOff_datetime']-df['pickup_datetime'] > time_diff]\n",
    "long_rides['time_diff'] = long_rides['dropOff_datetime']-long_rides['pickup_datetime']\n",
    "long_rides.describe().T"
   ]
  },
  {
   "cell_type": "code",
   "execution_count": null,
   "metadata": {},
   "outputs": [
    {
     "data": {
      "text/html": [
       "<div>\n",
       "<style scoped>\n",
       "    .dataframe tbody tr th:only-of-type {\n",
       "        vertical-align: middle;\n",
       "    }\n",
       "\n",
       "    .dataframe tbody tr th {\n",
       "        vertical-align: top;\n",
       "    }\n",
       "\n",
       "    .dataframe thead th {\n",
       "        text-align: right;\n",
       "    }\n",
       "</style>\n",
       "<table border=\"1\" class=\"dataframe\">\n",
       "  <thead>\n",
       "    <tr style=\"text-align: right;\">\n",
       "      <th></th>\n",
       "      <th>pickup_datetime</th>\n",
       "      <th>dropOff_datetime</th>\n",
       "      <th>PUlocationID</th>\n",
       "      <th>DOlocationID</th>\n",
       "    </tr>\n",
       "  </thead>\n",
       "  <tbody>\n",
       "  </tbody>\n",
       "</table>\n",
       "</div>"
      ],
      "text/plain": [
       "Empty DataFrame\n",
       "Columns: [pickup_datetime, dropOff_datetime, PUlocationID, DOlocationID]\n",
       "Index: []"
      ]
     },
     "execution_count": 95,
     "metadata": {},
     "output_type": "execute_result"
    }
   ],
   "source": [
    "# Test 7:\n",
    "taxi_lookup = pd.read_csv('taxi_zone_lookup.csv')\n",
    "taxi_zones = set(taxi_lookup['LocationID'])\n",
    "df[~(df['PUlocationID'].isin(taxi_zones) | df['PUlocationID'].isna())]"
   ]
  },
  {
   "cell_type": "code",
   "execution_count": null,
   "metadata": {},
   "outputs": [
    {
     "data": {
      "text/html": [
       "<div>\n",
       "<style scoped>\n",
       "    .dataframe tbody tr th:only-of-type {\n",
       "        vertical-align: middle;\n",
       "    }\n",
       "\n",
       "    .dataframe tbody tr th {\n",
       "        vertical-align: top;\n",
       "    }\n",
       "\n",
       "    .dataframe thead th {\n",
       "        text-align: right;\n",
       "    }\n",
       "</style>\n",
       "<table border=\"1\" class=\"dataframe\">\n",
       "  <thead>\n",
       "    <tr style=\"text-align: right;\">\n",
       "      <th></th>\n",
       "      <th>pickup_datetime</th>\n",
       "      <th>dropOff_datetime</th>\n",
       "      <th>PUlocationID</th>\n",
       "      <th>DOlocationID</th>\n",
       "    </tr>\n",
       "  </thead>\n",
       "  <tbody>\n",
       "  </tbody>\n",
       "</table>\n",
       "</div>"
      ],
      "text/plain": [
       "Empty DataFrame\n",
       "Columns: [pickup_datetime, dropOff_datetime, PUlocationID, DOlocationID]\n",
       "Index: []"
      ]
     },
     "execution_count": 94,
     "metadata": {},
     "output_type": "execute_result"
    }
   ],
   "source": [
    "df[~(df['DOlocationID'].isin(taxi_zones) | df['DOlocationID'].isna()) ]"
   ]
  }
 ],
 "metadata": {
  "kernelspec": {
   "display_name": "COMP47360",
   "language": "python",
   "name": "python3"
  },
  "language_info": {
   "codemirror_mode": {
    "name": "ipython",
    "version": 3
   },
   "file_extension": ".py",
   "mimetype": "text/x-python",
   "name": "python",
   "nbconvert_exporter": "python",
   "pygments_lexer": "ipython3",
   "version": "3.12.3"
  }
 },
 "nbformat": 4,
 "nbformat_minor": 2
}
