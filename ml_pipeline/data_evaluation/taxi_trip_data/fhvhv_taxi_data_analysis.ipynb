{
 "cells": [
  {
   "cell_type": "markdown",
   "metadata": {},
   "source": [
    "This notebook is for evaluating FHV taxi data for use in busyness data"
   ]
  },
  {
   "cell_type": "code",
   "execution_count": 1,
   "metadata": {},
   "outputs": [],
   "source": [
    "import pandas as pd\n",
    "import matplotlib.pyplot as plt\n",
    "import numpy as np\n",
    "import pandas as pd\n",
    "import pyarrow as pa\n",
    "import pyarrow.parquet as pq\n",
    "import os"
   ]
  },
  {
   "cell_type": "code",
   "execution_count": 2,
   "metadata": {},
   "outputs": [],
   "source": [
    "# TODO: Iterate over the whole file\n",
    "# Options:\n",
    "# Do it with pyarrow slice by slice\n",
    "parquet_file = \"all_fhvhv_tripdata.parquet\"\n",
    "parquet_reader = pq.ParquetFile(parquet_file)\n"
   ]
  },
  {
   "cell_type": "code",
   "execution_count": 3,
   "metadata": {},
   "outputs": [
    {
     "name": "stdout",
     "output_type": "stream",
     "text": [
      "['pickup_datetime', 'dropoff_datetime', 'PULocationID', 'DOLocationID']\n"
     ]
    }
   ],
   "source": [
    "print(parquet_reader.schema.names)"
   ]
  },
  {
   "cell_type": "code",
   "execution_count": 4,
   "metadata": {},
   "outputs": [
    {
     "name": "stdout",
     "output_type": "stream",
     "text": [
      "679806621\n",
      "669\n"
     ]
    }
   ],
   "source": [
    "num_rows = parquet_reader.metadata.num_rows\n",
    "num_row_groups = parquet_reader.num_row_groups\n",
    "# df.shape[0]\n",
    "print(num_rows)\n",
    "print(num_row_groups)"
   ]
  },
  {
   "cell_type": "code",
   "execution_count": 5,
   "metadata": {},
   "outputs": [],
   "source": [
    "rows_to_read = [i for i in range(0, num_row_groups, 5)]\n",
    "table = parquet_reader.read_row_groups(rows_to_read)\n",
    "df = table.to_pandas()\n"
   ]
  },
  {
   "cell_type": "code",
   "execution_count": 6,
   "metadata": {},
   "outputs": [
    {
     "data": {
      "text/plain": [
       "Index(['pickup_datetime', 'dropoff_datetime', 'PULocationID', 'DOLocationID'], dtype='object')"
      ]
     },
     "execution_count": 6,
     "metadata": {},
     "output_type": "execute_result"
    }
   ],
   "source": [
    "df.columns"
   ]
  },
  {
   "cell_type": "code",
   "execution_count": 14,
   "metadata": {},
   "outputs": [
    {
     "name": "stdout",
     "output_type": "stream",
     "text": [
      "Number of rows: 138521711\n",
      "Number of cols: 4\n",
      "Data types:\n",
      "pickup_datetime     datetime64[us]\n",
      "dropoff_datetime    datetime64[us]\n",
      "PULocationID                 int64\n",
      "DOLocationID                 int64\n",
      "dtype: object\n"
     ]
    }
   ],
   "source": [
    "print(\"Number of rows:\", df.shape[0])\n",
    "print(\"Number of cols:\", df.shape[1])\n",
    "print(\"Data types:\") \n",
    "print(df.dtypes)"
   ]
  },
  {
   "cell_type": "code",
   "execution_count": 8,
   "metadata": {},
   "outputs": [
    {
     "data": {
      "text/html": [
       "<div>\n",
       "<style scoped>\n",
       "    .dataframe tbody tr th:only-of-type {\n",
       "        vertical-align: middle;\n",
       "    }\n",
       "\n",
       "    .dataframe tbody tr th {\n",
       "        vertical-align: top;\n",
       "    }\n",
       "\n",
       "    .dataframe thead th {\n",
       "        text-align: right;\n",
       "    }\n",
       "</style>\n",
       "<table border=\"1\" class=\"dataframe\">\n",
       "  <thead>\n",
       "    <tr style=\"text-align: right;\">\n",
       "      <th></th>\n",
       "      <th>pickup_datetime</th>\n",
       "      <th>dropoff_datetime</th>\n",
       "      <th>PULocationID</th>\n",
       "      <th>DOLocationID</th>\n",
       "    </tr>\n",
       "  </thead>\n",
       "  <tbody>\n",
       "    <tr>\n",
       "      <th>0</th>\n",
       "      <td>2021-01-01 00:33:44</td>\n",
       "      <td>2021-01-01 00:49:07</td>\n",
       "      <td>230</td>\n",
       "      <td>166</td>\n",
       "    </tr>\n",
       "    <tr>\n",
       "      <th>1</th>\n",
       "      <td>2021-01-01 00:55:19</td>\n",
       "      <td>2021-01-01 01:18:21</td>\n",
       "      <td>152</td>\n",
       "      <td>167</td>\n",
       "    </tr>\n",
       "    <tr>\n",
       "      <th>2</th>\n",
       "      <td>2021-01-01 00:23:56</td>\n",
       "      <td>2021-01-01 00:38:05</td>\n",
       "      <td>233</td>\n",
       "      <td>142</td>\n",
       "    </tr>\n",
       "    <tr>\n",
       "      <th>3</th>\n",
       "      <td>2021-01-01 00:42:51</td>\n",
       "      <td>2021-01-01 00:45:50</td>\n",
       "      <td>142</td>\n",
       "      <td>143</td>\n",
       "    </tr>\n",
       "    <tr>\n",
       "      <th>4</th>\n",
       "      <td>2021-01-01 00:48:14</td>\n",
       "      <td>2021-01-01 01:08:42</td>\n",
       "      <td>143</td>\n",
       "      <td>78</td>\n",
       "    </tr>\n",
       "  </tbody>\n",
       "</table>\n",
       "</div>"
      ],
      "text/plain": [
       "      pickup_datetime    dropoff_datetime  PULocationID  DOLocationID\n",
       "0 2021-01-01 00:33:44 2021-01-01 00:49:07           230           166\n",
       "1 2021-01-01 00:55:19 2021-01-01 01:18:21           152           167\n",
       "2 2021-01-01 00:23:56 2021-01-01 00:38:05           233           142\n",
       "3 2021-01-01 00:42:51 2021-01-01 00:45:50           142           143\n",
       "4 2021-01-01 00:48:14 2021-01-01 01:08:42           143            78"
      ]
     },
     "execution_count": 8,
     "metadata": {},
     "output_type": "execute_result"
    }
   ],
   "source": [
    "df.head()"
   ]
  },
  {
   "cell_type": "code",
   "execution_count": 9,
   "metadata": {},
   "outputs": [
    {
     "data": {
      "text/html": [
       "<div>\n",
       "<style scoped>\n",
       "    .dataframe tbody tr th:only-of-type {\n",
       "        vertical-align: middle;\n",
       "    }\n",
       "\n",
       "    .dataframe tbody tr th {\n",
       "        vertical-align: top;\n",
       "    }\n",
       "\n",
       "    .dataframe thead th {\n",
       "        text-align: right;\n",
       "    }\n",
       "</style>\n",
       "<table border=\"1\" class=\"dataframe\">\n",
       "  <thead>\n",
       "    <tr style=\"text-align: right;\">\n",
       "      <th></th>\n",
       "      <th>count</th>\n",
       "      <th>mean</th>\n",
       "      <th>min</th>\n",
       "      <th>25%</th>\n",
       "      <th>50%</th>\n",
       "      <th>75%</th>\n",
       "      <th>max</th>\n",
       "      <th>std</th>\n",
       "    </tr>\n",
       "  </thead>\n",
       "  <tbody>\n",
       "    <tr>\n",
       "      <th>pickup_datetime</th>\n",
       "      <td>138521711</td>\n",
       "      <td>2022-09-23 20:05:12.121333</td>\n",
       "      <td>2021-01-01 00:00:00</td>\n",
       "      <td>2021-12-23 16:05:56</td>\n",
       "      <td>2022-10-16 10:56:10</td>\n",
       "      <td>2023-07-10 09:16:35</td>\n",
       "      <td>2024-03-28 16:59:59</td>\n",
       "      <td>NaN</td>\n",
       "    </tr>\n",
       "    <tr>\n",
       "      <th>dropoff_datetime</th>\n",
       "      <td>138521711</td>\n",
       "      <td>2022-09-23 20:24:20.928783</td>\n",
       "      <td>2021-01-01 00:02:42</td>\n",
       "      <td>2021-12-23 16:22:25.500000</td>\n",
       "      <td>2022-10-16 11:13:14</td>\n",
       "      <td>2023-07-10 09:36:21</td>\n",
       "      <td>2024-03-28 21:08:24</td>\n",
       "      <td>NaN</td>\n",
       "    </tr>\n",
       "    <tr>\n",
       "      <th>PULocationID</th>\n",
       "      <td>138521711.0</td>\n",
       "      <td>138.436151</td>\n",
       "      <td>1.0</td>\n",
       "      <td>75.0</td>\n",
       "      <td>140.0</td>\n",
       "      <td>210.0</td>\n",
       "      <td>265.0</td>\n",
       "      <td>75.103729</td>\n",
       "    </tr>\n",
       "    <tr>\n",
       "      <th>DOLocationID</th>\n",
       "      <td>138521711.0</td>\n",
       "      <td>142.079625</td>\n",
       "      <td>1.0</td>\n",
       "      <td>75.0</td>\n",
       "      <td>141.0</td>\n",
       "      <td>217.0</td>\n",
       "      <td>265.0</td>\n",
       "      <td>77.928786</td>\n",
       "    </tr>\n",
       "  </tbody>\n",
       "</table>\n",
       "</div>"
      ],
      "text/plain": [
       "                        count                        mean  \\\n",
       "pickup_datetime     138521711  2022-09-23 20:05:12.121333   \n",
       "dropoff_datetime    138521711  2022-09-23 20:24:20.928783   \n",
       "PULocationID      138521711.0                  138.436151   \n",
       "DOLocationID      138521711.0                  142.079625   \n",
       "\n",
       "                                  min                         25%  \\\n",
       "pickup_datetime   2021-01-01 00:00:00         2021-12-23 16:05:56   \n",
       "dropoff_datetime  2021-01-01 00:02:42  2021-12-23 16:22:25.500000   \n",
       "PULocationID                      1.0                        75.0   \n",
       "DOLocationID                      1.0                        75.0   \n",
       "\n",
       "                                  50%                  75%  \\\n",
       "pickup_datetime   2022-10-16 10:56:10  2023-07-10 09:16:35   \n",
       "dropoff_datetime  2022-10-16 11:13:14  2023-07-10 09:36:21   \n",
       "PULocationID                    140.0                210.0   \n",
       "DOLocationID                    141.0                217.0   \n",
       "\n",
       "                                  max        std  \n",
       "pickup_datetime   2024-03-28 16:59:59        NaN  \n",
       "dropoff_datetime  2024-03-28 21:08:24        NaN  \n",
       "PULocationID                    265.0  75.103729  \n",
       "DOLocationID                    265.0  77.928786  "
      ]
     },
     "execution_count": 9,
     "metadata": {},
     "output_type": "execute_result"
    }
   ],
   "source": [
    "df.describe().T"
   ]
  },
  {
   "cell_type": "markdown",
   "metadata": {},
   "source": [
    "To save space, drop unneeded columns before analysis"
   ]
  },
  {
   "cell_type": "code",
   "execution_count": 10,
   "metadata": {},
   "outputs": [
    {
     "data": {
      "text/plain": [
       "Index(['pickup_datetime', 'dropoff_datetime', 'PULocationID', 'DOLocationID'], dtype='object')"
      ]
     },
     "execution_count": 10,
     "metadata": {},
     "output_type": "execute_result"
    }
   ],
   "source": [
    "df.columns"
   ]
  },
  {
   "cell_type": "code",
   "execution_count": 11,
   "metadata": {},
   "outputs": [
    {
     "name": "stdout",
     "output_type": "stream",
     "text": [
      "Number of duplicate rows: 1203\n"
     ]
    }
   ],
   "source": [
    "print(\"Number of duplicate rows:\", df[df.duplicated()==True].shape[0])"
   ]
  },
  {
   "cell_type": "code",
   "execution_count": 15,
   "metadata": {},
   "outputs": [],
   "source": [
    "category_columns = ['PULocationID', 'DOLocationID']\n",
    "for column in category_columns:\n",
    "    df[column] = df[column].astype('category')"
   ]
  },
  {
   "cell_type": "code",
   "execution_count": 16,
   "metadata": {},
   "outputs": [],
   "source": [
    "# Numeric\n",
    "numeric_columns = df.select_dtypes(['int64', 'float64', 'datetime64']).columns"
   ]
  },
  {
   "cell_type": "code",
   "execution_count": 17,
   "metadata": {},
   "outputs": [
    {
     "data": {
      "text/html": [
       "<div>\n",
       "<style scoped>\n",
       "    .dataframe tbody tr th:only-of-type {\n",
       "        vertical-align: middle;\n",
       "    }\n",
       "\n",
       "    .dataframe tbody tr th {\n",
       "        vertical-align: top;\n",
       "    }\n",
       "\n",
       "    .dataframe thead th {\n",
       "        text-align: right;\n",
       "    }\n",
       "</style>\n",
       "<table border=\"1\" class=\"dataframe\">\n",
       "  <thead>\n",
       "    <tr style=\"text-align: right;\">\n",
       "      <th></th>\n",
       "      <th>card</th>\n",
       "    </tr>\n",
       "  </thead>\n",
       "  <tbody>\n",
       "    <tr>\n",
       "      <th>pickup_datetime</th>\n",
       "      <td>20622121</td>\n",
       "    </tr>\n",
       "    <tr>\n",
       "      <th>dropoff_datetime</th>\n",
       "      <td>20797430</td>\n",
       "    </tr>\n",
       "  </tbody>\n",
       "</table>\n",
       "</div>"
      ],
      "text/plain": [
       "                      card\n",
       "pickup_datetime   20622121\n",
       "dropoff_datetime  20797430"
      ]
     },
     "execution_count": 17,
     "metadata": {},
     "output_type": "execute_result"
    }
   ],
   "source": [
    "# Get cardinality of the numeric columns\n",
    "numeric_columns_card = df[numeric_columns].nunique()\n",
    "df_numeric_card = pd.DataFrame(numeric_columns_card, columns=['card'])\n",
    "df_numeric_card"
   ]
  },
  {
   "cell_type": "code",
   "execution_count": 18,
   "metadata": {},
   "outputs": [
    {
     "data": {
      "text/html": [
       "<div>\n",
       "<style scoped>\n",
       "    .dataframe tbody tr th:only-of-type {\n",
       "        vertical-align: middle;\n",
       "    }\n",
       "\n",
       "    .dataframe tbody tr th {\n",
       "        vertical-align: top;\n",
       "    }\n",
       "\n",
       "    .dataframe thead th {\n",
       "        text-align: right;\n",
       "    }\n",
       "</style>\n",
       "<table border=\"1\" class=\"dataframe\">\n",
       "  <thead>\n",
       "    <tr style=\"text-align: right;\">\n",
       "      <th></th>\n",
       "      <th>count</th>\n",
       "      <th>mean</th>\n",
       "      <th>min</th>\n",
       "      <th>25%</th>\n",
       "      <th>50%</th>\n",
       "      <th>75%</th>\n",
       "      <th>max</th>\n",
       "    </tr>\n",
       "  </thead>\n",
       "  <tbody>\n",
       "    <tr>\n",
       "      <th>pickup_datetime</th>\n",
       "      <td>138521711</td>\n",
       "      <td>2022-09-23 20:05:12.121333</td>\n",
       "      <td>2021-01-01 00:00:00</td>\n",
       "      <td>2021-12-23 16:05:56</td>\n",
       "      <td>2022-10-16 10:56:10</td>\n",
       "      <td>2023-07-10 09:16:35</td>\n",
       "      <td>2024-03-28 16:59:59</td>\n",
       "    </tr>\n",
       "    <tr>\n",
       "      <th>dropoff_datetime</th>\n",
       "      <td>138521711</td>\n",
       "      <td>2022-09-23 20:24:20.928783</td>\n",
       "      <td>2021-01-01 00:02:42</td>\n",
       "      <td>2021-12-23 16:22:25.500000</td>\n",
       "      <td>2022-10-16 11:13:14</td>\n",
       "      <td>2023-07-10 09:36:21</td>\n",
       "      <td>2024-03-28 21:08:24</td>\n",
       "    </tr>\n",
       "  </tbody>\n",
       "</table>\n",
       "</div>"
      ],
      "text/plain": [
       "                      count                        mean                  min  \\\n",
       "pickup_datetime   138521711  2022-09-23 20:05:12.121333  2021-01-01 00:00:00   \n",
       "dropoff_datetime  138521711  2022-09-23 20:24:20.928783  2021-01-01 00:02:42   \n",
       "\n",
       "                                         25%                  50%  \\\n",
       "pickup_datetime          2021-12-23 16:05:56  2022-10-16 10:56:10   \n",
       "dropoff_datetime  2021-12-23 16:22:25.500000  2022-10-16 11:13:14   \n",
       "\n",
       "                                  75%                  max  \n",
       "pickup_datetime   2023-07-10 09:16:35  2024-03-28 16:59:59  \n",
       "dropoff_datetime  2023-07-10 09:36:21  2024-03-28 21:08:24  "
      ]
     },
     "execution_count": 18,
     "metadata": {},
     "output_type": "execute_result"
    }
   ],
   "source": [
    "# First describe the numeric features\n",
    "df_table_numeric = df[numeric_columns].describe().T\n",
    "df_table_numeric"
   ]
  },
  {
   "cell_type": "code",
   "execution_count": 19,
   "metadata": {},
   "outputs": [
    {
     "data": {
      "text/html": [
       "<div>\n",
       "<style scoped>\n",
       "    .dataframe tbody tr th:only-of-type {\n",
       "        vertical-align: middle;\n",
       "    }\n",
       "\n",
       "    .dataframe tbody tr th {\n",
       "        vertical-align: top;\n",
       "    }\n",
       "\n",
       "    .dataframe thead th {\n",
       "        text-align: right;\n",
       "    }\n",
       "</style>\n",
       "<table border=\"1\" class=\"dataframe\">\n",
       "  <thead>\n",
       "    <tr style=\"text-align: right;\">\n",
       "      <th></th>\n",
       "      <th>%missing</th>\n",
       "    </tr>\n",
       "  </thead>\n",
       "  <tbody>\n",
       "    <tr>\n",
       "      <th>pickup_datetime</th>\n",
       "      <td>0.0</td>\n",
       "    </tr>\n",
       "    <tr>\n",
       "      <th>dropoff_datetime</th>\n",
       "      <td>0.0</td>\n",
       "    </tr>\n",
       "  </tbody>\n",
       "</table>\n",
       "</div>"
      ],
      "text/plain": [
       "                  %missing\n",
       "pickup_datetime        0.0\n",
       "dropoff_datetime       0.0"
      ]
     },
     "execution_count": 19,
     "metadata": {},
     "output_type": "execute_result"
    }
   ],
   "source": [
    "# Add % missing\n",
    "numeric_columns_missing  = 100 * ((df[numeric_columns].isnull().sum() + df[numeric_columns].isna().sum())/df.shape[0])\n",
    "df_numeric_missing = pd.DataFrame(numeric_columns_missing, columns=['%missing'])\n",
    "df_numeric_missing"
   ]
  },
  {
   "cell_type": "code",
   "execution_count": 20,
   "metadata": {},
   "outputs": [
    {
     "data": {
      "text/plain": [
       "PULocationID    262\n",
       "DOLocationID    263\n",
       "dtype: int64"
      ]
     },
     "execution_count": 20,
     "metadata": {},
     "output_type": "execute_result"
    }
   ],
   "source": [
    "df[category_columns].nunique()"
   ]
  },
  {
   "cell_type": "code",
   "execution_count": 21,
   "metadata": {},
   "outputs": [
    {
     "name": "stdout",
     "output_type": "stream",
     "text": [
      "PULocationID\n",
      "138    1.654875e-02\n",
      "132    1.653913e-02\n",
      "79     1.430734e-02\n",
      "61     1.375272e-02\n",
      "230    1.190110e-02\n",
      "           ...     \n",
      "1      4.042688e-06\n",
      "2      2.223478e-06\n",
      "110    1.508789e-06\n",
      "199    4.114878e-07\n",
      "105    1.804771e-07\n",
      "Name: proportion, Length: 262, dtype: float64\n",
      "DOLocationID\n",
      "265    3.950123e-02\n",
      "132    1.944775e-02\n",
      "138    1.821352e-02\n",
      "61     1.421242e-02\n",
      "79     1.200881e-02\n",
      "           ...     \n",
      "110    2.974263e-06\n",
      "2      2.014125e-06\n",
      "105    3.176397e-07\n",
      "104    5.053359e-08\n",
      "199    2.165725e-08\n",
      "Name: proportion, Length: 263, dtype: float64\n"
     ]
    }
   ],
   "source": [
    "# Change category cols to remove \n",
    "# Look at the values taken by each categorical feature, as a proportion, including NaN\n",
    "for column in category_columns:\n",
    "    # print(\"\\n\" + column)\n",
    "    print(df[column].value_counts(normalize=True, dropna=False))"
   ]
  },
  {
   "cell_type": "code",
   "execution_count": 22,
   "metadata": {},
   "outputs": [
    {
     "name": "stdout",
     "output_type": "stream",
     "text": [
      "{104}\n"
     ]
    }
   ],
   "source": [
    "# One value missing for DOLoc that's in PULoc\n",
    "do = set(df['DOLocationID'].unique())\n",
    "pu = set(df['PULocationID'].unique())\n",
    "diff = do.symmetric_difference(pu)\n",
    "print(diff)"
   ]
  },
  {
   "cell_type": "code",
   "execution_count": 24,
   "metadata": {},
   "outputs": [
    {
     "data": {
      "text/plain": [
       "pickup_datetime     3\n",
       "dropoff_datetime    3\n",
       "PULocationID        3\n",
       "DOLocationID        3\n",
       "dtype: int64"
      ]
     },
     "execution_count": 24,
     "metadata": {},
     "output_type": "execute_result"
    }
   ],
   "source": [
    "df[df['DOLocationID']==199].count()"
   ]
  },
  {
   "cell_type": "code",
   "execution_count": 25,
   "metadata": {},
   "outputs": [],
   "source": [
    "df_sample = df.sample(n=1000000)"
   ]
  },
  {
   "cell_type": "code",
   "execution_count": 26,
   "metadata": {},
   "outputs": [
    {
     "data": {
      "text/plain": [
       "array([[<Axes: title={'center': 'pickup_datetime'}>,\n",
       "        <Axes: title={'center': 'dropoff_datetime'}>]], dtype=object)"
      ]
     },
     "execution_count": 26,
     "metadata": {},
     "output_type": "execute_result"
    },
    {
     "data": {
      "image/png": "[encoded data removed]",
      "text/plain": [
       "<Figure size 3000x1000 with 2 Axes>"
      ]
     },
     "metadata": {},
     "output_type": "display_data"
    }
   ],
   "source": [
    "df_sample.hist(figsize=(30, 10))"
   ]
  },
  {
   "cell_type": "code",
   "execution_count": 27,
   "metadata": {},
   "outputs": [
    {
     "data": {
      "image/png": "[encoded data removed]",
      "text/plain": [
       "<Figure size 1500x1000 with 2 Axes>"
      ]
     },
     "metadata": {},
     "output_type": "display_data"
    }
   ],
   "source": [
    "# Plot categoric columns\n",
    "num_rows = 2\n",
    "\n",
    "# Create a single figure with subplots arranged in a 2-column grid\n",
    "fig, axes = plt.subplots(nrows=num_rows, ncols=1, figsize=(15, 5*num_rows))\n",
    "\n",
    "# Flatten the axes array to simplify indexing\n",
    "axes = axes.flatten()\n",
    "\n",
    "# Iterate over each column\n",
    "for i, column in enumerate(category_columns):\n",
    "    # Plot each bar plot on its corresponding subplot\n",
    "    df_sample[column].value_counts(dropna=False).plot(kind='bar', ax=axes[i])\n",
    "    axes[i].set_title(column)\n",
    "\n",
    "for j in range(len(category_columns), 2):\n",
    "    fig.delaxes(axes[j])\n",
    "\n",
    "plt.show()"
   ]
  },
  {
   "cell_type": "code",
   "execution_count": 28,
   "metadata": {},
   "outputs": [],
   "source": [
    "# Look once again at the summary stats table for categorical features\n",
    "df_table_categoric = df[category_columns].describe().T\n",
    "category_columns_perc_missing  = 100 * (df[category_columns].isnull().sum()/df.shape[0])\n",
    "df_category_perc_missing = pd.DataFrame(category_columns_perc_missing, columns=['%missing'])\n",
    "# cardinality\n",
    "category_columns_card = df[category_columns].nunique()\n",
    "df_category_card = pd.DataFrame(category_columns_card, columns=['card'])"
   ]
  },
  {
   "cell_type": "code",
   "execution_count": 43,
   "metadata": {},
   "outputs": [
    {
     "name": "stdout",
     "output_type": "stream",
     "text": [
      "Missing values\n"
     ]
    },
    {
     "data": {
      "text/plain": [
       "pickup_datetime     0\n",
       "dropoff_datetime    0\n",
       "PULocationID        0\n",
       "DOLocationID        0\n",
       "dtype: int64"
      ]
     },
     "execution_count": 43,
     "metadata": {},
     "output_type": "execute_result"
    }
   ],
   "source": [
    "print(\"Missing values\")\n",
    "df.isnull().sum()"
   ]
  },
  {
   "cell_type": "code",
   "execution_count": 44,
   "metadata": {},
   "outputs": [
    {
     "name": "stdout",
     "output_type": "stream",
     "text": [
      "Nan values\n"
     ]
    },
    {
     "data": {
      "text/plain": [
       "pickup_datetime     0\n",
       "dropoff_datetime    0\n",
       "PULocationID        0\n",
       "DOLocationID        0\n",
       "dtype: int64"
      ]
     },
     "execution_count": 44,
     "metadata": {},
     "output_type": "execute_result"
    }
   ],
   "source": [
    "print(\"Nan values\")\n",
    "df.isna().sum()"
   ]
  },
  {
   "cell_type": "code",
   "execution_count": 29,
   "metadata": {},
   "outputs": [],
   "source": [
    "second_val = []\n",
    "second_freq = []\n",
    "for category in category_columns:\n",
    "    # print(df[category].value_counts().index.tolist())\n",
    "    second_val.append(df[category].value_counts().index.tolist()[1])\n",
    "    second_freq.append(df[category].value_counts().iloc[1])"
   ]
  },
  {
   "cell_type": "code",
   "execution_count": 45,
   "metadata": {},
   "outputs": [
    {
     "data": {
      "text/html": [
       "<div>\n",
       "<style scoped>\n",
       "    .dataframe tbody tr th:only-of-type {\n",
       "        vertical-align: middle;\n",
       "    }\n",
       "\n",
       "    .dataframe tbody tr th {\n",
       "        vertical-align: top;\n",
       "    }\n",
       "\n",
       "    .dataframe thead th {\n",
       "        text-align: right;\n",
       "    }\n",
       "</style>\n",
       "<table border=\"1\" class=\"dataframe\">\n",
       "  <thead>\n",
       "    <tr style=\"text-align: right;\">\n",
       "      <th></th>\n",
       "      <th>count</th>\n",
       "      <th>unique</th>\n",
       "      <th>top</th>\n",
       "      <th>freq</th>\n",
       "      <th>second</th>\n",
       "      <th>second_freq</th>\n",
       "      <th>%missing</th>\n",
       "      <th>card</th>\n",
       "    </tr>\n",
       "  </thead>\n",
       "  <tbody>\n",
       "    <tr>\n",
       "      <th>PULocationID</th>\n",
       "      <td>138521711</td>\n",
       "      <td>262</td>\n",
       "      <td>138</td>\n",
       "      <td>2292361</td>\n",
       "      <td>132</td>\n",
       "      <td>2291029</td>\n",
       "      <td>0.0</td>\n",
       "      <td>262</td>\n",
       "    </tr>\n",
       "    <tr>\n",
       "      <th>DOLocationID</th>\n",
       "      <td>138521711</td>\n",
       "      <td>263</td>\n",
       "      <td>265</td>\n",
       "      <td>5471778</td>\n",
       "      <td>132</td>\n",
       "      <td>2693935</td>\n",
       "      <td>0.0</td>\n",
       "      <td>263</td>\n",
       "    </tr>\n",
       "  </tbody>\n",
       "</table>\n",
       "</div>"
      ],
      "text/plain": [
       "                  count  unique  top     freq  second  second_freq  %missing  \\\n",
       "PULocationID  138521711     262  138  2292361     132      2291029       0.0   \n",
       "DOLocationID  138521711     263  265  5471778     132      2693935       0.0   \n",
       "\n",
       "              card  \n",
       "PULocationID   262  \n",
       "DOLocationID   263  "
      ]
     },
     "execution_count": 45,
     "metadata": {},
     "output_type": "execute_result"
    }
   ],
   "source": [
    "# Concatenate numeric, missing and cardinality cols\n",
    "df_categoric_columns_data_quality_report_table = pd.concat([df_table_categoric, df_category_perc_missing, df_category_card], axis=1)\n",
    "\n",
    "df_categoric_columns_data_quality_report_table['second'] = second_val\n",
    "df_categoric_columns_data_quality_report_table['second_freq'] = second_freq\n",
    "\n",
    "df_categoric_columns_data_quality_report_table = df_categoric_columns_data_quality_report_table[['count', 'unique', 'top', 'freq', 'second', 'second_freq', '%missing', 'card']]\n",
    "# Print data quality report table for numeric features to a file.\n",
    "df_categoric_columns_data_quality_report_table.to_csv(\"FHVHV-Taxi-DataQualityReport-CategoricFeatures-Table.csv\", \n",
    "                                         index_label='Feature')\n",
    "df_categoric_columns_data_quality_report_table"
   ]
  },
  {
   "cell_type": "code",
   "execution_count": 46,
   "metadata": {},
   "outputs": [
    {
     "data": {
      "text/html": [
       "<div>\n",
       "<style scoped>\n",
       "    .dataframe tbody tr th:only-of-type {\n",
       "        vertical-align: middle;\n",
       "    }\n",
       "\n",
       "    .dataframe tbody tr th {\n",
       "        vertical-align: top;\n",
       "    }\n",
       "\n",
       "    .dataframe thead th {\n",
       "        text-align: right;\n",
       "    }\n",
       "</style>\n",
       "<table border=\"1\" class=\"dataframe\">\n",
       "  <thead>\n",
       "    <tr style=\"text-align: right;\">\n",
       "      <th></th>\n",
       "      <th>count</th>\n",
       "      <th>mean</th>\n",
       "      <th>min</th>\n",
       "      <th>25%</th>\n",
       "      <th>50%</th>\n",
       "      <th>75%</th>\n",
       "      <th>max</th>\n",
       "      <th>%missing</th>\n",
       "      <th>card</th>\n",
       "    </tr>\n",
       "  </thead>\n",
       "  <tbody>\n",
       "    <tr>\n",
       "      <th>pickup_datetime</th>\n",
       "      <td>138521711</td>\n",
       "      <td>2022-09-23 20:05:12.121333</td>\n",
       "      <td>2021-01-01 00:00:00</td>\n",
       "      <td>2021-12-23 16:05:56</td>\n",
       "      <td>2022-10-16 10:56:10</td>\n",
       "      <td>2023-07-10 09:16:35</td>\n",
       "      <td>2024-03-28 16:59:59</td>\n",
       "      <td>0.0</td>\n",
       "      <td>20622121</td>\n",
       "    </tr>\n",
       "    <tr>\n",
       "      <th>dropoff_datetime</th>\n",
       "      <td>138521711</td>\n",
       "      <td>2022-09-23 20:24:20.928783</td>\n",
       "      <td>2021-01-01 00:02:42</td>\n",
       "      <td>2021-12-23 16:22:25.500000</td>\n",
       "      <td>2022-10-16 11:13:14</td>\n",
       "      <td>2023-07-10 09:36:21</td>\n",
       "      <td>2024-03-28 21:08:24</td>\n",
       "      <td>0.0</td>\n",
       "      <td>20797430</td>\n",
       "    </tr>\n",
       "  </tbody>\n",
       "</table>\n",
       "</div>"
      ],
      "text/plain": [
       "                      count                        mean                  min  \\\n",
       "pickup_datetime   138521711  2022-09-23 20:05:12.121333  2021-01-01 00:00:00   \n",
       "dropoff_datetime  138521711  2022-09-23 20:24:20.928783  2021-01-01 00:02:42   \n",
       "\n",
       "                                         25%                  50%  \\\n",
       "pickup_datetime          2021-12-23 16:05:56  2022-10-16 10:56:10   \n",
       "dropoff_datetime  2021-12-23 16:22:25.500000  2022-10-16 11:13:14   \n",
       "\n",
       "                                  75%                  max  %missing      card  \n",
       "pickup_datetime   2023-07-10 09:16:35  2024-03-28 16:59:59       0.0  20622121  \n",
       "dropoff_datetime  2023-07-10 09:36:21  2024-03-28 21:08:24       0.0  20797430  "
      ]
     },
     "execution_count": 46,
     "metadata": {},
     "output_type": "execute_result"
    }
   ],
   "source": [
    "# Concatenate numeric, missing and cardinality cols\n",
    "df_numeric_columns_data_quality_report_table = pd.concat([df_table_numeric, df_numeric_missing, df_numeric_card], axis=1)\n",
    "\n",
    "# Print data quality report table for numeric features to a file.\n",
    "df_numeric_columns_data_quality_report_table.to_csv(\"FHVHV-Taxi-DataQualityReport-NumericFeatures-Table.csv\", \n",
    "                                         index_label='Feature')\n",
    "df_numeric_columns_data_quality_report_table"
   ]
  },
  {
   "cell_type": "code",
   "execution_count": null,
   "metadata": {},
   "outputs": [],
   "source": []
  },
  {
   "cell_type": "markdown",
   "metadata": {},
   "source": [
    "### Logical integrity tests\n",
    "1. dropoff not before pickup\n",
    "2. Pickup date before 2021\n",
    "3. Dropoff date > 31st Mar 2024\n",
    "4. Duration of taxi ride > 5hrs\n",
    "5. PU location ID not an allowed value\n",
    "6. DO location ID not an allowed value\n",
    "\n"
   ]
  },
  {
   "cell_type": "code",
   "execution_count": 32,
   "metadata": {},
   "outputs": [
    {
     "data": {
      "text/html": [
       "<div>\n",
       "<style scoped>\n",
       "    .dataframe tbody tr th:only-of-type {\n",
       "        vertical-align: middle;\n",
       "    }\n",
       "\n",
       "    .dataframe tbody tr th {\n",
       "        vertical-align: top;\n",
       "    }\n",
       "\n",
       "    .dataframe thead th {\n",
       "        text-align: right;\n",
       "    }\n",
       "</style>\n",
       "<table border=\"1\" class=\"dataframe\">\n",
       "  <thead>\n",
       "    <tr style=\"text-align: right;\">\n",
       "      <th></th>\n",
       "      <th>pickup_datetime</th>\n",
       "      <th>dropoff_datetime</th>\n",
       "      <th>PULocationID</th>\n",
       "      <th>DOLocationID</th>\n",
       "    </tr>\n",
       "  </thead>\n",
       "  <tbody>\n",
       "    <tr>\n",
       "      <th>29449058</th>\n",
       "      <td>2021-11-07 01:40:31</td>\n",
       "      <td>2021-11-07 01:07:44</td>\n",
       "      <td>258</td>\n",
       "      <td>209</td>\n",
       "    </tr>\n",
       "    <tr>\n",
       "      <th>29449063</th>\n",
       "      <td>2021-11-07 01:58:09</td>\n",
       "      <td>2021-11-07 01:46:35</td>\n",
       "      <td>223</td>\n",
       "      <td>265</td>\n",
       "    </tr>\n",
       "    <tr>\n",
       "      <th>29449065</th>\n",
       "      <td>2021-11-07 01:47:47</td>\n",
       "      <td>2021-11-07 01:17:00</td>\n",
       "      <td>148</td>\n",
       "      <td>68</td>\n",
       "    </tr>\n",
       "    <tr>\n",
       "      <th>29449072</th>\n",
       "      <td>2021-11-07 01:40:55</td>\n",
       "      <td>2021-11-07 01:10:12</td>\n",
       "      <td>158</td>\n",
       "      <td>146</td>\n",
       "    </tr>\n",
       "    <tr>\n",
       "      <th>29449084</th>\n",
       "      <td>2021-11-07 01:52:38</td>\n",
       "      <td>2021-11-07 01:02:13</td>\n",
       "      <td>100</td>\n",
       "      <td>158</td>\n",
       "    </tr>\n",
       "    <tr>\n",
       "      <th>...</th>\n",
       "      <td>...</td>\n",
       "      <td>...</td>\n",
       "      <td>...</td>\n",
       "      <td>...</td>\n",
       "    </tr>\n",
       "    <tr>\n",
       "      <th>29504060</th>\n",
       "      <td>2021-11-07 01:56:34</td>\n",
       "      <td>2021-11-07 01:05:09</td>\n",
       "      <td>211</td>\n",
       "      <td>33</td>\n",
       "    </tr>\n",
       "    <tr>\n",
       "      <th>29504068</th>\n",
       "      <td>2021-11-07 01:53:12</td>\n",
       "      <td>2021-11-07 01:03:40</td>\n",
       "      <td>79</td>\n",
       "      <td>249</td>\n",
       "    </tr>\n",
       "    <tr>\n",
       "      <th>29504072</th>\n",
       "      <td>2021-11-07 01:48:47</td>\n",
       "      <td>2021-11-07 01:05:16</td>\n",
       "      <td>87</td>\n",
       "      <td>255</td>\n",
       "    </tr>\n",
       "    <tr>\n",
       "      <th>29504074</th>\n",
       "      <td>2021-11-07 01:48:46</td>\n",
       "      <td>2021-11-07 01:20:35</td>\n",
       "      <td>61</td>\n",
       "      <td>75</td>\n",
       "    </tr>\n",
       "    <tr>\n",
       "      <th>29504090</th>\n",
       "      <td>2021-11-07 01:57:04</td>\n",
       "      <td>2021-11-07 01:13:46</td>\n",
       "      <td>258</td>\n",
       "      <td>37</td>\n",
       "    </tr>\n",
       "  </tbody>\n",
       "</table>\n",
       "<p>7558 rows × 4 columns</p>\n",
       "</div>"
      ],
      "text/plain": [
       "             pickup_datetime    dropoff_datetime PULocationID DOLocationID\n",
       "29449058 2021-11-07 01:40:31 2021-11-07 01:07:44          258          209\n",
       "29449063 2021-11-07 01:58:09 2021-11-07 01:46:35          223          265\n",
       "29449065 2021-11-07 01:47:47 2021-11-07 01:17:00          148           68\n",
       "29449072 2021-11-07 01:40:55 2021-11-07 01:10:12          158          146\n",
       "29449084 2021-11-07 01:52:38 2021-11-07 01:02:13          100          158\n",
       "...                      ...                 ...          ...          ...\n",
       "29504060 2021-11-07 01:56:34 2021-11-07 01:05:09          211           33\n",
       "29504068 2021-11-07 01:53:12 2021-11-07 01:03:40           79          249\n",
       "29504072 2021-11-07 01:48:47 2021-11-07 01:05:16           87          255\n",
       "29504074 2021-11-07 01:48:46 2021-11-07 01:20:35           61           75\n",
       "29504090 2021-11-07 01:57:04 2021-11-07 01:13:46          258           37\n",
       "\n",
       "[7558 rows x 4 columns]"
      ]
     },
     "execution_count": 32,
     "metadata": {},
     "output_type": "execute_result"
    }
   ],
   "source": [
    "# Test 1: \n",
    "df[df['dropoff_datetime']<df['pickup_datetime']]"
   ]
  },
  {
   "cell_type": "code",
   "execution_count": 33,
   "metadata": {},
   "outputs": [
    {
     "data": {
      "text/html": [
       "<div>\n",
       "<style scoped>\n",
       "    .dataframe tbody tr th:only-of-type {\n",
       "        vertical-align: middle;\n",
       "    }\n",
       "\n",
       "    .dataframe tbody tr th {\n",
       "        vertical-align: top;\n",
       "    }\n",
       "\n",
       "    .dataframe thead th {\n",
       "        text-align: right;\n",
       "    }\n",
       "</style>\n",
       "<table border=\"1\" class=\"dataframe\">\n",
       "  <thead>\n",
       "    <tr style=\"text-align: right;\">\n",
       "      <th></th>\n",
       "      <th>pickup_datetime</th>\n",
       "      <th>dropoff_datetime</th>\n",
       "      <th>PULocationID</th>\n",
       "      <th>DOLocationID</th>\n",
       "    </tr>\n",
       "  </thead>\n",
       "  <tbody>\n",
       "  </tbody>\n",
       "</table>\n",
       "</div>"
      ],
      "text/plain": [
       "Empty DataFrame\n",
       "Columns: [pickup_datetime, dropoff_datetime, PULocationID, DOLocationID]\n",
       "Index: []"
      ]
     },
     "execution_count": 33,
     "metadata": {},
     "output_type": "execute_result"
    }
   ],
   "source": [
    "# Test 2: \n",
    "df[df['pickup_datetime']<pd.to_datetime('2021-01-01')]"
   ]
  },
  {
   "cell_type": "code",
   "execution_count": 34,
   "metadata": {},
   "outputs": [
    {
     "data": {
      "text/plain": [
       "pickup_datetime     0\n",
       "dropoff_datetime    0\n",
       "PULocationID        0\n",
       "DOLocationID        0\n",
       "dtype: int64"
      ]
     },
     "execution_count": 34,
     "metadata": {},
     "output_type": "execute_result"
    }
   ],
   "source": [
    "df[df['pickup_datetime']<pd.to_datetime('2021-01-01')].count()"
   ]
  },
  {
   "cell_type": "code",
   "execution_count": 35,
   "metadata": {},
   "outputs": [
    {
     "data": {
      "text/html": [
       "<div>\n",
       "<style scoped>\n",
       "    .dataframe tbody tr th:only-of-type {\n",
       "        vertical-align: middle;\n",
       "    }\n",
       "\n",
       "    .dataframe tbody tr th {\n",
       "        vertical-align: top;\n",
       "    }\n",
       "\n",
       "    .dataframe thead th {\n",
       "        text-align: right;\n",
       "    }\n",
       "</style>\n",
       "<table border=\"1\" class=\"dataframe\">\n",
       "  <thead>\n",
       "    <tr style=\"text-align: right;\">\n",
       "      <th></th>\n",
       "      <th>pickup_datetime</th>\n",
       "      <th>dropoff_datetime</th>\n",
       "      <th>PULocationID</th>\n",
       "      <th>DOLocationID</th>\n",
       "    </tr>\n",
       "  </thead>\n",
       "  <tbody>\n",
       "  </tbody>\n",
       "</table>\n",
       "</div>"
      ],
      "text/plain": [
       "Empty DataFrame\n",
       "Columns: [pickup_datetime, dropoff_datetime, PULocationID, DOLocationID]\n",
       "Index: []"
      ]
     },
     "execution_count": 35,
     "metadata": {},
     "output_type": "execute_result"
    }
   ],
   "source": [
    "# Test 3: \n",
    "df[df['dropoff_datetime']>pd.to_datetime('2024-04-01')]"
   ]
  },
  {
   "cell_type": "code",
   "execution_count": 36,
   "metadata": {},
   "outputs": [
    {
     "data": {
      "text/html": [
       "<div>\n",
       "<style scoped>\n",
       "    .dataframe tbody tr th:only-of-type {\n",
       "        vertical-align: middle;\n",
       "    }\n",
       "\n",
       "    .dataframe tbody tr th {\n",
       "        vertical-align: top;\n",
       "    }\n",
       "\n",
       "    .dataframe thead th {\n",
       "        text-align: right;\n",
       "    }\n",
       "</style>\n",
       "<table border=\"1\" class=\"dataframe\">\n",
       "  <thead>\n",
       "    <tr style=\"text-align: right;\">\n",
       "      <th></th>\n",
       "      <th>count</th>\n",
       "      <th>mean</th>\n",
       "      <th>min</th>\n",
       "      <th>25%</th>\n",
       "      <th>50%</th>\n",
       "      <th>75%</th>\n",
       "      <th>max</th>\n",
       "    </tr>\n",
       "  </thead>\n",
       "  <tbody>\n",
       "    <tr>\n",
       "      <th>pickup_datetime</th>\n",
       "      <td>0</td>\n",
       "      <td>NaT</td>\n",
       "      <td>NaT</td>\n",
       "      <td>NaT</td>\n",
       "      <td>NaT</td>\n",
       "      <td>NaT</td>\n",
       "      <td>NaT</td>\n",
       "    </tr>\n",
       "    <tr>\n",
       "      <th>dropoff_datetime</th>\n",
       "      <td>0</td>\n",
       "      <td>NaT</td>\n",
       "      <td>NaT</td>\n",
       "      <td>NaT</td>\n",
       "      <td>NaT</td>\n",
       "      <td>NaT</td>\n",
       "      <td>NaT</td>\n",
       "    </tr>\n",
       "  </tbody>\n",
       "</table>\n",
       "</div>"
      ],
      "text/plain": [
       "                 count mean  min  25%  50%  75%  max\n",
       "pickup_datetime      0  NaT  NaT  NaT  NaT  NaT  NaT\n",
       "dropoff_datetime     0  NaT  NaT  NaT  NaT  NaT  NaT"
      ]
     },
     "execution_count": 36,
     "metadata": {},
     "output_type": "execute_result"
    }
   ],
   "source": [
    "late_dropoff = df[df['dropoff_datetime']>pd.to_datetime('2024-04-01')]\n",
    "late_dropoff.describe().T"
   ]
  },
  {
   "cell_type": "code",
   "execution_count": 37,
   "metadata": {},
   "outputs": [
    {
     "data": {
      "text/html": [
       "<div>\n",
       "<style scoped>\n",
       "    .dataframe tbody tr th:only-of-type {\n",
       "        vertical-align: middle;\n",
       "    }\n",
       "\n",
       "    .dataframe tbody tr th {\n",
       "        vertical-align: top;\n",
       "    }\n",
       "\n",
       "    .dataframe thead th {\n",
       "        text-align: right;\n",
       "    }\n",
       "</style>\n",
       "<table border=\"1\" class=\"dataframe\">\n",
       "  <thead>\n",
       "    <tr style=\"text-align: right;\">\n",
       "      <th></th>\n",
       "      <th>pickup_datetime</th>\n",
       "      <th>dropoff_datetime</th>\n",
       "      <th>PULocationID</th>\n",
       "      <th>DOLocationID</th>\n",
       "    </tr>\n",
       "  </thead>\n",
       "  <tbody>\n",
       "    <tr>\n",
       "      <th>222737</th>\n",
       "      <td>2021-01-01 13:56:33</td>\n",
       "      <td>2021-01-01 19:42:10</td>\n",
       "      <td>213</td>\n",
       "      <td>18</td>\n",
       "    </tr>\n",
       "    <tr>\n",
       "      <th>299230</th>\n",
       "      <td>2021-01-01 17:00:39</td>\n",
       "      <td>2021-01-01 22:22:44</td>\n",
       "      <td>92</td>\n",
       "      <td>265</td>\n",
       "    </tr>\n",
       "    <tr>\n",
       "      <th>512478</th>\n",
       "      <td>2021-01-02 12:26:35</td>\n",
       "      <td>2021-01-02 17:30:12</td>\n",
       "      <td>132</td>\n",
       "      <td>265</td>\n",
       "    </tr>\n",
       "    <tr>\n",
       "      <th>576758</th>\n",
       "      <td>2021-01-02 15:30:35</td>\n",
       "      <td>2021-01-02 21:50:02</td>\n",
       "      <td>241</td>\n",
       "      <td>265</td>\n",
       "    </tr>\n",
       "    <tr>\n",
       "      <th>654809</th>\n",
       "      <td>2021-01-02 19:06:59</td>\n",
       "      <td>2021-01-03 00:44:06</td>\n",
       "      <td>220</td>\n",
       "      <td>259</td>\n",
       "    </tr>\n",
       "    <tr>\n",
       "      <th>...</th>\n",
       "      <td>...</td>\n",
       "      <td>...</td>\n",
       "      <td>...</td>\n",
       "      <td>...</td>\n",
       "    </tr>\n",
       "    <tr>\n",
       "      <th>137122394</th>\n",
       "      <td>2024-03-20 12:53:03</td>\n",
       "      <td>2024-03-20 17:58:44</td>\n",
       "      <td>42</td>\n",
       "      <td>146</td>\n",
       "    </tr>\n",
       "    <tr>\n",
       "      <th>137212560</th>\n",
       "      <td>2024-03-20 15:19:02</td>\n",
       "      <td>2024-03-20 21:22:12</td>\n",
       "      <td>220</td>\n",
       "      <td>220</td>\n",
       "    </tr>\n",
       "    <tr>\n",
       "      <th>137591817</th>\n",
       "      <td>2024-03-27 08:54:23</td>\n",
       "      <td>2024-03-27 14:48:02</td>\n",
       "      <td>89</td>\n",
       "      <td>95</td>\n",
       "    </tr>\n",
       "    <tr>\n",
       "      <th>138133014</th>\n",
       "      <td>2024-03-28 03:19:47</td>\n",
       "      <td>2024-03-28 09:04:21</td>\n",
       "      <td>186</td>\n",
       "      <td>91</td>\n",
       "    </tr>\n",
       "    <tr>\n",
       "      <th>138349488</th>\n",
       "      <td>2024-03-28 11:52:02</td>\n",
       "      <td>2024-03-28 17:26:55</td>\n",
       "      <td>14</td>\n",
       "      <td>14</td>\n",
       "    </tr>\n",
       "  </tbody>\n",
       "</table>\n",
       "<p>1606 rows × 4 columns</p>\n",
       "</div>"
      ],
      "text/plain": [
       "              pickup_datetime    dropoff_datetime PULocationID DOLocationID\n",
       "222737    2021-01-01 13:56:33 2021-01-01 19:42:10          213           18\n",
       "299230    2021-01-01 17:00:39 2021-01-01 22:22:44           92          265\n",
       "512478    2021-01-02 12:26:35 2021-01-02 17:30:12          132          265\n",
       "576758    2021-01-02 15:30:35 2021-01-02 21:50:02          241          265\n",
       "654809    2021-01-02 19:06:59 2021-01-03 00:44:06          220          259\n",
       "...                       ...                 ...          ...          ...\n",
       "137122394 2024-03-20 12:53:03 2024-03-20 17:58:44           42          146\n",
       "137212560 2024-03-20 15:19:02 2024-03-20 21:22:12          220          220\n",
       "137591817 2024-03-27 08:54:23 2024-03-27 14:48:02           89           95\n",
       "138133014 2024-03-28 03:19:47 2024-03-28 09:04:21          186           91\n",
       "138349488 2024-03-28 11:52:02 2024-03-28 17:26:55           14           14\n",
       "\n",
       "[1606 rows x 4 columns]"
      ]
     },
     "execution_count": 37,
     "metadata": {},
     "output_type": "execute_result"
    }
   ],
   "source": [
    "# Test 5:\n",
    "time_diff = pd.Timedelta(hours=5)\n",
    "df[df['dropoff_datetime']-df['pickup_datetime'] > time_diff]"
   ]
  },
  {
   "cell_type": "code",
   "execution_count": 38,
   "metadata": {},
   "outputs": [
    {
     "name": "stderr",
     "output_type": "stream",
     "text": [
      "C:\\Users\\Daniel\\AppData\\Local\\Temp\\ipykernel_21568\\3331555134.py:2: SettingWithCopyWarning: \n",
      "A value is trying to be set on a copy of a slice from a DataFrame.\n",
      "Try using .loc[row_indexer,col_indexer] = value instead\n",
      "\n",
      "See the caveats in the documentation: https://pandas.pydata.org/pandas-docs/stable/user_guide/indexing.html#returning-a-view-versus-a-copy\n",
      "  long_rides['time_diff'] = long_rides['dropoff_datetime']-long_rides['pickup_datetime']\n"
     ]
    },
    {
     "data": {
      "text/html": [
       "<div>\n",
       "<style scoped>\n",
       "    .dataframe tbody tr th:only-of-type {\n",
       "        vertical-align: middle;\n",
       "    }\n",
       "\n",
       "    .dataframe tbody tr th {\n",
       "        vertical-align: top;\n",
       "    }\n",
       "\n",
       "    .dataframe thead th {\n",
       "        text-align: right;\n",
       "    }\n",
       "</style>\n",
       "<table border=\"1\" class=\"dataframe\">\n",
       "  <thead>\n",
       "    <tr style=\"text-align: right;\">\n",
       "      <th></th>\n",
       "      <th>count</th>\n",
       "      <th>mean</th>\n",
       "      <th>min</th>\n",
       "      <th>25%</th>\n",
       "      <th>50%</th>\n",
       "      <th>75%</th>\n",
       "      <th>max</th>\n",
       "      <th>std</th>\n",
       "    </tr>\n",
       "  </thead>\n",
       "  <tbody>\n",
       "    <tr>\n",
       "      <th>pickup_datetime</th>\n",
       "      <td>1606</td>\n",
       "      <td>2022-08-27 00:20:29.123910</td>\n",
       "      <td>2021-01-01 13:56:33</td>\n",
       "      <td>2022-04-04 12:38:55.250000</td>\n",
       "      <td>2022-07-21 14:10:27</td>\n",
       "      <td>2023-04-13 17:44:52.500000</td>\n",
       "      <td>2024-03-28 11:52:02</td>\n",
       "      <td>NaN</td>\n",
       "    </tr>\n",
       "    <tr>\n",
       "      <th>dropoff_datetime</th>\n",
       "      <td>1606</td>\n",
       "      <td>2022-08-27 07:22:11.336239</td>\n",
       "      <td>2021-01-01 19:42:10</td>\n",
       "      <td>2022-04-04 20:48:31.250000</td>\n",
       "      <td>2022-07-21 21:19:10.500000</td>\n",
       "      <td>2023-04-14 00:32:36.750000</td>\n",
       "      <td>2024-03-28 17:26:55</td>\n",
       "      <td>NaN</td>\n",
       "    </tr>\n",
       "    <tr>\n",
       "      <th>time_diff</th>\n",
       "      <td>1606</td>\n",
       "      <td>0 days 07:01:42.212328</td>\n",
       "      <td>0 days 05:00:08</td>\n",
       "      <td>0 days 05:38:05.750000</td>\n",
       "      <td>0 days 06:41:25</td>\n",
       "      <td>0 days 08:04:24.750000</td>\n",
       "      <td>1 days 17:05:18</td>\n",
       "      <td>0 days 02:00:03.536886</td>\n",
       "    </tr>\n",
       "  </tbody>\n",
       "</table>\n",
       "</div>"
      ],
      "text/plain": [
       "                 count                        mean                  min  \\\n",
       "pickup_datetime   1606  2022-08-27 00:20:29.123910  2021-01-01 13:56:33   \n",
       "dropoff_datetime  1606  2022-08-27 07:22:11.336239  2021-01-01 19:42:10   \n",
       "time_diff         1606      0 days 07:01:42.212328      0 days 05:00:08   \n",
       "\n",
       "                                         25%                         50%  \\\n",
       "pickup_datetime   2022-04-04 12:38:55.250000         2022-07-21 14:10:27   \n",
       "dropoff_datetime  2022-04-04 20:48:31.250000  2022-07-21 21:19:10.500000   \n",
       "time_diff             0 days 05:38:05.750000             0 days 06:41:25   \n",
       "\n",
       "                                         75%                  max  \\\n",
       "pickup_datetime   2023-04-13 17:44:52.500000  2024-03-28 11:52:02   \n",
       "dropoff_datetime  2023-04-14 00:32:36.750000  2024-03-28 17:26:55   \n",
       "time_diff             0 days 08:04:24.750000      1 days 17:05:18   \n",
       "\n",
       "                                     std  \n",
       "pickup_datetime                      NaN  \n",
       "dropoff_datetime                     NaN  \n",
       "time_diff         0 days 02:00:03.536886  "
      ]
     },
     "execution_count": 38,
     "metadata": {},
     "output_type": "execute_result"
    }
   ],
   "source": [
    "long_rides = df[df['dropoff_datetime']-df['pickup_datetime'] > time_diff]\n",
    "long_rides['time_diff'] = long_rides['dropoff_datetime']-long_rides['pickup_datetime']\n",
    "long_rides.describe().T"
   ]
  },
  {
   "cell_type": "code",
   "execution_count": 39,
   "metadata": {},
   "outputs": [
    {
     "data": {
      "text/html": [
       "<div>\n",
       "<style scoped>\n",
       "    .dataframe tbody tr th:only-of-type {\n",
       "        vertical-align: middle;\n",
       "    }\n",
       "\n",
       "    .dataframe tbody tr th {\n",
       "        vertical-align: top;\n",
       "    }\n",
       "\n",
       "    .dataframe thead th {\n",
       "        text-align: right;\n",
       "    }\n",
       "</style>\n",
       "<table border=\"1\" class=\"dataframe\">\n",
       "  <thead>\n",
       "    <tr style=\"text-align: right;\">\n",
       "      <th></th>\n",
       "      <th>pickup_datetime</th>\n",
       "      <th>dropoff_datetime</th>\n",
       "      <th>PULocationID</th>\n",
       "      <th>DOLocationID</th>\n",
       "    </tr>\n",
       "  </thead>\n",
       "  <tbody>\n",
       "  </tbody>\n",
       "</table>\n",
       "</div>"
      ],
      "text/plain": [
       "Empty DataFrame\n",
       "Columns: [pickup_datetime, dropoff_datetime, PULocationID, DOLocationID]\n",
       "Index: []"
      ]
     },
     "execution_count": 39,
     "metadata": {},
     "output_type": "execute_result"
    }
   ],
   "source": [
    "# Test 6:\n",
    "taxi_lookup = pd.read_csv('taxi_zone_lookup.csv')\n",
    "taxi_zones = set(taxi_lookup['LocationID'])\n",
    "df[~(df['PULocationID'].isin(taxi_zones) | df['PULocationID'].isna())]"
   ]
  },
  {
   "cell_type": "code",
   "execution_count": 40,
   "metadata": {},
   "outputs": [
    {
     "data": {
      "text/html": [
       "<div>\n",
       "<style scoped>\n",
       "    .dataframe tbody tr th:only-of-type {\n",
       "        vertical-align: middle;\n",
       "    }\n",
       "\n",
       "    .dataframe tbody tr th {\n",
       "        vertical-align: top;\n",
       "    }\n",
       "\n",
       "    .dataframe thead th {\n",
       "        text-align: right;\n",
       "    }\n",
       "</style>\n",
       "<table border=\"1\" class=\"dataframe\">\n",
       "  <thead>\n",
       "    <tr style=\"text-align: right;\">\n",
       "      <th></th>\n",
       "      <th>pickup_datetime</th>\n",
       "      <th>dropoff_datetime</th>\n",
       "      <th>PULocationID</th>\n",
       "      <th>DOLocationID</th>\n",
       "    </tr>\n",
       "  </thead>\n",
       "  <tbody>\n",
       "  </tbody>\n",
       "</table>\n",
       "</div>"
      ],
      "text/plain": [
       "Empty DataFrame\n",
       "Columns: [pickup_datetime, dropoff_datetime, PULocationID, DOLocationID]\n",
       "Index: []"
      ]
     },
     "execution_count": 40,
     "metadata": {},
     "output_type": "execute_result"
    }
   ],
   "source": [
    "# Test 7:\n",
    "df[~(df['DOLocationID'].isin(taxi_zones) | df['DOLocationID'].isna()) ]"
   ]
  }
 ],
 "metadata": {
  "kernelspec": {
   "display_name": "COMP47360",
   "language": "python",
   "name": "python3"
  },
  "language_info": {
   "codemirror_mode": {
    "name": "ipython",
    "version": 3
   },
   "file_extension": ".py",
   "mimetype": "text/x-python",
   "name": "python",
   "nbconvert_exporter": "python",
   "pygments_lexer": "ipython3",
   "version": "3.12.3"
  }
 },
 "nbformat": 4,
 "nbformat_minor": 2
}
