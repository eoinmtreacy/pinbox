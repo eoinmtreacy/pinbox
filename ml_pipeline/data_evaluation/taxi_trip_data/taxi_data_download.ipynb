{
 "cells": [
  {
   "cell_type": "markdown",
   "metadata": {},
   "source": [
    "This notebook downloads all files from the nyc.gov tlc trip record data from 2021-present.\n",
    "NYC trip record data can be found at https://www.nyc.gov/site/tlc/about/tlc-trip-record-data.page"
   ]
  },
  {
   "cell_type": "code",
   "execution_count": 1,
   "metadata": {},
   "outputs": [],
   "source": [
    "import requests\n",
    "import pandas as pd\n",
    "from datetime import datetime, date, time, timezone\n"
   ]
  },
  {
   "cell_type": "code",
   "execution_count": 2,
   "metadata": {},
   "outputs": [
    {
     "data": {
      "text/plain": [
       "DatetimeIndex(['2021-01-31', '2021-02-28', '2021-03-31', '2021-04-30',\n",
       "               '2021-05-31', '2021-06-30', '2021-07-31', '2021-08-31',\n",
       "               '2021-09-30', '2021-10-31', '2021-11-30', '2021-12-31',\n",
       "               '2022-01-31', '2022-02-28', '2022-03-31', '2022-04-30',\n",
       "               '2022-05-31', '2022-06-30', '2022-07-31', '2022-08-31',\n",
       "               '2022-09-30', '2022-10-31', '2022-11-30', '2022-12-31',\n",
       "               '2023-01-31', '2023-02-28', '2023-03-31', '2023-04-30',\n",
       "               '2023-05-31', '2023-06-30', '2023-07-31', '2023-08-31',\n",
       "               '2023-09-30', '2023-10-31', '2023-11-30', '2023-12-31',\n",
       "               '2024-01-31', '2024-02-29', '2024-03-31', '2024-04-30',\n",
       "               '2024-05-31'],\n",
       "              dtype='datetime64[ns]', freq='ME')"
      ]
     },
     "execution_count": 2,
     "metadata": {},
     "output_type": "execute_result"
    }
   ],
   "source": [
    "date_rng = pd.date_range(start='2021-01', end='2024-06', freq='ME')\n",
    "date_rng"
   ]
  },
  {
   "cell_type": "code",
   "execution_count": 3,
   "metadata": {},
   "outputs": [],
   "source": [
    "trip_types = [\"yellow\", \"green\", \"fhv\", \"fhvhv\"]"
   ]
  },
  {
   "cell_type": "code",
   "execution_count": 4,
   "metadata": {},
   "outputs": [
    {
     "name": "stdout",
     "output_type": "stream",
     "text": [
      "2021-01\n"
     ]
    }
   ],
   "source": [
    "print(datetime.strftime(date_rng[0], \"%Y-%m\"))"
   ]
  },
  {
   "cell_type": "code",
   "execution_count": 5,
   "metadata": {},
   "outputs": [
    {
     "name": "stdout",
     "output_type": "stream",
     "text": [
      "Downloaded yellow 2021-01\n",
      "Downloaded green 2021-01\n",
      "Downloaded fhv 2021-01\n",
      "Downloaded fhvhv 2021-01\n",
      "Downloaded yellow 2021-02\n",
      "Downloaded green 2021-02\n",
      "Downloaded fhv 2021-02\n",
      "Downloaded fhvhv 2021-02\n",
      "Downloaded yellow 2021-03\n",
      "Downloaded green 2021-03\n",
      "Downloaded fhv 2021-03\n",
      "Downloaded fhvhv 2021-03\n",
      "Downloaded yellow 2021-04\n",
      "Downloaded green 2021-04\n",
      "Downloaded fhv 2021-04\n",
      "Downloaded fhvhv 2021-04\n",
      "Downloaded yellow 2021-05\n",
      "Downloaded green 2021-05\n",
      "Downloaded fhv 2021-05\n",
      "Downloaded fhvhv 2021-05\n",
      "Downloaded yellow 2021-06\n",
      "Downloaded green 2021-06\n",
      "Downloaded fhv 2021-06\n",
      "Downloaded fhvhv 2021-06\n",
      "Downloaded yellow 2021-07\n",
      "Downloaded green 2021-07\n",
      "Downloaded fhv 2021-07\n",
      "Downloaded fhvhv 2021-07\n",
      "Downloaded yellow 2021-08\n",
      "Downloaded green 2021-08\n",
      "Downloaded fhv 2021-08\n",
      "Downloaded fhvhv 2021-08\n",
      "Downloaded yellow 2021-09\n",
      "Downloaded green 2021-09\n",
      "Downloaded fhv 2021-09\n",
      "Downloaded fhvhv 2021-09\n",
      "Downloaded yellow 2021-10\n",
      "Downloaded green 2021-10\n",
      "Downloaded fhv 2021-10\n",
      "Downloaded fhvhv 2021-10\n",
      "Downloaded yellow 2021-11\n",
      "Downloaded green 2021-11\n",
      "Downloaded fhv 2021-11\n",
      "Downloaded fhvhv 2021-11\n",
      "Downloaded yellow 2021-12\n",
      "Downloaded green 2021-12\n",
      "Downloaded fhv 2021-12\n",
      "Downloaded fhvhv 2021-12\n",
      "Downloaded yellow 2022-01\n",
      "Downloaded green 2022-01\n",
      "Downloaded fhv 2022-01\n",
      "Downloaded fhvhv 2022-01\n",
      "Downloaded yellow 2022-02\n",
      "Downloaded green 2022-02\n",
      "Downloaded fhv 2022-02\n",
      "Downloaded fhvhv 2022-02\n",
      "Downloaded yellow 2022-03\n",
      "Downloaded green 2022-03\n",
      "Downloaded fhv 2022-03\n",
      "Downloaded fhvhv 2022-03\n",
      "Downloaded yellow 2022-04\n",
      "Downloaded green 2022-04\n",
      "Downloaded fhv 2022-04\n",
      "Downloaded fhvhv 2022-04\n",
      "Downloaded yellow 2022-05\n",
      "Downloaded green 2022-05\n",
      "Downloaded fhv 2022-05\n",
      "Downloaded fhvhv 2022-05\n",
      "Downloaded yellow 2022-06\n",
      "Downloaded green 2022-06\n",
      "Downloaded fhv 2022-06\n",
      "Downloaded fhvhv 2022-06\n",
      "Downloaded yellow 2022-07\n",
      "Downloaded green 2022-07\n",
      "Downloaded fhv 2022-07\n",
      "Downloaded fhvhv 2022-07\n",
      "Downloaded yellow 2022-08\n",
      "Downloaded green 2022-08\n",
      "Downloaded fhv 2022-08\n",
      "Downloaded fhvhv 2022-08\n",
      "Downloaded yellow 2022-09\n",
      "Downloaded green 2022-09\n",
      "Downloaded fhv 2022-09\n",
      "Downloaded fhvhv 2022-09\n",
      "Downloaded yellow 2022-10\n",
      "Downloaded green 2022-10\n",
      "Downloaded fhv 2022-10\n",
      "Downloaded fhvhv 2022-10\n",
      "Downloaded yellow 2022-11\n",
      "Downloaded green 2022-11\n",
      "Downloaded fhv 2022-11\n",
      "Downloaded fhvhv 2022-11\n",
      "Downloaded yellow 2022-12\n",
      "Downloaded green 2022-12\n",
      "Downloaded fhv 2022-12\n",
      "Downloaded fhvhv 2022-12\n",
      "Downloaded yellow 2023-01\n",
      "Downloaded green 2023-01\n",
      "Downloaded fhv 2023-01\n",
      "Downloaded fhvhv 2023-01\n",
      "Downloaded yellow 2023-02\n",
      "Downloaded green 2023-02\n",
      "Downloaded fhv 2023-02\n",
      "Downloaded fhvhv 2023-02\n",
      "Downloaded yellow 2023-03\n",
      "Downloaded green 2023-03\n",
      "Downloaded fhv 2023-03\n",
      "Downloaded fhvhv 2023-03\n",
      "Downloaded yellow 2023-04\n",
      "Downloaded green 2023-04\n",
      "Downloaded fhv 2023-04\n",
      "Downloaded fhvhv 2023-04\n",
      "Downloaded yellow 2023-05\n",
      "Downloaded green 2023-05\n",
      "Downloaded fhv 2023-05\n",
      "Downloaded fhvhv 2023-05\n",
      "Downloaded yellow 2023-06\n",
      "Downloaded green 2023-06\n",
      "Downloaded fhv 2023-06\n",
      "Downloaded fhvhv 2023-06\n",
      "Downloaded yellow 2023-07\n",
      "Downloaded green 2023-07\n",
      "Downloaded fhv 2023-07\n",
      "Downloaded fhvhv 2023-07\n",
      "Downloaded yellow 2023-08\n",
      "Downloaded green 2023-08\n",
      "Downloaded fhv 2023-08\n",
      "Downloaded fhvhv 2023-08\n",
      "Downloaded yellow 2023-09\n",
      "Downloaded green 2023-09\n",
      "Downloaded fhv 2023-09\n",
      "Downloaded fhvhv 2023-09\n",
      "Downloaded yellow 2023-10\n",
      "Downloaded green 2023-10\n",
      "Downloaded fhv 2023-10\n",
      "Downloaded fhvhv 2023-10\n",
      "Downloaded yellow 2023-11\n",
      "Downloaded green 2023-11\n",
      "Downloaded fhv 2023-11\n",
      "Downloaded fhvhv 2023-11\n",
      "Downloaded yellow 2023-12\n",
      "Downloaded green 2023-12\n",
      "Downloaded fhv 2023-12\n",
      "Downloaded fhvhv 2023-12\n",
      "Downloaded yellow 2024-01\n",
      "Downloaded green 2024-01\n",
      "Downloaded fhv 2024-01\n",
      "Downloaded fhvhv 2024-01\n",
      "Downloaded yellow 2024-02\n",
      "Downloaded green 2024-02\n",
      "Downloaded fhv 2024-02\n",
      "Downloaded fhvhv 2024-02\n",
      "Downloaded yellow 2024-03\n",
      "Downloaded green 2024-03\n",
      "Downloaded fhv 2024-03\n",
      "Downloaded fhvhv 2024-03\n",
      "Downloaded yellow 2024-04\n",
      "Downloaded green 2024-04\n",
      "Downloaded fhv 2024-04\n",
      "Downloaded fhvhv 2024-04\n",
      "Downloaded yellow 2024-05\n",
      "Downloaded green 2024-05\n",
      "Downloaded fhv 2024-05\n",
      "Downloaded fhvhv 2024-05\n"
     ]
    }
   ],
   "source": [
    "# Get yellow trip data\n",
    "for date in date_rng:\n",
    "    for trip in trip_types:\n",
    "        r = requests.get(\"https://d37ci6vzurychx.cloudfront.net/trip-data/\" + trip + \"_tripdata_\"+ datetime.strftime(date, \"%Y-%m\") + \".parquet\")\n",
    "        open(trip + \"_tripdata_\" + datetime.strftime(date, \"%Y-%m\") + '.parquet', 'wb').write(r.content)\n",
    "        print(\"Downloaded\", trip, datetime.strftime(date, \"%Y-%m\"))"
   ]
  },
  {
   "cell_type": "code",
   "execution_count": null,
   "metadata": {},
   "outputs": [],
   "source": []
  }
 ],
 "metadata": {
  "kernelspec": {
   "display_name": "COMP47360",
   "language": "python",
   "name": "python3"
  },
  "language_info": {
   "codemirror_mode": {
    "name": "ipython",
    "version": 3
   },
   "file_extension": ".py",
   "mimetype": "text/x-python",
   "name": "python",
   "nbconvert_exporter": "python",
   "pygments_lexer": "ipython3",
   "version": "3.12.3"
  }
 },
 "nbformat": 4,
 "nbformat_minor": 2
}
