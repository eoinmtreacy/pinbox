{
 "cells": [
  {
   "cell_type": "markdown",
   "metadata": {},
   "source": [
    "This notebook is for uploading leisure, shop, and amenities data to the database."
   ]
  },
  {
   "cell_type": "code",
   "execution_count": 1,
   "metadata": {},
   "outputs": [],
   "source": [
    "from dotenv import load_dotenv\n",
    "import numpy as np\n",
    "import os\n",
    "import pymysql\n",
    "import pandas as pd"
   ]
  },
  {
   "cell_type": "code",
   "execution_count": 2,
   "metadata": {},
   "outputs": [],
   "source": [
    "load_dotenv()\n",
    "DB_HOST = os.getenv(\"DB_HOST\")\n",
    "DB_PORT = int(os.getenv(\"DB_PORT\"))\n",
    "DB_USER = os.getenv(\"DB_USER\")\n",
    "DB_PASSWORD = os.getenv(\"DB_PASSWORD\")\n",
    "DB_DATABASE = os.getenv(\"DB_DATABASE\")"
   ]
  },
  {
   "cell_type": "code",
   "execution_count": 82,
   "metadata": {},
   "outputs": [],
   "source": [
    "df_sh = pd.read_csv(\"osm_places_shop_cleaned.csv\")\n",
    "df_le = pd.read_csv(\"osm_places_leisure_cleaned.csv\")\n",
    "df_am = pd.read_csv(\"osm_places_amenity_cleaned.csv\")\n",
    "df_joined = pd.read_csv(\"places.csv\")"
   ]
  },
  {
   "cell_type": "code",
   "execution_count": 83,
   "metadata": {},
   "outputs": [],
   "source": [
    "df_am = df_am[df_am['id'].isin(df_joined['id'])]"
   ]
  },
  {
   "cell_type": "code",
   "execution_count": 85,
   "metadata": {},
   "outputs": [
    {
     "name": "stdout",
     "output_type": "stream",
     "text": [
      "burger\n",
      "korean\n",
      "nan\n",
      "donut;coffee_shop\n",
      "american;pub\n",
      "mexican;burrito;tacos;nachos;enchilada\n",
      "sandwich;health_food\n",
      "dessert\n",
      "italian\n",
      "thai\n",
      "middle_eastern;american;brunch\n",
      "american;continental\n",
      "chinese;shanghainese\n",
      "latin_american;breakfast\n",
      "middle_eastern;breakfast\n",
      "sushi\n",
      "continental;eclectic\n",
      "vietnamese\n",
      "coffee_shop\n",
      "charcuterie;snack;coffee_shop\n",
      "german\n",
      "pub;american\n",
      "coffee_shop;sandwich\n",
      "american\n",
      "tex-mex\n",
      "french;loire_valley\n",
      "pub\n",
      "irish\n",
      "pizza\n",
      "mexican\n",
      "chinese\n",
      "salad\n",
      "bagel\n",
      "sandwich\n",
      "irish;gastropub\n",
      "diner\n",
      "snack\n",
      "korean;american\n",
      "burger;sandwich\n",
      "mediterranean;american\n",
      "italian;pizza\n",
      "japanese\n",
      "deli\n",
      "donut\n",
      "falafel;middle_eastern\n",
      "juice\n",
      "caribbean\n",
      "turkish\n",
      "new_american\n",
      "indian\n",
      "steak_house\n",
      "brunch\n",
      "international\n",
      "breakfast;sandwich;burger\n",
      "gastropub\n",
      "burger;sandwich;coffee_shop;italian;ice_cream;seafood\n",
      "sandwich;breakfast;salad\n",
      "seafood\n",
      "ice_cream\n",
      "mediterranean\n",
      "greek\n",
      "breakfast;sandwhich;chicken;coffee_shop\n",
      "bagel;sandwich\n",
      "pub;brunch\n",
      "french\n",
      "coffee_shop;ice_cream\n",
      "lebanese\n",
      "russian\n",
      "american;brunch\n",
      "american;eclectic\n",
      "spanish\n",
      "fish_and_chips\n",
      "american;burger;soup;salad;omelette;sandwich;breakfast\n",
      "asian\n",
      "sushi;japanese\n",
      "coffee_shop;breakfast;lunch\n",
      "peruvian\n",
      "mediterranean;tapas\n",
      "hot_dog\n",
      "pastry;breakfast;burger\n",
      "dominican\n",
      "pub;irish;american\n",
      "chinese;dumpling;noodle\n",
      "brazilian\n",
      "fish\n",
      "american;italian\n",
      "pizza;italian\n",
      "chinese;taiwanese;asian\n",
      "chicken\n",
      "sandwich;pizza\n",
      "ecuadorian\n",
      "chicken;korean;sushi\n",
      "chicken;korean\n",
      "czech\n",
      "coffee_shop;breakfast;sandwich\n",
      "sausage\n",
      "moroccan;coffee;breakfast;brunch\n",
      "breakfast;sandwich\n",
      "pakistani;fried_chicken\n",
      "charcuterie;snack\n",
      "breakfast;pancake\n",
      "bagel;breakfast;sandwich;salad\n",
      "bagel;coffee_shop;breakfast;sandwich\n",
      "pakistani\n",
      "wings\n",
      "ethiopian\n",
      "barbecue\n",
      "frozen_yogurt\n",
      "palestinian\n",
      "sri_lankan\n",
      "korean;chinese\n",
      "steak\n",
      "fried_chicken\n",
      "popcorn\n",
      "middle_eastern;pizza\n",
      "vietnamese;sandwich\n",
      "senegalese\n",
      "breakfast;soul_food\n",
      "bagel;breakfast;sandwich\n",
      "latin_american\n",
      "pizza;mexican;burger\n",
      "sandwich;burger;breakfast\n",
      "middle_eastern\n",
      "georgian\n",
      "japanese;sushi\n",
      "eclectic\n",
      "bubble_tea\n",
      "donut;breakfast;ice_cream\n",
      "pizza;ice_cream\n",
      "italian;brunch\n",
      "breakfast;sandwich;latin_american\n",
      "salad;sandwich\n",
      "uzbek\n",
      "trinidadian\n",
      "american;burger\n",
      "sandwicg;hot_dog;italian\n",
      "tajik\n",
      "diner;american;burger\n",
      "basque\n",
      "greek;seafood\n",
      "sardinian\n",
      "coffee_shop;breakfast;sandwich;juice\n",
      "moroccan\n",
      "american;pub;brunch\n",
      "chicken;latin_american\n",
      "malaysian;thai;vietnamese\n",
      "chinese;caribbean\n",
      "dim_sum;chinese\n",
      "burger;fries;milkshake\n",
      "chocolate\n",
      "pastry\n",
      "sandwich;bakery\n",
      "japanese;teriyaki\n",
      "jamaican\n",
      "mexican;caribbean\n",
      "health_food;juice\n",
      "salvadoran\n",
      "diner;italian;mexican\n",
      "health_food;caribbean\n",
      "seafood;tapas\n",
      "australian\n",
      "coffee_shop;japanese\n",
      "american;breakfast;coffee_shop\n",
      "asian;american\n",
      "mexican;diner\n",
      "sandwich;breakfast;pizza\n",
      "asian;mexican\n",
      "burger;american\n",
      "pizza;sandwich;breakfast\n",
      "pancake;diner\n",
      "japanese;cocktails\n",
      "italian;coffee\n",
      "coffee_shop;spanish\n",
      "doner\n",
      "american;indian\n",
      "american;caribbean\n",
      "sandwich;snack\n",
      "thai;ice_cream\n",
      "crepe;japanesel\n",
      "breakfast;sandwich;mexican\n",
      "american;pizza;brunch\n",
      "oysters\n",
      "pizza;american;breakfast\n",
      "argentinian\n",
      "burger;chicken\n",
      "sandwich;breakfast\n",
      "colombian\n",
      "chinese;indian\n",
      "chicken;burger;pizza\n",
      "seafood;soul_food\n",
      "french;senegalese;crepe;pastry\n",
      "african;american\n",
      "chicken;burger\n",
      "french;mediterranean\n",
      "chinese;japanese\n",
      "breakfast;sandwich;colombian\n",
      "breakfast\n",
      "burger;chicken;pizza\n",
      "bangladeshi\n",
      "mediterranean;turkish\n",
      "empanada\n",
      "coffee_shop;pastry\n",
      "pastry;breakfast;coffee_shop\n",
      "cookie\n",
      "coffee_shop;dessert\n",
      "asian;sandwich\n",
      "brunch;sandwich;charcuterie;seafood\n",
      "burger;mexican;wrap\n",
      "dumpling;burger\n",
      "tacos;burger;burrito;nachos\n",
      "pub;latin_american;hawaiian\n"
     ]
    }
   ],
   "source": [
    "for val in df_am['cuisine'].unique():\n",
    "    print(val)"
   ]
  },
  {
   "cell_type": "code",
   "execution_count": 86,
   "metadata": {},
   "outputs": [
    {
     "name": "stdout",
     "output_type": "stream",
     "text": [
      "coffee_shop\n",
      "pizza\n",
      "mexican\n",
      "chinese\n",
      "burger\n",
      "italian\n",
      "american\n",
      "donut;coffee_shop\n",
      "japanese\n",
      "sandwich\n"
     ]
    }
   ],
   "source": [
    "# Get top 10 cuisines\n",
    "for val in df_am['cuisine'].value_counts()[:10].index:\n",
    "    print(val)"
   ]
  },
  {
   "cell_type": "code",
   "execution_count": 87,
   "metadata": {},
   "outputs": [],
   "source": [
    "cuisines = [\n",
    "    'pizza',\n",
    "    'chinese',\n",
    "    'coffee_shop',\n",
    "    'mexican',\n",
    "    'italian',\n",
    "    'burger',\n",
    "    'donut',\n",
    "    'sandwich',\n",
    "    'japanese',\n",
    "    'american'\n",
    "]"
   ]
  },
  {
   "cell_type": "code",
   "execution_count": 88,
   "metadata": {},
   "outputs": [],
   "source": [
    "df_am['cuisine'] = df_am['cuisine'].astype(str) "
   ]
  },
  {
   "cell_type": "code",
   "execution_count": 90,
   "metadata": {},
   "outputs": [],
   "source": [
    "\n",
    "for cuisine in cuisines:\n",
    "    df_am[cuisine] = df_am['cuisine'].apply(lambda s: cuisine in s.split(';'))"
   ]
  },
  {
   "cell_type": "code",
   "execution_count": 91,
   "metadata": {},
   "outputs": [
    {
     "data": {
      "text/plain": [
       "burger\n",
       "False    1045\n",
       "True       65\n",
       "Name: count, dtype: int64"
      ]
     },
     "execution_count": 91,
     "metadata": {},
     "output_type": "execute_result"
    }
   ],
   "source": [
    "df_am['burger'].value_counts()"
   ]
  },
  {
   "cell_type": "code",
   "execution_count": 93,
   "metadata": {},
   "outputs": [
    {
     "data": {
      "text/plain": [
       "Index(['id', 'lat', 'lon', 'addr:city', 'addr:housenumber', 'addr:postcode',\n",
       "       'addr:state', 'addr:street', 'amenity', 'cuisine', 'drive_through',\n",
       "       'name', 'opening_hours', 'phone', 'website', 'outdoor_seating',\n",
       "       'cocktails', 'drink:beer', 'drink:liquor', 'drink:wine', 'wheelchair',\n",
       "       'email', 'diet:vegan', 'diet:vegetarian', 'drink:coffee', 'drink:tea',\n",
       "       'contact:instagram', 'pizza', 'chinese', 'coffee_shop', 'mexican',\n",
       "       'italian', 'burger', 'donut', 'sandwich', 'japanese', 'american'],\n",
       "      dtype='object')"
      ]
     },
     "execution_count": 93,
     "metadata": {},
     "output_type": "execute_result"
    }
   ],
   "source": [
    "df_am.columns"
   ]
  },
  {
   "cell_type": "code",
   "execution_count": 95,
   "metadata": {},
   "outputs": [],
   "source": [
    "sql_table = \"\"\"CREATE TABLE amenities (\n",
    "id BIGINT,\n",
    "cuisine_pizza BOOLEAN,\n",
    "cuisine_chinese BOOLEAN,\n",
    "cuisine_coffee_shop BOOLEAN,\n",
    "cuisine_mexican BOOLEAN,\n",
    "cuisine_italian BOOLEAN,\n",
    "cuisine_burger BOOLEAN,\n",
    "cuisine_donut BOOLEAN,\n",
    "cuisine_sandwich BOOLEAN,\n",
    "cuisine_japanese BOOLEAN,\n",
    "cuisine_american BOOLEAN,\n",
    "diet_vegan ENUM('yes', 'no', 'unknown'),\n",
    "drink_beer ENUM('yes', 'no', 'unknown'),\n",
    "drink_tea ENUM('yes', 'no', 'unknown'),\n",
    "drink_wine ENUM('yes', 'no', 'unknown'),\n",
    "indoor_seating ENUM('yes', 'no', 'unknown'),\n",
    "outdoor_seating ENUM('yes', 'no', 'unknown'),\n",
    "wheelchair ENUM('yes', 'no', 'limited'),\n",
    "PRIMARY KEY (id),\n",
    "FOREIGN KEY (id) REFERENCES places(id)\n",
    ");\n",
    "\"\"\""
   ]
  },
  {
   "cell_type": "code",
   "execution_count": 47,
   "metadata": {},
   "outputs": [],
   "source": [
    "try:\n",
    "    # Establish a connection to the database\n",
    "    connection = pymysql.connect(\n",
    "        host=DB_HOST,\n",
    "        port=DB_PORT,\n",
    "        user=DB_USER,\n",
    "        password=DB_PASSWORD,\n",
    "        database=DB_DATABASE\n",
    "    )\n",
    "\n",
    "        # Create a cursor object to interact with the database\n",
    "    cursor = connection.cursor()\n",
    "except pymysql.Error as e:\n",
    "    print(f\"Error connecting to the database: {e}\")"
   ]
  },
  {
   "cell_type": "code",
   "execution_count": 105,
   "metadata": {},
   "outputs": [],
   "source": [
    "# Create the table\n",
    "try:\n",
    "    cursor.execute(sql_table)\n",
    "except pymysql.MySQLError as e:\n",
    "    print(f\"Error: {e}\")"
   ]
  },
  {
   "cell_type": "code",
   "execution_count": 106,
   "metadata": {},
   "outputs": [],
   "source": [
    "insert_query = \"\"\"\n",
    "INSERT INTO amenities (\n",
    "id,\n",
    "cuisine_pizza,\n",
    "cuisine_chinese,\n",
    "cuisine_coffee_shop,\n",
    "cuisine_mexican,\n",
    "cuisine_italian,\n",
    "cuisine_burger,\n",
    "cuisine_donut,\n",
    "cuisine_sandwich,\n",
    "cuisine_japanese,\n",
    "cuisine_american,\n",
    "diet_vegan,\n",
    "drink_beer,\n",
    "drink_tea,\n",
    "drink_wine,\n",
    "outdoor_seating,\n",
    "wheelchair\n",
    ")\n",
    "VALUES (%s,%s,%s,%s,%s,%s,%s,%s,%s,%s,%s,%s,%s,%s,%s,%s,%s)\n",
    "\"\"\"\n",
    "\n",
    "data = [] # Data to be used\n",
    "\n",
    "for i, row in df_am.iterrows():\n",
    "    data.append([row['id'], row['pizza'], row['chinese'], row['coffee_shop'], row['mexican'],\n",
    "                 row['italian'], row['burger'], row['donut'], row['sandwich'], row['japanese'], \n",
    "                 row['american'], row['diet:vegan'], row['drink:beer'], \n",
    "                 row['drink:tea'], row['drink:wine'],\n",
    "                 row['outdoor_seating'], row['wheelchair']])\n",
    "\n",
    "\n",
    "try:\n",
    "    cursor.executemany(insert_query, data)\n",
    "except pymysql.MySQLError as e:\n",
    "    print(f\"Error: {e}\")\n",
    "    connection.rollback()\n",
    "\n",
    "connection.commit()"
   ]
  },
  {
   "cell_type": "code",
   "execution_count": 112,
   "metadata": {},
   "outputs": [
    {
     "name": "stdout",
     "output_type": "stream",
     "text": [
      "1110\n"
     ]
    },
    {
     "data": {
      "text/plain": [
       "(349323821,\n",
       " 0,\n",
       " 0,\n",
       " 0,\n",
       " 0,\n",
       " 0,\n",
       " 1,\n",
       " 0,\n",
       " 0,\n",
       " 0,\n",
       " 0,\n",
       " 'no',\n",
       " 'no',\n",
       " 'no',\n",
       " 'no',\n",
       " None,\n",
       " 'no',\n",
       " 'no')"
      ]
     },
     "execution_count": 112,
     "metadata": {},
     "output_type": "execute_result"
    }
   ],
   "source": [
    "query = \"\"\"\n",
    "SELECT *\n",
    "FROM amenities\n",
    "\"\"\"\n",
    "print(cursor.execute(query))\n",
    "cursor.fetchone()"
   ]
  },
  {
   "cell_type": "code",
   "execution_count": 104,
   "metadata": {},
   "outputs": [
    {
     "data": {
      "text/plain": [
       "0"
      ]
     },
     "execution_count": 104,
     "metadata": {},
     "output_type": "execute_result"
    }
   ],
   "source": [
    "delete_query = \"\"\"\n",
    "DROP TABLE amenities\n",
    "\"\"\"\n",
    "\n",
    "cursor.execute(delete_query)"
   ]
  }
 ],
 "metadata": {
  "kernelspec": {
   "display_name": "COMP47360",
   "language": "python",
   "name": "python3"
  },
  "language_info": {
   "codemirror_mode": {
    "name": "ipython",
    "version": 3
   },
   "file_extension": ".py",
   "mimetype": "text/x-python",
   "name": "python",
   "nbconvert_exporter": "python",
   "pygments_lexer": "ipython3",
   "version": "3.12.3"
  }
 },
 "nbformat": 4,
 "nbformat_minor": 2
}
