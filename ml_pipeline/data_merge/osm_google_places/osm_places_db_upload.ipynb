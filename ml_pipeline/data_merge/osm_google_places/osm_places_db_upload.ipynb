{
 "cells": [
  {
   "cell_type": "markdown",
   "metadata": {},
   "source": [
    "This notebook is for uploading leisure, shop, and amenities data to the database."
   ]
  },
  {
   "cell_type": "code",
   "execution_count": 46,
   "metadata": {},
   "outputs": [],
   "source": [
    "from dotenv import load_dotenv\n",
    "import numpy as np\n",
    "import os\n",
    "import pymysql\n",
    "import pandas as pd"
   ]
  },
  {
   "cell_type": "code",
   "execution_count": 47,
   "metadata": {},
   "outputs": [],
   "source": [
    "load_dotenv()\n",
    "DB_HOST = os.getenv(\"DB_HOST\")\n",
    "DB_PORT = int(os.getenv(\"DB_PORT\"))\n",
    "DB_USER = os.getenv(\"DB_USER\")\n",
    "DB_PASSWORD = os.getenv(\"DB_PASSWORD\")\n",
    "DB_DATABASE = os.getenv(\"DB_DATABASE\")"
   ]
  },
  {
   "cell_type": "code",
   "execution_count": 48,
   "metadata": {},
   "outputs": [],
   "source": [
    "df_sh = pd.read_csv(\"../../data_evaluation/osm_places/osm_places_shop_cleaned.csv\") # OpenStreetMaps shop data\n",
    "df_le = pd.read_csv(\"../../data_evaluation/osm_places/osm_places_leisure_cleaned.csv\") # OpenStreetMaps leisure data\n",
    "df_am = pd.read_csv(\"../../data_evaluation/osm_places/osm_places_amenity_cleaned.csv\") # OpenStreetMaps amenity data\n",
    "df_joined = pd.read_csv(\"places.csv\")"
   ]
  },
  {
   "cell_type": "code",
   "execution_count": 49,
   "metadata": {},
   "outputs": [],
   "source": [
    "# Filter out amenities that don't have google photos data yet\n",
    "df_am = df_am[df_am['id'].isin(df_joined['id'])]"
   ]
  },
  {
   "cell_type": "code",
   "execution_count": 55,
   "metadata": {},
   "outputs": [],
   "source": [
    "# Top 10 cuisines, will be added as a variable\n",
    "cuisines = [\n",
    "    'pizza',\n",
    "    'chinese',\n",
    "    'coffee_shop',\n",
    "    'mexican',\n",
    "    'italian',\n",
    "    'burger',\n",
    "    'donut',\n",
    "    'sandwich',\n",
    "    'japanese',\n",
    "    'american'\n",
    "]\n",
    "\n",
    "df_am['cuisine'] = df_am['cuisine'].astype(str) \n",
    "\n",
    "for cuisine in cuisines:\n",
    "    df_am[cuisine] = df_am['cuisine'].apply(lambda s: cuisine in s.split(';'))"
   ]
  },
  {
   "cell_type": "code",
   "execution_count": 70,
   "metadata": {},
   "outputs": [
    {
     "data": {
      "text/plain": [
       "Index(['id', 'lat', 'lon', 'name', 'opening_hours', 'shop', 'website',\n",
       "       'addr:city', 'addr:housenumber', 'addr:postcode', 'addr:state',\n",
       "       'addr:street', 'phone', 'outdoor_seating', 'wheelchair', 'email',\n",
       "       'drink:coffee'],\n",
       "      dtype='object')"
      ]
     },
     "execution_count": 70,
     "metadata": {},
     "output_type": "execute_result"
    }
   ],
   "source": [
    "df_sh.columns"
   ]
  },
  {
   "cell_type": "code",
   "execution_count": 58,
   "metadata": {},
   "outputs": [],
   "source": [
    "am_sql_table = \"\"\"CREATE TABLE amenities (\n",
    "id BIGINT,\n",
    "cuisine_pizza BOOLEAN,\n",
    "cuisine_chinese BOOLEAN,\n",
    "cuisine_coffee_shop BOOLEAN,\n",
    "cuisine_mexican BOOLEAN,\n",
    "cuisine_italian BOOLEAN,\n",
    "cuisine_burger BOOLEAN,\n",
    "cuisine_donut BOOLEAN,\n",
    "cuisine_sandwich BOOLEAN,\n",
    "cuisine_japanese BOOLEAN,\n",
    "cuisine_american BOOLEAN,\n",
    "diet_vegan ENUM('yes', 'no', 'unknown'),\n",
    "drink_beer ENUM('yes', 'no', 'unknown'),\n",
    "drink_tea ENUM('yes', 'no', 'unknown'),\n",
    "drink_wine ENUM('yes', 'no', 'unknown'),\n",
    "outdoor_seating ENUM('yes', 'no', 'unknown'),\n",
    "wheelchair ENUM('yes', 'no', 'limited'),\n",
    "PRIMARY KEY (id),\n",
    "FOREIGN KEY (id) REFERENCES places(id)\n",
    ");\n",
    "\"\"\""
   ]
  },
  {
   "cell_type": "code",
   "execution_count": null,
   "metadata": {},
   "outputs": [],
   "source": [
    "sh_sql_table = \"\"\"CREATE TABLE shop (\n",
    "id BIGINT,\n",
    "drink_coffee ENUM('yes', 'no', 'unknown'),\n",
    "outdoor_seating ENUM('yes', 'no', 'unknown'),\n",
    "wheelchair ENUM('yes', 'no', 'limited'),\n",
    "PRIMARY KEY (id),\n",
    "FOREIGN KEY (id) REFERENCES places(id)\n",
    ");\n",
    "\"\"\""
   ]
  },
  {
   "cell_type": "code",
   "execution_count": 65,
   "metadata": {},
   "outputs": [],
   "source": [
    "try:\n",
    "    # Establish a connection to the database\n",
    "    connection = pymysql.connect(\n",
    "        host=DB_HOST,\n",
    "        port=DB_PORT,\n",
    "        user=DB_USER,\n",
    "        password=DB_PASSWORD,\n",
    "        database=DB_DATABASE\n",
    "    )\n",
    "\n",
    "        # Create a cursor object to interact with the database\n",
    "    cursor = connection.cursor()\n",
    "except pymysql.Error as e:\n",
    "    print(f\"Error connecting to the database: {e}\")"
   ]
  },
  {
   "cell_type": "code",
   "execution_count": 66,
   "metadata": {},
   "outputs": [],
   "source": [
    "# Create the table\n",
    "try:\n",
    "    cursor.execute(am_sql_table)\n",
    "except pymysql.MySQLError as e:\n",
    "    print(f\"Error: {e}\")"
   ]
  },
  {
   "cell_type": "code",
   "execution_count": 67,
   "metadata": {},
   "outputs": [],
   "source": [
    "insert_query = \"\"\"\n",
    "INSERT INTO amenities (\n",
    "id,\n",
    "cuisine_pizza,\n",
    "cuisine_chinese,\n",
    "cuisine_coffee_shop,\n",
    "cuisine_mexican,\n",
    "cuisine_italian,\n",
    "cuisine_burger,\n",
    "cuisine_donut,\n",
    "cuisine_sandwich,\n",
    "cuisine_japanese,\n",
    "cuisine_american,\n",
    "diet_vegan,\n",
    "drink_beer,\n",
    "drink_tea,\n",
    "drink_wine,\n",
    "outdoor_seating,\n",
    "wheelchair\n",
    ")\n",
    "VALUES (%s,%s,%s,%s,%s,%s,%s,%s,%s,%s,%s,%s,%s,%s,%s,%s,%s)\n",
    "\"\"\"\n",
    "\n",
    "data = [] # Data to be used\n",
    "\n",
    "for i, row in df_am.iterrows():\n",
    "    data.append([row['id'], row['pizza'], row['chinese'], row['coffee_shop'], row['mexican'],\n",
    "                 row['italian'], row['burger'], row['donut'], row['sandwich'], row['japanese'], \n",
    "                 row['american'], row['diet:vegan'], row['drink:beer'], \n",
    "                 row['drink:tea'], row['drink:wine'],\n",
    "                 row['outdoor_seating'], row['wheelchair']])\n",
    "\n",
    "\n",
    "try:\n",
    "    cursor.executemany(insert_query, data)\n",
    "except pymysql.MySQLError as e:\n",
    "    print(f\"Error: {e}\")\n",
    "    connection.rollback()\n",
    "\n",
    "connection.commit()"
   ]
  },
  {
   "cell_type": "code",
   "execution_count": 68,
   "metadata": {},
   "outputs": [
    {
     "name": "stdout",
     "output_type": "stream",
     "text": [
      "1110\n"
     ]
    },
    {
     "data": {
      "text/plain": [
       "((349323821,\n",
       "  0,\n",
       "  0,\n",
       "  0,\n",
       "  0,\n",
       "  0,\n",
       "  1,\n",
       "  0,\n",
       "  0,\n",
       "  0,\n",
       "  0,\n",
       "  'unknown',\n",
       "  'unknown',\n",
       "  'unknown',\n",
       "  'unknown',\n",
       "  'unknown',\n",
       "  ''),\n",
       " (357618253,\n",
       "  0,\n",
       "  0,\n",
       "  0,\n",
       "  0,\n",
       "  0,\n",
       "  1,\n",
       "  0,\n",
       "  0,\n",
       "  0,\n",
       "  0,\n",
       "  'unknown',\n",
       "  'unknown',\n",
       "  'unknown',\n",
       "  'unknown',\n",
       "  'yes',\n",
       "  ''),\n",
       " (357620442,\n",
       "  0,\n",
       "  0,\n",
       "  0,\n",
       "  0,\n",
       "  0,\n",
       "  0,\n",
       "  0,\n",
       "  0,\n",
       "  0,\n",
       "  0,\n",
       "  'unknown',\n",
       "  'yes',\n",
       "  'unknown',\n",
       "  'yes',\n",
       "  'unknown',\n",
       "  ''),\n",
       " (357621192,\n",
       "  0,\n",
       "  0,\n",
       "  0,\n",
       "  0,\n",
       "  0,\n",
       "  0,\n",
       "  0,\n",
       "  0,\n",
       "  0,\n",
       "  0,\n",
       "  'unknown',\n",
       "  'unknown',\n",
       "  'unknown',\n",
       "  'unknown',\n",
       "  'unknown',\n",
       "  ''),\n",
       " (368042980,\n",
       "  0,\n",
       "  0,\n",
       "  0,\n",
       "  0,\n",
       "  0,\n",
       "  0,\n",
       "  0,\n",
       "  0,\n",
       "  0,\n",
       "  0,\n",
       "  'unknown',\n",
       "  'unknown',\n",
       "  'unknown',\n",
       "  'unknown',\n",
       "  'unknown',\n",
       "  ''))"
      ]
     },
     "execution_count": 68,
     "metadata": {},
     "output_type": "execute_result"
    }
   ],
   "source": [
    "query = \"\"\"\n",
    "SELECT *\n",
    "FROM amenities\n",
    "\"\"\"\n",
    "print(cursor.execute(query))\n",
    "cursor.fetchmany(5)"
   ]
  },
  {
   "cell_type": "code",
   "execution_count": 63,
   "metadata": {},
   "outputs": [
    {
     "data": {
      "text/plain": [
       "0"
      ]
     },
     "execution_count": 63,
     "metadata": {},
     "output_type": "execute_result"
    }
   ],
   "source": [
    "# Delete the table\n",
    "delete_query = \"\"\"\n",
    "DROP TABLE amenities\n",
    "\"\"\"\n",
    "\n",
    "cursor.execute(delete_query)"
   ]
  },
  {
   "cell_type": "code",
   "execution_count": 64,
   "metadata": {},
   "outputs": [
    {
     "name": "stdout",
     "output_type": "stream",
     "text": [
      "Database connection closed.\n"
     ]
    }
   ],
   "source": [
    "# Close the cursor and connection\n",
    "if cursor:\n",
    "    cursor.close()\n",
    "if connection:\n",
    "    connection.close()\n",
    "    print(\"Database connection closed.\")"
   ]
  }
 ],
 "metadata": {
  "kernelspec": {
   "display_name": "COMP47360",
   "language": "python",
   "name": "python3"
  },
  "language_info": {
   "codemirror_mode": {
    "name": "ipython",
    "version": 3
   },
   "file_extension": ".py",
   "mimetype": "text/x-python",
   "name": "python",
   "nbconvert_exporter": "python",
   "pygments_lexer": "ipython3",
   "version": "3.12.3"
  }
 },
 "nbformat": 4,
 "nbformat_minor": 2
}
