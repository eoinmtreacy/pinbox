{
 "cells": [
  {
   "cell_type": "markdown",
   "metadata": {},
   "source": [
    "This notebook is for creating the 'places' table in the DB and adding data to it from the cleaned and merged places data 'places.csv'. "
   ]
  },
  {
   "cell_type": "code",
   "execution_count": 47,
   "metadata": {},
   "outputs": [],
   "source": [
    "from dotenv import load_dotenv\n",
    "import numpy as np\n",
    "import os\n",
    "import pymysql\n",
    "import pandas as pd"
   ]
  },
  {
   "cell_type": "code",
   "execution_count": 36,
   "metadata": {},
   "outputs": [],
   "source": [
    "load_dotenv()\n",
    "DB_HOST = os.getenv(\"DB_HOST\")\n",
    "DB_PORT = int(os.getenv(\"DB_PORT\"))\n",
    "DB_USER = os.getenv(\"DB_USER\")\n",
    "DB_PASSWORD = os.getenv(\"DB_PASSWORD\")\n",
    "DB_DATABASE = os.getenv(\"DB_DATABASE\")"
   ]
  },
  {
   "cell_type": "code",
   "execution_count": 37,
   "metadata": {},
   "outputs": [],
   "source": [
    "df = pd.read_csv(\"places.csv\")"
   ]
  },
  {
   "cell_type": "code",
   "execution_count": 71,
   "metadata": {},
   "outputs": [
    {
     "data": {
      "text/html": [
       "<div>\n",
       "<style scoped>\n",
       "    .dataframe tbody tr th:only-of-type {\n",
       "        vertical-align: middle;\n",
       "    }\n",
       "\n",
       "    .dataframe tbody tr th {\n",
       "        vertical-align: top;\n",
       "    }\n",
       "\n",
       "    .dataframe thead th {\n",
       "        text-align: right;\n",
       "    }\n",
       "</style>\n",
       "<table border=\"1\" class=\"dataframe\">\n",
       "  <thead>\n",
       "    <tr style=\"text-align: right;\">\n",
       "      <th></th>\n",
       "      <th>id</th>\n",
       "      <th>google_id</th>\n",
       "      <th>lat</th>\n",
       "      <th>lon</th>\n",
       "      <th>name</th>\n",
       "      <th>type</th>\n",
       "      <th>subtype</th>\n",
       "      <th>addr_city</th>\n",
       "      <th>addr_housenumber</th>\n",
       "      <th>addr_postcode</th>\n",
       "      <th>...</th>\n",
       "      <th>photo_0</th>\n",
       "      <th>photo_1</th>\n",
       "      <th>photo_2</th>\n",
       "      <th>photo_3</th>\n",
       "      <th>photo_4</th>\n",
       "      <th>photo_5</th>\n",
       "      <th>photo_6</th>\n",
       "      <th>photo_7</th>\n",
       "      <th>photo_8</th>\n",
       "      <th>photo_9</th>\n",
       "    </tr>\n",
       "  </thead>\n",
       "  <tbody>\n",
       "    <tr>\n",
       "      <th>0</th>\n",
       "      <td>349323821</td>\n",
       "      <td>places/ChIJ_b6qJvpYwokR7TFSUhdqGUc</td>\n",
       "      <td>40.762515</td>\n",
       "      <td>-73.976690</td>\n",
       "      <td>Five Guys</td>\n",
       "      <td>amenity</td>\n",
       "      <td>fast_food</td>\n",
       "      <td>New York</td>\n",
       "      <td>43</td>\n",
       "      <td>10019.0</td>\n",
       "      <td>...</td>\n",
       "      <td>places/ChIJ_b6qJvpYwokR7TFSUhdqGUc/photos/AUGG...</td>\n",
       "      <td>places/ChIJ_b6qJvpYwokR7TFSUhdqGUc/photos/AUGG...</td>\n",
       "      <td>places/ChIJ_b6qJvpYwokR7TFSUhdqGUc/photos/AUGG...</td>\n",
       "      <td>places/ChIJ_b6qJvpYwokR7TFSUhdqGUc/photos/AUGG...</td>\n",
       "      <td>places/ChIJ_b6qJvpYwokR7TFSUhdqGUc/photos/AUGG...</td>\n",
       "      <td>places/ChIJ_b6qJvpYwokR7TFSUhdqGUc/photos/AUGG...</td>\n",
       "      <td>places/ChIJ_b6qJvpYwokR7TFSUhdqGUc/photos/AUGG...</td>\n",
       "      <td>places/ChIJ_b6qJvpYwokR7TFSUhdqGUc/photos/AUGG...</td>\n",
       "      <td>places/ChIJ_b6qJvpYwokR7TFSUhdqGUc/photos/AUGG...</td>\n",
       "      <td>places/ChIJ_b6qJvpYwokR7TFSUhdqGUc/photos/AUGG...</td>\n",
       "    </tr>\n",
       "    <tr>\n",
       "      <th>1</th>\n",
       "      <td>357618253</td>\n",
       "      <td>places/ChIJcdatubBhwokRNd0ySdodDgg</td>\n",
       "      <td>40.740822</td>\n",
       "      <td>-73.784295</td>\n",
       "      <td>Hooters</td>\n",
       "      <td>amenity</td>\n",
       "      <td>restaurant</td>\n",
       "      <td>Fresh Meadows</td>\n",
       "      <td>61-09</td>\n",
       "      <td>11365.0</td>\n",
       "      <td>...</td>\n",
       "      <td>places/ChIJcdatubBhwokRNd0ySdodDgg/photos/AUGG...</td>\n",
       "      <td>places/ChIJcdatubBhwokRNd0ySdodDgg/photos/AUGG...</td>\n",
       "      <td>places/ChIJcdatubBhwokRNd0ySdodDgg/photos/AUGG...</td>\n",
       "      <td>places/ChIJcdatubBhwokRNd0ySdodDgg/photos/AUGG...</td>\n",
       "      <td>places/ChIJcdatubBhwokRNd0ySdodDgg/photos/AUGG...</td>\n",
       "      <td>places/ChIJcdatubBhwokRNd0ySdodDgg/photos/AUGG...</td>\n",
       "      <td>places/ChIJcdatubBhwokRNd0ySdodDgg/photos/AUGG...</td>\n",
       "      <td>places/ChIJcdatubBhwokRNd0ySdodDgg/photos/AUGG...</td>\n",
       "      <td>places/ChIJcdatubBhwokRNd0ySdodDgg/photos/AUGG...</td>\n",
       "      <td>places/ChIJcdatubBhwokRNd0ySdodDgg/photos/AUGG...</td>\n",
       "    </tr>\n",
       "    <tr>\n",
       "      <th>2</th>\n",
       "      <td>357620442</td>\n",
       "      <td>places/ChIJG8WWttZZwokRBkeFkHkoFv4</td>\n",
       "      <td>40.741558</td>\n",
       "      <td>-73.978463</td>\n",
       "      <td>Sam Sunny</td>\n",
       "      <td>amenity</td>\n",
       "      <td>restaurant</td>\n",
       "      <td>NaN</td>\n",
       "      <td>NaN</td>\n",
       "      <td>NaN</td>\n",
       "      <td>...</td>\n",
       "      <td>places/ChIJG8WWttZZwokRBkeFkHkoFv4/photos/AUGG...</td>\n",
       "      <td>places/ChIJG8WWttZZwokRBkeFkHkoFv4/photos/AUGG...</td>\n",
       "      <td>places/ChIJG8WWttZZwokRBkeFkHkoFv4/photos/AUGG...</td>\n",
       "      <td>places/ChIJG8WWttZZwokRBkeFkHkoFv4/photos/AUGG...</td>\n",
       "      <td>places/ChIJG8WWttZZwokRBkeFkHkoFv4/photos/AUGG...</td>\n",
       "      <td>places/ChIJG8WWttZZwokRBkeFkHkoFv4/photos/AUGG...</td>\n",
       "      <td>places/ChIJG8WWttZZwokRBkeFkHkoFv4/photos/AUGG...</td>\n",
       "      <td>places/ChIJG8WWttZZwokRBkeFkHkoFv4/photos/AUGG...</td>\n",
       "      <td>places/ChIJG8WWttZZwokRBkeFkHkoFv4/photos/AUGG...</td>\n",
       "      <td>places/ChIJG8WWttZZwokRBkeFkHkoFv4/photos/AUGG...</td>\n",
       "    </tr>\n",
       "    <tr>\n",
       "      <th>3</th>\n",
       "      <td>357621192</td>\n",
       "      <td>places/ChIJ00nIlp_2wokROYs-HVvAfj8</td>\n",
       "      <td>40.846563</td>\n",
       "      <td>-73.938127</td>\n",
       "      <td>United Palace</td>\n",
       "      <td>amenity</td>\n",
       "      <td>theatre</td>\n",
       "      <td>New York</td>\n",
       "      <td>4140</td>\n",
       "      <td>10033.0</td>\n",
       "      <td>...</td>\n",
       "      <td>places/ChIJ00nIlp_2wokROYs-HVvAfj8/photos/AUGG...</td>\n",
       "      <td>places/ChIJ00nIlp_2wokROYs-HVvAfj8/photos/AUGG...</td>\n",
       "      <td>places/ChIJ00nIlp_2wokROYs-HVvAfj8/photos/AUGG...</td>\n",
       "      <td>places/ChIJ00nIlp_2wokROYs-HVvAfj8/photos/AUGG...</td>\n",
       "      <td>places/ChIJ00nIlp_2wokROYs-HVvAfj8/photos/AUGG...</td>\n",
       "      <td>places/ChIJ00nIlp_2wokROYs-HVvAfj8/photos/AUGG...</td>\n",
       "      <td>places/ChIJ00nIlp_2wokROYs-HVvAfj8/photos/AUGG...</td>\n",
       "      <td>places/ChIJ00nIlp_2wokROYs-HVvAfj8/photos/AUGG...</td>\n",
       "      <td>places/ChIJ00nIlp_2wokROYs-HVvAfj8/photos/AUGG...</td>\n",
       "      <td>places/ChIJ00nIlp_2wokROYs-HVvAfj8/photos/AUGG...</td>\n",
       "    </tr>\n",
       "    <tr>\n",
       "      <th>4</th>\n",
       "      <td>368042980</td>\n",
       "      <td>places/ChIJeaNd3IhZwokRU25epwuJ4aY</td>\n",
       "      <td>40.721480</td>\n",
       "      <td>-73.997103</td>\n",
       "      <td>Storefront for Art and Architecture</td>\n",
       "      <td>amenity</td>\n",
       "      <td>arts_centre</td>\n",
       "      <td>NaN</td>\n",
       "      <td>97</td>\n",
       "      <td>10012.0</td>\n",
       "      <td>...</td>\n",
       "      <td>places/ChIJeaNd3IhZwokRU25epwuJ4aY/photos/AUGG...</td>\n",
       "      <td>places/ChIJeaNd3IhZwokRU25epwuJ4aY/photos/AUGG...</td>\n",
       "      <td>places/ChIJeaNd3IhZwokRU25epwuJ4aY/photos/AUGG...</td>\n",
       "      <td>places/ChIJeaNd3IhZwokRU25epwuJ4aY/photos/AUGG...</td>\n",
       "      <td>places/ChIJeaNd3IhZwokRU25epwuJ4aY/photos/AUGG...</td>\n",
       "      <td>places/ChIJeaNd3IhZwokRU25epwuJ4aY/photos/AUGG...</td>\n",
       "      <td>places/ChIJeaNd3IhZwokRU25epwuJ4aY/photos/AUGG...</td>\n",
       "      <td>places/ChIJeaNd3IhZwokRU25epwuJ4aY/photos/AUGG...</td>\n",
       "      <td>places/ChIJeaNd3IhZwokRU25epwuJ4aY/photos/AUGG...</td>\n",
       "      <td>places/ChIJeaNd3IhZwokRU25epwuJ4aY/photos/AUGG...</td>\n",
       "    </tr>\n",
       "  </tbody>\n",
       "</table>\n",
       "<p>5 rows × 24 columns</p>\n",
       "</div>"
      ],
      "text/plain": [
       "          id                           google_id        lat        lon  \\\n",
       "0  349323821  places/ChIJ_b6qJvpYwokR7TFSUhdqGUc  40.762515 -73.976690   \n",
       "1  357618253  places/ChIJcdatubBhwokRNd0ySdodDgg  40.740822 -73.784295   \n",
       "2  357620442  places/ChIJG8WWttZZwokRBkeFkHkoFv4  40.741558 -73.978463   \n",
       "3  357621192  places/ChIJ00nIlp_2wokROYs-HVvAfj8  40.846563 -73.938127   \n",
       "4  368042980  places/ChIJeaNd3IhZwokRU25epwuJ4aY  40.721480 -73.997103   \n",
       "\n",
       "                                  name     type      subtype      addr_city  \\\n",
       "0                            Five Guys  amenity    fast_food       New York   \n",
       "1                              Hooters  amenity   restaurant  Fresh Meadows   \n",
       "2                            Sam Sunny  amenity   restaurant            NaN   \n",
       "3                        United Palace  amenity      theatre       New York   \n",
       "4  Storefront for Art and Architecture  amenity  arts_centre            NaN   \n",
       "\n",
       "  addr_housenumber  addr_postcode  ...  \\\n",
       "0               43        10019.0  ...   \n",
       "1            61-09        11365.0  ...   \n",
       "2              NaN            NaN  ...   \n",
       "3             4140        10033.0  ...   \n",
       "4               97        10012.0  ...   \n",
       "\n",
       "                                             photo_0  \\\n",
       "0  places/ChIJ_b6qJvpYwokR7TFSUhdqGUc/photos/AUGG...   \n",
       "1  places/ChIJcdatubBhwokRNd0ySdodDgg/photos/AUGG...   \n",
       "2  places/ChIJG8WWttZZwokRBkeFkHkoFv4/photos/AUGG...   \n",
       "3  places/ChIJ00nIlp_2wokROYs-HVvAfj8/photos/AUGG...   \n",
       "4  places/ChIJeaNd3IhZwokRU25epwuJ4aY/photos/AUGG...   \n",
       "\n",
       "                                             photo_1  \\\n",
       "0  places/ChIJ_b6qJvpYwokR7TFSUhdqGUc/photos/AUGG...   \n",
       "1  places/ChIJcdatubBhwokRNd0ySdodDgg/photos/AUGG...   \n",
       "2  places/ChIJG8WWttZZwokRBkeFkHkoFv4/photos/AUGG...   \n",
       "3  places/ChIJ00nIlp_2wokROYs-HVvAfj8/photos/AUGG...   \n",
       "4  places/ChIJeaNd3IhZwokRU25epwuJ4aY/photos/AUGG...   \n",
       "\n",
       "                                             photo_2  \\\n",
       "0  places/ChIJ_b6qJvpYwokR7TFSUhdqGUc/photos/AUGG...   \n",
       "1  places/ChIJcdatubBhwokRNd0ySdodDgg/photos/AUGG...   \n",
       "2  places/ChIJG8WWttZZwokRBkeFkHkoFv4/photos/AUGG...   \n",
       "3  places/ChIJ00nIlp_2wokROYs-HVvAfj8/photos/AUGG...   \n",
       "4  places/ChIJeaNd3IhZwokRU25epwuJ4aY/photos/AUGG...   \n",
       "\n",
       "                                             photo_3  \\\n",
       "0  places/ChIJ_b6qJvpYwokR7TFSUhdqGUc/photos/AUGG...   \n",
       "1  places/ChIJcdatubBhwokRNd0ySdodDgg/photos/AUGG...   \n",
       "2  places/ChIJG8WWttZZwokRBkeFkHkoFv4/photos/AUGG...   \n",
       "3  places/ChIJ00nIlp_2wokROYs-HVvAfj8/photos/AUGG...   \n",
       "4  places/ChIJeaNd3IhZwokRU25epwuJ4aY/photos/AUGG...   \n",
       "\n",
       "                                             photo_4  \\\n",
       "0  places/ChIJ_b6qJvpYwokR7TFSUhdqGUc/photos/AUGG...   \n",
       "1  places/ChIJcdatubBhwokRNd0ySdodDgg/photos/AUGG...   \n",
       "2  places/ChIJG8WWttZZwokRBkeFkHkoFv4/photos/AUGG...   \n",
       "3  places/ChIJ00nIlp_2wokROYs-HVvAfj8/photos/AUGG...   \n",
       "4  places/ChIJeaNd3IhZwokRU25epwuJ4aY/photos/AUGG...   \n",
       "\n",
       "                                             photo_5  \\\n",
       "0  places/ChIJ_b6qJvpYwokR7TFSUhdqGUc/photos/AUGG...   \n",
       "1  places/ChIJcdatubBhwokRNd0ySdodDgg/photos/AUGG...   \n",
       "2  places/ChIJG8WWttZZwokRBkeFkHkoFv4/photos/AUGG...   \n",
       "3  places/ChIJ00nIlp_2wokROYs-HVvAfj8/photos/AUGG...   \n",
       "4  places/ChIJeaNd3IhZwokRU25epwuJ4aY/photos/AUGG...   \n",
       "\n",
       "                                             photo_6  \\\n",
       "0  places/ChIJ_b6qJvpYwokR7TFSUhdqGUc/photos/AUGG...   \n",
       "1  places/ChIJcdatubBhwokRNd0ySdodDgg/photos/AUGG...   \n",
       "2  places/ChIJG8WWttZZwokRBkeFkHkoFv4/photos/AUGG...   \n",
       "3  places/ChIJ00nIlp_2wokROYs-HVvAfj8/photos/AUGG...   \n",
       "4  places/ChIJeaNd3IhZwokRU25epwuJ4aY/photos/AUGG...   \n",
       "\n",
       "                                             photo_7  \\\n",
       "0  places/ChIJ_b6qJvpYwokR7TFSUhdqGUc/photos/AUGG...   \n",
       "1  places/ChIJcdatubBhwokRNd0ySdodDgg/photos/AUGG...   \n",
       "2  places/ChIJG8WWttZZwokRBkeFkHkoFv4/photos/AUGG...   \n",
       "3  places/ChIJ00nIlp_2wokROYs-HVvAfj8/photos/AUGG...   \n",
       "4  places/ChIJeaNd3IhZwokRU25epwuJ4aY/photos/AUGG...   \n",
       "\n",
       "                                             photo_8  \\\n",
       "0  places/ChIJ_b6qJvpYwokR7TFSUhdqGUc/photos/AUGG...   \n",
       "1  places/ChIJcdatubBhwokRNd0ySdodDgg/photos/AUGG...   \n",
       "2  places/ChIJG8WWttZZwokRBkeFkHkoFv4/photos/AUGG...   \n",
       "3  places/ChIJ00nIlp_2wokROYs-HVvAfj8/photos/AUGG...   \n",
       "4  places/ChIJeaNd3IhZwokRU25epwuJ4aY/photos/AUGG...   \n",
       "\n",
       "                                             photo_9  \n",
       "0  places/ChIJ_b6qJvpYwokR7TFSUhdqGUc/photos/AUGG...  \n",
       "1  places/ChIJcdatubBhwokRNd0ySdodDgg/photos/AUGG...  \n",
       "2  places/ChIJG8WWttZZwokRBkeFkHkoFv4/photos/AUGG...  \n",
       "3  places/ChIJ00nIlp_2wokROYs-HVvAfj8/photos/AUGG...  \n",
       "4  places/ChIJeaNd3IhZwokRU25epwuJ4aY/photos/AUGG...  \n",
       "\n",
       "[5 rows x 24 columns]"
      ]
     },
     "execution_count": 71,
     "metadata": {},
     "output_type": "execute_result"
    }
   ],
   "source": [
    "df.head()"
   ]
  },
  {
   "cell_type": "code",
   "execution_count": 38,
   "metadata": {},
   "outputs": [],
   "source": [
    "df['addr_postcode'] = df['addr_postcode'].astype('Int64').astype(str)"
   ]
  },
  {
   "cell_type": "code",
   "execution_count": 49,
   "metadata": {},
   "outputs": [],
   "source": [
    "df.loc[df['addr_postcode']=='<NA>', 'addr_postcode'] = None\n",
    "df = df.replace({np.nan: None})\n",
    "df = df.drop_duplicates(subset='id')"
   ]
  },
  {
   "cell_type": "code",
   "execution_count": null,
   "metadata": {},
   "outputs": [],
   "source": []
  },
  {
   "cell_type": "code",
   "execution_count": 53,
   "metadata": {},
   "outputs": [],
   "source": [
    "try:\n",
    "    # Establish a connection to the database\n",
    "    connection = pymysql.connect(\n",
    "        host=DB_HOST,\n",
    "        port=DB_PORT,\n",
    "        user=DB_USER,\n",
    "        password=DB_PASSWORD,\n",
    "        database=DB_DATABASE\n",
    "    )\n",
    "\n",
    "        # Create a cursor object to interact with the database\n",
    "    cursor = connection.cursor()\n",
    "except pymysql.Error as e:\n",
    "    print(f\"Error connecting to the database: {e}\")\n"
   ]
  },
  {
   "cell_type": "code",
   "execution_count": 41,
   "metadata": {},
   "outputs": [
    {
     "name": "stdout",
     "output_type": "stream",
     "text": [
      "(('def', 'DBdev', 'places', 'BASE TABLE', 'InnoDB', 10, 'Dynamic', 474, 3352, 1589248, 0, 0, 4194304, None, datetime.datetime(2024, 6, 19, 7, 59, 7), datetime.datetime(2024, 6, 19, 7, 59, 8), None, 'utf8mb4_0900_ai_ci', None, '', ''),)\n"
     ]
    }
   ],
   "source": [
    "cursor.execute(\"\"\"\n",
    "    SELECT *\n",
    "    FROM INFORMATION_SCHEMA.TABLES\n",
    "    WHERE TABLE_NAME='places'\n",
    "\"\"\")\n",
    "print(cursor.fetchall())"
   ]
  },
  {
   "cell_type": "code",
   "execution_count": 50,
   "metadata": {},
   "outputs": [
    {
     "name": "stdout",
     "output_type": "stream",
     "text": [
      "(('USER',), ('HOST',), ('GRANTEE',), ('GRANTEE_HOST',), ('ROLE_NAME',), ('ROLE_HOST',), ('IS_GRANTABLE',), ('IS_DEFAULT',), ('IS_MANDATORY',), ('USER',), ('HOST',), ('GRANTEE',), ('GRANTEE_HOST',), ('ROLE_NAME',), ('ROLE_HOST',), ('IS_GRANTABLE',), ('IS_DEFAULT',), ('IS_MANDATORY',), ('CHARACTER_SET_NAME',), ('DEFAULT_COLLATE_NAME',), ('DESCRIPTION',), ('MAXLEN',), ('CONSTRAINT_CATALOG',), ('CONSTRAINT_SCHEMA',), ('CONSTRAINT_NAME',), ('CHECK_CLAUSE',), ('COLLATION_NAME',), ('CHARACTER_SET_NAME',), ('ID',), ('IS_DEFAULT',), ('IS_COMPILED',), ('SORTLEN',), ('PAD_ATTRIBUTE',), ('COLLATION_NAME',), ('CHARACTER_SET_NAME',), ('TABLE_CATALOG',), ('TABLE_SCHEMA',), ('TABLE_NAME',), ('COLUMN_NAME',), ('ORDINAL_POSITION',), ('COLUMN_DEFAULT',), ('IS_NULLABLE',), ('DATA_TYPE',), ('CHARACTER_MAXIMUM_LENGTH',), ('CHARACTER_OCTET_LENGTH',), ('NUMERIC_PRECISION',), ('NUMERIC_SCALE',), ('DATETIME_PRECISION',), ('CHARACTER_SET_NAME',), ('COLLATION_NAME',), ('COLUMN_TYPE',), ('COLUMN_KEY',), ('EXTRA',), ('PRIVILEGES',), ('COLUMN_COMMENT',), ('GENERATION_EXPRESSION',), ('SRS_ID',), ('TABLE_CATALOG',), ('TABLE_SCHEMA',), ('TABLE_NAME',), ('COLUMN_NAME',), ('ENGINE_ATTRIBUTE',), ('SECONDARY_ENGINE_ATTRIBUTE',), ('GRANTEE',), ('TABLE_CATALOG',), ('TABLE_SCHEMA',), ('TABLE_NAME',), ('COLUMN_NAME',), ('PRIVILEGE_TYPE',), ('IS_GRANTABLE',), ('SCHEMA_NAME',), ('TABLE_NAME',), ('COLUMN_NAME',), ('HISTOGRAM',), ('ROLE_NAME',), ('ROLE_HOST',), ('IS_DEFAULT',), ('IS_MANDATORY',), ('ENGINE',), ('SUPPORT',), ('COMMENT',), ('TRANSACTIONS',), ('XA',), ('SAVEPOINTS',), ('EVENT_CATALOG',), ('EVENT_SCHEMA',), ('EVENT_NAME',), ('DEFINER',), ('TIME_ZONE',), ('EVENT_BODY',), ('EVENT_DEFINITION',), ('EVENT_TYPE',), ('EXECUTE_AT',), ('INTERVAL_VALUE',), ('INTERVAL_FIELD',), ('SQL_MODE',), ('STARTS',), ('ENDS',), ('STATUS',), ('ON_COMPLETION',), ('CREATED',), ('LAST_ALTERED',), ('LAST_EXECUTED',), ('EVENT_COMMENT',), ('ORIGINATOR',), ('CHARACTER_SET_CLIENT',), ('COLLATION_CONNECTION',), ('DATABASE_COLLATION',), ('FILE_ID',), ('FILE_NAME',), ('FILE_TYPE',), ('TABLESPACE_NAME',), ('TABLE_CATALOG',), ('TABLE_SCHEMA',), ('TABLE_NAME',), ('LOGFILE_GROUP_NAME',), ('LOGFILE_GROUP_NUMBER',), ('ENGINE',), ('FULLTEXT_KEYS',), ('DELETED_ROWS',), ('UPDATE_COUNT',), ('FREE_EXTENTS',), ('TOTAL_EXTENTS',), ('EXTENT_SIZE',), ('INITIAL_SIZE',), ('MAXIMUM_SIZE',), ('AUTOEXTEND_SIZE',), ('CREATION_TIME',), ('LAST_UPDATE_TIME',), ('LAST_ACCESS_TIME',), ('RECOVER_TIME',), ('TRANSACTION_COUNTER',), ('VERSION',), ('ROW_FORMAT',), ('TABLE_ROWS',), ('AVG_ROW_LENGTH',), ('DATA_LENGTH',), ('MAX_DATA_LENGTH',), ('INDEX_LENGTH',), ('DATA_FREE',), ('CREATE_TIME',), ('UPDATE_TIME',), ('CHECK_TIME',), ('CHECKSUM',), ('STATUS',), ('EXTRA',), ('POOL_ID',), ('BLOCK_ID',), ('SPACE',), ('PAGE_NUMBER',), ('PAGE_TYPE',), ('FLUSH_TYPE',), ('FIX_COUNT',), ('IS_HASHED',), ('NEWEST_MODIFICATION',), ('OLDEST_MODIFICATION',), ('ACCESS_TIME',), ('TABLE_NAME',), ('INDEX_NAME',), ('NUMBER_RECORDS',), ('DATA_SIZE',), ('COMPRESSED_SIZE',), ('PAGE_STATE',), ('IO_FIX',), ('IS_OLD',), ('FREE_PAGE_CLOCK',), ('IS_STALE',), ('POOL_ID',), ('LRU_POSITION',), ('SPACE',), ('PAGE_NUMBER',), ('PAGE_TYPE',), ('FLUSH_TYPE',), ('FIX_COUNT',), ('IS_HASHED',), ('NEWEST_MODIFICATION',), ('OLDEST_MODIFICATION',), ('ACCESS_TIME',), ('TABLE_NAME',), ('INDEX_NAME',), ('NUMBER_RECORDS',), ('DATA_SIZE',), ('COMPRESSED_SIZE',), ('COMPRESSED',), ('IO_FIX',), ('IS_OLD',), ('FREE_PAGE_CLOCK',), ('POOL_ID',), ('POOL_SIZE',), ('FREE_BUFFERS',), ('DATABASE_PAGES',), ('OLD_DATABASE_PAGES',), ('MODIFIED_DATABASE_PAGES',), ('PENDING_DECOMPRESS',), ('PENDING_READS',), ('PENDING_FLUSH_LRU',), ('PENDING_FLUSH_LIST',), ('PAGES_MADE_YOUNG',), ('PAGES_NOT_MADE_YOUNG',), ('PAGES_MADE_YOUNG_RATE',), ('PAGES_MADE_NOT_YOUNG_RATE',), ('NUMBER_PAGES_READ',), ('NUMBER_PAGES_CREATED',), ('NUMBER_PAGES_WRITTEN',), ('PAGES_READ_RATE',), ('PAGES_CREATE_RATE',), ('PAGES_WRITTEN_RATE',), ('NUMBER_PAGES_GET',), ('HIT_RATE',), ('YOUNG_MAKE_PER_THOUSAND_GETS',), ('NOT_YOUNG_MAKE_PER_THOUSAND_GETS',), ('NUMBER_PAGES_READ_AHEAD',), ('NUMBER_READ_AHEAD_EVICTED',), ('READ_AHEAD_RATE',), ('READ_AHEAD_EVICTED_RATE',), ('LRU_IO_TOTAL',), ('LRU_IO_CURRENT',), ('UNCOMPRESS_TOTAL',), ('UNCOMPRESS_CURRENT',), ('SPACE_ID',), ('INDEX_ID',), ('N_CACHED_PAGES',), ('page_size',), ('compress_ops',), ('compress_ops_ok',), ('compress_time',), ('uncompress_ops',), ('uncompress_time',), ('page_size',), ('buffer_pool_instance',), ('pages_used',), ('pages_free',), ('relocation_ops',), ('relocation_time',), ('page_size',), ('buffer_pool_instance',), ('pages_used',), ('pages_free',), ('relocation_ops',), ('relocation_time',), ('database_name',), ('table_name',), ('index_name',), ('compress_ops',), ('compress_ops_ok',), ('compress_time',), ('uncompress_ops',), ('uncompress_time',), ('database_name',), ('table_name',), ('index_name',), ('compress_ops',), ('compress_ops_ok',), ('compress_time',), ('uncompress_ops',), ('uncompress_time',), ('page_size',), ('compress_ops',), ('compress_ops_ok',), ('compress_time',), ('uncompress_ops',), ('uncompress_time',), ('TABLE_ID',), ('NAME',), ('POS',), ('MTYPE',), ('PRTYPE',), ('LEN',), ('HAS_DEFAULT',), ('DEFAULT_VALUE',), ('SPACE',), ('PATH',), ('INDEX_ID',), ('NAME',), ('POS',), ('ID',), ('FOR_NAME',), ('REF_NAME',), ('N_COLS',), ('TYPE',), ('ID',), ('FOR_COL_NAME',), ('REF_COL_NAME',), ('POS',), ('DOC_ID',), ('KEY',), ('VALUE',), ('value',), ('DOC_ID',), ('WORD',), ('FIRST_DOC_ID',), ('LAST_DOC_ID',), ('DOC_COUNT',), ('DOC_ID',), ('POSITION',), ('WORD',), ('FIRST_DOC_ID',), ('LAST_DOC_ID',), ('DOC_COUNT',), ('DOC_ID',), ('POSITION',), ('INDEX_ID',), ('NAME',), ('TABLE_ID',), ('TYPE',), ('N_FIELDS',), ('PAGE_NO',), ('SPACE',), ('MERGE_THRESHOLD',), ('NAME',), ('SUBSYSTEM',), ('COUNT',), ('MAX_COUNT',), ('MIN_COUNT',), ('AVG_COUNT',), ('COUNT_RESET',), ('MAX_COUNT_RESET',), ('MIN_COUNT_RESET',), ('AVG_COUNT_RESET',), ('TIME_ENABLED',), ('TIME_DISABLED',), ('TIME_ELAPSED',), ('TIME_RESET',), ('STATUS',), ('TYPE',), ('COMMENT',), ('ID',), ('SPACE',), ('PATH',), ('SIZE',), ('STATE',), ('PURPOSE',), ('TABLE_ID',), ('NAME',), ('FLAG',), ('N_COLS',), ('SPACE',), ('ROW_FORMAT',), ('ZIP_PAGE_SIZE',), ('SPACE_TYPE',), ('INSTANT_COLS',), ('TOTAL_ROW_VERSIONS',), ('SPACE',), ('NAME',), ('FLAG',), ('ROW_FORMAT',), ('PAGE_SIZE',), ('ZIP_PAGE_SIZE',), ('SPACE_TYPE',), ('FS_BLOCK_SIZE',), ('FILE_SIZE',), ('ALLOCATED_SIZE',), ('AUTOEXTEND_SIZE',), ('SERVER_VERSION',), ('SPACE_VERSION',), ('ENCRYPTION',), ('STATE',), ('SPACE',), ('NAME',), ('PATH',), ('FLAG',), ('SPACE_TYPE',), ('TABLE_ID',), ('NAME',), ('STATS_INITIALIZED',), ('NUM_ROWS',), ('CLUST_INDEX_SIZE',), ('OTHER_INDEX_SIZE',), ('MODIFIED_COUNTER',), ('AUTOINC',), ('REF_COUNT',), ('TABLE_ID',), ('NAME',), ('N_COLS',), ('SPACE',), ('trx_id',), ('trx_state',), ('trx_started',), ('trx_requested_lock_id',), ('trx_wait_started',), ('trx_weight',), ('trx_mysql_thread_id',), ('trx_query',), ('trx_operation_state',), ('trx_tables_in_use',), ('trx_tables_locked',), ('trx_lock_structs',), ('trx_lock_memory_bytes',), ('trx_rows_locked',), ('trx_rows_modified',), ('trx_concurrency_tickets',), ('trx_isolation_level',), ('trx_unique_checks',), ('trx_foreign_key_checks',), ('trx_last_foreign_key_error',), ('trx_adaptive_hash_latched',), ('trx_adaptive_hash_timeout',), ('trx_is_read_only',), ('trx_autocommit_non_locking',), ('trx_schedule_weight',), ('TABLE_ID',), ('POS',), ('BASE_POS',), ('WORD',), ('RESERVED',), ('CONSTRAINT_CATALOG',), ('CONSTRAINT_SCHEMA',), ('CONSTRAINT_NAME',), ('TABLE_CATALOG',), ('TABLE_SCHEMA',), ('TABLE_NAME',), ('COLUMN_NAME',), ('ORDINAL_POSITION',), ('POSITION_IN_UNIQUE_CONSTRAINT',), ('REFERENCED_TABLE_SCHEMA',), ('REFERENCED_TABLE_NAME',), ('REFERENCED_COLUMN_NAME',), ('QUERY',), ('TRACE',), ('MISSING_BYTES_BEYOND_MAX_MEM_SIZE',), ('INSUFFICIENT_PRIVILEGES',), ('SPECIFIC_CATALOG',), ('SPECIFIC_SCHEMA',), ('SPECIFIC_NAME',), ('ORDINAL_POSITION',), ('PARAMETER_MODE',), ('PARAMETER_NAME',), ('DATA_TYPE',), ('CHARACTER_MAXIMUM_LENGTH',), ('CHARACTER_OCTET_LENGTH',), ('NUMERIC_PRECISION',), ('NUMERIC_SCALE',), ('DATETIME_PRECISION',), ('CHARACTER_SET_NAME',), ('COLLATION_NAME',), ('DTD_IDENTIFIER',), ('ROUTINE_TYPE',), ('TABLE_CATALOG',), ('TABLE_SCHEMA',), ('TABLE_NAME',), ('PARTITION_NAME',), ('SUBPARTITION_NAME',), ('PARTITION_ORDINAL_POSITION',), ('SUBPARTITION_ORDINAL_POSITION',), ('PARTITION_METHOD',), ('SUBPARTITION_METHOD',), ('PARTITION_EXPRESSION',), ('SUBPARTITION_EXPRESSION',), ('PARTITION_DESCRIPTION',), ('TABLE_ROWS',), ('AVG_ROW_LENGTH',), ('DATA_LENGTH',), ('MAX_DATA_LENGTH',), ('INDEX_LENGTH',), ('DATA_FREE',), ('CREATE_TIME',), ('UPDATE_TIME',), ('CHECK_TIME',), ('CHECKSUM',), ('PARTITION_COMMENT',), ('NODEGROUP',), ('TABLESPACE_NAME',), ('PLUGIN_NAME',), ('PLUGIN_VERSION',), ('PLUGIN_STATUS',), ('PLUGIN_TYPE',), ('PLUGIN_TYPE_VERSION',), ('PLUGIN_LIBRARY',), ('PLUGIN_LIBRARY_VERSION',), ('PLUGIN_AUTHOR',), ('PLUGIN_DESCRIPTION',), ('PLUGIN_LICENSE',), ('LOAD_OPTION',), ('ID',), ('USER',), ('HOST',), ('DB',), ('COMMAND',), ('TIME',), ('STATE',), ('INFO',), ('QUERY_ID',), ('SEQ',), ('STATE',), ('DURATION',), ('CPU_USER',), ('CPU_SYSTEM',), ('CONTEXT_VOLUNTARY',), ('CONTEXT_INVOLUNTARY',), ('BLOCK_OPS_IN',), ('BLOCK_OPS_OUT',), ('MESSAGES_SENT',), ('MESSAGES_RECEIVED',), ('PAGE_FAULTS_MAJOR',), ('PAGE_FAULTS_MINOR',), ('SWAPS',), ('SOURCE_FUNCTION',), ('SOURCE_FILE',), ('SOURCE_LINE',), ('THREAD_ID',), ('NAME',), ('TYPE',), ('PROCESSLIST_ID',), ('USER',), ('HOST',), ('DB',), ('COMMAND',), ('TIME',), ('STATE',), ('INFO',), ('QUERY_DIGEST_TEXT',), ('QUERY_DIGEST_HASH',), ('PARENT_THREAD_ID',), ('EVENT_NAME',), ('EVENT_TIMER_START',), ('EVENT_TIMER_END',), ('EVENT_TIMER_WAIT',), ('ID',), ('USER',), ('HOST',), ('DB',), ('COMMAND',), ('TIME',), ('STATE',), ('INFO',), ('QUERY_DIGEST_TEXT',), ('QUERY_DIGEST_HASH',), ('CONSTRAINT_CATALOG',), ('CONSTRAINT_SCHEMA',), ('CONSTRAINT_NAME',), ('UNIQUE_CONSTRAINT_CATALOG',), ('UNIQUE_CONSTRAINT_SCHEMA',), ('UNIQUE_CONSTRAINT_NAME',), ('MATCH_OPTION',), ('UPDATE_RULE',), ('DELETE_RULE',), ('TABLE_NAME',), ('REFERENCED_TABLE_NAME',), ('RESOURCE_GROUP_NAME',), ('RESOURCE_GROUP_TYPE',), ('RESOURCE_GROUP_ENABLED',), ('VCPU_IDS',), ('THREAD_PRIORITY',), ('GRANTOR',), ('GRANTOR_HOST',), ('GRANTEE',), ('GRANTEE_HOST',), ('TABLE_CATALOG',), ('TABLE_SCHEMA',), ('TABLE_NAME',), ('COLUMN_NAME',), ('PRIVILEGE_TYPE',), ('IS_GRANTABLE',), ('GRANTOR',), ('GRANTOR_HOST',), ('GRANTEE',), ('GRANTEE_HOST',), ('SPECIFIC_CATALOG',), ('SPECIFIC_SCHEMA',), ('SPECIFIC_NAME',), ('ROUTINE_CATALOG',), ('ROUTINE_SCHEMA',), ('ROUTINE_NAME',), ('PRIVILEGE_TYPE',), ('IS_GRANTABLE',), ('GRANTOR',), ('GRANTOR_HOST',), ('GRANTEE',), ('GRANTEE_HOST',), ('TABLE_CATALOG',), ('TABLE_SCHEMA',), ('TABLE_NAME',), ('PRIVILEGE_TYPE',), ('IS_GRANTABLE',), ('SPECIFIC_NAME',), ('ROUTINE_CATALOG',), ('ROUTINE_SCHEMA',), ('ROUTINE_NAME',), ('ROUTINE_TYPE',), ('DATA_TYPE',), ('CHARACTER_MAXIMUM_LENGTH',), ('CHARACTER_OCTET_LENGTH',), ('NUMERIC_PRECISION',), ('NUMERIC_SCALE',), ('DATETIME_PRECISION',), ('CHARACTER_SET_NAME',), ('COLLATION_NAME',), ('DTD_IDENTIFIER',), ('ROUTINE_BODY',), ('ROUTINE_DEFINITION',), ('EXTERNAL_NAME',), ('EXTERNAL_LANGUAGE',), ('PARAMETER_STYLE',), ('IS_DETERMINISTIC',), ('SQL_DATA_ACCESS',), ('SQL_PATH',), ('SECURITY_TYPE',), ('CREATED',), ('LAST_ALTERED',), ('SQL_MODE',), ('ROUTINE_COMMENT',), ('DEFINER',), ('CHARACTER_SET_CLIENT',), ('COLLATION_CONNECTION',), ('DATABASE_COLLATION',), ('CATALOG_NAME',), ('SCHEMA_NAME',), ('DEFAULT_CHARACTER_SET_NAME',), ('DEFAULT_COLLATION_NAME',), ('SQL_PATH',), ('DEFAULT_ENCRYPTION',), ('CATALOG_NAME',), ('SCHEMA_NAME',), ('OPTIONS',), ('GRANTEE',), ('TABLE_CATALOG',), ('TABLE_SCHEMA',), ('PRIVILEGE_TYPE',), ('IS_GRANTABLE',), ('TABLE_CATALOG',), ('TABLE_SCHEMA',), ('TABLE_NAME',), ('NON_UNIQUE',), ('INDEX_SCHEMA',), ('INDEX_NAME',), ('SEQ_IN_INDEX',), ('COLUMN_NAME',), ('COLLATION',), ('CARDINALITY',), ('SUB_PART',), ('PACKED',), ('NULLABLE',), ('INDEX_TYPE',), ('COMMENT',), ('INDEX_COMMENT',), ('IS_VISIBLE',), ('EXPRESSION',), ('TABLE_CATALOG',), ('TABLE_SCHEMA',), ('TABLE_NAME',), ('COLUMN_NAME',), ('SRS_NAME',), ('SRS_ID',), ('GEOMETRY_TYPE_NAME',), ('SRS_NAME',), ('SRS_ID',), ('ORGANIZATION',), ('ORGANIZATION_COORDSYS_ID',), ('DEFINITION',), ('DESCRIPTION',), ('UNIT_NAME',), ('UNIT_TYPE',), ('CONVERSION_FACTOR',), ('DESCRIPTION',), ('TABLE_CATALOG',), ('TABLE_SCHEMA',), ('TABLE_NAME',), ('TABLE_TYPE',), ('ENGINE',), ('VERSION',), ('ROW_FORMAT',), ('TABLE_ROWS',), ('AVG_ROW_LENGTH',), ('DATA_LENGTH',), ('MAX_DATA_LENGTH',), ('INDEX_LENGTH',), ('DATA_FREE',), ('AUTO_INCREMENT',), ('CREATE_TIME',), ('UPDATE_TIME',), ('CHECK_TIME',), ('TABLE_COLLATION',), ('CHECKSUM',), ('CREATE_OPTIONS',), ('TABLE_COMMENT',), ('TABLESPACE_NAME',), ('ENGINE',), ('TABLESPACE_TYPE',), ('LOGFILE_GROUP_NAME',), ('EXTENT_SIZE',), ('AUTOEXTEND_SIZE',), ('MAXIMUM_SIZE',), ('NODEGROUP_ID',), ('TABLESPACE_COMMENT',), ('TABLESPACE_NAME',), ('ENGINE_ATTRIBUTE',), ('TABLE_CATALOG',), ('TABLE_SCHEMA',), ('TABLE_NAME',), ('ENGINE_ATTRIBUTE',), ('SECONDARY_ENGINE_ATTRIBUTE',), ('CONSTRAINT_CATALOG',), ('CONSTRAINT_SCHEMA',), ('CONSTRAINT_NAME',), ('TABLE_SCHEMA',), ('TABLE_NAME',), ('CONSTRAINT_TYPE',), ('ENFORCED',), ('CONSTRAINT_CATALOG',), ('CONSTRAINT_SCHEMA',), ('CONSTRAINT_NAME',), ('TABLE_NAME',), ('ENGINE_ATTRIBUTE',), ('SECONDARY_ENGINE_ATTRIBUTE',), ('GRANTEE',), ('TABLE_CATALOG',), ('TABLE_SCHEMA',), ('TABLE_NAME',), ('PRIVILEGE_TYPE',), ('IS_GRANTABLE',), ('TRIGGER_CATALOG',), ('TRIGGER_SCHEMA',), ('TRIGGER_NAME',), ('EVENT_MANIPULATION',), ('EVENT_OBJECT_CATALOG',), ('EVENT_OBJECT_SCHEMA',), ('EVENT_OBJECT_TABLE',), ('ACTION_ORDER',), ('ACTION_CONDITION',), ('ACTION_STATEMENT',), ('ACTION_ORIENTATION',), ('ACTION_TIMING',), ('ACTION_REFERENCE_OLD_TABLE',), ('ACTION_REFERENCE_NEW_TABLE',), ('ACTION_REFERENCE_OLD_ROW',), ('ACTION_REFERENCE_NEW_ROW',), ('CREATED',), ('SQL_MODE',), ('DEFINER',), ('CHARACTER_SET_CLIENT',), ('COLLATION_CONNECTION',), ('DATABASE_COLLATION',), ('USER',), ('HOST',), ('ATTRIBUTE',), ('GRANTEE',), ('TABLE_CATALOG',), ('PRIVILEGE_TYPE',), ('IS_GRANTABLE',), ('TABLE_CATALOG',), ('TABLE_SCHEMA',), ('TABLE_NAME',), ('VIEW_DEFINITION',), ('CHECK_OPTION',), ('IS_UPDATABLE',), ('DEFINER',), ('SECURITY_TYPE',), ('CHARACTER_SET_CLIENT',), ('COLLATION_CONNECTION',), ('TABLE_CATALOG',), ('TABLE_SCHEMA',), ('TABLE_NAME',), ('SPECIFIC_CATALOG',), ('SPECIFIC_SCHEMA',), ('SPECIFIC_NAME',), ('VIEW_CATALOG',), ('VIEW_SCHEMA',), ('VIEW_NAME',), ('TABLE_CATALOG',), ('TABLE_SCHEMA',), ('TABLE_NAME',))\n"
     ]
    }
   ],
   "source": [
    "cursor.execute(\"\"\"\n",
    "    SELECT COLUMN_NAME\n",
    "    FROM INFORMATION_SCHEMA.COLUMNS\n",
    "    WHERE TABLE_SCHEMA='information_schema'\n",
    "\"\"\")\n",
    "print(cursor.fetchall())"
   ]
  },
  {
   "cell_type": "code",
   "execution_count": 42,
   "metadata": {},
   "outputs": [
    {
     "data": {
      "text/plain": [
       "0"
      ]
     },
     "execution_count": 42,
     "metadata": {},
     "output_type": "execute_result"
    }
   ],
   "source": [
    "cursor.execute(\"\"\"\n",
    "    CREATE TABLE IF NOT EXISTS places(\n",
    "    id BIGINT PRIMARY KEY,\n",
    "    google_id VARCHAR(255) NOT NULL,\n",
    "    name VARCHAR(255) NOT NULL,\n",
    "    lat DECIMAL(9,6) NOT NULL,\n",
    "    lon DECIMAL(9,6) NOT NULL,\n",
    "    type VARCHAR(50) NOT NULL,\n",
    "    subtype VARCHAR(50),\n",
    "    addr_city VARCHAR(100),\n",
    "    addr_housenumber VARCHAR(20),\n",
    "    addr_postcode VARCHAR(20),\n",
    "    addr_state VARCHAR(100),\n",
    "    addr_street VARCHAR(255),\n",
    "    opening_hours VARCHAR(255),\n",
    "    website VARCHAR(255),\n",
    "    photo_0 VARCHAR(500),\n",
    "    photo_1 VARCHAR(500),\n",
    "    photo_2 VARCHAR(500),\n",
    "    photo_3 VARCHAR(500),\n",
    "    photo_4 VARCHAR(500),\n",
    "    photo_5 VARCHAR(500),\n",
    "    photo_6 VARCHAR(500),\n",
    "    photo_7 VARCHAR(500),\n",
    "    photo_8 VARCHAR(500),\n",
    "    photo_9 VARCHAR(500),\n",
    "    num_likes INT DEFAULT 0,\n",
    "    num_dislikes INT DEFAULT 0\n",
    "    );\n",
    "\"\"\")"
   ]
  },
  {
   "cell_type": "code",
   "execution_count": 55,
   "metadata": {},
   "outputs": [
    {
     "name": "stdout",
     "output_type": "stream",
     "text": [
      "1684\n"
     ]
    }
   ],
   "source": [
    "try:\n",
    "    cursor.execute(\"\"\"\n",
    "    SELECT id\n",
    "    FROM places\n",
    "\"\"\")\n",
    "    uploaded_ids = [row[0] for row in cursor.fetchall()]\n",
    "except pymysql.MySQLError as e:\n",
    "    print(f\"Error: {e}\")\n",
    "\n",
    "print(len(uploaded_ids))"
   ]
  },
  {
   "cell_type": "code",
   "execution_count": 20,
   "metadata": {},
   "outputs": [
    {
     "ename": "KeyError",
     "evalue": "'[2147483647] not in index'",
     "output_type": "error",
     "traceback": [
      "\u001b[1;31m---------------------------------------------------------------------------\u001b[0m",
      "\u001b[1;31mKeyError\u001b[0m                                  Traceback (most recent call last)",
      "Cell \u001b[1;32mIn[20], line 1\u001b[0m\n\u001b[1;32m----> 1\u001b[0m \u001b[43mdf\u001b[49m\u001b[38;5;241;43m.\u001b[39;49m\u001b[43mloc\u001b[49m\u001b[43m[\u001b[49m\u001b[43muploaded_ids\u001b[49m\u001b[43m]\u001b[49m\n",
      "File \u001b[1;32mc:\\Users\\Daniel\\miniconda3\\envs\\COMP47360\\Lib\\site-packages\\pandas\\core\\indexing.py:1191\u001b[0m, in \u001b[0;36m_LocationIndexer.__getitem__\u001b[1;34m(self, key)\u001b[0m\n\u001b[0;32m   1189\u001b[0m maybe_callable \u001b[38;5;241m=\u001b[39m com\u001b[38;5;241m.\u001b[39mapply_if_callable(key, \u001b[38;5;28mself\u001b[39m\u001b[38;5;241m.\u001b[39mobj)\n\u001b[0;32m   1190\u001b[0m maybe_callable \u001b[38;5;241m=\u001b[39m \u001b[38;5;28mself\u001b[39m\u001b[38;5;241m.\u001b[39m_check_deprecated_callable_usage(key, maybe_callable)\n\u001b[1;32m-> 1191\u001b[0m \u001b[38;5;28;01mreturn\u001b[39;00m \u001b[38;5;28;43mself\u001b[39;49m\u001b[38;5;241;43m.\u001b[39;49m\u001b[43m_getitem_axis\u001b[49m\u001b[43m(\u001b[49m\u001b[43mmaybe_callable\u001b[49m\u001b[43m,\u001b[49m\u001b[43m \u001b[49m\u001b[43maxis\u001b[49m\u001b[38;5;241;43m=\u001b[39;49m\u001b[43maxis\u001b[49m\u001b[43m)\u001b[49m\n",
      "File \u001b[1;32mc:\\Users\\Daniel\\miniconda3\\envs\\COMP47360\\Lib\\site-packages\\pandas\\core\\indexing.py:1420\u001b[0m, in \u001b[0;36m_LocIndexer._getitem_axis\u001b[1;34m(self, key, axis)\u001b[0m\n\u001b[0;32m   1417\u001b[0m     \u001b[38;5;28;01mif\u001b[39;00m \u001b[38;5;28mhasattr\u001b[39m(key, \u001b[38;5;124m\"\u001b[39m\u001b[38;5;124mndim\u001b[39m\u001b[38;5;124m\"\u001b[39m) \u001b[38;5;129;01mand\u001b[39;00m key\u001b[38;5;241m.\u001b[39mndim \u001b[38;5;241m>\u001b[39m \u001b[38;5;241m1\u001b[39m:\n\u001b[0;32m   1418\u001b[0m         \u001b[38;5;28;01mraise\u001b[39;00m \u001b[38;5;167;01mValueError\u001b[39;00m(\u001b[38;5;124m\"\u001b[39m\u001b[38;5;124mCannot index with multidimensional key\u001b[39m\u001b[38;5;124m\"\u001b[39m)\n\u001b[1;32m-> 1420\u001b[0m     \u001b[38;5;28;01mreturn\u001b[39;00m \u001b[38;5;28;43mself\u001b[39;49m\u001b[38;5;241;43m.\u001b[39;49m\u001b[43m_getitem_iterable\u001b[49m\u001b[43m(\u001b[49m\u001b[43mkey\u001b[49m\u001b[43m,\u001b[49m\u001b[43m \u001b[49m\u001b[43maxis\u001b[49m\u001b[38;5;241;43m=\u001b[39;49m\u001b[43maxis\u001b[49m\u001b[43m)\u001b[49m\n\u001b[0;32m   1422\u001b[0m \u001b[38;5;66;03m# nested tuple slicing\u001b[39;00m\n\u001b[0;32m   1423\u001b[0m \u001b[38;5;28;01mif\u001b[39;00m is_nested_tuple(key, labels):\n",
      "File \u001b[1;32mc:\\Users\\Daniel\\miniconda3\\envs\\COMP47360\\Lib\\site-packages\\pandas\\core\\indexing.py:1360\u001b[0m, in \u001b[0;36m_LocIndexer._getitem_iterable\u001b[1;34m(self, key, axis)\u001b[0m\n\u001b[0;32m   1357\u001b[0m \u001b[38;5;28mself\u001b[39m\u001b[38;5;241m.\u001b[39m_validate_key(key, axis)\n\u001b[0;32m   1359\u001b[0m \u001b[38;5;66;03m# A collection of keys\u001b[39;00m\n\u001b[1;32m-> 1360\u001b[0m keyarr, indexer \u001b[38;5;241m=\u001b[39m \u001b[38;5;28;43mself\u001b[39;49m\u001b[38;5;241;43m.\u001b[39;49m\u001b[43m_get_listlike_indexer\u001b[49m\u001b[43m(\u001b[49m\u001b[43mkey\u001b[49m\u001b[43m,\u001b[49m\u001b[43m \u001b[49m\u001b[43maxis\u001b[49m\u001b[43m)\u001b[49m\n\u001b[0;32m   1361\u001b[0m \u001b[38;5;28;01mreturn\u001b[39;00m \u001b[38;5;28mself\u001b[39m\u001b[38;5;241m.\u001b[39mobj\u001b[38;5;241m.\u001b[39m_reindex_with_indexers(\n\u001b[0;32m   1362\u001b[0m     {axis: [keyarr, indexer]}, copy\u001b[38;5;241m=\u001b[39m\u001b[38;5;28;01mTrue\u001b[39;00m, allow_dups\u001b[38;5;241m=\u001b[39m\u001b[38;5;28;01mTrue\u001b[39;00m\n\u001b[0;32m   1363\u001b[0m )\n",
      "File \u001b[1;32mc:\\Users\\Daniel\\miniconda3\\envs\\COMP47360\\Lib\\site-packages\\pandas\\core\\indexing.py:1558\u001b[0m, in \u001b[0;36m_LocIndexer._get_listlike_indexer\u001b[1;34m(self, key, axis)\u001b[0m\n\u001b[0;32m   1555\u001b[0m ax \u001b[38;5;241m=\u001b[39m \u001b[38;5;28mself\u001b[39m\u001b[38;5;241m.\u001b[39mobj\u001b[38;5;241m.\u001b[39m_get_axis(axis)\n\u001b[0;32m   1556\u001b[0m axis_name \u001b[38;5;241m=\u001b[39m \u001b[38;5;28mself\u001b[39m\u001b[38;5;241m.\u001b[39mobj\u001b[38;5;241m.\u001b[39m_get_axis_name(axis)\n\u001b[1;32m-> 1558\u001b[0m keyarr, indexer \u001b[38;5;241m=\u001b[39m \u001b[43max\u001b[49m\u001b[38;5;241;43m.\u001b[39;49m\u001b[43m_get_indexer_strict\u001b[49m\u001b[43m(\u001b[49m\u001b[43mkey\u001b[49m\u001b[43m,\u001b[49m\u001b[43m \u001b[49m\u001b[43maxis_name\u001b[49m\u001b[43m)\u001b[49m\n\u001b[0;32m   1560\u001b[0m \u001b[38;5;28;01mreturn\u001b[39;00m keyarr, indexer\n",
      "File \u001b[1;32mc:\\Users\\Daniel\\miniconda3\\envs\\COMP47360\\Lib\\site-packages\\pandas\\core\\indexes\\base.py:6200\u001b[0m, in \u001b[0;36mIndex._get_indexer_strict\u001b[1;34m(self, key, axis_name)\u001b[0m\n\u001b[0;32m   6197\u001b[0m \u001b[38;5;28;01melse\u001b[39;00m:\n\u001b[0;32m   6198\u001b[0m     keyarr, indexer, new_indexer \u001b[38;5;241m=\u001b[39m \u001b[38;5;28mself\u001b[39m\u001b[38;5;241m.\u001b[39m_reindex_non_unique(keyarr)\n\u001b[1;32m-> 6200\u001b[0m \u001b[38;5;28;43mself\u001b[39;49m\u001b[38;5;241;43m.\u001b[39;49m\u001b[43m_raise_if_missing\u001b[49m\u001b[43m(\u001b[49m\u001b[43mkeyarr\u001b[49m\u001b[43m,\u001b[49m\u001b[43m \u001b[49m\u001b[43mindexer\u001b[49m\u001b[43m,\u001b[49m\u001b[43m \u001b[49m\u001b[43maxis_name\u001b[49m\u001b[43m)\u001b[49m\n\u001b[0;32m   6202\u001b[0m keyarr \u001b[38;5;241m=\u001b[39m \u001b[38;5;28mself\u001b[39m\u001b[38;5;241m.\u001b[39mtake(indexer)\n\u001b[0;32m   6203\u001b[0m \u001b[38;5;28;01mif\u001b[39;00m \u001b[38;5;28misinstance\u001b[39m(key, Index):\n\u001b[0;32m   6204\u001b[0m     \u001b[38;5;66;03m# GH 42790 - Preserve name from an Index\u001b[39;00m\n",
      "File \u001b[1;32mc:\\Users\\Daniel\\miniconda3\\envs\\COMP47360\\Lib\\site-packages\\pandas\\core\\indexes\\base.py:6252\u001b[0m, in \u001b[0;36mIndex._raise_if_missing\u001b[1;34m(self, key, indexer, axis_name)\u001b[0m\n\u001b[0;32m   6249\u001b[0m     \u001b[38;5;28;01mraise\u001b[39;00m \u001b[38;5;167;01mKeyError\u001b[39;00m(\u001b[38;5;124mf\u001b[39m\u001b[38;5;124m\"\u001b[39m\u001b[38;5;124mNone of [\u001b[39m\u001b[38;5;132;01m{\u001b[39;00mkey\u001b[38;5;132;01m}\u001b[39;00m\u001b[38;5;124m] are in the [\u001b[39m\u001b[38;5;132;01m{\u001b[39;00maxis_name\u001b[38;5;132;01m}\u001b[39;00m\u001b[38;5;124m]\u001b[39m\u001b[38;5;124m\"\u001b[39m)\n\u001b[0;32m   6251\u001b[0m not_found \u001b[38;5;241m=\u001b[39m \u001b[38;5;28mlist\u001b[39m(ensure_index(key)[missing_mask\u001b[38;5;241m.\u001b[39mnonzero()[\u001b[38;5;241m0\u001b[39m]]\u001b[38;5;241m.\u001b[39munique())\n\u001b[1;32m-> 6252\u001b[0m \u001b[38;5;28;01mraise\u001b[39;00m \u001b[38;5;167;01mKeyError\u001b[39;00m(\u001b[38;5;124mf\u001b[39m\u001b[38;5;124m\"\u001b[39m\u001b[38;5;132;01m{\u001b[39;00mnot_found\u001b[38;5;132;01m}\u001b[39;00m\u001b[38;5;124m not in index\u001b[39m\u001b[38;5;124m\"\u001b[39m)\n",
      "\u001b[1;31mKeyError\u001b[0m: '[2147483647] not in index'"
     ]
    }
   ],
   "source": [
    "df.loc[uploaded_ids]"
   ]
  },
  {
   "cell_type": "code",
   "execution_count": 14,
   "metadata": {},
   "outputs": [
    {
     "ename": "KeyError",
     "evalue": "\"None of ['id'] are in the columns\"",
     "output_type": "error",
     "traceback": [
      "\u001b[1;31m---------------------------------------------------------------------------\u001b[0m",
      "\u001b[1;31mKeyError\u001b[0m                                  Traceback (most recent call last)",
      "\u001b[1;32m~\\AppData\\Local\\Temp\\ipykernel_4844\\2857654253.py\u001b[0m in \u001b[0;36m?\u001b[1;34m()\u001b[0m\n\u001b[1;32m----> 1\u001b[1;33m \u001b[0mdf\u001b[0m \u001b[1;33m=\u001b[0m \u001b[0mdf\u001b[0m\u001b[1;33m.\u001b[0m\u001b[0mset_index\u001b[0m\u001b[1;33m(\u001b[0m\u001b[1;34m'id'\u001b[0m\u001b[1;33m)\u001b[0m\u001b[1;33m\u001b[0m\u001b[1;33m\u001b[0m\u001b[0m\n\u001b[0m\u001b[0;32m      2\u001b[0m \u001b[0mdf\u001b[0m \u001b[1;33m=\u001b[0m \u001b[0mdf\u001b[0m\u001b[1;33m.\u001b[0m\u001b[0mdrop\u001b[0m\u001b[1;33m(\u001b[0m\u001b[0muploaded_ids\u001b[0m\u001b[1;33m)\u001b[0m\u001b[1;33m\u001b[0m\u001b[1;33m\u001b[0m\u001b[0m\n\u001b[0;32m      3\u001b[0m \u001b[0mdf\u001b[0m\u001b[1;33m\u001b[0m\u001b[1;33m\u001b[0m\u001b[0m\n",
      "\u001b[1;32mc:\\Users\\Daniel\\miniconda3\\envs\\COMP47360\\Lib\\site-packages\\pandas\\core\\frame.py\u001b[0m in \u001b[0;36m?\u001b[1;34m(self, keys, drop, append, inplace, verify_integrity)\u001b[0m\n\u001b[0;32m   6118\u001b[0m                     \u001b[1;32mif\u001b[0m \u001b[1;32mnot\u001b[0m \u001b[0mfound\u001b[0m\u001b[1;33m:\u001b[0m\u001b[1;33m\u001b[0m\u001b[1;33m\u001b[0m\u001b[0m\n\u001b[0;32m   6119\u001b[0m                         \u001b[0mmissing\u001b[0m\u001b[1;33m.\u001b[0m\u001b[0mappend\u001b[0m\u001b[1;33m(\u001b[0m\u001b[0mcol\u001b[0m\u001b[1;33m)\u001b[0m\u001b[1;33m\u001b[0m\u001b[1;33m\u001b[0m\u001b[0m\n\u001b[0;32m   6120\u001b[0m \u001b[1;33m\u001b[0m\u001b[0m\n\u001b[0;32m   6121\u001b[0m         \u001b[1;32mif\u001b[0m \u001b[0mmissing\u001b[0m\u001b[1;33m:\u001b[0m\u001b[1;33m\u001b[0m\u001b[1;33m\u001b[0m\u001b[0m\n\u001b[1;32m-> 6122\u001b[1;33m             \u001b[1;32mraise\u001b[0m \u001b[0mKeyError\u001b[0m\u001b[1;33m(\u001b[0m\u001b[1;33mf\"\u001b[0m\u001b[1;33mNone of \u001b[0m\u001b[1;33m{\u001b[0m\u001b[0mmissing\u001b[0m\u001b[1;33m}\u001b[0m\u001b[1;33m are in the columns\u001b[0m\u001b[1;33m\"\u001b[0m\u001b[1;33m)\u001b[0m\u001b[1;33m\u001b[0m\u001b[1;33m\u001b[0m\u001b[0m\n\u001b[0m\u001b[0;32m   6123\u001b[0m \u001b[1;33m\u001b[0m\u001b[0m\n\u001b[0;32m   6124\u001b[0m         \u001b[1;32mif\u001b[0m \u001b[0minplace\u001b[0m\u001b[1;33m:\u001b[0m\u001b[1;33m\u001b[0m\u001b[1;33m\u001b[0m\u001b[0m\n\u001b[0;32m   6125\u001b[0m             \u001b[0mframe\u001b[0m \u001b[1;33m=\u001b[0m \u001b[0mself\u001b[0m\u001b[1;33m\u001b[0m\u001b[1;33m\u001b[0m\u001b[0m\n",
      "\u001b[1;31mKeyError\u001b[0m: \"None of ['id'] are in the columns\""
     ]
    }
   ],
   "source": [
    "df = df.set_index('id')"
   ]
  },
  {
   "cell_type": "code",
   "execution_count": 19,
   "metadata": {},
   "outputs": [
    {
     "ename": "KeyError",
     "evalue": "'[349323821 357545993 357562455 357570943 357594521 357607904 357608159\\n 357609309 357609349 357610563 357612599 357612619 357614562 357614565\\n 357616290 357616388 357618253 357618399 357618425 357618428 357620387\\n 357620442 357621192 357623896 357624604 357628366 357628393 357632925\\n 357632929 357632950 357632979 357633384 357633387 357633401 357633442\\n 357633444 357633899 357633910 357633913 357633918 357633936 357633939\\n 357633942 357633948 357633971 357633977 357633982 357633993 357634920\\n 357634925 357634931 357634934 357634959 357634994 357635002 357635009\\n 357635038 357635059 357635062 357635076 357635090 357635109 357635111\\n 357635137 357635248 357635259 357635284 357635334 357635460 357635559\\n 357635564 357635577 357635589 357635592 357635595 357635669 357635688\\n 357635707 357637123 357637138 357637227 357637236 357637258 357637266\\n 357637268 357637277 357637348 357638262 357638265 357638273 357638276\\n 357638604 357639582 357639585 357639818 357639870 357639878 357640377\\n 357640382 357640385 357640393 357640403 357640540 357640543 357640791\\n 357640798 357640915 357640969 357640972 357650228 357650246 357650406\\n 357650409 357650430 357650517 357650567 357650587 357650686 357650718\\n 368042980 368043384 368043485 368043598 368043799 368043902 368045830\\n 368045855 368045862 368045872 368045890 368047348 368049266 368049415\\n 368049705 368050015 368050018 368050133 368050559 368050625 368050633\\n 368050654 368051450 368051467 368051477 368051495 368051619 368051660\\n 368051665 368051668 368051671 368051674 368051684 368052754 368052774\\n 368053188 368053206 368053310 368053954 368055709 373068398 380044344\\n 403524005 410235438 411504676 418520887 418524116 419359942 419359956\\n 419359995 419360003 419360064 419360637 419361808 419362653 419362699\\n 419364720 419366609 419367357 419367394 419367793 419367969 419368080\\n 424059700 460482199 474741174 474743493 475485737 484065219 484076447\\n 484078905 502789467 502803968 524691386 534997494 560636265 561239802\\n 566313758 566316071 567809178 570912397 582292401 617342597 617378676\\n 617378682 617378698 617740843 617740844 617740846 617740847 617740848\\n 617741150 617741196 622228254 625842823 626013381 643414350 662433328\\n 662435489 662894338 663070723 663102624 663103163 663104998 663387602\\n 671070787 671071295 672800424 676297449 693891973 693892941 702331964\\n 732372474 746176794 748726582 761560987 763650163 763652153 765782913\\n 791455821 813645468 818239355 835414667 870315949 870316544 870317225\\n 879680036 879705916 883181314 883234965 883235940 883337398 886175538\\n 886392347 886682281 886702490 887596760 888527171 888955052 888963055\\n 888968071 888984017 889001978 889022239 889083044 889115578 889261891\\n 889435992 889469733 889472802 889485115 910822719 925950706 931799204\\n 931799207 981399335 999934639 1000793154 1002880708 1020359759 1025322222\\n 1028101219 1039613744 1108561376 1116977313 1119244578 1123921439\\n 1133825371 1147520797 1151537559 1177268453 1178020391 1227678751\\n 1240483946 1240901075 1240901204 1241238094 1252974564 1270769388\\n 1270769394 1272608999 1272678894 1272678896 1292782896 1292790745\\n 1292794350 1292794352 1292807648 1292819650 1293173329 1293173596\\n 1297282199 1297282225 1297282239 1297282272 1297657485 1346386984\\n 1346386987 1347055580 1348884682 1362703566 1377430469 1379410005\\n 1379559786 1383909209 1383909693 1383914860 1383917378 1383927735\\n 1383928351 1383935070 1383935410 1383942697 1383954690 1383955759\\n 1383956543 1383956828 1396581104 1416478552 1422520991 1426190404\\n 1426215370 1426250385 1426275725 1426311638 1426326464 1426334951\\n 1427212436 1427212491 1427265072 1427265079 1427265081 1427265082\\n 1427265083 1427273332 1427273333 1427273368 1427273513 1427285902\\n 1427285993 1427286041 1427286079 1427286096 1427286257 1427499765\\n 1427499831 1428036328 1428036492 1428036650 1428185672 1428185705\\n 1428427548 1428427554 1428427562 1474144767 1482256504 1487407044\\n 1487449793 1487472478 1487569052 1490626144 1491769944 1493005667\\n 1497326724 1584932886 1584932953 1585033979 1605519635 1640916377\\n 1642772578 1658397652 1666603088 1667359770 1667402828 1667402832\\n 1667407048 1667407727 1667412535 1667413581 1672886086 1683222646\\n 1683225522 1696974009 1696985451 1696985454 1696985456 1707825812\\n 1707825813 1707825815 1707825816 1707825817 1707825820 1707825822\\n 1707825826 1708709547 1708721821 1708724065 1708725500 1708727865\\n 1740694091 1740694092 1740824586 1741221041 1744432130 1748961879\\n 1748991484 1748991489 1749011035 1749011090 1749011095 1749011123\\n 1749011164 1749016145 1752822408 1753205377 1754975219 1754976593\\n 1758217485 1764402107 1765445839 1767273829 1795796594 1799454473\\n 1802297281 1809517488 1809517497 1810737606 1810737611 1821015958\\n 1821015964 1824995167 1825739861 1825848790 1825848791 1825848800\\n 1825848801 1825848802 1825848804 1825848806 1825848808 1827182547\\n 1827182566 1827772291 1827781718 1827781722 1827808975 1827808977\\n 1829661485 1843430248 1843430256 1853451181 1853451182 1865211623\\n 1867356492 1873813840 1873813892 1873813912 1883462420 1883739637\\n 1884473154 1888172061 1891894307 1899033650 1899033652 1899033653\\n 1899033656 1899033658 1900975367 1907659362 1907729889 1913191317\\n 1915398676 1916532788 1917136131 1919602938 1932725314 1932902780\\n 1934501367 1934502370 1934522990 1935662285 1942314293 1942321062\\n 1949982645 1967406009 1975910743 1979669269 1979669271 1979669273\\n 1987892671 1993216326 1994680558 1994680562 1999231230 2011747048\\n 2011781604 2011782281 2011783803 2015475513 2015482687 2015863190\\n 2017268082 2017270047 2017271308 2017643713 2017697238 2017704309\\n 2017705415 2017705417 2017705418 2017705420 2017706920 2017709331\\n 2020487652 2027071449 2043312923 2045635528 2047267694 2047267695\\n 2053822663 2053822687 2065153935 2065155710 2065455029 2065685392\\n 2066808156 2067062269 2067404600 2070159145 2070982507 2070984265\\n 2071906276 2081537413 2081539634 2089444281 2089444284 2089444285\\n 2091641953 2091642033 2101984777 2105123206 2108080657 2108362680\\n 2111692823 2111692827 2113159210 2123472747 2125873487 2125873488\\n 2129755928 2129919007 2131791182 2134025590 2139124594 2139130920\\n 2143413375 2143413378 2147483647] not found in axis'",
     "output_type": "error",
     "traceback": [
      "\u001b[1;31m---------------------------------------------------------------------------\u001b[0m",
      "\u001b[1;31mKeyError\u001b[0m                                  Traceback (most recent call last)",
      "\u001b[1;32m~\\AppData\\Local\\Temp\\ipykernel_4844\\3592543871.py\u001b[0m in \u001b[0;36m?\u001b[1;34m()\u001b[0m\n\u001b[1;32m----> 1\u001b[1;33m \u001b[0mdf\u001b[0m \u001b[1;33m=\u001b[0m \u001b[0mdf\u001b[0m\u001b[1;33m.\u001b[0m\u001b[0mdrop\u001b[0m\u001b[1;33m(\u001b[0m\u001b[0muploaded_ids\u001b[0m\u001b[1;33m)\u001b[0m\u001b[1;33m\u001b[0m\u001b[1;33m\u001b[0m\u001b[0m\n\u001b[0m",
      "\u001b[1;32mc:\\Users\\Daniel\\miniconda3\\envs\\COMP47360\\Lib\\site-packages\\pandas\\core\\frame.py\u001b[0m in \u001b[0;36m?\u001b[1;34m(self, labels, axis, index, columns, level, inplace, errors)\u001b[0m\n\u001b[0;32m   5577\u001b[0m                 \u001b[0mweight\u001b[0m  \u001b[1;36m250.0\u001b[0m   \u001b[1;36m150.0\u001b[0m\u001b[1;33m\u001b[0m\u001b[1;33m\u001b[0m\u001b[0m\n\u001b[0;32m   5578\u001b[0m         \u001b[0mfalcon\u001b[0m  \u001b[0mspeed\u001b[0m   \u001b[1;36m320.0\u001b[0m   \u001b[1;36m250.0\u001b[0m\u001b[1;33m\u001b[0m\u001b[1;33m\u001b[0m\u001b[0m\n\u001b[0;32m   5579\u001b[0m                 \u001b[0mweight\u001b[0m  \u001b[1;36m1.0\u001b[0m     \u001b[1;36m0.8\u001b[0m\u001b[1;33m\u001b[0m\u001b[1;33m\u001b[0m\u001b[0m\n\u001b[0;32m   5580\u001b[0m         \"\"\"\n\u001b[1;32m-> 5581\u001b[1;33m         return super().drop(\n\u001b[0m\u001b[0;32m   5582\u001b[0m             \u001b[0mlabels\u001b[0m\u001b[1;33m=\u001b[0m\u001b[0mlabels\u001b[0m\u001b[1;33m,\u001b[0m\u001b[1;33m\u001b[0m\u001b[1;33m\u001b[0m\u001b[0m\n\u001b[0;32m   5583\u001b[0m             \u001b[0maxis\u001b[0m\u001b[1;33m=\u001b[0m\u001b[0maxis\u001b[0m\u001b[1;33m,\u001b[0m\u001b[1;33m\u001b[0m\u001b[1;33m\u001b[0m\u001b[0m\n\u001b[0;32m   5584\u001b[0m             \u001b[0mindex\u001b[0m\u001b[1;33m=\u001b[0m\u001b[0mindex\u001b[0m\u001b[1;33m,\u001b[0m\u001b[1;33m\u001b[0m\u001b[1;33m\u001b[0m\u001b[0m\n",
      "\u001b[1;32mc:\\Users\\Daniel\\miniconda3\\envs\\COMP47360\\Lib\\site-packages\\pandas\\core\\generic.py\u001b[0m in \u001b[0;36m?\u001b[1;34m(self, labels, axis, index, columns, level, inplace, errors)\u001b[0m\n\u001b[0;32m   4784\u001b[0m         \u001b[0mobj\u001b[0m \u001b[1;33m=\u001b[0m \u001b[0mself\u001b[0m\u001b[1;33m\u001b[0m\u001b[1;33m\u001b[0m\u001b[0m\n\u001b[0;32m   4785\u001b[0m \u001b[1;33m\u001b[0m\u001b[0m\n\u001b[0;32m   4786\u001b[0m         \u001b[1;32mfor\u001b[0m \u001b[0maxis\u001b[0m\u001b[1;33m,\u001b[0m \u001b[0mlabels\u001b[0m \u001b[1;32min\u001b[0m \u001b[0maxes\u001b[0m\u001b[1;33m.\u001b[0m\u001b[0mitems\u001b[0m\u001b[1;33m(\u001b[0m\u001b[1;33m)\u001b[0m\u001b[1;33m:\u001b[0m\u001b[1;33m\u001b[0m\u001b[1;33m\u001b[0m\u001b[0m\n\u001b[0;32m   4787\u001b[0m             \u001b[1;32mif\u001b[0m \u001b[0mlabels\u001b[0m \u001b[1;32mis\u001b[0m \u001b[1;32mnot\u001b[0m \u001b[1;32mNone\u001b[0m\u001b[1;33m:\u001b[0m\u001b[1;33m\u001b[0m\u001b[1;33m\u001b[0m\u001b[0m\n\u001b[1;32m-> 4788\u001b[1;33m                 \u001b[0mobj\u001b[0m \u001b[1;33m=\u001b[0m \u001b[0mobj\u001b[0m\u001b[1;33m.\u001b[0m\u001b[0m_drop_axis\u001b[0m\u001b[1;33m(\u001b[0m\u001b[0mlabels\u001b[0m\u001b[1;33m,\u001b[0m \u001b[0maxis\u001b[0m\u001b[1;33m,\u001b[0m \u001b[0mlevel\u001b[0m\u001b[1;33m=\u001b[0m\u001b[0mlevel\u001b[0m\u001b[1;33m,\u001b[0m \u001b[0merrors\u001b[0m\u001b[1;33m=\u001b[0m\u001b[0merrors\u001b[0m\u001b[1;33m)\u001b[0m\u001b[1;33m\u001b[0m\u001b[1;33m\u001b[0m\u001b[0m\n\u001b[0m\u001b[0;32m   4789\u001b[0m \u001b[1;33m\u001b[0m\u001b[0m\n\u001b[0;32m   4790\u001b[0m         \u001b[1;32mif\u001b[0m \u001b[0minplace\u001b[0m\u001b[1;33m:\u001b[0m\u001b[1;33m\u001b[0m\u001b[1;33m\u001b[0m\u001b[0m\n\u001b[0;32m   4791\u001b[0m             \u001b[0mself\u001b[0m\u001b[1;33m.\u001b[0m\u001b[0m_update_inplace\u001b[0m\u001b[1;33m(\u001b[0m\u001b[0mobj\u001b[0m\u001b[1;33m)\u001b[0m\u001b[1;33m\u001b[0m\u001b[1;33m\u001b[0m\u001b[0m\n",
      "\u001b[1;32mc:\\Users\\Daniel\\miniconda3\\envs\\COMP47360\\Lib\\site-packages\\pandas\\core\\generic.py\u001b[0m in \u001b[0;36m?\u001b[1;34m(self, labels, axis, level, errors, only_slice)\u001b[0m\n\u001b[0;32m   4855\u001b[0m                 \u001b[0mmask\u001b[0m \u001b[1;33m=\u001b[0m \u001b[1;33m~\u001b[0m\u001b[0maxis\u001b[0m\u001b[1;33m.\u001b[0m\u001b[0misin\u001b[0m\u001b[1;33m(\u001b[0m\u001b[0mlabels\u001b[0m\u001b[1;33m)\u001b[0m\u001b[1;33m\u001b[0m\u001b[1;33m\u001b[0m\u001b[0m\n\u001b[0;32m   4856\u001b[0m                 \u001b[1;31m# Check if label doesn't exist along axis\u001b[0m\u001b[1;33m\u001b[0m\u001b[1;33m\u001b[0m\u001b[0m\n\u001b[0;32m   4857\u001b[0m                 \u001b[0mlabels_missing\u001b[0m \u001b[1;33m=\u001b[0m \u001b[1;33m(\u001b[0m\u001b[0maxis\u001b[0m\u001b[1;33m.\u001b[0m\u001b[0mget_indexer_for\u001b[0m\u001b[1;33m(\u001b[0m\u001b[0mlabels\u001b[0m\u001b[1;33m)\u001b[0m \u001b[1;33m==\u001b[0m \u001b[1;33m-\u001b[0m\u001b[1;36m1\u001b[0m\u001b[1;33m)\u001b[0m\u001b[1;33m.\u001b[0m\u001b[0many\u001b[0m\u001b[1;33m(\u001b[0m\u001b[1;33m)\u001b[0m\u001b[1;33m\u001b[0m\u001b[1;33m\u001b[0m\u001b[0m\n\u001b[0;32m   4858\u001b[0m                 \u001b[1;32mif\u001b[0m \u001b[0merrors\u001b[0m \u001b[1;33m==\u001b[0m \u001b[1;34m\"raise\"\u001b[0m \u001b[1;32mand\u001b[0m \u001b[0mlabels_missing\u001b[0m\u001b[1;33m:\u001b[0m\u001b[1;33m\u001b[0m\u001b[1;33m\u001b[0m\u001b[0m\n\u001b[1;32m-> 4859\u001b[1;33m                     \u001b[1;32mraise\u001b[0m \u001b[0mKeyError\u001b[0m\u001b[1;33m(\u001b[0m\u001b[1;33mf\"\u001b[0m\u001b[1;33m{\u001b[0m\u001b[0mlabels\u001b[0m\u001b[1;33m}\u001b[0m\u001b[1;33m not found in axis\u001b[0m\u001b[1;33m\"\u001b[0m\u001b[1;33m)\u001b[0m\u001b[1;33m\u001b[0m\u001b[1;33m\u001b[0m\u001b[0m\n\u001b[0m\u001b[0;32m   4860\u001b[0m \u001b[1;33m\u001b[0m\u001b[0m\n\u001b[0;32m   4861\u001b[0m             \u001b[1;32mif\u001b[0m \u001b[0misinstance\u001b[0m\u001b[1;33m(\u001b[0m\u001b[0mmask\u001b[0m\u001b[1;33m.\u001b[0m\u001b[0mdtype\u001b[0m\u001b[1;33m,\u001b[0m \u001b[0mExtensionDtype\u001b[0m\u001b[1;33m)\u001b[0m\u001b[1;33m:\u001b[0m\u001b[1;33m\u001b[0m\u001b[1;33m\u001b[0m\u001b[0m\n\u001b[0;32m   4862\u001b[0m                 \u001b[1;31m# GH#45860\u001b[0m\u001b[1;33m\u001b[0m\u001b[1;33m\u001b[0m\u001b[0m\n",
      "\u001b[1;31mKeyError\u001b[0m: '[349323821 357545993 357562455 357570943 357594521 357607904 357608159\\n 357609309 357609349 357610563 357612599 357612619 357614562 357614565\\n 357616290 357616388 357618253 357618399 357618425 357618428 357620387\\n 357620442 357621192 357623896 357624604 357628366 357628393 357632925\\n 357632929 357632950 357632979 357633384 357633387 357633401 357633442\\n 357633444 357633899 357633910 357633913 357633918 357633936 357633939\\n 357633942 357633948 357633971 357633977 357633982 357633993 357634920\\n 357634925 357634931 357634934 357634959 357634994 357635002 357635009\\n 357635038 357635059 357635062 357635076 357635090 357635109 357635111\\n 357635137 357635248 357635259 357635284 357635334 357635460 357635559\\n 357635564 357635577 357635589 357635592 357635595 357635669 357635688\\n 357635707 357637123 357637138 357637227 357637236 357637258 357637266\\n 357637268 357637277 357637348 357638262 357638265 357638273 357638276\\n 357638604 357639582 357639585 357639818 357639870 357639878 357640377\\n 357640382 357640385 357640393 357640403 357640540 357640543 357640791\\n 357640798 357640915 357640969 357640972 357650228 357650246 357650406\\n 357650409 357650430 357650517 357650567 357650587 357650686 357650718\\n 368042980 368043384 368043485 368043598 368043799 368043902 368045830\\n 368045855 368045862 368045872 368045890 368047348 368049266 368049415\\n 368049705 368050015 368050018 368050133 368050559 368050625 368050633\\n 368050654 368051450 368051467 368051477 368051495 368051619 368051660\\n 368051665 368051668 368051671 368051674 368051684 368052754 368052774\\n 368053188 368053206 368053310 368053954 368055709 373068398 380044344\\n 403524005 410235438 411504676 418520887 418524116 419359942 419359956\\n 419359995 419360003 419360064 419360637 419361808 419362653 419362699\\n 419364720 419366609 419367357 419367394 419367793 419367969 419368080\\n 424059700 460482199 474741174 474743493 475485737 484065219 484076447\\n 484078905 502789467 502803968 524691386 534997494 560636265 561239802\\n 566313758 566316071 567809178 570912397 582292401 617342597 617378676\\n 617378682 617378698 617740843 617740844 617740846 617740847 617740848\\n 617741150 617741196 622228254 625842823 626013381 643414350 662433328\\n 662435489 662894338 663070723 663102624 663103163 663104998 663387602\\n 671070787 671071295 672800424 676297449 693891973 693892941 702331964\\n 732372474 746176794 748726582 761560987 763650163 763652153 765782913\\n 791455821 813645468 818239355 835414667 870315949 870316544 870317225\\n 879680036 879705916 883181314 883234965 883235940 883337398 886175538\\n 886392347 886682281 886702490 887596760 888527171 888955052 888963055\\n 888968071 888984017 889001978 889022239 889083044 889115578 889261891\\n 889435992 889469733 889472802 889485115 910822719 925950706 931799204\\n 931799207 981399335 999934639 1000793154 1002880708 1020359759 1025322222\\n 1028101219 1039613744 1108561376 1116977313 1119244578 1123921439\\n 1133825371 1147520797 1151537559 1177268453 1178020391 1227678751\\n 1240483946 1240901075 1240901204 1241238094 1252974564 1270769388\\n 1270769394 1272608999 1272678894 1272678896 1292782896 1292790745\\n 1292794350 1292794352 1292807648 1292819650 1293173329 1293173596\\n 1297282199 1297282225 1297282239 1297282272 1297657485 1346386984\\n 1346386987 1347055580 1348884682 1362703566 1377430469 1379410005\\n 1379559786 1383909209 1383909693 1383914860 1383917378 1383927735\\n 1383928351 1383935070 1383935410 1383942697 1383954690 1383955759\\n 1383956543 1383956828 1396581104 1416478552 1422520991 1426190404\\n 1426215370 1426250385 1426275725 1426311638 1426326464 1426334951\\n 1427212436 1427212491 1427265072 1427265079 1427265081 1427265082\\n 1427265083 1427273332 1427273333 1427273368 1427273513 1427285902\\n 1427285993 1427286041 1427286079 1427286096 1427286257 1427499765\\n 1427499831 1428036328 1428036492 1428036650 1428185672 1428185705\\n 1428427548 1428427554 1428427562 1474144767 1482256504 1487407044\\n 1487449793 1487472478 1487569052 1490626144 1491769944 1493005667\\n 1497326724 1584932886 1584932953 1585033979 1605519635 1640916377\\n 1642772578 1658397652 1666603088 1667359770 1667402828 1667402832\\n 1667407048 1667407727 1667412535 1667413581 1672886086 1683222646\\n 1683225522 1696974009 1696985451 1696985454 1696985456 1707825812\\n 1707825813 1707825815 1707825816 1707825817 1707825820 1707825822\\n 1707825826 1708709547 1708721821 1708724065 1708725500 1708727865\\n 1740694091 1740694092 1740824586 1741221041 1744432130 1748961879\\n 1748991484 1748991489 1749011035 1749011090 1749011095 1749011123\\n 1749011164 1749016145 1752822408 1753205377 1754975219 1754976593\\n 1758217485 1764402107 1765445839 1767273829 1795796594 1799454473\\n 1802297281 1809517488 1809517497 1810737606 1810737611 1821015958\\n 1821015964 1824995167 1825739861 1825848790 1825848791 1825848800\\n 1825848801 1825848802 1825848804 1825848806 1825848808 1827182547\\n 1827182566 1827772291 1827781718 1827781722 1827808975 1827808977\\n 1829661485 1843430248 1843430256 1853451181 1853451182 1865211623\\n 1867356492 1873813840 1873813892 1873813912 1883462420 1883739637\\n 1884473154 1888172061 1891894307 1899033650 1899033652 1899033653\\n 1899033656 1899033658 1900975367 1907659362 1907729889 1913191317\\n 1915398676 1916532788 1917136131 1919602938 1932725314 1932902780\\n 1934501367 1934502370 1934522990 1935662285 1942314293 1942321062\\n 1949982645 1967406009 1975910743 1979669269 1979669271 1979669273\\n 1987892671 1993216326 1994680558 1994680562 1999231230 2011747048\\n 2011781604 2011782281 2011783803 2015475513 2015482687 2015863190\\n 2017268082 2017270047 2017271308 2017643713 2017697238 2017704309\\n 2017705415 2017705417 2017705418 2017705420 2017706920 2017709331\\n 2020487652 2027071449 2043312923 2045635528 2047267694 2047267695\\n 2053822663 2053822687 2065153935 2065155710 2065455029 2065685392\\n 2066808156 2067062269 2067404600 2070159145 2070982507 2070984265\\n 2071906276 2081537413 2081539634 2089444281 2089444284 2089444285\\n 2091641953 2091642033 2101984777 2105123206 2108080657 2108362680\\n 2111692823 2111692827 2113159210 2123472747 2125873487 2125873488\\n 2129755928 2129919007 2131791182 2134025590 2139124594 2139130920\\n 2143413375 2143413378 2147483647] not found in axis'"
     ]
    }
   ],
   "source": [
    "df = df.drop(uploaded_ids)"
   ]
  },
  {
   "cell_type": "code",
   "execution_count": 51,
   "metadata": {},
   "outputs": [],
   "source": [
    "insert_query = \"\"\"\n",
    "INSERT INTO places (\n",
    "    id,\n",
    "    google_id,\n",
    "    name,\n",
    "    lat,\n",
    "    lon,\n",
    "    type,\n",
    "    subtype,\n",
    "    addr_city,\n",
    "    addr_housenumber,\n",
    "    addr_postcode,\n",
    "    addr_state,\n",
    "    addr_street,\n",
    "    opening_hours,\n",
    "    website,\n",
    "    photo_0,\n",
    "    photo_1,\n",
    "    photo_2,\n",
    "    photo_3,\n",
    "    photo_4,\n",
    "    photo_5,\n",
    "    photo_6,\n",
    "    photo_7,\n",
    "    photo_8,\n",
    "    photo_9\n",
    ")\n",
    "VALUES (%s, %s, %s, %s, %s, %s, %s, %s, %s, %s, %s, %s, %s, %s, %s, %s, %s, %s, %s, %s, %s, %s, %s, %s)\n",
    "\"\"\"\n",
    "\n",
    "data = [] # Data to be used\n",
    "\n",
    "for i, row in df.iterrows():\n",
    "    data += [(\n",
    "            row['id'],\n",
    "            row['google_id'],\n",
    "            row['name'],\n",
    "            row['lat'],\n",
    "            row['lon'],\n",
    "            row['type'],\n",
    "            row['subtype'],\n",
    "            row['addr_city'],\n",
    "            row['addr_housenumber'],\n",
    "            row['addr_postcode'],\n",
    "            row['addr_state'],\n",
    "            row['addr_street'],\n",
    "            row['opening_hours'],\n",
    "            row['website'],\n",
    "            row['photo_0'],\n",
    "            row['photo_1'],\n",
    "            row['photo_2'],\n",
    "            row['photo_3'],\n",
    "            row['photo_4'],\n",
    "            row['photo_5'],\n",
    "            row['photo_6'],\n",
    "            row['photo_7'],\n",
    "            row['photo_8'],\n",
    "            row['photo_9']\n",
    "    )]\n",
    "try:\n",
    "    cursor.executemany(insert_query, data)\n",
    "except pymysql.MySQLError as e:\n",
    "    print(f\"Error: {e}\")\n",
    "    connection.rollback()\n",
    "\n",
    "connection.commit()\n",
    "\n"
   ]
  },
  {
   "cell_type": "code",
   "execution_count": 33,
   "metadata": {},
   "outputs": [
    {
     "data": {
      "text/plain": [
       "0"
      ]
     },
     "execution_count": 33,
     "metadata": {},
     "output_type": "execute_result"
    }
   ],
   "source": [
    "cursor.execute(\"\"\"DROP TABLE places\"\"\")"
   ]
  },
  {
   "cell_type": "code",
   "execution_count": 52,
   "metadata": {},
   "outputs": [
    {
     "name": "stdout",
     "output_type": "stream",
     "text": [
      "Database connection closed.\n"
     ]
    }
   ],
   "source": [
    "# Close the cursor and connection\n",
    "if cursor:\n",
    "    cursor.close()\n",
    "if connection:\n",
    "    connection.close()\n",
    "    print(\"Database connection closed.\")"
   ]
  }
 ],
 "metadata": {
  "kernelspec": {
   "display_name": "COMP47360",
   "language": "python",
   "name": "python3"
  },
  "language_info": {
   "codemirror_mode": {
    "name": "ipython",
    "version": 3
   },
   "file_extension": ".py",
   "mimetype": "text/x-python",
   "name": "python",
   "nbconvert_exporter": "python",
   "pygments_lexer": "ipython3",
   "version": "3.12.3"
  }
 },
 "nbformat": 4,
 "nbformat_minor": 2
}
